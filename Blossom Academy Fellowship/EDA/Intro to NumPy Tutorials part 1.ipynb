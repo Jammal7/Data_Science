{
 "cells": [
  {
   "cell_type": "markdown",
   "metadata": {
    "id": "pLHqtNC4WvW9"
   },
   "source": [
    "# What you learn in this course\n",
    "\n",
    "In the following lessons you will learn:\n",
    "\n",
    "* How to import NumPy\n",
    "* How to create multidimensional NumPy ndarrays using various methods\n",
    "* How to access and change elements in ndarrays\n",
    "* How to use slicing to select or change subsets of  ndarray\n",
    "* Understand the difference between a view and a copy of  ndarray\n",
    "* How to use Boolean indexing and set operations to select or change subsets of an ndarray\n",
    "* How to sort ndarrays\n",
    "* How to perform element-wise operations on ndarrays\n",
    "* Understand how NumPy uses broadcasting to perform operations on ndarrays of different sizes.\n",
    "\n",
    "\n",
    "\n",
    "\n"
   ]
  },
  {
   "cell_type": "code",
   "execution_count": null,
   "metadata": {
    "id": "mIvSEhBdWvXV"
   },
   "outputs": [],
   "source": []
  },
  {
   "cell_type": "markdown",
   "metadata": {
    "id": "19wCVSqCWvXX"
   },
   "source": [
    "# NumPy \n",
    "\n",
    "NumPy stands for Numerical Python. It is an important package in python built on C programming, used for scientific computations on arrays and matrix (multidimensional) data structures.\n",
    "It provides basis for a lot of other python packages.\n",
    "It's incredibly fast, as it has bindings to C libraries. \n",
    "\n",
    "### Installation\n",
    "Like any python library, numpy can be installed using:\n",
    "\n",
    "**pip install numpy** (on command prompt)\n",
    "\n",
    "**conda install numpy** (on anaconda terminal)\n",
    "\n",
    "If you are installing it jupyter notebook start the code with !.\n",
    "\n",
    "**!pip install numpy** \n",
    "\n",
    "\n",
    "# Advantages of NumPy\n",
    "\n",
    "* It has high speed.\n",
    "\n",
    "* It has multidimensional array data structures that can represent vectors and matrices.\n",
    "\n",
    "* It has a large number of optimized built-in mathematical functions.\n"
   ]
  },
  {
   "cell_type": "markdown",
   "metadata": {
    "id": "mOjsEYO2WvXa"
   },
   "source": [
    "### Speed test"
   ]
  },
  {
   "cell_type": "code",
   "execution_count": 1,
   "metadata": {
    "executionInfo": {
     "elapsed": 550,
     "status": "ok",
     "timestamp": 1654024730174,
     "user": {
      "displayName": "Oluwadara Adepoju",
      "userId": "13428123461617812046"
     },
     "user_tz": -60
    },
    "id": "-O0HZaksWvXb"
   },
   "outputs": [],
   "source": [
    "import time\n",
    "import numpy as np"
   ]
  },
  {
   "cell_type": "code",
   "execution_count": 2,
   "metadata": {
    "executionInfo": {
     "elapsed": 409,
     "status": "ok",
     "timestamp": 1654024759902,
     "user": {
      "displayName": "Oluwadara Adepoju",
      "userId": "13428123461617812046"
     },
     "user_tz": -60
    },
    "id": "tu8ofPEqWvXg"
   },
   "outputs": [],
   "source": [
    "x = np.random.random(10000000)"
   ]
  },
  {
   "cell_type": "code",
   "execution_count": 3,
   "metadata": {
    "colab": {
     "base_uri": "https://localhost:8080/"
    },
    "executionInfo": {
     "elapsed": 366,
     "status": "ok",
     "timestamp": 1654024815656,
     "user": {
      "displayName": "Oluwadara Adepoju",
      "userId": "13428123461617812046"
     },
     "user_tz": -60
    },
    "id": "ghapeLGFWvXj",
    "outputId": "6b3da4b4-70aa-49a8-8c19-0f733df1fff5"
   },
   "outputs": [
    {
     "name": "stdout",
     "output_type": "stream",
     "text": [
      "Time used by core python : 1.1567537784576416\n"
     ]
    }
   ],
   "source": [
    "#Case 1 (using core python)\n",
    "start = time.time()\n",
    "sum(x) / len(x)\n",
    "print('Time used by core python :',time.time() - start)\n"
   ]
  },
  {
   "cell_type": "code",
   "execution_count": 4,
   "metadata": {
    "colab": {
     "base_uri": "https://localhost:8080/"
    },
    "executionInfo": {
     "elapsed": 896,
     "status": "ok",
     "timestamp": 1654024830089,
     "user": {
      "displayName": "Oluwadara Adepoju",
      "userId": "13428123461617812046"
     },
     "user_tz": -60
    },
    "id": "xw_rEYydWvXl",
    "outputId": "60e84bef-1c45-4413-b981-ed618a5c611a"
   },
   "outputs": [
    {
     "name": "stdout",
     "output_type": "stream",
     "text": [
      "Time used by numpy:  0.019003868103027344\n"
     ]
    }
   ],
   "source": [
    "# Case 2 (using numpy)\n",
    "\n",
    "start = time.time()\n",
    "np.mean(x)\n",
    "print('Time used by numpy: ',time.time() - start)"
   ]
  },
  {
   "cell_type": "code",
   "execution_count": 5,
   "metadata": {
    "id": "TSR1-EW1WvXm"
   },
   "outputs": [
    {
     "name": "stdout",
     "output_type": "stream",
     "text": [
      "Requirement already satisfied: numpy in c:\\users\\oabas\\anaconda3\\lib\\site-packages (1.20.1)\n"
     ]
    }
   ],
   "source": [
    "!pip install numpy"
   ]
  },
  {
   "cell_type": "markdown",
   "metadata": {
    "id": "lHVFizDqWvXn"
   },
   "source": [
    "### Importing NumPy\n",
    "\n",
    "Conventionally, numpy is imported and aliased as np as shown in the code below.\n",
    "\n"
   ]
  },
  {
   "cell_type": "code",
   "execution_count": 6,
   "metadata": {
    "executionInfo": {
     "elapsed": 8,
     "status": "ok",
     "timestamp": 1654022143006,
     "user": {
      "displayName": "Oluwadara Adepoju",
      "userId": "13428123461617812046"
     },
     "user_tz": -60
    },
    "id": "KcBL6d6TWvXo"
   },
   "outputs": [],
   "source": [
    "import numpy as np"
   ]
  },
  {
   "cell_type": "markdown",
   "metadata": {
    "id": "sXehGKRtWvXp"
   },
   "source": [
    "# Numpy data structures\n",
    "\n",
    "The main data structure of numpy is called numpy arrays.\n",
    "\n",
    "Numpy arrays can essentially come in other structures namely: vectors and matrices.\n",
    "\n",
    "Vectors are strictly 1-d arrays and matrices are 2-d (**Note**:a matrix can still have only one row or one column).\n",
    "\n",
    "\n"
   ]
  },
  {
   "cell_type": "markdown",
   "metadata": {
    "id": "G4LnDXmbWvXq"
   },
   "source": [
    "# Numpy arrays\n",
    "\n",
    "Numpy Array refers to a list of elements of the **same type**. \n",
    "\n",
    "It is the main data structure of numpy. \n",
    "\n",
    "Unlike the traditional python list, numpy arrays are always of the same data type with flexibility for manipulation and mathematical operations. \n",
    "\n",
    "Arrays can be single or multidimensional. \n",
    "\n",
    "The next session demonstrates how arrays can be created with numpy."
   ]
  },
  {
   "cell_type": "markdown",
   "metadata": {
    "id": "N4xbAxg5WvXr"
   },
   "source": [
    "### Array Creation.\n",
    "\n",
    "Numpy array created in two main ways:\n",
    "1. by using the np.array()\n",
    "2. by using numpy built -in functions to create specific arrays."
   ]
  },
  {
   "cell_type": "markdown",
   "metadata": {
    "id": "IfuZx1HTWvXr"
   },
   "source": [
    "#### One dimensional array using np.array() method"
   ]
  },
  {
   "cell_type": "code",
   "execution_count": 7,
   "metadata": {
    "colab": {
     "base_uri": "https://localhost:8080/"
    },
    "executionInfo": {
     "elapsed": 448,
     "status": "ok",
     "timestamp": 1654025225194,
     "user": {
      "displayName": "Oluwadara Adepoju",
      "userId": "13428123461617812046"
     },
     "user_tz": -60
    },
    "id": "QTengXEZWvXs",
    "outputId": "3f1a484c-59e8-4c49-ff21-7b51fbdabe8b"
   },
   "outputs": [
    {
     "data": {
      "text/plain": [
       "array([2, 4, 6])"
      ]
     },
     "execution_count": 7,
     "metadata": {},
     "output_type": "execute_result"
    }
   ],
   "source": [
    "array_1 = np.array((2,4,6))\n",
    "\n",
    "array_1\n"
   ]
  },
  {
   "cell_type": "code",
   "execution_count": 8,
   "metadata": {
    "colab": {
     "base_uri": "https://localhost:8080/"
    },
    "executionInfo": {
     "elapsed": 11,
     "status": "ok",
     "timestamp": 1654025254874,
     "user": {
      "displayName": "Oluwadara Adepoju",
      "userId": "13428123461617812046"
     },
     "user_tz": -60
    },
    "id": "Sg_Y7M-uWvXs",
    "outputId": "580755cf-cae3-40a9-b96e-33a46cfbd26f"
   },
   "outputs": [
    {
     "data": {
      "text/plain": [
       "numpy.ndarray"
      ]
     },
     "execution_count": 8,
     "metadata": {},
     "output_type": "execute_result"
    }
   ],
   "source": [
    "type(array_1)"
   ]
  },
  {
   "cell_type": "markdown",
   "metadata": {
    "id": "JPYfTqITWvXt"
   },
   "source": [
    "#### Creating an array from an already existing  list"
   ]
  },
  {
   "cell_type": "code",
   "execution_count": 9,
   "metadata": {
    "colab": {
     "base_uri": "https://localhost:8080/"
    },
    "executionInfo": {
     "elapsed": 8,
     "status": "ok",
     "timestamp": 1654025281609,
     "user": {
      "displayName": "Oluwadara Adepoju",
      "userId": "13428123461617812046"
     },
     "user_tz": -60
    },
    "id": "N5GyP7pcWvXu",
    "outputId": "69098dea-47c7-4442-e2f8-d87e79e730db"
   },
   "outputs": [
    {
     "data": {
      "text/plain": [
       "[1, 2, 3]"
      ]
     },
     "execution_count": 9,
     "metadata": {},
     "output_type": "execute_result"
    }
   ],
   "source": [
    "\n",
    "my_list = [1,2,3]\n",
    "my_list"
   ]
  },
  {
   "cell_type": "code",
   "execution_count": 10,
   "metadata": {
    "colab": {
     "base_uri": "https://localhost:8080/"
    },
    "executionInfo": {
     "elapsed": 548,
     "status": "ok",
     "timestamp": 1654025466072,
     "user": {
      "displayName": "Oluwadara Adepoju",
      "userId": "13428123461617812046"
     },
     "user_tz": -60
    },
    "id": "XA9B0ZDMWvXu",
    "outputId": "427ea9d0-57c2-42a4-f88b-39c1d870bef2"
   },
   "outputs": [
    {
     "data": {
      "text/plain": [
       "array([1, 2, 3])"
      ]
     },
     "execution_count": 10,
     "metadata": {},
     "output_type": "execute_result"
    }
   ],
   "source": [
    "np.array(my_list)"
   ]
  },
  {
   "cell_type": "markdown",
   "metadata": {
    "id": "8XiyRH9IWvXv"
   },
   "source": [
    "#### Creating a matrix from a list  of list"
   ]
  },
  {
   "cell_type": "code",
   "execution_count": 11,
   "metadata": {
    "colab": {
     "base_uri": "https://localhost:8080/"
    },
    "executionInfo": {
     "elapsed": 453,
     "status": "ok",
     "timestamp": 1654025517006,
     "user": {
      "displayName": "Oluwadara Adepoju",
      "userId": "13428123461617812046"
     },
     "user_tz": -60
    },
    "id": "N1nX_i1eWvXv",
    "outputId": "840d70a5-4733-483d-d06c-23561f6bbfb7"
   },
   "outputs": [
    {
     "data": {
      "text/plain": [
       "[[1, 2, 3], [4, 5, 6], [7, 8, 9]]"
      ]
     },
     "execution_count": 11,
     "metadata": {},
     "output_type": "execute_result"
    }
   ],
   "source": [
    "list_of_list = [[1,2,3],\n",
    "                [4,5,6],\n",
    "                [7,8,9]]\n",
    "list_of_list\n"
   ]
  },
  {
   "cell_type": "code",
   "execution_count": 12,
   "metadata": {
    "colab": {
     "base_uri": "https://localhost:8080/"
    },
    "executionInfo": {
     "elapsed": 402,
     "status": "ok",
     "timestamp": 1654025539957,
     "user": {
      "displayName": "Oluwadara Adepoju",
      "userId": "13428123461617812046"
     },
     "user_tz": -60
    },
    "id": "TElGwx9gWvXw",
    "outputId": "f38866a4-3f1b-4ae4-e1ba-f8090260dba3"
   },
   "outputs": [
    {
     "data": {
      "text/plain": [
       "array([[1, 2, 3],\n",
       "       [4, 5, 6],\n",
       "       [7, 8, 9]])"
      ]
     },
     "execution_count": 12,
     "metadata": {},
     "output_type": "execute_result"
    }
   ],
   "source": [
    "matrix_1=np.array(list_of_list)\n",
    "matrix_1"
   ]
  },
  {
   "cell_type": "markdown",
   "metadata": {
    "id": "RaZIAqkcWvXw"
   },
   "source": [
    "## Built-in Functions\n",
    "\n",
    "Numpy has a lot of  built-in methods to generate arrays "
   ]
  },
  {
   "cell_type": "markdown",
   "metadata": {
    "id": "Z97yTH9eWvXw"
   },
   "source": [
    "### arange\n",
    "\n",
    "The arange() method returns evenly spaced values within a given interval."
   ]
  },
  {
   "cell_type": "code",
   "execution_count": 13,
   "metadata": {
    "colab": {
     "base_uri": "https://localhost:8080/"
    },
    "executionInfo": {
     "elapsed": 590,
     "status": "ok",
     "timestamp": 1654025763237,
     "user": {
      "displayName": "Oluwadara Adepoju",
      "userId": "13428123461617812046"
     },
     "user_tz": -60
    },
    "id": "kMl9rgx_WvXx",
    "outputId": "248a999d-5cab-4426-f270-5c566242a818"
   },
   "outputs": [
    {
     "data": {
      "text/plain": [
       "array([1, 2, 3, 4, 5, 6, 7, 8, 9])"
      ]
     },
     "execution_count": 13,
     "metadata": {},
     "output_type": "execute_result"
    }
   ],
   "source": [
    "np.arange(1,10)"
   ]
  },
  {
   "cell_type": "code",
   "execution_count": 14,
   "metadata": {
    "colab": {
     "base_uri": "https://localhost:8080/"
    },
    "executionInfo": {
     "elapsed": 45,
     "status": "ok",
     "timestamp": 1654025732026,
     "user": {
      "displayName": "Oluwadara Adepoju",
      "userId": "13428123461617812046"
     },
     "user_tz": -60
    },
    "id": "ywR49M81WvXx",
    "outputId": "9bdfa198-030d-43a8-d840-ca1e4b535e8c"
   },
   "outputs": [
    {
     "data": {
      "text/plain": [
       "range"
      ]
     },
     "execution_count": 14,
     "metadata": {},
     "output_type": "execute_result"
    }
   ],
   "source": [
    "type(range(0,10))"
   ]
  },
  {
   "cell_type": "code",
   "execution_count": 15,
   "metadata": {
    "colab": {
     "base_uri": "https://localhost:8080/"
    },
    "executionInfo": {
     "elapsed": 490,
     "status": "ok",
     "timestamp": 1654025790279,
     "user": {
      "displayName": "Oluwadara Adepoju",
      "userId": "13428123461617812046"
     },
     "user_tz": -60
    },
    "id": "6J5TOIsMWvXy",
    "outputId": "040423d3-e6c7-4363-cc75-08e114ae1d43"
   },
   "outputs": [
    {
     "data": {
      "text/plain": [
       "array([ 0,  1,  2,  3,  4,  5,  6,  7,  8,  9, 10, 11, 12, 13, 14, 15, 16,\n",
       "       17, 18, 19, 20, 21, 22, 23, 24])"
      ]
     },
     "execution_count": 15,
     "metadata": {},
     "output_type": "execute_result"
    }
   ],
   "source": [
    "np.arange(25)"
   ]
  },
  {
   "cell_type": "code",
   "execution_count": 16,
   "metadata": {
    "colab": {
     "base_uri": "https://localhost:8080/"
    },
    "executionInfo": {
     "elapsed": 405,
     "status": "ok",
     "timestamp": 1654025853288,
     "user": {
      "displayName": "Oluwadara Adepoju",
      "userId": "13428123461617812046"
     },
     "user_tz": -60
    },
    "id": "chKckXXxWvXy",
    "outputId": "1bd6592e-33c2-4f21-9fe4-69448bbf7619"
   },
   "outputs": [
    {
     "data": {
      "text/plain": [
       "array([ 0,  2,  4,  6,  8, 10])"
      ]
     },
     "execution_count": 16,
     "metadata": {},
     "output_type": "execute_result"
    }
   ],
   "source": [
    "np.arange(0,11,2)"
   ]
  },
  {
   "cell_type": "code",
   "execution_count": 17,
   "metadata": {
    "colab": {
     "base_uri": "https://localhost:8080/"
    },
    "executionInfo": {
     "elapsed": 419,
     "status": "ok",
     "timestamp": 1654026020226,
     "user": {
      "displayName": "Oluwadara Adepoju",
      "userId": "13428123461617812046"
     },
     "user_tz": -60
    },
    "id": "pa6LrTcqWvXy",
    "outputId": "dc654b9c-12c0-4947-bd19-e50b570259a9"
   },
   "outputs": [
    {
     "data": {
      "text/plain": [
       "array([ 1,  5,  9, 13, 17])"
      ]
     },
     "execution_count": 17,
     "metadata": {},
     "output_type": "execute_result"
    }
   ],
   "source": [
    "np.arange(1,20,4)"
   ]
  },
  {
   "cell_type": "markdown",
   "metadata": {
    "id": "6cLbQemyWvXy"
   },
   "source": [
    "### linspace\n",
    "The linspace() method returns evenly spaced numbers over a specified interval."
   ]
  },
  {
   "cell_type": "code",
   "execution_count": 18,
   "metadata": {
    "colab": {
     "base_uri": "https://localhost:8080/"
    },
    "executionInfo": {
     "elapsed": 16,
     "status": "ok",
     "timestamp": 1654026081871,
     "user": {
      "displayName": "Oluwadara Adepoju",
      "userId": "13428123461617812046"
     },
     "user_tz": -60
    },
    "id": "36xztjslWvXz",
    "outputId": "75372c08-df90-4b7e-bbdc-57c03d33260d"
   },
   "outputs": [
    {
     "data": {
      "text/plain": [
       "array([ 0., 10., 20.])"
      ]
     },
     "execution_count": 18,
     "metadata": {},
     "output_type": "execute_result"
    }
   ],
   "source": [
    "np.linspace(0,20,3)"
   ]
  },
  {
   "cell_type": "code",
   "execution_count": 19,
   "metadata": {
    "colab": {
     "base_uri": "https://localhost:8080/"
    },
    "executionInfo": {
     "elapsed": 410,
     "status": "ok",
     "timestamp": 1654026338524,
     "user": {
      "displayName": "Oluwadara Adepoju",
      "userId": "13428123461617812046"
     },
     "user_tz": -60
    },
    "id": "oBFxm2vNWvXz",
    "outputId": "74547a18-258a-4053-b362-b010753616af"
   },
   "outputs": [
    {
     "data": {
      "text/plain": [
       "array([ 0.  ,  6.25, 12.5 , 18.75, 25.  ])"
      ]
     },
     "execution_count": 19,
     "metadata": {},
     "output_type": "execute_result"
    }
   ],
   "source": [
    "np.linspace(0,25,5)\n"
   ]
  },
  {
   "cell_type": "markdown",
   "metadata": {
    "id": "wxILwNa_WvX0"
   },
   "source": [
    "### zeros and ones\n",
    "\n",
    "Generate arrays of zeros or ones"
   ]
  },
  {
   "cell_type": "code",
   "execution_count": 20,
   "metadata": {
    "colab": {
     "base_uri": "https://localhost:8080/"
    },
    "executionInfo": {
     "elapsed": 462,
     "status": "ok",
     "timestamp": 1654026428828,
     "user": {
      "displayName": "Oluwadara Adepoju",
      "userId": "13428123461617812046"
     },
     "user_tz": -60
    },
    "id": "zGOoeSqoWvX0",
    "outputId": "8e85861b-a7ba-4165-c5e2-6a4a54bae0b4"
   },
   "outputs": [
    {
     "data": {
      "text/plain": [
       "array([0., 0., 0., 0., 0., 0.])"
      ]
     },
     "execution_count": 20,
     "metadata": {},
     "output_type": "execute_result"
    }
   ],
   "source": [
    "np.zeros(6)"
   ]
  },
  {
   "cell_type": "code",
   "execution_count": 21,
   "metadata": {
    "colab": {
     "base_uri": "https://localhost:8080/"
    },
    "executionInfo": {
     "elapsed": 524,
     "status": "ok",
     "timestamp": 1654026465184,
     "user": {
      "displayName": "Oluwadara Adepoju",
      "userId": "13428123461617812046"
     },
     "user_tz": -60
    },
    "id": "CBQuqTwtWvX0",
    "outputId": "160652c4-26eb-4833-c663-c2ff9006e8e4"
   },
   "outputs": [
    {
     "data": {
      "text/plain": [
       "array([[0., 0., 0., 0., 0.],\n",
       "       [0., 0., 0., 0., 0.],\n",
       "       [0., 0., 0., 0., 0.],\n",
       "       [0., 0., 0., 0., 0.]])"
      ]
     },
     "execution_count": 21,
     "metadata": {},
     "output_type": "execute_result"
    }
   ],
   "source": [
    "np.zeros((4,5))"
   ]
  },
  {
   "cell_type": "code",
   "execution_count": 22,
   "metadata": {
    "colab": {
     "base_uri": "https://localhost:8080/"
    },
    "executionInfo": {
     "elapsed": 6,
     "status": "ok",
     "timestamp": 1654022996210,
     "user": {
      "displayName": "Oluwadara Adepoju",
      "userId": "13428123461617812046"
     },
     "user_tz": -60
    },
    "id": "Wro2YMzwWvX1",
    "outputId": "450c0fef-fa70-4ef6-8804-2d793e07b933"
   },
   "outputs": [
    {
     "data": {
      "text/plain": [
       "array([1., 1., 1.])"
      ]
     },
     "execution_count": 22,
     "metadata": {},
     "output_type": "execute_result"
    }
   ],
   "source": [
    "np.ones(3)"
   ]
  },
  {
   "cell_type": "code",
   "execution_count": 23,
   "metadata": {
    "colab": {
     "base_uri": "https://localhost:8080/"
    },
    "executionInfo": {
     "elapsed": 444,
     "status": "ok",
     "timestamp": 1654026506252,
     "user": {
      "displayName": "Oluwadara Adepoju",
      "userId": "13428123461617812046"
     },
     "user_tz": -60
    },
    "id": "8CELeLTXWvX1",
    "outputId": "e626bb8a-033d-442b-d57c-321f06b2f6fb"
   },
   "outputs": [
    {
     "data": {
      "text/plain": [
       "array([[1, 1, 1],\n",
       "       [1, 1, 1],\n",
       "       [1, 1, 1]])"
      ]
     },
     "execution_count": 23,
     "metadata": {},
     "output_type": "execute_result"
    }
   ],
   "source": [
    "np.ones((3,3),dtype = 'int')"
   ]
  },
  {
   "cell_type": "code",
   "execution_count": null,
   "metadata": {
    "executionInfo": {
     "elapsed": 3,
     "status": "ok",
     "timestamp": 1654022997235,
     "user": {
      "displayName": "Oluwadara Adepoju",
      "userId": "13428123461617812046"
     },
     "user_tz": -60
    },
    "id": "XHcgHOk7WvX1"
   },
   "outputs": [],
   "source": []
  },
  {
   "cell_type": "markdown",
   "metadata": {
    "id": "WNr82lreWvX2"
   },
   "source": [
    "## eye\n",
    "\n",
    "The eye() function creates an identity matrix\n"
   ]
  },
  {
   "cell_type": "code",
   "execution_count": 24,
   "metadata": {
    "colab": {
     "base_uri": "https://localhost:8080/"
    },
    "executionInfo": {
     "elapsed": 586,
     "status": "ok",
     "timestamp": 1654026581937,
     "user": {
      "displayName": "Oluwadara Adepoju",
      "userId": "13428123461617812046"
     },
     "user_tz": -60
    },
    "id": "59ov79UoWvX3",
    "outputId": "fd74dbe8-eb5c-47fd-a27f-c7bbb92570df"
   },
   "outputs": [
    {
     "data": {
      "text/plain": [
       "array([[1., 0.],\n",
       "       [0., 1.]])"
      ]
     },
     "execution_count": 24,
     "metadata": {},
     "output_type": "execute_result"
    }
   ],
   "source": [
    "np.eye(2)"
   ]
  },
  {
   "cell_type": "code",
   "execution_count": null,
   "metadata": {
    "executionInfo": {
     "elapsed": 4,
     "status": "ok",
     "timestamp": 1654023001202,
     "user": {
      "displayName": "Oluwadara Adepoju",
      "userId": "13428123461617812046"
     },
     "user_tz": -60
    },
    "id": "D31GEY0-WvX3"
   },
   "outputs": [],
   "source": []
  },
  {
   "cell_type": "markdown",
   "metadata": {
    "id": "ZXyPT3q2WvX3"
   },
   "source": [
    "## Random Sampling\n",
    "\n",
    "Numpy has a lot of methods to create random number arrays"
   ]
  },
  {
   "cell_type": "code",
   "execution_count": 25,
   "metadata": {
    "colab": {
     "base_uri": "https://localhost:8080/"
    },
    "executionInfo": {
     "elapsed": 524,
     "status": "ok",
     "timestamp": 1654026702194,
     "user": {
      "displayName": "Oluwadara Adepoju",
      "userId": "13428123461617812046"
     },
     "user_tz": -60
    },
    "id": "s2xtFReVWvX4",
    "outputId": "a7851ab0-6f24-425f-e122-4fc5fe276745"
   },
   "outputs": [
    {
     "name": "stdout",
     "output_type": "stream",
     "text": [
      "[[0.22542545 0.83206652]\n",
      " [0.98489021 0.6496852 ]\n",
      " [0.86731353 0.93591722]]\n"
     ]
    }
   ],
   "source": [
    "x = np.random.random((3,2))\n",
    "print(x)"
   ]
  },
  {
   "cell_type": "code",
   "execution_count": 26,
   "metadata": {
    "colab": {
     "base_uri": "https://localhost:8080/"
    },
    "executionInfo": {
     "elapsed": 438,
     "status": "ok",
     "timestamp": 1654026751841,
     "user": {
      "displayName": "Oluwadara Adepoju",
      "userId": "13428123461617812046"
     },
     "user_tz": -60
    },
    "id": "8CF3nuMGWvX4",
    "outputId": "c949f080-cbaf-448b-a4da-02afa1967b78"
   },
   "outputs": [
    {
     "data": {
      "text/plain": [
       "array([[0.43558114, 0.04280071, 0.2767667 ],\n",
       "       [0.7898597 , 0.01788383, 0.50306893],\n",
       "       [0.25235995, 0.06229532, 0.90801616]])"
      ]
     },
     "execution_count": 26,
     "metadata": {},
     "output_type": "execute_result"
    }
   ],
   "source": [
    "from numpy.random import random\n",
    "random((3,3))"
   ]
  },
  {
   "cell_type": "markdown",
   "metadata": {
    "id": "UVMNJKY_WvX4"
   },
   "source": [
    "\n",
    "\n",
    "### rand\n",
    "The rand method creates an array of the given shape and populate it with random samples from a uniform distribution.\n",
    "Note that the values of a uniform distribution is between 0 and 1. \n"
   ]
  },
  {
   "cell_type": "code",
   "execution_count": 27,
   "metadata": {
    "colab": {
     "base_uri": "https://localhost:8080/"
    },
    "executionInfo": {
     "elapsed": 410,
     "status": "ok",
     "timestamp": 1654023017701,
     "user": {
      "displayName": "Oluwadara Adepoju",
      "userId": "13428123461617812046"
     },
     "user_tz": -60
    },
    "id": "1gM7sli7WvX4",
    "outputId": "8b4ef98e-d053-4df9-97f2-4f17dc28f374"
   },
   "outputs": [
    {
     "data": {
      "text/plain": [
       "array([0.22331929, 0.77694853])"
      ]
     },
     "execution_count": 27,
     "metadata": {},
     "output_type": "execute_result"
    }
   ],
   "source": [
    "np.random.rand(2)"
   ]
  },
  {
   "cell_type": "code",
   "execution_count": 28,
   "metadata": {
    "colab": {
     "base_uri": "https://localhost:8080/"
    },
    "executionInfo": {
     "elapsed": 560,
     "status": "ok",
     "timestamp": 1654026879073,
     "user": {
      "displayName": "Oluwadara Adepoju",
      "userId": "13428123461617812046"
     },
     "user_tz": -60
    },
    "id": "1c3A_-29WvX4",
    "outputId": "0d5035f5-178f-4928-d3b4-c8095c33c718"
   },
   "outputs": [
    {
     "data": {
      "text/plain": [
       "array([[0.2787568 , 0.29201309, 0.01864593, 0.75366111, 0.25959267],\n",
       "       [0.88613213, 0.15357618, 0.27931582, 0.74462192, 0.37938224],\n",
       "       [0.70200579, 0.76521723, 0.24581918, 0.25230034, 0.39789995]])"
      ]
     },
     "execution_count": 28,
     "metadata": {},
     "output_type": "execute_result"
    }
   ],
   "source": [
    "np.random.rand(3,5)"
   ]
  },
  {
   "cell_type": "markdown",
   "metadata": {
    "id": "O550aszRWvX5"
   },
   "source": [
    "### randn\n",
    "\n",
    "The randn returns sample from the \"standard normal\" distribution."
   ]
  },
  {
   "cell_type": "code",
   "execution_count": 29,
   "metadata": {
    "colab": {
     "base_uri": "https://localhost:8080/"
    },
    "executionInfo": {
     "elapsed": 414,
     "status": "ok",
     "timestamp": 1654023050309,
     "user": {
      "displayName": "Oluwadara Adepoju",
      "userId": "13428123461617812046"
     },
     "user_tz": -60
    },
    "id": "t5POlqquWvX5",
    "outputId": "280d2267-feed-4ddd-f799-1cc21bbc160e"
   },
   "outputs": [
    {
     "data": {
      "text/plain": [
       "array([-0.45146176, -1.86655497, -0.9816272 , -1.1999493 ,  0.42949509,\n",
       "        1.45587512,  0.75829726, -1.23951554, -0.11192386, -0.64456316])"
      ]
     },
     "execution_count": 29,
     "metadata": {},
     "output_type": "execute_result"
    }
   ],
   "source": [
    "np.random.randn(10)"
   ]
  },
  {
   "cell_type": "code",
   "execution_count": 30,
   "metadata": {
    "colab": {
     "base_uri": "https://localhost:8080/"
    },
    "executionInfo": {
     "elapsed": 4,
     "status": "ok",
     "timestamp": 1654023050677,
     "user": {
      "displayName": "Oluwadara Adepoju",
      "userId": "13428123461617812046"
     },
     "user_tz": -60
    },
    "id": "mehBPOD4WvX5",
    "outputId": "a845f5cd-656e-4532-9935-b05fe01bec1e"
   },
   "outputs": [
    {
     "data": {
      "text/plain": [
       "array([[ 0.73372182, -0.32622909, -0.46699972, -1.01886219,  0.42225828],\n",
       "       [-0.25192499, -0.46174911, -0.33295484,  0.3915954 ,  1.31333559],\n",
       "       [ 1.281378  ,  0.69341466,  2.09832635, -0.5457972 ,  1.81966081],\n",
       "       [ 1.45740639,  0.65708468,  0.36442489,  1.52907829,  1.05117636],\n",
       "       [-0.88089417, -0.32549247, -0.1655086 ,  0.70615502, -1.10308997]])"
      ]
     },
     "execution_count": 30,
     "metadata": {},
     "output_type": "execute_result"
    }
   ],
   "source": [
    "np.random.randn(5,5)"
   ]
  },
  {
   "cell_type": "code",
   "execution_count": 31,
   "metadata": {
    "colab": {
     "base_uri": "https://localhost:8080/"
    },
    "executionInfo": {
     "elapsed": 612,
     "status": "ok",
     "timestamp": 1654027072905,
     "user": {
      "displayName": "Oluwadara Adepoju",
      "userId": "13428123461617812046"
     },
     "user_tz": -60
    },
    "id": "GKdL3dRZWvX5",
    "outputId": "d412dea9-89f5-4126-dc87-0e7e9bf523ba"
   },
   "outputs": [
    {
     "name": "stdout",
     "output_type": "stream",
     "text": [
      "[[1.99457515 2.00512704 2.00266989 ... 2.00127964 1.99484096 2.00161333]\n",
      " [1.99641199 1.99875951 2.0003467  ... 1.99839662 2.00031141 1.99808976]\n",
      " [2.00057853 1.9989538  2.00061585 ... 1.99793017 1.99782952 1.99732631]\n",
      " ...\n",
      " [2.00397867 1.99884424 2.00735417 ... 2.00436677 1.99996698 2.00082218]\n",
      " [2.0022316  1.993859   1.99834462 ... 1.9997962  2.00235533 1.99686227]\n",
      " [1.99766242 2.00322866 1.99988882 ... 2.00149269 1.99836618 1.99906783]]\n"
     ]
    }
   ],
   "source": [
    "# Random normal with mean = 0 and standard deviation equal = 0.1,size = 100 by 100\n",
    "\n",
    "x = np.random.normal(2,0.003,size = (100,100))\n",
    "print(x)"
   ]
  },
  {
   "cell_type": "code",
   "execution_count": 32,
   "metadata": {
    "colab": {
     "base_uri": "https://localhost:8080/"
    },
    "executionInfo": {
     "elapsed": 366,
     "status": "ok",
     "timestamp": 1654027267206,
     "user": {
      "displayName": "Oluwadara Adepoju",
      "userId": "13428123461617812046"
     },
     "user_tz": -60
    },
    "id": "oL05y6MDWvX5",
    "outputId": "711ebb0d-67f1-4c8a-9195-a204fb2bcde1"
   },
   "outputs": [
    {
     "name": "stdout",
     "output_type": "stream",
     "text": [
      "mean 1.9999993935075224\n",
      "std 0.0030058995348171903\n",
      "max 2.0110195766551713\n",
      "# positive 10000\n",
      "# Negative 0\n"
     ]
    }
   ],
   "source": [
    "print('mean',np.mean(x))\n",
    "print('std',x.std())\n",
    "print('max',x.max())\n",
    "print('# positive',(x>0).sum())\n",
    "print('# Negative',(x<0).sum())"
   ]
  },
  {
   "cell_type": "code",
   "execution_count": null,
   "metadata": {
    "id": "39C3dS1sWvX6"
   },
   "outputs": [],
   "source": []
  },
  {
   "cell_type": "markdown",
   "metadata": {
    "id": "e1LtGImLWvX6"
   },
   "source": [
    "### randint\n",
    "The randint method returns random integers."
   ]
  },
  {
   "cell_type": "code",
   "execution_count": 33,
   "metadata": {
    "colab": {
     "base_uri": "https://localhost:8080/"
    },
    "executionInfo": {
     "elapsed": 561,
     "status": "ok",
     "timestamp": 1654027397191,
     "user": {
      "displayName": "Oluwadara Adepoju",
      "userId": "13428123461617812046"
     },
     "user_tz": -60
    },
    "id": "b6bZt5sEWvX6",
    "outputId": "f46294d3-0d47-4663-feaa-e09fe7e4d332"
   },
   "outputs": [
    {
     "data": {
      "text/plain": [
       "61"
      ]
     },
     "execution_count": 33,
     "metadata": {},
     "output_type": "execute_result"
    }
   ],
   "source": [
    "np.random.randint(1,100)# returns a value  between 1 and 100"
   ]
  },
  {
   "cell_type": "code",
   "execution_count": 34,
   "metadata": {
    "colab": {
     "base_uri": "https://localhost:8080/"
    },
    "executionInfo": {
     "elapsed": 356,
     "status": "ok",
     "timestamp": 1654027393511,
     "user": {
      "displayName": "Oluwadara Adepoju",
      "userId": "13428123461617812046"
     },
     "user_tz": -60
    },
    "id": "aoFHhMiGWvX6",
    "outputId": "639864f3-c698-43b6-d18f-6fa6459285a5"
   },
   "outputs": [
    {
     "data": {
      "text/plain": [
       "array([87, 61,  9, 77, 88, 98, 37, 42, 31, 70])"
      ]
     },
     "execution_count": 34,
     "metadata": {},
     "output_type": "execute_result"
    }
   ],
   "source": [
    "np.random.randint(1,100,10)# returns 10 value  between 1 and 100"
   ]
  },
  {
   "cell_type": "code",
   "execution_count": 35,
   "metadata": {
    "colab": {
     "base_uri": "https://localhost:8080/"
    },
    "executionInfo": {
     "elapsed": 509,
     "status": "ok",
     "timestamp": 1654027468139,
     "user": {
      "displayName": "Oluwadara Adepoju",
      "userId": "13428123461617812046"
     },
     "user_tz": -60
    },
    "id": "-skcHq3gWvX7",
    "outputId": "34d3ddae-793b-45e4-d8aa-6ffb689ac743"
   },
   "outputs": [
    {
     "data": {
      "text/plain": [
       "array([[11,  6],\n",
       "       [19,  7],\n",
       "       [11, 22]])"
      ]
     },
     "execution_count": 35,
     "metadata": {},
     "output_type": "execute_result"
    }
   ],
   "source": [
    "np.random.randint(4,25,(3,2))"
   ]
  },
  {
   "cell_type": "markdown",
   "metadata": {
    "id": "kaSzV6qDWvX7"
   },
   "source": [
    "## Attributes and Methods of NumPy Array\n",
    "\n"
   ]
  },
  {
   "cell_type": "code",
   "execution_count": 36,
   "metadata": {
    "executionInfo": {
     "elapsed": 586,
     "status": "ok",
     "timestamp": 1654027682246,
     "user": {
      "displayName": "Oluwadara Adepoju",
      "userId": "13428123461617812046"
     },
     "user_tz": -60
    },
    "id": "jWTVxC8gWvX7"
   },
   "outputs": [],
   "source": [
    "# Creating two arrays for illustrations.\n",
    "\n",
    "array_1 = np.arange(25)\n",
    "array_2 = np.random.randint(1,50,20)"
   ]
  },
  {
   "cell_type": "code",
   "execution_count": 37,
   "metadata": {
    "colab": {
     "base_uri": "https://localhost:8080/"
    },
    "executionInfo": {
     "elapsed": 8,
     "status": "ok",
     "timestamp": 1654027684810,
     "user": {
      "displayName": "Oluwadara Adepoju",
      "userId": "13428123461617812046"
     },
     "user_tz": -60
    },
    "id": "OI7cEHFFWvX7",
    "outputId": "70ea554c-a48d-420e-b459-1caf774abff0"
   },
   "outputs": [
    {
     "data": {
      "text/plain": [
       "array([ 0,  1,  2,  3,  4,  5,  6,  7,  8,  9, 10, 11, 12, 13, 14, 15, 16,\n",
       "       17, 18, 19, 20, 21, 22, 23, 24])"
      ]
     },
     "execution_count": 37,
     "metadata": {},
     "output_type": "execute_result"
    }
   ],
   "source": [
    "array_1"
   ]
  },
  {
   "cell_type": "code",
   "execution_count": 38,
   "metadata": {
    "colab": {
     "base_uri": "https://localhost:8080/"
    },
    "executionInfo": {
     "elapsed": 1450,
     "status": "ok",
     "timestamp": 1654027696142,
     "user": {
      "displayName": "Oluwadara Adepoju",
      "userId": "13428123461617812046"
     },
     "user_tz": -60
    },
    "id": "IRy_RqjeWvX7",
    "outputId": "5eec8b08-f541-485d-cb8d-23e034a5ac9e"
   },
   "outputs": [
    {
     "data": {
      "text/plain": [
       "array([36, 27, 20,  5, 29, 49, 48, 43, 30, 31,  3, 43,  3, 16, 27, 14,  1,\n",
       "       24, 30, 44])"
      ]
     },
     "execution_count": 38,
     "metadata": {},
     "output_type": "execute_result"
    }
   ],
   "source": [
    "array_2"
   ]
  },
  {
   "cell_type": "markdown",
   "metadata": {
    "id": "GAF_Z0UzWvX8"
   },
   "source": [
    "## Shape\n",
    "\n",
    "Shape is an attribute that arrays have (not a method):"
   ]
  },
  {
   "cell_type": "code",
   "execution_count": null,
   "metadata": {},
   "outputs": [],
   "source": []
  },
  {
   "cell_type": "code",
   "execution_count": 39,
   "metadata": {
    "colab": {
     "base_uri": "https://localhost:8080/"
    },
    "executionInfo": {
     "elapsed": 369,
     "status": "ok",
     "timestamp": 1654027752853,
     "user": {
      "displayName": "Oluwadara Adepoju",
      "userId": "13428123461617812046"
     },
     "user_tz": -60
    },
    "id": "S9SzskFKWvX8",
    "outputId": "51d838af-1a18-4141-aa5e-ffac4a7a9532"
   },
   "outputs": [
    {
     "data": {
      "text/plain": [
       "(25,)"
      ]
     },
     "execution_count": 39,
     "metadata": {},
     "output_type": "execute_result"
    }
   ],
   "source": [
    "# Vector\n",
    "array_1.shape"
   ]
  },
  {
   "cell_type": "markdown",
   "metadata": {
    "id": "GZTYskNkWvX8"
   },
   "source": [
    "## Reshape\n",
    "\n",
    "The reshape method returns an array containing the same data with a new shape."
   ]
  },
  {
   "cell_type": "code",
   "execution_count": 40,
   "metadata": {
    "colab": {
     "base_uri": "https://localhost:8080/"
    },
    "executionInfo": {
     "elapsed": 8,
     "status": "ok",
     "timestamp": 1654027799809,
     "user": {
      "displayName": "Oluwadara Adepoju",
      "userId": "13428123461617812046"
     },
     "user_tz": -60
    },
    "id": "ModtnjCEWvX8",
    "outputId": "af42c0b2-29c3-4a88-a296-b8163c18ee69"
   },
   "outputs": [
    {
     "data": {
      "text/plain": [
       "(25,)"
      ]
     },
     "execution_count": 40,
     "metadata": {},
     "output_type": "execute_result"
    }
   ],
   "source": [
    "array_1.shape"
   ]
  },
  {
   "cell_type": "code",
   "execution_count": 41,
   "metadata": {
    "colab": {
     "base_uri": "https://localhost:8080/"
    },
    "executionInfo": {
     "elapsed": 659,
     "status": "ok",
     "timestamp": 1654027902367,
     "user": {
      "displayName": "Oluwadara Adepoju",
      "userId": "13428123461617812046"
     },
     "user_tz": -60
    },
    "id": "BhOFpw8vWvX8",
    "outputId": "2532616c-0767-4ff4-ea05-b8d44c277ee3"
   },
   "outputs": [
    {
     "data": {
      "text/plain": [
       "array([[ 0,  1,  2,  3,  4],\n",
       "       [ 5,  6,  7,  8,  9],\n",
       "       [10, 11, 12, 13, 14],\n",
       "       [15, 16, 17, 18, 19],\n",
       "       [20, 21, 22, 23, 24]])"
      ]
     },
     "execution_count": 41,
     "metadata": {},
     "output_type": "execute_result"
    }
   ],
   "source": [
    "np.reshape(array_1,(5,5)) # using reshape as a function "
   ]
  },
  {
   "cell_type": "code",
   "execution_count": 42,
   "metadata": {
    "id": "zr1EUIOMWvX9",
    "scrolled": true
   },
   "outputs": [
    {
     "data": {
      "text/plain": [
       "array([[ 0,  1,  2,  3,  4],\n",
       "       [ 5,  6,  7,  8,  9],\n",
       "       [10, 11, 12, 13, 14],\n",
       "       [15, 16, 17, 18, 19],\n",
       "       [20, 21, 22, 23, 24]])"
      ]
     },
     "execution_count": 42,
     "metadata": {},
     "output_type": "execute_result"
    }
   ],
   "source": [
    "array_1.reshape(5,5)# using reshape as amethod"
   ]
  },
  {
   "cell_type": "code",
   "execution_count": 43,
   "metadata": {
    "executionInfo": {
     "elapsed": 435,
     "status": "ok",
     "timestamp": 1654027983581,
     "user": {
      "displayName": "Oluwadara Adepoju",
      "userId": "13428123461617812046"
     },
     "user_tz": -60
    },
    "id": "MJows09Dv94J"
   },
   "outputs": [],
   "source": [
    "array_2 = np.random.randint(1,50,20)"
   ]
  },
  {
   "cell_type": "code",
   "execution_count": 44,
   "metadata": {
    "colab": {
     "base_uri": "https://localhost:8080/"
    },
    "executionInfo": {
     "elapsed": 371,
     "status": "ok",
     "timestamp": 1654028003594,
     "user": {
      "displayName": "Oluwadara Adepoju",
      "userId": "13428123461617812046"
     },
     "user_tz": -60
    },
    "id": "bjEr-02GwAHd",
    "outputId": "8899cf33-b8f5-4169-efea-a8eab9bd6f32"
   },
   "outputs": [
    {
     "data": {
      "text/plain": [
       "(20,)"
      ]
     },
     "execution_count": 44,
     "metadata": {},
     "output_type": "execute_result"
    }
   ],
   "source": [
    "array_2.shape"
   ]
  },
  {
   "cell_type": "code",
   "execution_count": 45,
   "metadata": {
    "executionInfo": {
     "elapsed": 470,
     "status": "ok",
     "timestamp": 1654028486210,
     "user": {
      "displayName": "Oluwadara Adepoju",
      "userId": "13428123461617812046"
     },
     "user_tz": -60
    },
    "id": "7AAcQz51wANn"
   },
   "outputs": [],
   "source": [
    "arr=array_2.reshape(10,2)"
   ]
  },
  {
   "cell_type": "code",
   "execution_count": 46,
   "metadata": {
    "colab": {
     "base_uri": "https://localhost:8080/"
    },
    "executionInfo": {
     "elapsed": 381,
     "status": "ok",
     "timestamp": 1654028498696,
     "user": {
      "displayName": "Oluwadara Adepoju",
      "userId": "13428123461617812046"
     },
     "user_tz": -60
    },
    "id": "2QOn2kBAwAU_",
    "outputId": "a6e6da80-4985-4fef-e58f-57d561ec4036"
   },
   "outputs": [
    {
     "data": {
      "text/plain": [
       "20"
      ]
     },
     "execution_count": 46,
     "metadata": {},
     "output_type": "execute_result"
    }
   ],
   "source": [
    "arr.size"
   ]
  },
  {
   "cell_type": "code",
   "execution_count": 47,
   "metadata": {
    "colab": {
     "base_uri": "https://localhost:8080/"
    },
    "executionInfo": {
     "elapsed": 390,
     "status": "ok",
     "timestamp": 1654028512985,
     "user": {
      "displayName": "Oluwadara Adepoju",
      "userId": "13428123461617812046"
     },
     "user_tz": -60
    },
    "id": "VD61YmJvyAOj",
    "outputId": "35a2a027-2c42-461b-e15a-fcca08a1b35c"
   },
   "outputs": [
    {
     "data": {
      "text/plain": [
       "(10, 2)"
      ]
     },
     "execution_count": 47,
     "metadata": {},
     "output_type": "execute_result"
    }
   ],
   "source": [
    "arr.shape"
   ]
  },
  {
   "cell_type": "code",
   "execution_count": 48,
   "metadata": {
    "colab": {
     "base_uri": "https://localhost:8080/"
    },
    "executionInfo": {
     "elapsed": 445,
     "status": "ok",
     "timestamp": 1654028191209,
     "user": {
      "displayName": "Oluwadara Adepoju",
      "userId": "13428123461617812046"
     },
     "user_tz": -60
    },
    "id": "qMSc7j4IWvX9",
    "outputId": "6226d33d-134c-49ff-8e91-fe0fc062f428"
   },
   "outputs": [
    {
     "data": {
      "text/plain": [
       "array([[ 0,  1,  2,  3,  4],\n",
       "       [ 5,  6,  7,  8,  9],\n",
       "       [10, 11, 12, 13, 14],\n",
       "       [15, 16, 17, 18, 19],\n",
       "       [20, 21, 22, 23, 24]])"
      ]
     },
     "execution_count": 48,
     "metadata": {},
     "output_type": "execute_result"
    }
   ],
   "source": [
    "array_1.reshape(5,-1)"
   ]
  },
  {
   "cell_type": "markdown",
   "metadata": {
    "id": "tYeeU1UuWvX9"
   },
   "source": [
    "### max,min,argmax,argmin\n",
    "\n",
    "max and min methods are used  for finding max or min values whiles argmax and argmin are used to find the index locations of the max and min values respectively."
   ]
  },
  {
   "cell_type": "code",
   "execution_count": 49,
   "metadata": {
    "colab": {
     "base_uri": "https://localhost:8080/"
    },
    "executionInfo": {
     "elapsed": 408,
     "status": "ok",
     "timestamp": 1654028239620,
     "user": {
      "displayName": "Oluwadara Adepoju",
      "userId": "13428123461617812046"
     },
     "user_tz": -60
    },
    "id": "H6SPDxSsWvX9",
    "outputId": "f9ef2dfe-bc87-4f58-c4b2-c8959f85e6a2"
   },
   "outputs": [
    {
     "data": {
      "text/plain": [
       "array([36,  3, 22, 24, 33, 34, 12, 11, 27,  5, 27, 16, 20,  8, 10, 49, 14,\n",
       "       26, 21, 20])"
      ]
     },
     "execution_count": 49,
     "metadata": {},
     "output_type": "execute_result"
    }
   ],
   "source": [
    "array_2"
   ]
  },
  {
   "cell_type": "code",
   "execution_count": 50,
   "metadata": {
    "colab": {
     "base_uri": "https://localhost:8080/"
    },
    "executionInfo": {
     "elapsed": 394,
     "status": "ok",
     "timestamp": 1654028277564,
     "user": {
      "displayName": "Oluwadara Adepoju",
      "userId": "13428123461617812046"
     },
     "user_tz": -60
    },
    "id": "FWXApda0WvX9",
    "outputId": "61d46c5c-aeda-4344-be24-71a1ae4c088c"
   },
   "outputs": [
    {
     "data": {
      "text/plain": [
       "49"
      ]
     },
     "execution_count": 50,
     "metadata": {},
     "output_type": "execute_result"
    }
   ],
   "source": [
    "array_2.max()"
   ]
  },
  {
   "cell_type": "code",
   "execution_count": 51,
   "metadata": {
    "colab": {
     "base_uri": "https://localhost:8080/"
    },
    "executionInfo": {
     "elapsed": 383,
     "status": "ok",
     "timestamp": 1654028311724,
     "user": {
      "displayName": "Oluwadara Adepoju",
      "userId": "13428123461617812046"
     },
     "user_tz": -60
    },
    "id": "32gL5w_dWvX-",
    "outputId": "aeb8b28e-8fcf-42e1-f8f1-01bd9e2c9d7f"
   },
   "outputs": [
    {
     "data": {
      "text/plain": [
       "15"
      ]
     },
     "execution_count": 51,
     "metadata": {},
     "output_type": "execute_result"
    }
   ],
   "source": [
    "array_2.argmax()"
   ]
  },
  {
   "cell_type": "code",
   "execution_count": 52,
   "metadata": {
    "colab": {
     "base_uri": "https://localhost:8080/"
    },
    "executionInfo": {
     "elapsed": 594,
     "status": "ok",
     "timestamp": 1654028354996,
     "user": {
      "displayName": "Oluwadara Adepoju",
      "userId": "13428123461617812046"
     },
     "user_tz": -60
    },
    "id": "FtCa4ogLWvX-",
    "outputId": "7a7e8580-717e-416d-e786-b746eb1621cb"
   },
   "outputs": [
    {
     "data": {
      "text/plain": [
       "3"
      ]
     },
     "execution_count": 52,
     "metadata": {},
     "output_type": "execute_result"
    }
   ],
   "source": [
    "array_2.min()"
   ]
  },
  {
   "cell_type": "code",
   "execution_count": 53,
   "metadata": {
    "colab": {
     "base_uri": "https://localhost:8080/"
    },
    "executionInfo": {
     "elapsed": 404,
     "status": "ok",
     "timestamp": 1654028359806,
     "user": {
      "displayName": "Oluwadara Adepoju",
      "userId": "13428123461617812046"
     },
     "user_tz": -60
    },
    "id": "CAFoIr2YWvX-",
    "outputId": "cb34f481-9e4e-45ae-c706-36c354e54dff",
    "scrolled": true
   },
   "outputs": [
    {
     "data": {
      "text/plain": [
       "1"
      ]
     },
     "execution_count": 53,
     "metadata": {},
     "output_type": "execute_result"
    }
   ],
   "source": [
    "array_2.argmin()"
   ]
  },
  {
   "cell_type": "code",
   "execution_count": 54,
   "metadata": {
    "colab": {
     "base_uri": "https://localhost:8080/"
    },
    "executionInfo": {
     "elapsed": 386,
     "status": "ok",
     "timestamp": 1654028405399,
     "user": {
      "displayName": "Oluwadara Adepoju",
      "userId": "13428123461617812046"
     },
     "user_tz": -60
    },
    "id": "1hkYQA1DWvX-",
    "outputId": "71f3fb40-33c6-4f0a-c042-39e19aab4403"
   },
   "outputs": [
    {
     "data": {
      "text/plain": [
       "20.9"
      ]
     },
     "execution_count": 54,
     "metadata": {},
     "output_type": "execute_result"
    }
   ],
   "source": [
    "# mean\n",
    "array_2.mean()"
   ]
  },
  {
   "cell_type": "code",
   "execution_count": 55,
   "metadata": {
    "colab": {
     "base_uri": "https://localhost:8080/"
    },
    "executionInfo": {
     "elapsed": 8,
     "status": "ok",
     "timestamp": 1654028406613,
     "user": {
      "displayName": "Oluwadara Adepoju",
      "userId": "13428123461617812046"
     },
     "user_tz": -60
    },
    "id": "zKOLfClxWvX_",
    "outputId": "8b49e4fb-95aa-4595-918b-6221a97b13d4"
   },
   "outputs": [
    {
     "data": {
      "text/plain": [
       "20.9"
      ]
     },
     "execution_count": 55,
     "metadata": {},
     "output_type": "execute_result"
    }
   ],
   "source": [
    "np.mean(array_2)"
   ]
  },
  {
   "cell_type": "code",
   "execution_count": 56,
   "metadata": {
    "colab": {
     "base_uri": "https://localhost:8080/"
    },
    "executionInfo": {
     "elapsed": 664,
     "status": "ok",
     "timestamp": 1654028409288,
     "user": {
      "displayName": "Oluwadara Adepoju",
      "userId": "13428123461617812046"
     },
     "user_tz": -60
    },
    "id": "0QjRIVbiWvX_",
    "outputId": "f5ab99a5-b3dc-4c9c-e05e-4689c9a14f4f"
   },
   "outputs": [
    {
     "data": {
      "text/plain": [
       "11.304423912787419"
      ]
     },
     "execution_count": 56,
     "metadata": {},
     "output_type": "execute_result"
    }
   ],
   "source": [
    "array_2.std()"
   ]
  },
  {
   "cell_type": "code",
   "execution_count": 57,
   "metadata": {
    "colab": {
     "base_uri": "https://localhost:8080/"
    },
    "executionInfo": {
     "elapsed": 368,
     "status": "ok",
     "timestamp": 1654028418958,
     "user": {
      "displayName": "Oluwadara Adepoju",
      "userId": "13428123461617812046"
     },
     "user_tz": -60
    },
    "id": "yKmvaHelWvX_",
    "outputId": "bb9f3fc4-31d3-48b6-bc64-c501e995902b"
   },
   "outputs": [
    {
     "data": {
      "text/plain": [
       "127.79000000000003"
      ]
     },
     "execution_count": 57,
     "metadata": {},
     "output_type": "execute_result"
    }
   ],
   "source": [
    "array_2.var()"
   ]
  },
  {
   "cell_type": "markdown",
   "metadata": {
    "id": "2JPxE9J2WvX_"
   },
   "source": [
    "# size\n",
    "The size method returns the size of the array"
   ]
  },
  {
   "cell_type": "code",
   "execution_count": 58,
   "metadata": {
    "colab": {
     "base_uri": "https://localhost:8080/"
    },
    "executionInfo": {
     "elapsed": 785,
     "status": "ok",
     "timestamp": 1654028430178,
     "user": {
      "displayName": "Oluwadara Adepoju",
      "userId": "13428123461617812046"
     },
     "user_tz": -60
    },
    "id": "YRkhWDgfWvX_",
    "outputId": "1386b59a-3b64-4976-a87e-17f1facfbb2a"
   },
   "outputs": [
    {
     "data": {
      "text/plain": [
       "25"
      ]
     },
     "execution_count": 58,
     "metadata": {},
     "output_type": "execute_result"
    }
   ],
   "source": [
    "array_1.size"
   ]
  },
  {
   "cell_type": "markdown",
   "metadata": {
    "id": "ktSC0lf4WvYA"
   },
   "source": [
    "# ndim\n",
    "This method returns the dimention of the an array\n",
    "\n"
   ]
  },
  {
   "cell_type": "code",
   "execution_count": 59,
   "metadata": {
    "colab": {
     "base_uri": "https://localhost:8080/"
    },
    "executionInfo": {
     "elapsed": 433,
     "status": "ok",
     "timestamp": 1654028563770,
     "user": {
      "displayName": "Oluwadara Adepoju",
      "userId": "13428123461617812046"
     },
     "user_tz": -60
    },
    "id": "u8KvhGImWvYA",
    "outputId": "322f1080-c227-43ac-9128-956da9805e7f"
   },
   "outputs": [
    {
     "data": {
      "text/plain": [
       "1"
      ]
     },
     "execution_count": 59,
     "metadata": {},
     "output_type": "execute_result"
    }
   ],
   "source": [
    "array_1.ndim"
   ]
  },
  {
   "cell_type": "code",
   "execution_count": 60,
   "metadata": {
    "colab": {
     "base_uri": "https://localhost:8080/"
    },
    "executionInfo": {
     "elapsed": 483,
     "status": "ok",
     "timestamp": 1654028714887,
     "user": {
      "displayName": "Oluwadara Adepoju",
      "userId": "13428123461617812046"
     },
     "user_tz": -60
    },
    "id": "kxumHuVAWvYA",
    "outputId": "256e3fc7-f2b1-4530-9405-a8aa0fbecefd"
   },
   "outputs": [
    {
     "data": {
      "text/plain": [
       "2"
      ]
     },
     "execution_count": 60,
     "metadata": {},
     "output_type": "execute_result"
    }
   ],
   "source": [
    "array_1.reshape(5,5).ndim"
   ]
  },
  {
   "cell_type": "markdown",
   "metadata": {
    "id": "dcD3uAd7WvYA"
   },
   "source": [
    "### dtype\n",
    "\n",
    "The dtype method can be used to grab the data type of the object in the array.\n"
   ]
  },
  {
   "cell_type": "code",
   "execution_count": 61,
   "metadata": {
    "colab": {
     "base_uri": "https://localhost:8080/"
    },
    "executionInfo": {
     "elapsed": 383,
     "status": "ok",
     "timestamp": 1654028774266,
     "user": {
      "displayName": "Oluwadara Adepoju",
      "userId": "13428123461617812046"
     },
     "user_tz": -60
    },
    "id": "3ln2eTgYWvYA",
    "outputId": "4ae9eed3-7738-4d96-d68d-3bc767aac69b"
   },
   "outputs": [
    {
     "data": {
      "text/plain": [
       "numpy.ndarray"
      ]
     },
     "execution_count": 61,
     "metadata": {},
     "output_type": "execute_result"
    }
   ],
   "source": [
    "type(array_1)"
   ]
  },
  {
   "cell_type": "code",
   "execution_count": 62,
   "metadata": {
    "colab": {
     "base_uri": "https://localhost:8080/"
    },
    "executionInfo": {
     "elapsed": 398,
     "status": "ok",
     "timestamp": 1654028780228,
     "user": {
      "displayName": "Oluwadara Adepoju",
      "userId": "13428123461617812046"
     },
     "user_tz": -60
    },
    "id": "G8FzZSb-WvYB",
    "outputId": "939e62da-6771-4dd0-9baa-64232bc12edc"
   },
   "outputs": [
    {
     "data": {
      "text/plain": [
       "dtype('int32')"
      ]
     },
     "execution_count": 62,
     "metadata": {},
     "output_type": "execute_result"
    }
   ],
   "source": [
    "array_1.dtype"
   ]
  },
  {
   "cell_type": "markdown",
   "metadata": {
    "id": "8057yn2ZWvYB"
   },
   "source": [
    "### Specifying a dtype in array creation."
   ]
  },
  {
   "cell_type": "code",
   "execution_count": 63,
   "metadata": {
    "executionInfo": {
     "elapsed": 479,
     "status": "ok",
     "timestamp": 1654028834183,
     "user": {
      "displayName": "Oluwadara Adepoju",
      "userId": "13428123461617812046"
     },
     "user_tz": -60
    },
    "id": "dzmQGwitWvYB"
   },
   "outputs": [],
   "source": [
    "array_3 = np.array([3,4.5,6,9.9,7.2],dtype = np.int64)"
   ]
  },
  {
   "cell_type": "code",
   "execution_count": 64,
   "metadata": {
    "colab": {
     "base_uri": "https://localhost:8080/"
    },
    "executionInfo": {
     "elapsed": 519,
     "status": "ok",
     "timestamp": 1654028865178,
     "user": {
      "displayName": "Oluwadara Adepoju",
      "userId": "13428123461617812046"
     },
     "user_tz": -60
    },
    "id": "Asfwu9bOWvYB",
    "outputId": "37ebe368-7090-4d86-8246-cc042f9984cc"
   },
   "outputs": [
    {
     "data": {
      "text/plain": [
       "dtype('int64')"
      ]
     },
     "execution_count": 64,
     "metadata": {},
     "output_type": "execute_result"
    }
   ],
   "source": [
    "array_3.dtype"
   ]
  },
  {
   "cell_type": "code",
   "execution_count": 65,
   "metadata": {
    "colab": {
     "base_uri": "https://localhost:8080/"
    },
    "executionInfo": {
     "elapsed": 499,
     "status": "ok",
     "timestamp": 1654028884233,
     "user": {
      "displayName": "Oluwadara Adepoju",
      "userId": "13428123461617812046"
     },
     "user_tz": -60
    },
    "id": "6_0spEB2WvYC",
    "outputId": "62400259-1495-46b5-9154-24e97fb87030"
   },
   "outputs": [
    {
     "data": {
      "text/plain": [
       "array([3, 4, 6, 9, 7], dtype=int64)"
      ]
     },
     "execution_count": 65,
     "metadata": {},
     "output_type": "execute_result"
    }
   ],
   "source": [
    "array_3"
   ]
  },
  {
   "cell_type": "markdown",
   "metadata": {
    "id": "UmwRYKA48OlM"
   },
   "source": [
    "Assignment: Create a guessing game that generates a random number between 1 to 6. The user will be given three trails to guess the right number. if the number is higher than the guessed number the game will indicate that the user should try a lower number and vice-versa. After three trials if the user fails the guess print the correct number."
   ]
  },
  {
   "cell_type": "code",
   "execution_count": 81,
   "metadata": {
    "id": "2c-lxF56WvYC"
   },
   "outputs": [
    {
     "name": "stdin",
     "output_type": "stream",
     "text": [
      "Enter Number:  5\n"
     ]
    },
    {
     "name": "stdout",
     "output_type": "stream",
     "text": [
      "Try a Lower Number\n"
     ]
    },
    {
     "name": "stdin",
     "output_type": "stream",
     "text": [
      "Enter Number:  1\n"
     ]
    },
    {
     "name": "stdout",
     "output_type": "stream",
     "text": [
      "Try a Higher Number\n"
     ]
    },
    {
     "name": "stdin",
     "output_type": "stream",
     "text": [
      "Enter Number:  1\n"
     ]
    },
    {
     "name": "stdout",
     "output_type": "stream",
     "text": [
      "Try a Higher Number\n",
      "You Lost!\n"
     ]
    }
   ],
   "source": [
    "import random\n",
    "\n",
    "num = random.randint(0, 6)\n",
    "attempt = 3 \n",
    "msg = 'You Lost!'   \n",
    "\n",
    "while attempt > 0:\n",
    "    user_input = int(input('Enter Number: '))\n",
    "\n",
    "    if user_input == num:\n",
    "        msg = 'You Won!'\n",
    "        break\n",
    "    elif user_input > num:\n",
    "        print('Try a Lower Number')\n",
    "        attempt -= 1\n",
    "        continue\n",
    "    elif user_input < num:\n",
    "        print('Try a Higher Number')\n",
    "        attempt -= 1\n",
    "        continue\n",
    "    else:\n",
    "        print(f'Try again! {attempt} attempt left.')\n",
    "        attempt -= 1\n",
    "        continue\n",
    "\n",
    "print(msg)"
   ]
  },
  {
   "cell_type": "code",
   "execution_count": null,
   "metadata": {
    "id": "pLKcC0hVWvYC"
   },
   "outputs": [],
   "source": []
  }
 ],
 "metadata": {
  "colab": {
   "collapsed_sections": [],
   "name": "Intro to NumPy Tutorials part 1.ipynb",
   "provenance": []
  },
  "kernelspec": {
   "display_name": "Python 3",
   "language": "python",
   "name": "python3"
  },
  "language_info": {
   "codemirror_mode": {
    "name": "ipython",
    "version": 3
   },
   "file_extension": ".py",
   "mimetype": "text/x-python",
   "name": "python",
   "nbconvert_exporter": "python",
   "pygments_lexer": "ipython3",
   "version": "3.8.8"
  }
 },
 "nbformat": 4,
 "nbformat_minor": 4
}
