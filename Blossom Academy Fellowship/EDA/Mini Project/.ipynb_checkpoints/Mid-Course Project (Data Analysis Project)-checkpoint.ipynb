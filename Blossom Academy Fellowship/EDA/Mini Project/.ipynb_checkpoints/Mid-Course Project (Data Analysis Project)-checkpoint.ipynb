{
 "cells": [
  {
   "cell_type": "markdown",
   "metadata": {
    "id": "sdrPYGTvbBsP"
   },
   "source": [
    "# Mid-Course Project\n",
    "\n",
    "\n",
    "\n",
    "### Problem Statement\n",
    "\n",
    "A multinational retail company decides to embark on a campaign called **'Operation  Increase Sales and Profit' (OISP)** which focuses on increasing the sales of the company and maximising profit. \n",
    "\n",
    "Before the management team of the company can take any actionable decision with regards to the campaign,they want to draw the necessary insight from their 'sitting data'.\n",
    "\n",
    "As their Data Analyst,you are presented with their four year daily sales records (**superstore data.csv**).\n",
    "\n",
    "#### Task\n",
    "Analyse the given  data and advise management on what to do to increase sales and profit as intended in the compaign.\n",
    "\n",
    "Kindly  outlay your analytical steps inline with CRISP-DM(Cross Industry Standard Process for Data Mining)steps, asking the nescessary questions and providing answers based on the data.\n",
    "\n",
    "\n",
    "Management expects statistical summaries of the key variables considering the aim of the campaign, visualizations and a report on your findings and your advice.\n",
    "\n",
    "**Use Powerpoint or any other presentation application for your presentation.**\n",
    "\n",
    "Good Luck !\n",
    "\n",
    "\n",
    "\n",
    "\n",
    "\n",
    "\n"
   ]
  },
  {
   "cell_type": "code",
   "execution_count": 1,
   "metadata": {
    "executionInfo": {
     "elapsed": 379,
     "status": "ok",
     "timestamp": 1655226602771,
     "user": {
      "displayName": "Digital Africa Data Analytics[Nigeria]",
      "userId": "14488350832621730746"
     },
     "user_tz": -60
    },
    "id": "g0buz-aUbBsc"
   },
   "outputs": [],
   "source": [
    "##Importing the necessary packages\n",
    "import pandas as pd\n",
    "import numpy as np\n",
    "import matplotlib.pyplot as plt\n",
    "import seaborn as sns\n",
    "import warnings\n",
    "warnings.filterwarnings('ignore')\n",
    "\n",
    "%matplotlib inline\n",
    "pd.set_option('display.max_colwidth',None)\n",
    "pd.set_option('display.max_columns',None)"
   ]
  },
  {
   "cell_type": "code",
   "execution_count": 3,
   "metadata": {
    "colab": {
     "base_uri": "https://localhost:8080/",
     "height": 372
    },
    "executionInfo": {
     "elapsed": 1030,
     "status": "error",
     "timestamp": 1655226324395,
     "user": {
      "displayName": "Digital Africa Data Analytics[Nigeria]",
      "userId": "14488350832621730746"
     },
     "user_tz": -60
    },
    "id": "QdpiI__7bBse",
    "outputId": "b0884fde-b74a-4641-c30f-d688784a0788"
   },
   "outputs": [
    {
     "data": {
      "text/html": [
       "<div>\n",
       "<style scoped>\n",
       "    .dataframe tbody tr th:only-of-type {\n",
       "        vertical-align: middle;\n",
       "    }\n",
       "\n",
       "    .dataframe tbody tr th {\n",
       "        vertical-align: top;\n",
       "    }\n",
       "\n",
       "    .dataframe thead th {\n",
       "        text-align: right;\n",
       "    }\n",
       "</style>\n",
       "<table border=\"1\" class=\"dataframe\">\n",
       "  <thead>\n",
       "    <tr style=\"text-align: right;\">\n",
       "      <th></th>\n",
       "      <th>Row ID</th>\n",
       "      <th>Order ID</th>\n",
       "      <th>Order Date</th>\n",
       "      <th>Ship Date</th>\n",
       "      <th>Ship Mode</th>\n",
       "      <th>Customer ID</th>\n",
       "      <th>Customer Name</th>\n",
       "      <th>Segment</th>\n",
       "      <th>City</th>\n",
       "      <th>State</th>\n",
       "      <th>Country</th>\n",
       "      <th>Postal Code</th>\n",
       "      <th>Market</th>\n",
       "      <th>Region</th>\n",
       "      <th>Product ID</th>\n",
       "      <th>Category</th>\n",
       "      <th>Sub-Category</th>\n",
       "      <th>Product Name</th>\n",
       "      <th>Sales</th>\n",
       "      <th>Quantity</th>\n",
       "      <th>Discount</th>\n",
       "      <th>Profit</th>\n",
       "      <th>Shipping Cost</th>\n",
       "      <th>Order Priority</th>\n",
       "    </tr>\n",
       "  </thead>\n",
       "  <tbody>\n",
       "    <tr>\n",
       "      <th>0</th>\n",
       "      <td>42433</td>\n",
       "      <td>AG-2011-2040</td>\n",
       "      <td>2011-01-01</td>\n",
       "      <td>2011-06-01</td>\n",
       "      <td>Standard Class</td>\n",
       "      <td>TB-11280</td>\n",
       "      <td>Toby Braunhardt</td>\n",
       "      <td>Consumer</td>\n",
       "      <td>Constantine</td>\n",
       "      <td>Constantine</td>\n",
       "      <td>Algeria</td>\n",
       "      <td>NaN</td>\n",
       "      <td>Africa</td>\n",
       "      <td>Africa</td>\n",
       "      <td>OFF-TEN-10000025</td>\n",
       "      <td>Office Supplies</td>\n",
       "      <td>Storage</td>\n",
       "      <td>Tenex Lockers, Blue</td>\n",
       "      <td>408.300</td>\n",
       "      <td>2</td>\n",
       "      <td>0.0</td>\n",
       "      <td>106.140</td>\n",
       "      <td>35.46</td>\n",
       "      <td>Medium</td>\n",
       "    </tr>\n",
       "    <tr>\n",
       "      <th>1</th>\n",
       "      <td>22253</td>\n",
       "      <td>IN-2011-47883</td>\n",
       "      <td>2011-01-01</td>\n",
       "      <td>2011-08-01</td>\n",
       "      <td>Standard Class</td>\n",
       "      <td>JH-15985</td>\n",
       "      <td>Joseph Holt</td>\n",
       "      <td>Consumer</td>\n",
       "      <td>Wagga Wagga</td>\n",
       "      <td>New South Wales</td>\n",
       "      <td>Australia</td>\n",
       "      <td>NaN</td>\n",
       "      <td>APAC</td>\n",
       "      <td>Oceania</td>\n",
       "      <td>OFF-SU-10000618</td>\n",
       "      <td>Office Supplies</td>\n",
       "      <td>Supplies</td>\n",
       "      <td>Acme Trimmer, High Speed</td>\n",
       "      <td>120.366</td>\n",
       "      <td>3</td>\n",
       "      <td>0.1</td>\n",
       "      <td>36.036</td>\n",
       "      <td>9.72</td>\n",
       "      <td>Medium</td>\n",
       "    </tr>\n",
       "    <tr>\n",
       "      <th>2</th>\n",
       "      <td>48883</td>\n",
       "      <td>HU-2011-1220</td>\n",
       "      <td>2011-01-01</td>\n",
       "      <td>2011-05-01</td>\n",
       "      <td>Second Class</td>\n",
       "      <td>AT-735</td>\n",
       "      <td>Annie Thurman</td>\n",
       "      <td>Consumer</td>\n",
       "      <td>Budapest</td>\n",
       "      <td>Budapest</td>\n",
       "      <td>Hungary</td>\n",
       "      <td>NaN</td>\n",
       "      <td>EMEA</td>\n",
       "      <td>EMEA</td>\n",
       "      <td>OFF-TEN-10001585</td>\n",
       "      <td>Office Supplies</td>\n",
       "      <td>Storage</td>\n",
       "      <td>Tenex Box, Single Width</td>\n",
       "      <td>66.120</td>\n",
       "      <td>4</td>\n",
       "      <td>0.0</td>\n",
       "      <td>29.640</td>\n",
       "      <td>8.17</td>\n",
       "      <td>High</td>\n",
       "    </tr>\n",
       "  </tbody>\n",
       "</table>\n",
       "</div>"
      ],
      "text/plain": [
       "   Row ID       Order ID Order Date  Ship Date       Ship Mode Customer ID  \\\n",
       "0   42433   AG-2011-2040 2011-01-01 2011-06-01  Standard Class    TB-11280   \n",
       "1   22253  IN-2011-47883 2011-01-01 2011-08-01  Standard Class    JH-15985   \n",
       "2   48883   HU-2011-1220 2011-01-01 2011-05-01    Second Class      AT-735   \n",
       "\n",
       "     Customer Name   Segment         City            State    Country  \\\n",
       "0  Toby Braunhardt  Consumer  Constantine      Constantine    Algeria   \n",
       "1      Joseph Holt  Consumer  Wagga Wagga  New South Wales  Australia   \n",
       "2    Annie Thurman  Consumer     Budapest         Budapest    Hungary   \n",
       "\n",
       "   Postal Code  Market   Region        Product ID         Category  \\\n",
       "0          NaN  Africa   Africa  OFF-TEN-10000025  Office Supplies   \n",
       "1          NaN    APAC  Oceania   OFF-SU-10000618  Office Supplies   \n",
       "2          NaN    EMEA     EMEA  OFF-TEN-10001585  Office Supplies   \n",
       "\n",
       "  Sub-Category              Product Name    Sales  Quantity  Discount  \\\n",
       "0      Storage       Tenex Lockers, Blue  408.300         2       0.0   \n",
       "1     Supplies  Acme Trimmer, High Speed  120.366         3       0.1   \n",
       "2      Storage   Tenex Box, Single Width   66.120         4       0.0   \n",
       "\n",
       "    Profit  Shipping Cost Order Priority  \n",
       "0  106.140          35.46         Medium  \n",
       "1   36.036           9.72         Medium  \n",
       "2   29.640           8.17           High  "
      ]
     },
     "execution_count": 3,
     "metadata": {},
     "output_type": "execute_result"
    }
   ],
   "source": [
    "df = pd.read_csv('superstore data.csv',parse_dates = ['Order Date','Ship Date'],encoding = 'latin1')\n",
    "df.head(3)"
   ]
  },
  {
   "cell_type": "code",
   "execution_count": 5,
   "metadata": {
    "id": "HftiO4ZZbBsg",
    "outputId": "91f1bf1d-6b3c-435d-cf53-82dd5f0870d7"
   },
   "outputs": [
    {
     "name": "stdout",
     "output_type": "stream",
     "text": [
      "Row ID\n",
      "Order ID\n",
      "Order Date\n",
      "Ship Date\n",
      "Ship Mode\n",
      "Customer ID\n",
      "Customer Name\n",
      "Segment\n",
      "City\n",
      "State\n",
      "Country\n",
      "Postal Code\n",
      "Market\n",
      "Region\n",
      "Product ID\n",
      "Category\n",
      "Sub-Category\n",
      "Product Name\n",
      "Sales\n",
      "Quantity\n",
      "Discount\n",
      "Profit\n",
      "Shipping Cost\n",
      "Order Priority\n"
     ]
    }
   ],
   "source": [
    "for col in df.columns:\n",
    "    print(col)"
   ]
  },
  {
   "cell_type": "markdown",
   "metadata": {
    "id": "fq8FoV-YbBsh"
   },
   "source": [
    "### Hints on Data preparation and exploration \n",
    "\n",
    "1. Load the data.\n",
    "2. Inspect the data\n",
    "3. Check for missing values\n",
    "4. Check the data of each column\n",
    "5. Check the different categories in the categorical variables\n",
    "6. Take a view of the data\n",
    "7. Take the descritive statistics for the numerical variables\n",
    "9. Check the ditribution of the variables\n",
    "10. Feature Engineering\n",
    "#Create columns for:\n",
    "\n",
    "#Unit price (sale/quantity)\n",
    "\n",
    "#Year\n",
    "\n",
    "#Month\n",
    "\n",
    "#interval between the order date and the shipping date in days.\n"
   ]
  },
  {
   "cell_type": "markdown",
   "metadata": {
    "id": "PD4SGSwzbBsi"
   },
   "source": [
    "## Hints on the analysis "
   ]
  },
  {
   "cell_type": "markdown",
   "metadata": {
    "id": "Y3RNYI5EbBsj"
   },
   "source": [
    "### Check: The following  possible questions may of interest to you.\n",
    "\n",
    "1. What is the sales and profit per market? \n",
    "\n",
    "2. What is the most and least profitable market?\n",
    "\n",
    "3. How are you going to increase the sales for the products that least bought?\n",
    "\n",
    "4. Which month does the company records more sales?\n",
    "\n",
    "5. What is the correlation between discount and sale?\n",
    "\n",
    "6. Does the shipping cost affect the sales?\n",
    "\n",
    "7. What is the dominant product category in each market?\n",
    "\n",
    "8. City with most orders for a given product category?\n",
    "\n",
    "9. which products are making loss?\n",
    "\n",
    "10. Which segment provides more profit?\n",
    "\n",
    "11. what is the correlation between quantity and profit?\n",
    "\n",
    "12. what it the correlation between shipping cost and profit?\n",
    "\n",
    "13. Which order priority yields more sales?\n",
    "\n",
    "14. What is the average shipping cost to each region?\n",
    "\n",
    "15. What product categories should be targetted to the  different markets?\n",
    "\n",
    "16. Does the interval between the order date and the shipping date affect sale and profit\n"
   ]
  },
  {
   "cell_type": "code",
   "execution_count": null,
   "metadata": {
    "id": "eNA4PIEnbBsk"
   },
   "outputs": [],
   "source": []
  }
 ],
 "metadata": {
  "colab": {
   "collapsed_sections": [],
   "name": "Mid-Course Project (Data Analysis Project).ipynb",
   "provenance": []
  },
  "kernelspec": {
   "display_name": "Python 3",
   "language": "python",
   "name": "python3"
  },
  "language_info": {
   "codemirror_mode": {
    "name": "ipython",
    "version": 3
   },
   "file_extension": ".py",
   "mimetype": "text/x-python",
   "name": "python",
   "nbconvert_exporter": "python",
   "pygments_lexer": "ipython3",
   "version": "3.8.8"
  }
 },
 "nbformat": 4,
 "nbformat_minor": 4
}
