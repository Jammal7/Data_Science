{
 "cells": [
  {
   "cell_type": "markdown",
   "metadata": {
    "id": "sdrPYGTvbBsP"
   },
   "source": [
    "# Mid-Course Project\n",
    "\n",
    "\n",
    "\n",
    "### Problem Statement\n",
    "\n",
    "A multinational retail company decides to embark on a campaign called **'Operation  Increase Sales and Profit' (OISP)** which focuses on increasing the sales of the company and maximising profit. \n",
    "\n",
    "Before the management team of the company can take any actionable decision with regards to the campaign,they want to draw the necessary insight from their 'sitting data'.\n",
    "\n",
    "As their Data Analyst,you are presented with their four year daily sales records (**superstore data.csv**).\n",
    "\n",
    "#### Task\n",
    "Analyse the given  data and advise management on what to do to increase sales and profit as intended in the compaign.\n",
    "\n",
    "Kindly  outlay your analytical steps inline with CRISP-DM(Cross Industry Standard Process for Data Mining)steps, asking the nescessary questions and providing answers based on the data.\n",
    "\n",
    "\n",
    "Management expects statistical summaries of the key variables considering the aim of the campaign, visualizations and a report on your findings and your advice.\n",
    "\n",
    "**Use Powerpoint or any other presentation application for your presentation.**\n",
    "\n",
    "Good Luck !"
   ]
  },
  {
   "cell_type": "code",
   "execution_count": 1,
   "metadata": {
    "executionInfo": {
     "elapsed": 379,
     "status": "ok",
     "timestamp": 1655226602771,
     "user": {
      "displayName": "Digital Africa Data Analytics[Nigeria]",
      "userId": "14488350832621730746"
     },
     "user_tz": -60
    },
    "id": "g0buz-aUbBsc"
   },
   "outputs": [],
   "source": [
    "##Importing the necessary packages\n",
    "import pandas as pd\n",
    "import numpy as np\n",
    "import matplotlib.pyplot as plt\n",
    "import seaborn as sns\n",
    "import warnings\n",
    "warnings.filterwarnings('ignore')\n",
    "\n",
    "%matplotlib inline\n",
    "pd.set_option('display.max_colwidth',None)\n",
    "pd.set_option('display.max_columns',None)"
   ]
  },
  {
   "cell_type": "code",
   "execution_count": 2,
   "metadata": {
    "colab": {
     "base_uri": "https://localhost:8080/",
     "height": 372
    },
    "executionInfo": {
     "elapsed": 1030,
     "status": "error",
     "timestamp": 1655226324395,
     "user": {
      "displayName": "Digital Africa Data Analytics[Nigeria]",
      "userId": "14488350832621730746"
     },
     "user_tz": -60
    },
    "id": "QdpiI__7bBse",
    "outputId": "b0884fde-b74a-4641-c30f-d688784a0788"
   },
   "outputs": [],
   "source": [
    "df = pd.read_csv('superstore data.csv',parse_dates = ['Order Date','Ship Date'],encoding = 'latin1')"
   ]
  },
  {
   "cell_type": "markdown",
   "metadata": {},
   "source": [
    "## Basic Data Checkup"
   ]
  },
  {
   "cell_type": "code",
   "execution_count": 81,
   "metadata": {},
   "outputs": [
    {
     "data": {
      "text/html": [
       "<div>\n",
       "<style scoped>\n",
       "    .dataframe tbody tr th:only-of-type {\n",
       "        vertical-align: middle;\n",
       "    }\n",
       "\n",
       "    .dataframe tbody tr th {\n",
       "        vertical-align: top;\n",
       "    }\n",
       "\n",
       "    .dataframe thead th {\n",
       "        text-align: right;\n",
       "    }\n",
       "</style>\n",
       "<table border=\"1\" class=\"dataframe\">\n",
       "  <thead>\n",
       "    <tr style=\"text-align: right;\">\n",
       "      <th></th>\n",
       "      <th>Row ID</th>\n",
       "      <th>Order ID</th>\n",
       "      <th>Order Date</th>\n",
       "      <th>Ship Date</th>\n",
       "      <th>Ship Mode</th>\n",
       "      <th>Customer ID</th>\n",
       "      <th>Customer Name</th>\n",
       "      <th>Segment</th>\n",
       "      <th>City</th>\n",
       "      <th>State</th>\n",
       "      <th>Country</th>\n",
       "      <th>Postal Code</th>\n",
       "      <th>Market</th>\n",
       "      <th>Region</th>\n",
       "      <th>Product ID</th>\n",
       "      <th>Category</th>\n",
       "      <th>Sub-Category</th>\n",
       "      <th>Product Name</th>\n",
       "      <th>Sales</th>\n",
       "      <th>Quantity</th>\n",
       "      <th>Discount</th>\n",
       "      <th>Profit</th>\n",
       "      <th>Shipping Cost</th>\n",
       "      <th>Order Priority</th>\n",
       "    </tr>\n",
       "  </thead>\n",
       "  <tbody>\n",
       "    <tr>\n",
       "      <th>0</th>\n",
       "      <td>42433</td>\n",
       "      <td>AG-2011-2040</td>\n",
       "      <td>2011-01-01</td>\n",
       "      <td>2011-06-01</td>\n",
       "      <td>Standard Class</td>\n",
       "      <td>TB-11280</td>\n",
       "      <td>Toby Braunhardt</td>\n",
       "      <td>Consumer</td>\n",
       "      <td>Constantine</td>\n",
       "      <td>Constantine</td>\n",
       "      <td>Algeria</td>\n",
       "      <td>NaN</td>\n",
       "      <td>Africa</td>\n",
       "      <td>Africa</td>\n",
       "      <td>OFF-TEN-10000025</td>\n",
       "      <td>Office Supplies</td>\n",
       "      <td>Storage</td>\n",
       "      <td>Tenex Lockers, Blue</td>\n",
       "      <td>408.300</td>\n",
       "      <td>2</td>\n",
       "      <td>0.0</td>\n",
       "      <td>106.140</td>\n",
       "      <td>35.46</td>\n",
       "      <td>Medium</td>\n",
       "    </tr>\n",
       "    <tr>\n",
       "      <th>1</th>\n",
       "      <td>22253</td>\n",
       "      <td>IN-2011-47883</td>\n",
       "      <td>2011-01-01</td>\n",
       "      <td>2011-08-01</td>\n",
       "      <td>Standard Class</td>\n",
       "      <td>JH-15985</td>\n",
       "      <td>Joseph Holt</td>\n",
       "      <td>Consumer</td>\n",
       "      <td>Wagga Wagga</td>\n",
       "      <td>New South Wales</td>\n",
       "      <td>Australia</td>\n",
       "      <td>NaN</td>\n",
       "      <td>APAC</td>\n",
       "      <td>Oceania</td>\n",
       "      <td>OFF-SU-10000618</td>\n",
       "      <td>Office Supplies</td>\n",
       "      <td>Supplies</td>\n",
       "      <td>Acme Trimmer, High Speed</td>\n",
       "      <td>120.366</td>\n",
       "      <td>3</td>\n",
       "      <td>0.1</td>\n",
       "      <td>36.036</td>\n",
       "      <td>9.72</td>\n",
       "      <td>Medium</td>\n",
       "    </tr>\n",
       "    <tr>\n",
       "      <th>2</th>\n",
       "      <td>48883</td>\n",
       "      <td>HU-2011-1220</td>\n",
       "      <td>2011-01-01</td>\n",
       "      <td>2011-05-01</td>\n",
       "      <td>Second Class</td>\n",
       "      <td>AT-735</td>\n",
       "      <td>Annie Thurman</td>\n",
       "      <td>Consumer</td>\n",
       "      <td>Budapest</td>\n",
       "      <td>Budapest</td>\n",
       "      <td>Hungary</td>\n",
       "      <td>NaN</td>\n",
       "      <td>EMEA</td>\n",
       "      <td>EMEA</td>\n",
       "      <td>OFF-TEN-10001585</td>\n",
       "      <td>Office Supplies</td>\n",
       "      <td>Storage</td>\n",
       "      <td>Tenex Box, Single Width</td>\n",
       "      <td>66.120</td>\n",
       "      <td>4</td>\n",
       "      <td>0.0</td>\n",
       "      <td>29.640</td>\n",
       "      <td>8.17</td>\n",
       "      <td>High</td>\n",
       "    </tr>\n",
       "  </tbody>\n",
       "</table>\n",
       "</div>"
      ],
      "text/plain": [
       "   Row ID       Order ID Order Date  Ship Date       Ship Mode Customer ID  \\\n",
       "0   42433   AG-2011-2040 2011-01-01 2011-06-01  Standard Class    TB-11280   \n",
       "1   22253  IN-2011-47883 2011-01-01 2011-08-01  Standard Class    JH-15985   \n",
       "2   48883   HU-2011-1220 2011-01-01 2011-05-01    Second Class      AT-735   \n",
       "\n",
       "     Customer Name   Segment         City            State    Country  \\\n",
       "0  Toby Braunhardt  Consumer  Constantine      Constantine    Algeria   \n",
       "1      Joseph Holt  Consumer  Wagga Wagga  New South Wales  Australia   \n",
       "2    Annie Thurman  Consumer     Budapest         Budapest    Hungary   \n",
       "\n",
       "   Postal Code  Market   Region        Product ID         Category  \\\n",
       "0          NaN  Africa   Africa  OFF-TEN-10000025  Office Supplies   \n",
       "1          NaN    APAC  Oceania   OFF-SU-10000618  Office Supplies   \n",
       "2          NaN    EMEA     EMEA  OFF-TEN-10001585  Office Supplies   \n",
       "\n",
       "  Sub-Category              Product Name    Sales  Quantity  Discount  \\\n",
       "0      Storage       Tenex Lockers, Blue  408.300         2       0.0   \n",
       "1     Supplies  Acme Trimmer, High Speed  120.366         3       0.1   \n",
       "2      Storage   Tenex Box, Single Width   66.120         4       0.0   \n",
       "\n",
       "    Profit  Shipping Cost Order Priority  \n",
       "0  106.140          35.46         Medium  \n",
       "1   36.036           9.72         Medium  \n",
       "2   29.640           8.17           High  "
      ]
     },
     "execution_count": 81,
     "metadata": {},
     "output_type": "execute_result"
    }
   ],
   "source": [
    "df.head(3)"
   ]
  },
  {
   "cell_type": "code",
   "execution_count": 82,
   "metadata": {},
   "outputs": [
    {
     "data": {
      "text/html": [
       "<div>\n",
       "<style scoped>\n",
       "    .dataframe tbody tr th:only-of-type {\n",
       "        vertical-align: middle;\n",
       "    }\n",
       "\n",
       "    .dataframe tbody tr th {\n",
       "        vertical-align: top;\n",
       "    }\n",
       "\n",
       "    .dataframe thead th {\n",
       "        text-align: right;\n",
       "    }\n",
       "</style>\n",
       "<table border=\"1\" class=\"dataframe\">\n",
       "  <thead>\n",
       "    <tr style=\"text-align: right;\">\n",
       "      <th></th>\n",
       "      <th>Row ID</th>\n",
       "      <th>Order ID</th>\n",
       "      <th>Order Date</th>\n",
       "      <th>Ship Date</th>\n",
       "      <th>Ship Mode</th>\n",
       "      <th>Customer ID</th>\n",
       "      <th>Customer Name</th>\n",
       "      <th>Segment</th>\n",
       "      <th>City</th>\n",
       "      <th>State</th>\n",
       "      <th>Country</th>\n",
       "      <th>Postal Code</th>\n",
       "      <th>Market</th>\n",
       "      <th>Region</th>\n",
       "      <th>Product ID</th>\n",
       "      <th>Category</th>\n",
       "      <th>Sub-Category</th>\n",
       "      <th>Product Name</th>\n",
       "      <th>Sales</th>\n",
       "      <th>Quantity</th>\n",
       "      <th>Discount</th>\n",
       "      <th>Profit</th>\n",
       "      <th>Shipping Cost</th>\n",
       "      <th>Order Priority</th>\n",
       "    </tr>\n",
       "  </thead>\n",
       "  <tbody>\n",
       "    <tr>\n",
       "      <th>51287</th>\n",
       "      <td>8857</td>\n",
       "      <td>MX-2014-110527</td>\n",
       "      <td>2014-12-31</td>\n",
       "      <td>2015-02-01</td>\n",
       "      <td>Second Class</td>\n",
       "      <td>CM-12190</td>\n",
       "      <td>Charlotte Melton</td>\n",
       "      <td>Consumer</td>\n",
       "      <td>Managua</td>\n",
       "      <td>Managua</td>\n",
       "      <td>Nicaragua</td>\n",
       "      <td>NaN</td>\n",
       "      <td>LATAM</td>\n",
       "      <td>Central</td>\n",
       "      <td>OFF-LA-10004182</td>\n",
       "      <td>Office Supplies</td>\n",
       "      <td>Labels</td>\n",
       "      <td>Hon Color Coded Labels, 5000 Label Set</td>\n",
       "      <td>26.400</td>\n",
       "      <td>3</td>\n",
       "      <td>0.0</td>\n",
       "      <td>12.3600</td>\n",
       "      <td>0.35</td>\n",
       "      <td>Medium</td>\n",
       "    </tr>\n",
       "    <tr>\n",
       "      <th>51288</th>\n",
       "      <td>6852</td>\n",
       "      <td>MX-2014-114783</td>\n",
       "      <td>2014-12-31</td>\n",
       "      <td>2015-06-01</td>\n",
       "      <td>Standard Class</td>\n",
       "      <td>TD-20995</td>\n",
       "      <td>Tamara Dahlen</td>\n",
       "      <td>Consumer</td>\n",
       "      <td>Juárez</td>\n",
       "      <td>Chihuahua</td>\n",
       "      <td>Mexico</td>\n",
       "      <td>NaN</td>\n",
       "      <td>LATAM</td>\n",
       "      <td>North</td>\n",
       "      <td>OFF-LA-10000413</td>\n",
       "      <td>Office Supplies</td>\n",
       "      <td>Labels</td>\n",
       "      <td>Hon Legal Exhibit Labels, Alphabetical</td>\n",
       "      <td>7.120</td>\n",
       "      <td>1</td>\n",
       "      <td>0.0</td>\n",
       "      <td>0.5600</td>\n",
       "      <td>0.20</td>\n",
       "      <td>Medium</td>\n",
       "    </tr>\n",
       "    <tr>\n",
       "      <th>51289</th>\n",
       "      <td>36388</td>\n",
       "      <td>CA-2014-156720</td>\n",
       "      <td>2014-12-31</td>\n",
       "      <td>2015-04-01</td>\n",
       "      <td>Standard Class</td>\n",
       "      <td>JM-15580</td>\n",
       "      <td>Jill Matthias</td>\n",
       "      <td>Consumer</td>\n",
       "      <td>Loveland</td>\n",
       "      <td>Colorado</td>\n",
       "      <td>United States</td>\n",
       "      <td>80538.0</td>\n",
       "      <td>US</td>\n",
       "      <td>West</td>\n",
       "      <td>OFF-FA-10003472</td>\n",
       "      <td>Office Supplies</td>\n",
       "      <td>Fasteners</td>\n",
       "      <td>Bagged Rubber Bands</td>\n",
       "      <td>3.024</td>\n",
       "      <td>3</td>\n",
       "      <td>0.2</td>\n",
       "      <td>-0.6048</td>\n",
       "      <td>0.17</td>\n",
       "      <td>Medium</td>\n",
       "    </tr>\n",
       "  </tbody>\n",
       "</table>\n",
       "</div>"
      ],
      "text/plain": [
       "       Row ID        Order ID Order Date  Ship Date       Ship Mode  \\\n",
       "51287    8857  MX-2014-110527 2014-12-31 2015-02-01    Second Class   \n",
       "51288    6852  MX-2014-114783 2014-12-31 2015-06-01  Standard Class   \n",
       "51289   36388  CA-2014-156720 2014-12-31 2015-04-01  Standard Class   \n",
       "\n",
       "      Customer ID     Customer Name   Segment      City      State  \\\n",
       "51287    CM-12190  Charlotte Melton  Consumer   Managua    Managua   \n",
       "51288    TD-20995     Tamara Dahlen  Consumer    Juárez  Chihuahua   \n",
       "51289    JM-15580     Jill Matthias  Consumer  Loveland   Colorado   \n",
       "\n",
       "             Country  Postal Code Market   Region       Product ID  \\\n",
       "51287      Nicaragua          NaN  LATAM  Central  OFF-LA-10004182   \n",
       "51288         Mexico          NaN  LATAM    North  OFF-LA-10000413   \n",
       "51289  United States      80538.0     US     West  OFF-FA-10003472   \n",
       "\n",
       "              Category Sub-Category                            Product Name  \\\n",
       "51287  Office Supplies       Labels  Hon Color Coded Labels, 5000 Label Set   \n",
       "51288  Office Supplies       Labels  Hon Legal Exhibit Labels, Alphabetical   \n",
       "51289  Office Supplies    Fasteners                     Bagged Rubber Bands   \n",
       "\n",
       "        Sales  Quantity  Discount   Profit  Shipping Cost Order Priority  \n",
       "51287  26.400         3       0.0  12.3600           0.35         Medium  \n",
       "51288   7.120         1       0.0   0.5600           0.20         Medium  \n",
       "51289   3.024         3       0.2  -0.6048           0.17         Medium  "
      ]
     },
     "execution_count": 82,
     "metadata": {},
     "output_type": "execute_result"
    }
   ],
   "source": [
    "df.tail(3)"
   ]
  },
  {
   "cell_type": "code",
   "execution_count": 4,
   "metadata": {},
   "outputs": [
    {
     "data": {
      "text/plain": [
       "(51290, 24)"
      ]
     },
     "execution_count": 4,
     "metadata": {},
     "output_type": "execute_result"
    }
   ],
   "source": [
    "df.shape"
   ]
  },
  {
   "cell_type": "code",
   "execution_count": 5,
   "metadata": {},
   "outputs": [
    {
     "name": "stdout",
     "output_type": "stream",
     "text": [
      "<class 'pandas.core.frame.DataFrame'>\n",
      "RangeIndex: 51290 entries, 0 to 51289\n",
      "Data columns (total 24 columns):\n",
      " #   Column          Non-Null Count  Dtype         \n",
      "---  ------          --------------  -----         \n",
      " 0   Row ID          51290 non-null  int64         \n",
      " 1   Order ID        51290 non-null  object        \n",
      " 2   Order Date      51290 non-null  datetime64[ns]\n",
      " 3   Ship Date       51290 non-null  datetime64[ns]\n",
      " 4   Ship Mode       51290 non-null  object        \n",
      " 5   Customer ID     51290 non-null  object        \n",
      " 6   Customer Name   51290 non-null  object        \n",
      " 7   Segment         51290 non-null  object        \n",
      " 8   City            51290 non-null  object        \n",
      " 9   State           51290 non-null  object        \n",
      " 10  Country         51290 non-null  object        \n",
      " 11  Postal Code     9994 non-null   float64       \n",
      " 12  Market          51290 non-null  object        \n",
      " 13  Region          51290 non-null  object        \n",
      " 14  Product ID      51290 non-null  object        \n",
      " 15  Category        51290 non-null  object        \n",
      " 16  Sub-Category    51290 non-null  object        \n",
      " 17  Product Name    51290 non-null  object        \n",
      " 18  Sales           51290 non-null  float64       \n",
      " 19  Quantity        51290 non-null  int64         \n",
      " 20  Discount        51290 non-null  float64       \n",
      " 21  Profit          51290 non-null  float64       \n",
      " 22  Shipping Cost   51290 non-null  float64       \n",
      " 23  Order Priority  51290 non-null  object        \n",
      "dtypes: datetime64[ns](2), float64(5), int64(2), object(15)\n",
      "memory usage: 9.4+ MB\n"
     ]
    }
   ],
   "source": [
    "df.info()"
   ]
  },
  {
   "cell_type": "code",
   "execution_count": 83,
   "metadata": {},
   "outputs": [
    {
     "data": {
      "text/plain": [
       "Postal Code       41296\n",
       "Row ID                0\n",
       "Region                0\n",
       "Shipping Cost         0\n",
       "Profit                0\n",
       "Discount              0\n",
       "Quantity              0\n",
       "Sales                 0\n",
       "Product Name          0\n",
       "Sub-Category          0\n",
       "Category              0\n",
       "Product ID            0\n",
       "Market                0\n",
       "Order ID              0\n",
       "Country               0\n",
       "State                 0\n",
       "City                  0\n",
       "Segment               0\n",
       "Customer Name         0\n",
       "Customer ID           0\n",
       "Ship Mode             0\n",
       "Ship Date             0\n",
       "Order Date            0\n",
       "Order Priority        0\n",
       "dtype: int64"
      ]
     },
     "execution_count": 83,
     "metadata": {},
     "output_type": "execute_result"
    }
   ],
   "source": [
    "# Checking for null/missing values\n",
    "df.isnull().sum().sort_values(ascending=False)"
   ]
  },
  {
   "cell_type": "code",
   "execution_count": 7,
   "metadata": {},
   "outputs": [
    {
     "name": "stdout",
     "output_type": "stream",
     "text": [
      "Row ID: 51290\n",
      "Order ID: 25035\n",
      "Order Date: 1430\n",
      "Ship Date: 1464\n",
      "Ship Mode: 4\n",
      "Customer ID: 1590\n",
      "Customer Name: 795\n",
      "Segment: 3\n",
      "City: 3636\n",
      "State: 1094\n",
      "Country: 147\n",
      "Postal Code: 632\n",
      "Market: 7\n",
      "Region: 13\n",
      "Product ID: 10292\n",
      "Category: 3\n",
      "Sub-Category: 17\n",
      "Product Name: 3788\n",
      "Sales: 22995\n",
      "Quantity: 14\n",
      "Discount: 27\n",
      "Profit: 24575\n",
      "Shipping Cost: 10037\n",
      "Order Priority: 4\n"
     ]
    }
   ],
   "source": [
    "# Unique Values\n",
    "obj_col = df.columns\n",
    "for col in obj_col:\n",
    "    print(\"{}: {}\".format(col,len(df[col].unique())))"
   ]
  },
  {
   "cell_type": "markdown",
   "metadata": {},
   "source": [
    "From the above results, the `Row ID` is constant so we can remove the column. We will drop the `Postal Code`."
   ]
  },
  {
   "cell_type": "code",
   "execution_count": 8,
   "metadata": {},
   "outputs": [
    {
     "data": {
      "text/plain": [
       "(51290, 22)"
      ]
     },
     "execution_count": 8,
     "metadata": {},
     "output_type": "execute_result"
    }
   ],
   "source": [
    "data = df.drop(columns=['Row ID', 'Postal Code']) #Dropping the Row ID column\n",
    "data.shape"
   ]
  },
  {
   "cell_type": "code",
   "execution_count": 9,
   "metadata": {},
   "outputs": [],
   "source": [
    "# sorting data by order date\n",
    "data.sort_values(by=['Order Date'], inplace=True, ascending=True)"
   ]
  },
  {
   "cell_type": "code",
   "execution_count": 10,
   "metadata": {},
   "outputs": [
    {
     "data": {
      "text/html": [
       "<div>\n",
       "<style scoped>\n",
       "    .dataframe tbody tr th:only-of-type {\n",
       "        vertical-align: middle;\n",
       "    }\n",
       "\n",
       "    .dataframe tbody tr th {\n",
       "        vertical-align: top;\n",
       "    }\n",
       "\n",
       "    .dataframe thead th {\n",
       "        text-align: right;\n",
       "    }\n",
       "</style>\n",
       "<table border=\"1\" class=\"dataframe\">\n",
       "  <thead>\n",
       "    <tr style=\"text-align: right;\">\n",
       "      <th></th>\n",
       "      <th>Order ID</th>\n",
       "      <th>Order Date</th>\n",
       "      <th>Ship Date</th>\n",
       "      <th>Ship Mode</th>\n",
       "      <th>Customer ID</th>\n",
       "      <th>Customer Name</th>\n",
       "      <th>Segment</th>\n",
       "      <th>City</th>\n",
       "      <th>State</th>\n",
       "      <th>Country</th>\n",
       "      <th>Market</th>\n",
       "      <th>Region</th>\n",
       "      <th>Product ID</th>\n",
       "      <th>Category</th>\n",
       "      <th>Sub-Category</th>\n",
       "      <th>Product Name</th>\n",
       "      <th>Sales</th>\n",
       "      <th>Quantity</th>\n",
       "      <th>Discount</th>\n",
       "      <th>Profit</th>\n",
       "      <th>Shipping Cost</th>\n",
       "      <th>Order Priority</th>\n",
       "    </tr>\n",
       "  </thead>\n",
       "  <tbody>\n",
       "    <tr>\n",
       "      <th>0</th>\n",
       "      <td>AG-2011-2040</td>\n",
       "      <td>2011-01-01</td>\n",
       "      <td>2011-06-01</td>\n",
       "      <td>Standard Class</td>\n",
       "      <td>TB-11280</td>\n",
       "      <td>Toby Braunhardt</td>\n",
       "      <td>Consumer</td>\n",
       "      <td>Constantine</td>\n",
       "      <td>Constantine</td>\n",
       "      <td>Algeria</td>\n",
       "      <td>Africa</td>\n",
       "      <td>Africa</td>\n",
       "      <td>OFF-TEN-10000025</td>\n",
       "      <td>Office Supplies</td>\n",
       "      <td>Storage</td>\n",
       "      <td>Tenex Lockers, Blue</td>\n",
       "      <td>408.3</td>\n",
       "      <td>2</td>\n",
       "      <td>0.0</td>\n",
       "      <td>106.14</td>\n",
       "      <td>35.46</td>\n",
       "      <td>Medium</td>\n",
       "    </tr>\n",
       "  </tbody>\n",
       "</table>\n",
       "</div>"
      ],
      "text/plain": [
       "       Order ID Order Date  Ship Date       Ship Mode Customer ID  \\\n",
       "0  AG-2011-2040 2011-01-01 2011-06-01  Standard Class    TB-11280   \n",
       "\n",
       "     Customer Name   Segment         City        State  Country  Market  \\\n",
       "0  Toby Braunhardt  Consumer  Constantine  Constantine  Algeria  Africa   \n",
       "\n",
       "   Region        Product ID         Category Sub-Category  \\\n",
       "0  Africa  OFF-TEN-10000025  Office Supplies      Storage   \n",
       "\n",
       "          Product Name  Sales  Quantity  Discount  Profit  Shipping Cost  \\\n",
       "0  Tenex Lockers, Blue  408.3         2       0.0  106.14          35.46   \n",
       "\n",
       "  Order Priority  \n",
       "0         Medium  "
      ]
     },
     "execution_count": 10,
     "metadata": {},
     "output_type": "execute_result"
    }
   ],
   "source": [
    "data.head(1)"
   ]
  },
  {
   "cell_type": "code",
   "execution_count": 11,
   "metadata": {},
   "outputs": [
    {
     "data": {
      "text/plain": [
       "Order ID          0\n",
       "Order Date        0\n",
       "Ship Date         0\n",
       "Ship Mode         0\n",
       "Customer ID       0\n",
       "Customer Name     0\n",
       "Segment           0\n",
       "City              0\n",
       "State             0\n",
       "Country           0\n",
       "Market            0\n",
       "Region            0\n",
       "Product ID        0\n",
       "Category          0\n",
       "Sub-Category      0\n",
       "Product Name      0\n",
       "Sales             0\n",
       "Quantity          0\n",
       "Discount          0\n",
       "Profit            0\n",
       "Shipping Cost     0\n",
       "Order Priority    0\n",
       "dtype: int64"
      ]
     },
     "execution_count": 11,
     "metadata": {},
     "output_type": "execute_result"
    }
   ],
   "source": [
    "data.isna().sum()"
   ]
  },
  {
   "cell_type": "code",
   "execution_count": 12,
   "metadata": {},
   "outputs": [
    {
     "data": {
      "text/plain": [
       "Standard Class    30775\n",
       "Second Class      10309\n",
       "First Class        7505\n",
       "Same Day           2701\n",
       "Name: Ship Mode, dtype: int64"
      ]
     },
     "execution_count": 12,
     "metadata": {},
     "output_type": "execute_result"
    }
   ],
   "source": [
    "data['Ship Mode'].value_counts()"
   ]
  },
  {
   "cell_type": "code",
   "execution_count": 13,
   "metadata": {},
   "outputs": [
    {
     "data": {
      "text/plain": [
       "Consumer       26518\n",
       "Corporate      15429\n",
       "Home Office     9343\n",
       "Name: Segment, dtype: int64"
      ]
     },
     "execution_count": 13,
     "metadata": {},
     "output_type": "execute_result"
    }
   ],
   "source": [
    "data['Segment'].value_counts()"
   ]
  },
  {
   "cell_type": "code",
   "execution_count": 14,
   "metadata": {},
   "outputs": [
    {
     "data": {
      "text/plain": [
       "New York City      915\n",
       "Los Angeles        747\n",
       "Philadelphia       537\n",
       "San Francisco      510\n",
       "Santo Domingo      443\n",
       "                  ... \n",
       "Loudi                1\n",
       "Civitavecchia        1\n",
       "Piura                1\n",
       "Franco da Rocha      1\n",
       "Kiziltepe            1\n",
       "Name: City, Length: 3636, dtype: int64"
      ]
     },
     "execution_count": 14,
     "metadata": {},
     "output_type": "execute_result"
    }
   ],
   "source": [
    "data['City'].value_counts()"
   ]
  },
  {
   "cell_type": "code",
   "execution_count": 15,
   "metadata": {},
   "outputs": [
    {
     "data": {
      "text/plain": [
       "United States    9994\n",
       "Australia        2837\n",
       "France           2827\n",
       "Mexico           2644\n",
       "Germany          2065\n",
       "                 ... \n",
       "Chad                2\n",
       "South Sudan         2\n",
       "Eritrea             2\n",
       "Burundi             2\n",
       "Swaziland           2\n",
       "Name: Country, Length: 147, dtype: int64"
      ]
     },
     "execution_count": 15,
     "metadata": {},
     "output_type": "execute_result"
    }
   ],
   "source": [
    "data['Country'].value_counts()"
   ]
  },
  {
   "cell_type": "code",
   "execution_count": 16,
   "metadata": {},
   "outputs": [
    {
     "data": {
      "text/plain": [
       "APAC      11002\n",
       "LATAM     10294\n",
       "EU        10000\n",
       "US         9994\n",
       "EMEA       5029\n",
       "Africa     4587\n",
       "Canada      384\n",
       "Name: Market, dtype: int64"
      ]
     },
     "execution_count": 16,
     "metadata": {},
     "output_type": "execute_result"
    }
   ],
   "source": [
    "data['Market'].value_counts()"
   ]
  },
  {
   "cell_type": "code",
   "execution_count": 17,
   "metadata": {},
   "outputs": [
    {
     "data": {
      "text/plain": [
       "Central           11117\n",
       "South              6645\n",
       "EMEA               5029\n",
       "North              4785\n",
       "Africa             4587\n",
       "Oceania            3487\n",
       "West               3203\n",
       "Southeast Asia     3129\n",
       "East               2848\n",
       "North Asia         2338\n",
       "Central Asia       2048\n",
       "Caribbean          1690\n",
       "Canada              384\n",
       "Name: Region, dtype: int64"
      ]
     },
     "execution_count": 17,
     "metadata": {},
     "output_type": "execute_result"
    }
   ],
   "source": [
    "data['Region'].value_counts()"
   ]
  },
  {
   "cell_type": "code",
   "execution_count": 18,
   "metadata": {},
   "outputs": [
    {
     "data": {
      "text/plain": [
       "Office Supplies    31273\n",
       "Technology         10141\n",
       "Furniture           9876\n",
       "Name: Category, dtype: int64"
      ]
     },
     "execution_count": 18,
     "metadata": {},
     "output_type": "execute_result"
    }
   ],
   "source": [
    "data['Category'].value_counts()"
   ]
  },
  {
   "cell_type": "code",
   "execution_count": 19,
   "metadata": {},
   "outputs": [
    {
     "data": {
      "text/plain": [
       "Binders        6152\n",
       "Storage        5059\n",
       "Art            4883\n",
       "Paper          3538\n",
       "Chairs         3434\n",
       "Phones         3357\n",
       "Furnishings    3170\n",
       "Accessories    3075\n",
       "Labels         2606\n",
       "Envelopes      2435\n",
       "Supplies       2425\n",
       "Fasteners      2420\n",
       "Bookcases      2411\n",
       "Copiers        2223\n",
       "Appliances     1755\n",
       "Machines       1486\n",
       "Tables          861\n",
       "Name: Sub-Category, dtype: int64"
      ]
     },
     "execution_count": 19,
     "metadata": {},
     "output_type": "execute_result"
    }
   ],
   "source": [
    "data['Sub-Category'].value_counts()"
   ]
  },
  {
   "cell_type": "code",
   "execution_count": 20,
   "metadata": {},
   "outputs": [
    {
     "data": {
      "text/plain": [
       "Medium      29433\n",
       "High        15501\n",
       "Critical     3932\n",
       "Low          2424\n",
       "Name: Order Priority, dtype: int64"
      ]
     },
     "execution_count": 20,
     "metadata": {},
     "output_type": "execute_result"
    }
   ],
   "source": [
    "data['Order Priority'].value_counts()"
   ]
  },
  {
   "cell_type": "code",
   "execution_count": 21,
   "metadata": {},
   "outputs": [
    {
     "data": {
      "text/html": [
       "<div>\n",
       "<style scoped>\n",
       "    .dataframe tbody tr th:only-of-type {\n",
       "        vertical-align: middle;\n",
       "    }\n",
       "\n",
       "    .dataframe tbody tr th {\n",
       "        vertical-align: top;\n",
       "    }\n",
       "\n",
       "    .dataframe thead th {\n",
       "        text-align: right;\n",
       "    }\n",
       "</style>\n",
       "<table border=\"1\" class=\"dataframe\">\n",
       "  <thead>\n",
       "    <tr style=\"text-align: right;\">\n",
       "      <th></th>\n",
       "      <th>Order ID</th>\n",
       "      <th>Order Date</th>\n",
       "      <th>Ship Date</th>\n",
       "      <th>Ship Mode</th>\n",
       "      <th>Customer ID</th>\n",
       "      <th>Customer Name</th>\n",
       "      <th>Segment</th>\n",
       "      <th>City</th>\n",
       "      <th>State</th>\n",
       "      <th>Country</th>\n",
       "      <th>Market</th>\n",
       "      <th>Region</th>\n",
       "      <th>Product ID</th>\n",
       "      <th>Category</th>\n",
       "      <th>Sub-Category</th>\n",
       "      <th>Product Name</th>\n",
       "      <th>Sales</th>\n",
       "      <th>Quantity</th>\n",
       "      <th>Discount</th>\n",
       "      <th>Profit</th>\n",
       "      <th>Shipping Cost</th>\n",
       "      <th>Order Priority</th>\n",
       "      <th>Unit Price</th>\n",
       "      <th>Month</th>\n",
       "      <th>Year</th>\n",
       "      <th>Order Interval</th>\n",
       "    </tr>\n",
       "  </thead>\n",
       "  <tbody>\n",
       "    <tr>\n",
       "      <th>0</th>\n",
       "      <td>AG-2011-2040</td>\n",
       "      <td>2011-01-01</td>\n",
       "      <td>2011-06-01</td>\n",
       "      <td>Standard Class</td>\n",
       "      <td>TB-11280</td>\n",
       "      <td>Toby Braunhardt</td>\n",
       "      <td>Consumer</td>\n",
       "      <td>Constantine</td>\n",
       "      <td>Constantine</td>\n",
       "      <td>Algeria</td>\n",
       "      <td>Africa</td>\n",
       "      <td>Africa</td>\n",
       "      <td>OFF-TEN-10000025</td>\n",
       "      <td>Office Supplies</td>\n",
       "      <td>Storage</td>\n",
       "      <td>Tenex Lockers, Blue</td>\n",
       "      <td>408.300</td>\n",
       "      <td>2</td>\n",
       "      <td>0.0</td>\n",
       "      <td>106.140</td>\n",
       "      <td>35.46</td>\n",
       "      <td>Medium</td>\n",
       "      <td>204.150</td>\n",
       "      <td>Jan</td>\n",
       "      <td>2011</td>\n",
       "      <td>151.0</td>\n",
       "    </tr>\n",
       "    <tr>\n",
       "      <th>1</th>\n",
       "      <td>IN-2011-47883</td>\n",
       "      <td>2011-01-01</td>\n",
       "      <td>2011-08-01</td>\n",
       "      <td>Standard Class</td>\n",
       "      <td>JH-15985</td>\n",
       "      <td>Joseph Holt</td>\n",
       "      <td>Consumer</td>\n",
       "      <td>Wagga Wagga</td>\n",
       "      <td>New South Wales</td>\n",
       "      <td>Australia</td>\n",
       "      <td>APAC</td>\n",
       "      <td>Oceania</td>\n",
       "      <td>OFF-SU-10000618</td>\n",
       "      <td>Office Supplies</td>\n",
       "      <td>Supplies</td>\n",
       "      <td>Acme Trimmer, High Speed</td>\n",
       "      <td>120.366</td>\n",
       "      <td>3</td>\n",
       "      <td>0.1</td>\n",
       "      <td>36.036</td>\n",
       "      <td>9.72</td>\n",
       "      <td>Medium</td>\n",
       "      <td>40.122</td>\n",
       "      <td>Jan</td>\n",
       "      <td>2011</td>\n",
       "      <td>212.0</td>\n",
       "    </tr>\n",
       "  </tbody>\n",
       "</table>\n",
       "</div>"
      ],
      "text/plain": [
       "        Order ID Order Date  Ship Date       Ship Mode Customer ID  \\\n",
       "0   AG-2011-2040 2011-01-01 2011-06-01  Standard Class    TB-11280   \n",
       "1  IN-2011-47883 2011-01-01 2011-08-01  Standard Class    JH-15985   \n",
       "\n",
       "     Customer Name   Segment         City            State    Country  Market  \\\n",
       "0  Toby Braunhardt  Consumer  Constantine      Constantine    Algeria  Africa   \n",
       "1      Joseph Holt  Consumer  Wagga Wagga  New South Wales  Australia    APAC   \n",
       "\n",
       "    Region        Product ID         Category Sub-Category  \\\n",
       "0   Africa  OFF-TEN-10000025  Office Supplies      Storage   \n",
       "1  Oceania   OFF-SU-10000618  Office Supplies     Supplies   \n",
       "\n",
       "               Product Name    Sales  Quantity  Discount   Profit  \\\n",
       "0       Tenex Lockers, Blue  408.300         2       0.0  106.140   \n",
       "1  Acme Trimmer, High Speed  120.366         3       0.1   36.036   \n",
       "\n",
       "   Shipping Cost Order Priority  Unit Price Month  Year  Order Interval  \n",
       "0          35.46         Medium     204.150   Jan  2011           151.0  \n",
       "1           9.72         Medium      40.122   Jan  2011           212.0  "
      ]
     },
     "execution_count": 21,
     "metadata": {},
     "output_type": "execute_result"
    }
   ],
   "source": [
    "# Creating a new column for Unit Price, Year, Month, Interval\n",
    "data['Unit Price'] = data['Sales']/data['Quantity']\n",
    "data['Month'] = pd.DatetimeIndex(data['Order Date']).month_name().str[:3]\n",
    "data['Year'] = pd.DatetimeIndex(data['Order Date']).year\n",
    "data['Order Interval'] = (data['Ship Date'] - data['Order Date'])/np.timedelta64(1, 'D')\n",
    "\n",
    "data.head(2)"
   ]
  },
  {
   "cell_type": "markdown",
   "metadata": {},
   "source": [
    "### Checking for Outliers"
   ]
  },
  {
   "cell_type": "code",
   "execution_count": 22,
   "metadata": {},
   "outputs": [
    {
     "data": {
      "text/html": [
       "<div>\n",
       "<style scoped>\n",
       "    .dataframe tbody tr th:only-of-type {\n",
       "        vertical-align: middle;\n",
       "    }\n",
       "\n",
       "    .dataframe tbody tr th {\n",
       "        vertical-align: top;\n",
       "    }\n",
       "\n",
       "    .dataframe thead th {\n",
       "        text-align: right;\n",
       "    }\n",
       "</style>\n",
       "<table border=\"1\" class=\"dataframe\">\n",
       "  <thead>\n",
       "    <tr style=\"text-align: right;\">\n",
       "      <th></th>\n",
       "      <th>Sales</th>\n",
       "      <th>Quantity</th>\n",
       "      <th>Discount</th>\n",
       "      <th>Profit</th>\n",
       "      <th>Shipping Cost</th>\n",
       "      <th>Unit Price</th>\n",
       "      <th>Year</th>\n",
       "      <th>Order Interval</th>\n",
       "    </tr>\n",
       "  </thead>\n",
       "  <tbody>\n",
       "    <tr>\n",
       "      <th>count</th>\n",
       "      <td>51290.000000</td>\n",
       "      <td>51290.000000</td>\n",
       "      <td>51290.000000</td>\n",
       "      <td>51290.000000</td>\n",
       "      <td>51290.000000</td>\n",
       "      <td>51290.000000</td>\n",
       "      <td>51290.000000</td>\n",
       "      <td>51290.000000</td>\n",
       "    </tr>\n",
       "    <tr>\n",
       "      <th>mean</th>\n",
       "      <td>246.490581</td>\n",
       "      <td>3.476545</td>\n",
       "      <td>0.142908</td>\n",
       "      <td>28.610982</td>\n",
       "      <td>26.375915</td>\n",
       "      <td>71.657487</td>\n",
       "      <td>2012.777208</td>\n",
       "      <td>5.079041</td>\n",
       "    </tr>\n",
       "    <tr>\n",
       "      <th>std</th>\n",
       "      <td>487.565361</td>\n",
       "      <td>2.278766</td>\n",
       "      <td>0.212280</td>\n",
       "      <td>174.340972</td>\n",
       "      <td>57.296804</td>\n",
       "      <td>113.581515</td>\n",
       "      <td>1.098931</td>\n",
       "      <td>97.771493</td>\n",
       "    </tr>\n",
       "    <tr>\n",
       "      <th>min</th>\n",
       "      <td>0.444000</td>\n",
       "      <td>1.000000</td>\n",
       "      <td>0.000000</td>\n",
       "      <td>-6599.978000</td>\n",
       "      <td>0.000000</td>\n",
       "      <td>0.336000</td>\n",
       "      <td>2011.000000</td>\n",
       "      <td>-322.000000</td>\n",
       "    </tr>\n",
       "    <tr>\n",
       "      <th>25%</th>\n",
       "      <td>30.758625</td>\n",
       "      <td>2.000000</td>\n",
       "      <td>0.000000</td>\n",
       "      <td>0.000000</td>\n",
       "      <td>2.610000</td>\n",
       "      <td>11.799900</td>\n",
       "      <td>2012.000000</td>\n",
       "      <td>1.000000</td>\n",
       "    </tr>\n",
       "    <tr>\n",
       "      <th>50%</th>\n",
       "      <td>85.053000</td>\n",
       "      <td>3.000000</td>\n",
       "      <td>0.000000</td>\n",
       "      <td>9.240000</td>\n",
       "      <td>7.790000</td>\n",
       "      <td>29.400000</td>\n",
       "      <td>2013.000000</td>\n",
       "      <td>4.000000</td>\n",
       "    </tr>\n",
       "    <tr>\n",
       "      <th>75%</th>\n",
       "      <td>251.053200</td>\n",
       "      <td>5.000000</td>\n",
       "      <td>0.200000</td>\n",
       "      <td>36.810000</td>\n",
       "      <td>24.450000</td>\n",
       "      <td>82.160000</td>\n",
       "      <td>2014.000000</td>\n",
       "      <td>59.000000</td>\n",
       "    </tr>\n",
       "    <tr>\n",
       "      <th>max</th>\n",
       "      <td>22638.480000</td>\n",
       "      <td>14.000000</td>\n",
       "      <td>0.850000</td>\n",
       "      <td>8399.976000</td>\n",
       "      <td>933.570000</td>\n",
       "      <td>3773.080000</td>\n",
       "      <td>2014.000000</td>\n",
       "      <td>214.000000</td>\n",
       "    </tr>\n",
       "  </tbody>\n",
       "</table>\n",
       "</div>"
      ],
      "text/plain": [
       "              Sales      Quantity      Discount        Profit  Shipping Cost  \\\n",
       "count  51290.000000  51290.000000  51290.000000  51290.000000   51290.000000   \n",
       "mean     246.490581      3.476545      0.142908     28.610982      26.375915   \n",
       "std      487.565361      2.278766      0.212280    174.340972      57.296804   \n",
       "min        0.444000      1.000000      0.000000  -6599.978000       0.000000   \n",
       "25%       30.758625      2.000000      0.000000      0.000000       2.610000   \n",
       "50%       85.053000      3.000000      0.000000      9.240000       7.790000   \n",
       "75%      251.053200      5.000000      0.200000     36.810000      24.450000   \n",
       "max    22638.480000     14.000000      0.850000   8399.976000     933.570000   \n",
       "\n",
       "         Unit Price          Year  Order Interval  \n",
       "count  51290.000000  51290.000000    51290.000000  \n",
       "mean      71.657487   2012.777208        5.079041  \n",
       "std      113.581515      1.098931       97.771493  \n",
       "min        0.336000   2011.000000     -322.000000  \n",
       "25%       11.799900   2012.000000        1.000000  \n",
       "50%       29.400000   2013.000000        4.000000  \n",
       "75%       82.160000   2014.000000       59.000000  \n",
       "max     3773.080000   2014.000000      214.000000  "
      ]
     },
     "execution_count": 22,
     "metadata": {},
     "output_type": "execute_result"
    }
   ],
   "source": [
    "# Statistical details of the dataset\n",
    "data.describe()"
   ]
  },
  {
   "cell_type": "code",
   "execution_count": 23,
   "metadata": {},
   "outputs": [
    {
     "data": {
      "image/png": "[encoded data removed]",
      "text/plain": [
       "<Figure size 2160x1728 with 8 Axes>"
      ]
     },
     "metadata": {
      "needs_background": "light"
     },
     "output_type": "display_data"
    }
   ],
   "source": [
    "def check_outliers(df):\n",
    "  num_col = data.select_dtypes(['float64', 'int64']).columns\n",
    "  nCols = len(num_col)//3+1\n",
    "\n",
    "  fig,ax = plt.subplots(nCols, 3, figsize = (30, 8*nCols))\n",
    "  for i, col in enumerate(num_col):\n",
    "        sns.boxplot(data=data, x=col, ax=ax[i//3][i%3])\n",
    "\n",
    "  for i in range(len(num_col), 3*nCols):\n",
    "        fig.delaxes(ax[i//3][i%3])\n",
    "\n",
    "  plt.show()\n",
    "    \n",
    "check_outliers(df)"
   ]
  },
  {
   "cell_type": "code",
   "execution_count": 24,
   "metadata": {},
   "outputs": [
    {
     "data": {
      "image/png": "[encoded data removed]",
      "text/plain": [
       "<Figure size 864x576 with 2 Axes>"
      ]
     },
     "metadata": {
      "needs_background": "light"
     },
     "output_type": "display_data"
    }
   ],
   "source": [
    "# Visualizing the correlation matrix\n",
    "corr_matrix = data.corr()\n",
    "fig, ax = plt.subplots(figsize=(12,8))\n",
    "ax = sns.heatmap(corr_matrix,\n",
    "                annot=True,\n",
    "                linewidths=0.5,\n",
    "                fmt=\".2f\",\n",
    "                cmap=\"YlGnBu\");\n",
    "bottom, top = ax.get_ylim()\n",
    "ax.set_ylim(bottom + 0.5, top - 0.5);"
   ]
  },
  {
   "cell_type": "markdown",
   "metadata": {},
   "source": [
    "## Exploratory Data Analysis (EDA)"
   ]
  },
  {
   "cell_type": "code",
   "execution_count": 25,
   "metadata": {},
   "outputs": [
    {
     "data": {
      "text/html": [
       "<div>\n",
       "<style scoped>\n",
       "    .dataframe tbody tr th:only-of-type {\n",
       "        vertical-align: middle;\n",
       "    }\n",
       "\n",
       "    .dataframe tbody tr th {\n",
       "        vertical-align: top;\n",
       "    }\n",
       "\n",
       "    .dataframe thead th {\n",
       "        text-align: right;\n",
       "    }\n",
       "</style>\n",
       "<table border=\"1\" class=\"dataframe\">\n",
       "  <thead>\n",
       "    <tr style=\"text-align: right;\">\n",
       "      <th></th>\n",
       "      <th>Order ID</th>\n",
       "      <th>Order Date</th>\n",
       "      <th>Ship Date</th>\n",
       "      <th>Ship Mode</th>\n",
       "      <th>Customer ID</th>\n",
       "      <th>Customer Name</th>\n",
       "      <th>Segment</th>\n",
       "      <th>City</th>\n",
       "      <th>State</th>\n",
       "      <th>Country</th>\n",
       "      <th>Market</th>\n",
       "      <th>Region</th>\n",
       "      <th>Product ID</th>\n",
       "      <th>Category</th>\n",
       "      <th>Sub-Category</th>\n",
       "      <th>Product Name</th>\n",
       "      <th>Sales</th>\n",
       "      <th>Quantity</th>\n",
       "      <th>Discount</th>\n",
       "      <th>Profit</th>\n",
       "      <th>Shipping Cost</th>\n",
       "      <th>Order Priority</th>\n",
       "      <th>Unit Price</th>\n",
       "      <th>Month</th>\n",
       "      <th>Year</th>\n",
       "      <th>Order Interval</th>\n",
       "    </tr>\n",
       "  </thead>\n",
       "  <tbody>\n",
       "    <tr>\n",
       "      <th>0</th>\n",
       "      <td>AG-2011-2040</td>\n",
       "      <td>2011-01-01</td>\n",
       "      <td>2011-06-01</td>\n",
       "      <td>Standard Class</td>\n",
       "      <td>TB-11280</td>\n",
       "      <td>Toby Braunhardt</td>\n",
       "      <td>Consumer</td>\n",
       "      <td>Constantine</td>\n",
       "      <td>Constantine</td>\n",
       "      <td>Algeria</td>\n",
       "      <td>Africa</td>\n",
       "      <td>Africa</td>\n",
       "      <td>OFF-TEN-10000025</td>\n",
       "      <td>Office Supplies</td>\n",
       "      <td>Storage</td>\n",
       "      <td>Tenex Lockers, Blue</td>\n",
       "      <td>408.300</td>\n",
       "      <td>2</td>\n",
       "      <td>0.0</td>\n",
       "      <td>106.140</td>\n",
       "      <td>35.46</td>\n",
       "      <td>Medium</td>\n",
       "      <td>204.150</td>\n",
       "      <td>Jan</td>\n",
       "      <td>2011</td>\n",
       "      <td>151.0</td>\n",
       "    </tr>\n",
       "    <tr>\n",
       "      <th>1</th>\n",
       "      <td>IN-2011-47883</td>\n",
       "      <td>2011-01-01</td>\n",
       "      <td>2011-08-01</td>\n",
       "      <td>Standard Class</td>\n",
       "      <td>JH-15985</td>\n",
       "      <td>Joseph Holt</td>\n",
       "      <td>Consumer</td>\n",
       "      <td>Wagga Wagga</td>\n",
       "      <td>New South Wales</td>\n",
       "      <td>Australia</td>\n",
       "      <td>APAC</td>\n",
       "      <td>Oceania</td>\n",
       "      <td>OFF-SU-10000618</td>\n",
       "      <td>Office Supplies</td>\n",
       "      <td>Supplies</td>\n",
       "      <td>Acme Trimmer, High Speed</td>\n",
       "      <td>120.366</td>\n",
       "      <td>3</td>\n",
       "      <td>0.1</td>\n",
       "      <td>36.036</td>\n",
       "      <td>9.72</td>\n",
       "      <td>Medium</td>\n",
       "      <td>40.122</td>\n",
       "      <td>Jan</td>\n",
       "      <td>2011</td>\n",
       "      <td>212.0</td>\n",
       "    </tr>\n",
       "  </tbody>\n",
       "</table>\n",
       "</div>"
      ],
      "text/plain": [
       "        Order ID Order Date  Ship Date       Ship Mode Customer ID  \\\n",
       "0   AG-2011-2040 2011-01-01 2011-06-01  Standard Class    TB-11280   \n",
       "1  IN-2011-47883 2011-01-01 2011-08-01  Standard Class    JH-15985   \n",
       "\n",
       "     Customer Name   Segment         City            State    Country  Market  \\\n",
       "0  Toby Braunhardt  Consumer  Constantine      Constantine    Algeria  Africa   \n",
       "1      Joseph Holt  Consumer  Wagga Wagga  New South Wales  Australia    APAC   \n",
       "\n",
       "    Region        Product ID         Category Sub-Category  \\\n",
       "0   Africa  OFF-TEN-10000025  Office Supplies      Storage   \n",
       "1  Oceania   OFF-SU-10000618  Office Supplies     Supplies   \n",
       "\n",
       "               Product Name    Sales  Quantity  Discount   Profit  \\\n",
       "0       Tenex Lockers, Blue  408.300         2       0.0  106.140   \n",
       "1  Acme Trimmer, High Speed  120.366         3       0.1   36.036   \n",
       "\n",
       "   Shipping Cost Order Priority  Unit Price Month  Year  Order Interval  \n",
       "0          35.46         Medium     204.150   Jan  2011           151.0  \n",
       "1           9.72         Medium      40.122   Jan  2011           212.0  "
      ]
     },
     "execution_count": 25,
     "metadata": {},
     "output_type": "execute_result"
    }
   ],
   "source": [
    "data.head(2)"
   ]
  },
  {
   "cell_type": "markdown",
   "metadata": {},
   "source": [
    "### 1. Sales and Profit Per Market"
   ]
  },
  {
   "cell_type": "code",
   "execution_count": 26,
   "metadata": {},
   "outputs": [
    {
     "data": {
      "text/html": [
       "<div>\n",
       "<style scoped>\n",
       "    .dataframe tbody tr th:only-of-type {\n",
       "        vertical-align: middle;\n",
       "    }\n",
       "\n",
       "    .dataframe tbody tr th {\n",
       "        vertical-align: top;\n",
       "    }\n",
       "\n",
       "    .dataframe thead th {\n",
       "        text-align: right;\n",
       "    }\n",
       "</style>\n",
       "<table border=\"1\" class=\"dataframe\">\n",
       "  <thead>\n",
       "    <tr style=\"text-align: right;\">\n",
       "      <th></th>\n",
       "      <th>Sales</th>\n",
       "      <th>Profit</th>\n",
       "    </tr>\n",
       "    <tr>\n",
       "      <th>Market</th>\n",
       "      <th></th>\n",
       "      <th></th>\n",
       "    </tr>\n",
       "  </thead>\n",
       "  <tbody>\n",
       "    <tr>\n",
       "      <th>APAC</th>\n",
       "      <td>3.585744e+06</td>\n",
       "      <td>436000.04900</td>\n",
       "    </tr>\n",
       "    <tr>\n",
       "      <th>Africa</th>\n",
       "      <td>7.837732e+05</td>\n",
       "      <td>88871.63100</td>\n",
       "    </tr>\n",
       "    <tr>\n",
       "      <th>Canada</th>\n",
       "      <td>6.692817e+04</td>\n",
       "      <td>17817.39000</td>\n",
       "    </tr>\n",
       "    <tr>\n",
       "      <th>EMEA</th>\n",
       "      <td>8.061613e+05</td>\n",
       "      <td>43897.97100</td>\n",
       "    </tr>\n",
       "    <tr>\n",
       "      <th>EU</th>\n",
       "      <td>2.938089e+06</td>\n",
       "      <td>372829.74150</td>\n",
       "    </tr>\n",
       "    <tr>\n",
       "      <th>LATAM</th>\n",
       "      <td>2.164605e+06</td>\n",
       "      <td>221643.48708</td>\n",
       "    </tr>\n",
       "    <tr>\n",
       "      <th>US</th>\n",
       "      <td>2.297201e+06</td>\n",
       "      <td>286397.02170</td>\n",
       "    </tr>\n",
       "  </tbody>\n",
       "</table>\n",
       "</div>"
      ],
      "text/plain": [
       "               Sales        Profit\n",
       "Market                            \n",
       "APAC    3.585744e+06  436000.04900\n",
       "Africa  7.837732e+05   88871.63100\n",
       "Canada  6.692817e+04   17817.39000\n",
       "EMEA    8.061613e+05   43897.97100\n",
       "EU      2.938089e+06  372829.74150\n",
       "LATAM   2.164605e+06  221643.48708\n",
       "US      2.297201e+06  286397.02170"
      ]
     },
     "execution_count": 26,
     "metadata": {},
     "output_type": "execute_result"
    }
   ],
   "source": [
    "market_sp = pd.DataFrame(data.groupby([\"Market\"])[\"Sales\",\"Profit\"].sum())\n",
    "market_sp"
   ]
  },
  {
   "cell_type": "code",
   "execution_count": 27,
   "metadata": {},
   "outputs": [
    {
     "data": {
      "image/png": "[encoded data removed]",
      "text/plain": [
       "<Figure size 864x576 with 1 Axes>"
      ]
     },
     "metadata": {
      "needs_background": "light"
     },
     "output_type": "display_data"
    }
   ],
   "source": [
    "sort_profit2 = market_sp.sort_values(\"Profit\", ascending=True)\n",
    "sort_profit2.plot(kind=\"bar\", figsize=(12,8))\n",
    "plt.title(\"Sales and Profit per Market\",fontsize = 20)\n",
    "plt.show()"
   ]
  },
  {
   "cell_type": "markdown",
   "metadata": {},
   "source": [
    "### 2. The most and least profitable market"
   ]
  },
  {
   "cell_type": "markdown",
   "metadata": {},
   "source": [
    " **From the graph above, the `Least Profitable Market` is the `Canada Market`, while the `Most Profitable Market` is the `APAC Market`**"
   ]
  },
  {
   "cell_type": "markdown",
   "metadata": {},
   "source": [
    "### 3. How are you going to increase the sales for the products that least bought?"
   ]
  },
  {
   "cell_type": "code",
   "execution_count": 28,
   "metadata": {},
   "outputs": [
    {
     "data": {
      "text/html": [
       "<div>\n",
       "<style scoped>\n",
       "    .dataframe tbody tr th:only-of-type {\n",
       "        vertical-align: middle;\n",
       "    }\n",
       "\n",
       "    .dataframe tbody tr th {\n",
       "        vertical-align: top;\n",
       "    }\n",
       "\n",
       "    .dataframe thead th {\n",
       "        text-align: right;\n",
       "    }\n",
       "</style>\n",
       "<table border=\"1\" class=\"dataframe\">\n",
       "  <thead>\n",
       "    <tr style=\"text-align: right;\">\n",
       "      <th></th>\n",
       "      <th>Quantity</th>\n",
       "      <th>Unit Price</th>\n",
       "      <th>Shipping Cost</th>\n",
       "      <th>Discount</th>\n",
       "    </tr>\n",
       "    <tr>\n",
       "      <th>Product Name</th>\n",
       "      <th></th>\n",
       "      <th></th>\n",
       "      <th></th>\n",
       "      <th></th>\n",
       "    </tr>\n",
       "  </thead>\n",
       "  <tbody>\n",
       "    <tr>\n",
       "      <th>Boston 1900 Electric Pencil Sharpener</th>\n",
       "      <td>1</td>\n",
       "      <td>14.980</td>\n",
       "      <td>2.08</td>\n",
       "      <td>0.00</td>\n",
       "    </tr>\n",
       "    <tr>\n",
       "      <th>Bush Saratoga Collection 5-Shelf Bookcase, Hanover Cherry, *Special Order</th>\n",
       "      <td>1</td>\n",
       "      <td>119.833</td>\n",
       "      <td>13.47</td>\n",
       "      <td>0.15</td>\n",
       "    </tr>\n",
       "    <tr>\n",
       "      <th>Chromcraft Training Table, Adjustable Height</th>\n",
       "      <td>1</td>\n",
       "      <td>38.144</td>\n",
       "      <td>1.53</td>\n",
       "      <td>0.80</td>\n",
       "    </tr>\n",
       "    <tr>\n",
       "      <th>Global Enterprise Series Seating Low-Back Swivel/Tilt Chairs</th>\n",
       "      <td>1</td>\n",
       "      <td>207.184</td>\n",
       "      <td>26.94</td>\n",
       "      <td>0.20</td>\n",
       "    </tr>\n",
       "    <tr>\n",
       "      <th>Penpower WorldCard Pro Card Scanner</th>\n",
       "      <td>1</td>\n",
       "      <td>91.475</td>\n",
       "      <td>10.93</td>\n",
       "      <td>0.50</td>\n",
       "    </tr>\n",
       "    <tr>\n",
       "      <th>Xerox 20</th>\n",
       "      <td>1</td>\n",
       "      <td>6.480</td>\n",
       "      <td>0.61</td>\n",
       "      <td>0.00</td>\n",
       "    </tr>\n",
       "    <tr>\n",
       "      <th>Avery 5</th>\n",
       "      <td>2</td>\n",
       "      <td>2.880</td>\n",
       "      <td>1.10</td>\n",
       "      <td>0.00</td>\n",
       "    </tr>\n",
       "    <tr>\n",
       "      <th>Avery Hi-Liter Pen Style Six-Color Fluorescent Set</th>\n",
       "      <td>2</td>\n",
       "      <td>3.850</td>\n",
       "      <td>0.61</td>\n",
       "      <td>0.00</td>\n",
       "    </tr>\n",
       "    <tr>\n",
       "      <th>Barricks Non-Folding Utility Table with Steel Legs, Laminate Tops</th>\n",
       "      <td>2</td>\n",
       "      <td>68.232</td>\n",
       "      <td>29.02</td>\n",
       "      <td>0.20</td>\n",
       "    </tr>\n",
       "    <tr>\n",
       "      <th>Canon imageCLASS MF7460 Monochrome Digital Laser Multifunction Copier</th>\n",
       "      <td>2</td>\n",
       "      <td>1995.990</td>\n",
       "      <td>276.89</td>\n",
       "      <td>0.00</td>\n",
       "    </tr>\n",
       "  </tbody>\n",
       "</table>\n",
       "</div>"
      ],
      "text/plain": [
       "                                                                           Quantity  \\\n",
       "Product Name                                                                          \n",
       "Boston 1900 Electric Pencil Sharpener                                             1   \n",
       "Bush Saratoga Collection 5-Shelf Bookcase, Hanover Cherry, *Special Order         1   \n",
       "Chromcraft Training Table, Adjustable Height                                      1   \n",
       "Global Enterprise Series Seating Low-Back Swivel/Tilt Chairs                      1   \n",
       "Penpower WorldCard Pro Card Scanner                                               1   \n",
       "Xerox 20                                                                          1   \n",
       "Avery 5                                                                           2   \n",
       "Avery Hi-Liter Pen Style Six-Color Fluorescent Set                                2   \n",
       "Barricks Non-Folding Utility Table with Steel Legs, Laminate Tops                 2   \n",
       "Canon imageCLASS MF7460 Monochrome Digital Laser Multifunction Copier             2   \n",
       "\n",
       "                                                                           Unit Price  \\\n",
       "Product Name                                                                            \n",
       "Boston 1900 Electric Pencil Sharpener                                          14.980   \n",
       "Bush Saratoga Collection 5-Shelf Bookcase, Hanover Cherry, *Special Order     119.833   \n",
       "Chromcraft Training Table, Adjustable Height                                   38.144   \n",
       "Global Enterprise Series Seating Low-Back Swivel/Tilt Chairs                  207.184   \n",
       "Penpower WorldCard Pro Card Scanner                                            91.475   \n",
       "Xerox 20                                                                        6.480   \n",
       "Avery 5                                                                         2.880   \n",
       "Avery Hi-Liter Pen Style Six-Color Fluorescent Set                              3.850   \n",
       "Barricks Non-Folding Utility Table with Steel Legs, Laminate Tops              68.232   \n",
       "Canon imageCLASS MF7460 Monochrome Digital Laser Multifunction Copier        1995.990   \n",
       "\n",
       "                                                                           Shipping Cost  \\\n",
       "Product Name                                                                               \n",
       "Boston 1900 Electric Pencil Sharpener                                               2.08   \n",
       "Bush Saratoga Collection 5-Shelf Bookcase, Hanover Cherry, *Special Order          13.47   \n",
       "Chromcraft Training Table, Adjustable Height                                        1.53   \n",
       "Global Enterprise Series Seating Low-Back Swivel/Tilt Chairs                       26.94   \n",
       "Penpower WorldCard Pro Card Scanner                                                10.93   \n",
       "Xerox 20                                                                            0.61   \n",
       "Avery 5                                                                             1.10   \n",
       "Avery Hi-Liter Pen Style Six-Color Fluorescent Set                                  0.61   \n",
       "Barricks Non-Folding Utility Table with Steel Legs, Laminate Tops                  29.02   \n",
       "Canon imageCLASS MF7460 Monochrome Digital Laser Multifunction Copier             276.89   \n",
       "\n",
       "                                                                           Discount  \n",
       "Product Name                                                                         \n",
       "Boston 1900 Electric Pencil Sharpener                                          0.00  \n",
       "Bush Saratoga Collection 5-Shelf Bookcase, Hanover Cherry, *Special Order      0.15  \n",
       "Chromcraft Training Table, Adjustable Height                                   0.80  \n",
       "Global Enterprise Series Seating Low-Back Swivel/Tilt Chairs                   0.20  \n",
       "Penpower WorldCard Pro Card Scanner                                            0.50  \n",
       "Xerox 20                                                                       0.00  \n",
       "Avery 5                                                                        0.00  \n",
       "Avery Hi-Liter Pen Style Six-Color Fluorescent Set                             0.00  \n",
       "Barricks Non-Folding Utility Table with Steel Legs, Laminate Tops              0.20  \n",
       "Canon imageCLASS MF7460 Monochrome Digital Laser Multifunction Copier          0.00  "
      ]
     },
     "execution_count": 28,
     "metadata": {},
     "output_type": "execute_result"
    }
   ],
   "source": [
    "product_quant = pd.DataFrame(data.groupby(\"Product Name\")[\"Quantity\",\"Market\",\"Unit Price\",\"Shipping Cost\",\"Discount\"].sum().nsmallest(10,columns = \"Quantity\"))\n",
    "product_quant"
   ]
  },
  {
   "cell_type": "markdown",
   "metadata": {},
   "source": [
    "**The Product that are least bought can be seen from the dataframe above**"
   ]
  },
  {
   "cell_type": "markdown",
   "metadata": {},
   "source": [
    "### 4. Which month does the company records more sales?"
   ]
  },
  {
   "cell_type": "code",
   "execution_count": 29,
   "metadata": {},
   "outputs": [
    {
     "data": {
      "image/png": "[encoded data removed]",
      "text/plain": [
       "<Figure size 864x576 with 1 Axes>"
      ]
     },
     "metadata": {
      "needs_background": "light"
     },
     "output_type": "display_data"
    }
   ],
   "source": [
    "x = data.groupby(by='Month')[['Sales']].sum()\n",
    "y = x.sort_values(by=['Sales'],ascending=True)\n",
    "\n",
    "y.plot(kind='bar', figsize=(12,8))\n",
    "plt.show()"
   ]
  },
  {
   "cell_type": "markdown",
   "metadata": {},
   "source": [
    "**From the graph above, we could see that the `November & December` has the highest sales**"
   ]
  },
  {
   "cell_type": "markdown",
   "metadata": {},
   "source": [
    "### 5. The trend of sales for each year"
   ]
  },
  {
   "cell_type": "markdown",
   "metadata": {},
   "source": [
    "#### 2011"
   ]
  },
  {
   "cell_type": "code",
   "execution_count": 30,
   "metadata": {},
   "outputs": [
    {
     "data": {
      "text/html": [
       "<div>\n",
       "<style scoped>\n",
       "    .dataframe tbody tr th:only-of-type {\n",
       "        vertical-align: middle;\n",
       "    }\n",
       "\n",
       "    .dataframe tbody tr th {\n",
       "        vertical-align: top;\n",
       "    }\n",
       "\n",
       "    .dataframe thead th {\n",
       "        text-align: right;\n",
       "    }\n",
       "</style>\n",
       "<table border=\"1\" class=\"dataframe\">\n",
       "  <thead>\n",
       "    <tr style=\"text-align: right;\">\n",
       "      <th></th>\n",
       "      <th>Order ID</th>\n",
       "      <th>Order Date</th>\n",
       "      <th>Ship Date</th>\n",
       "      <th>Ship Mode</th>\n",
       "      <th>Customer ID</th>\n",
       "      <th>Customer Name</th>\n",
       "      <th>Segment</th>\n",
       "      <th>City</th>\n",
       "      <th>State</th>\n",
       "      <th>Country</th>\n",
       "      <th>Market</th>\n",
       "      <th>Region</th>\n",
       "      <th>Product ID</th>\n",
       "      <th>Category</th>\n",
       "      <th>Sub-Category</th>\n",
       "      <th>Product Name</th>\n",
       "      <th>Sales</th>\n",
       "      <th>Quantity</th>\n",
       "      <th>Discount</th>\n",
       "      <th>Profit</th>\n",
       "      <th>Shipping Cost</th>\n",
       "      <th>Order Priority</th>\n",
       "      <th>Unit Price</th>\n",
       "      <th>Month</th>\n",
       "      <th>Year</th>\n",
       "      <th>Order Interval</th>\n",
       "    </tr>\n",
       "  </thead>\n",
       "  <tbody>\n",
       "    <tr>\n",
       "      <th>0</th>\n",
       "      <td>AG-2011-2040</td>\n",
       "      <td>2011-01-01</td>\n",
       "      <td>2011-06-01</td>\n",
       "      <td>Standard Class</td>\n",
       "      <td>TB-11280</td>\n",
       "      <td>Toby Braunhardt</td>\n",
       "      <td>Consumer</td>\n",
       "      <td>Constantine</td>\n",
       "      <td>Constantine</td>\n",
       "      <td>Algeria</td>\n",
       "      <td>Africa</td>\n",
       "      <td>Africa</td>\n",
       "      <td>OFF-TEN-10000025</td>\n",
       "      <td>Office Supplies</td>\n",
       "      <td>Storage</td>\n",
       "      <td>Tenex Lockers, Blue</td>\n",
       "      <td>408.3</td>\n",
       "      <td>2</td>\n",
       "      <td>0.0</td>\n",
       "      <td>106.14</td>\n",
       "      <td>35.46</td>\n",
       "      <td>Medium</td>\n",
       "      <td>204.15</td>\n",
       "      <td>Jan</td>\n",
       "      <td>2011</td>\n",
       "      <td>151.0</td>\n",
       "    </tr>\n",
       "  </tbody>\n",
       "</table>\n",
       "</div>"
      ],
      "text/plain": [
       "       Order ID Order Date  Ship Date       Ship Mode Customer ID  \\\n",
       "0  AG-2011-2040 2011-01-01 2011-06-01  Standard Class    TB-11280   \n",
       "\n",
       "     Customer Name   Segment         City        State  Country  Market  \\\n",
       "0  Toby Braunhardt  Consumer  Constantine  Constantine  Algeria  Africa   \n",
       "\n",
       "   Region        Product ID         Category Sub-Category  \\\n",
       "0  Africa  OFF-TEN-10000025  Office Supplies      Storage   \n",
       "\n",
       "          Product Name  Sales  Quantity  Discount  Profit  Shipping Cost  \\\n",
       "0  Tenex Lockers, Blue  408.3         2       0.0  106.14          35.46   \n",
       "\n",
       "  Order Priority  Unit Price Month  Year  Order Interval  \n",
       "0         Medium      204.15   Jan  2011           151.0  "
      ]
     },
     "execution_count": 30,
     "metadata": {},
     "output_type": "execute_result"
    }
   ],
   "source": [
    "BranchA_df = data.loc[(data.Year == 2011)]\n",
    "BranchA_df.head(1)"
   ]
  },
  {
   "cell_type": "code",
   "execution_count": 31,
   "metadata": {},
   "outputs": [
    {
     "data": {
      "text/html": [
       "<div>\n",
       "<style scoped>\n",
       "    .dataframe tbody tr th:only-of-type {\n",
       "        vertical-align: middle;\n",
       "    }\n",
       "\n",
       "    .dataframe tbody tr th {\n",
       "        vertical-align: top;\n",
       "    }\n",
       "\n",
       "    .dataframe thead th {\n",
       "        text-align: right;\n",
       "    }\n",
       "</style>\n",
       "<table border=\"1\" class=\"dataframe\">\n",
       "  <thead>\n",
       "    <tr style=\"text-align: right;\">\n",
       "      <th></th>\n",
       "      <th>Month</th>\n",
       "      <th>Sales</th>\n",
       "    </tr>\n",
       "  </thead>\n",
       "  <tbody>\n",
       "    <tr>\n",
       "      <th>0</th>\n",
       "      <td>Apr</td>\n",
       "      <td>128833.47034</td>\n",
       "    </tr>\n",
       "    <tr>\n",
       "      <th>1</th>\n",
       "      <td>Aug</td>\n",
       "      <td>219223.49524</td>\n",
       "    </tr>\n",
       "    <tr>\n",
       "      <th>2</th>\n",
       "      <td>Dec</td>\n",
       "      <td>292359.96752</td>\n",
       "    </tr>\n",
       "    <tr>\n",
       "      <th>3</th>\n",
       "      <td>Feb</td>\n",
       "      <td>134969.94086</td>\n",
       "    </tr>\n",
       "    <tr>\n",
       "      <th>4</th>\n",
       "      <td>Jan</td>\n",
       "      <td>138241.30042</td>\n",
       "    </tr>\n",
       "  </tbody>\n",
       "</table>\n",
       "</div>"
      ],
      "text/plain": [
       "  Month         Sales\n",
       "0   Apr  128833.47034\n",
       "1   Aug  219223.49524\n",
       "2   Dec  292359.96752\n",
       "3   Feb  134969.94086\n",
       "4   Jan  138241.30042"
      ]
     },
     "execution_count": 31,
     "metadata": {},
     "output_type": "execute_result"
    }
   ],
   "source": [
    "dfA_trend = BranchA_df.groupby('Month')['Sales'].sum().reset_index()\n",
    "dfA_trend.head()"
   ]
  },
  {
   "cell_type": "code",
   "execution_count": 32,
   "metadata": {},
   "outputs": [
    {
     "data": {
      "image/png": "[encoded data removed]",
      "text/plain": [
       "<Figure size 864x576 with 1 Axes>"
      ]
     },
     "metadata": {
      "needs_background": "light"
     },
     "output_type": "display_data"
    }
   ],
   "source": [
    "BranchA_df.groupby('Month')['Sales'].sum().sort_values(ascending=True).plot(kind=\"bar\", figsize=(12,8))\n",
    "plt.show()"
   ]
  },
  {
   "cell_type": "markdown",
   "metadata": {},
   "source": [
    "#### 2012"
   ]
  },
  {
   "cell_type": "code",
   "execution_count": 33,
   "metadata": {},
   "outputs": [
    {
     "data": {
      "text/html": [
       "<div>\n",
       "<style scoped>\n",
       "    .dataframe tbody tr th:only-of-type {\n",
       "        vertical-align: middle;\n",
       "    }\n",
       "\n",
       "    .dataframe tbody tr th {\n",
       "        vertical-align: top;\n",
       "    }\n",
       "\n",
       "    .dataframe thead th {\n",
       "        text-align: right;\n",
       "    }\n",
       "</style>\n",
       "<table border=\"1\" class=\"dataframe\">\n",
       "  <thead>\n",
       "    <tr style=\"text-align: right;\">\n",
       "      <th></th>\n",
       "      <th>Order ID</th>\n",
       "      <th>Order Date</th>\n",
       "      <th>Ship Date</th>\n",
       "      <th>Ship Mode</th>\n",
       "      <th>Customer ID</th>\n",
       "      <th>Customer Name</th>\n",
       "      <th>Segment</th>\n",
       "      <th>City</th>\n",
       "      <th>State</th>\n",
       "      <th>Country</th>\n",
       "      <th>Market</th>\n",
       "      <th>Region</th>\n",
       "      <th>Product ID</th>\n",
       "      <th>Category</th>\n",
       "      <th>Sub-Category</th>\n",
       "      <th>Product Name</th>\n",
       "      <th>Sales</th>\n",
       "      <th>Quantity</th>\n",
       "      <th>Discount</th>\n",
       "      <th>Profit</th>\n",
       "      <th>Shipping Cost</th>\n",
       "      <th>Order Priority</th>\n",
       "      <th>Unit Price</th>\n",
       "      <th>Month</th>\n",
       "      <th>Year</th>\n",
       "      <th>Order Interval</th>\n",
       "    </tr>\n",
       "  </thead>\n",
       "  <tbody>\n",
       "    <tr>\n",
       "      <th>3558</th>\n",
       "      <td>BO-2012-7240</td>\n",
       "      <td>2012-01-02</td>\n",
       "      <td>2012-05-02</td>\n",
       "      <td>Standard Class</td>\n",
       "      <td>BT-1305</td>\n",
       "      <td>Beth Thompson</td>\n",
       "      <td>Home Office</td>\n",
       "      <td>Pinsk</td>\n",
       "      <td>Brest</td>\n",
       "      <td>Belarus</td>\n",
       "      <td>EMEA</td>\n",
       "      <td>EMEA</td>\n",
       "      <td>OFF-SME-10004160</td>\n",
       "      <td>Office Supplies</td>\n",
       "      <td>Storage</td>\n",
       "      <td>Smead Folders, Wire Frame</td>\n",
       "      <td>33.12</td>\n",
       "      <td>2</td>\n",
       "      <td>0.0</td>\n",
       "      <td>1.98</td>\n",
       "      <td>2.46</td>\n",
       "      <td>Medium</td>\n",
       "      <td>16.56</td>\n",
       "      <td>Jan</td>\n",
       "      <td>2012</td>\n",
       "      <td>121.0</td>\n",
       "    </tr>\n",
       "  </tbody>\n",
       "</table>\n",
       "</div>"
      ],
      "text/plain": [
       "          Order ID Order Date  Ship Date       Ship Mode Customer ID  \\\n",
       "3558  BO-2012-7240 2012-01-02 2012-05-02  Standard Class     BT-1305   \n",
       "\n",
       "      Customer Name      Segment   City  State  Country Market Region  \\\n",
       "3558  Beth Thompson  Home Office  Pinsk  Brest  Belarus   EMEA   EMEA   \n",
       "\n",
       "            Product ID         Category Sub-Category  \\\n",
       "3558  OFF-SME-10004160  Office Supplies      Storage   \n",
       "\n",
       "                   Product Name  Sales  Quantity  Discount  Profit  \\\n",
       "3558  Smead Folders, Wire Frame  33.12         2       0.0    1.98   \n",
       "\n",
       "      Shipping Cost Order Priority  Unit Price Month  Year  Order Interval  \n",
       "3558           2.46         Medium       16.56   Jan  2012           121.0  "
      ]
     },
     "execution_count": 33,
     "metadata": {},
     "output_type": "execute_result"
    }
   ],
   "source": [
    "BranchB_df = data.loc[(data.Year == 2012)]\n",
    "BranchB_df.head(1)"
   ]
  },
  {
   "cell_type": "code",
   "execution_count": 34,
   "metadata": {},
   "outputs": [
    {
     "data": {
      "text/html": [
       "<div>\n",
       "<style scoped>\n",
       "    .dataframe tbody tr th:only-of-type {\n",
       "        vertical-align: middle;\n",
       "    }\n",
       "\n",
       "    .dataframe tbody tr th {\n",
       "        vertical-align: top;\n",
       "    }\n",
       "\n",
       "    .dataframe thead th {\n",
       "        text-align: right;\n",
       "    }\n",
       "</style>\n",
       "<table border=\"1\" class=\"dataframe\">\n",
       "  <thead>\n",
       "    <tr style=\"text-align: right;\">\n",
       "      <th></th>\n",
       "      <th>Month</th>\n",
       "      <th>Sales</th>\n",
       "    </tr>\n",
       "  </thead>\n",
       "  <tbody>\n",
       "    <tr>\n",
       "      <th>0</th>\n",
       "      <td>Apr</td>\n",
       "      <td>187469.96192</td>\n",
       "    </tr>\n",
       "    <tr>\n",
       "      <th>1</th>\n",
       "      <td>Aug</td>\n",
       "      <td>271669.66086</td>\n",
       "    </tr>\n",
       "    <tr>\n",
       "      <th>2</th>\n",
       "      <td>Dec</td>\n",
       "      <td>291972.33306</td>\n",
       "    </tr>\n",
       "    <tr>\n",
       "      <th>3</th>\n",
       "      <td>Feb</td>\n",
       "      <td>152661.15144</td>\n",
       "    </tr>\n",
       "    <tr>\n",
       "      <th>4</th>\n",
       "      <td>Jan</td>\n",
       "      <td>162800.89338</td>\n",
       "    </tr>\n",
       "  </tbody>\n",
       "</table>\n",
       "</div>"
      ],
      "text/plain": [
       "  Month         Sales\n",
       "0   Apr  187469.96192\n",
       "1   Aug  271669.66086\n",
       "2   Dec  291972.33306\n",
       "3   Feb  152661.15144\n",
       "4   Jan  162800.89338"
      ]
     },
     "execution_count": 34,
     "metadata": {},
     "output_type": "execute_result"
    }
   ],
   "source": [
    "dfB_trend = BranchB_df.groupby('Month')['Sales'].sum().reset_index()\n",
    "dfB_trend.head()"
   ]
  },
  {
   "cell_type": "code",
   "execution_count": 35,
   "metadata": {},
   "outputs": [
    {
     "data": {
      "image/png": "[encoded data removed]",
      "text/plain": [
       "<Figure size 864x576 with 1 Axes>"
      ]
     },
     "metadata": {
      "needs_background": "light"
     },
     "output_type": "display_data"
    }
   ],
   "source": [
    "BranchB_df.groupby('Month')['Sales'].sum().sort_values(ascending=True).plot(kind=\"bar\", figsize=(12,8))\n",
    "plt.show()"
   ]
  },
  {
   "cell_type": "markdown",
   "metadata": {},
   "source": [
    "#### 2013"
   ]
  },
  {
   "cell_type": "code",
   "execution_count": 36,
   "metadata": {},
   "outputs": [
    {
     "data": {
      "text/html": [
       "<div>\n",
       "<style scoped>\n",
       "    .dataframe tbody tr th:only-of-type {\n",
       "        vertical-align: middle;\n",
       "    }\n",
       "\n",
       "    .dataframe tbody tr th {\n",
       "        vertical-align: top;\n",
       "    }\n",
       "\n",
       "    .dataframe thead th {\n",
       "        text-align: right;\n",
       "    }\n",
       "</style>\n",
       "<table border=\"1\" class=\"dataframe\">\n",
       "  <thead>\n",
       "    <tr style=\"text-align: right;\">\n",
       "      <th></th>\n",
       "      <th>Order ID</th>\n",
       "      <th>Order Date</th>\n",
       "      <th>Ship Date</th>\n",
       "      <th>Ship Mode</th>\n",
       "      <th>Customer ID</th>\n",
       "      <th>Customer Name</th>\n",
       "      <th>Segment</th>\n",
       "      <th>City</th>\n",
       "      <th>State</th>\n",
       "      <th>Country</th>\n",
       "      <th>Market</th>\n",
       "      <th>Region</th>\n",
       "      <th>Product ID</th>\n",
       "      <th>Category</th>\n",
       "      <th>Sub-Category</th>\n",
       "      <th>Product Name</th>\n",
       "      <th>Sales</th>\n",
       "      <th>Quantity</th>\n",
       "      <th>Discount</th>\n",
       "      <th>Profit</th>\n",
       "      <th>Shipping Cost</th>\n",
       "      <th>Order Priority</th>\n",
       "      <th>Unit Price</th>\n",
       "      <th>Month</th>\n",
       "      <th>Year</th>\n",
       "      <th>Order Interval</th>\n",
       "    </tr>\n",
       "  </thead>\n",
       "  <tbody>\n",
       "    <tr>\n",
       "      <th>7815</th>\n",
       "      <td>ES-2013-4954697</td>\n",
       "      <td>2013-01-01</td>\n",
       "      <td>2013-06-01</td>\n",
       "      <td>Standard Class</td>\n",
       "      <td>TB-21595</td>\n",
       "      <td>Troy Blackwell</td>\n",
       "      <td>Consumer</td>\n",
       "      <td>Montbrison</td>\n",
       "      <td>Rhône-Alpes</td>\n",
       "      <td>France</td>\n",
       "      <td>EU</td>\n",
       "      <td>Central</td>\n",
       "      <td>OFF-LA-10003511</td>\n",
       "      <td>Office Supplies</td>\n",
       "      <td>Labels</td>\n",
       "      <td>Avery Round Labels, Adjustable</td>\n",
       "      <td>10.08</td>\n",
       "      <td>2</td>\n",
       "      <td>0.0</td>\n",
       "      <td>1.68</td>\n",
       "      <td>0.95</td>\n",
       "      <td>High</td>\n",
       "      <td>5.04</td>\n",
       "      <td>Jan</td>\n",
       "      <td>2013</td>\n",
       "      <td>151.0</td>\n",
       "    </tr>\n",
       "  </tbody>\n",
       "</table>\n",
       "</div>"
      ],
      "text/plain": [
       "             Order ID Order Date  Ship Date       Ship Mode Customer ID  \\\n",
       "7815  ES-2013-4954697 2013-01-01 2013-06-01  Standard Class    TB-21595   \n",
       "\n",
       "       Customer Name   Segment        City        State Country Market  \\\n",
       "7815  Troy Blackwell  Consumer  Montbrison  Rhône-Alpes  France     EU   \n",
       "\n",
       "       Region       Product ID         Category Sub-Category  \\\n",
       "7815  Central  OFF-LA-10003511  Office Supplies       Labels   \n",
       "\n",
       "                        Product Name  Sales  Quantity  Discount  Profit  \\\n",
       "7815  Avery Round Labels, Adjustable  10.08         2       0.0    1.68   \n",
       "\n",
       "      Shipping Cost Order Priority  Unit Price Month  Year  Order Interval  \n",
       "7815           0.95           High        5.04   Jan  2013           151.0  "
      ]
     },
     "execution_count": 36,
     "metadata": {},
     "output_type": "execute_result"
    }
   ],
   "source": [
    "BranchC_df = data.loc[(data.Year == 2013)]\n",
    "BranchC_df.head(1)"
   ]
  },
  {
   "cell_type": "code",
   "execution_count": 37,
   "metadata": {},
   "outputs": [
    {
     "data": {
      "text/html": [
       "<div>\n",
       "<style scoped>\n",
       "    .dataframe tbody tr th:only-of-type {\n",
       "        vertical-align: middle;\n",
       "    }\n",
       "\n",
       "    .dataframe tbody tr th {\n",
       "        vertical-align: top;\n",
       "    }\n",
       "\n",
       "    .dataframe thead th {\n",
       "        text-align: right;\n",
       "    }\n",
       "</style>\n",
       "<table border=\"1\" class=\"dataframe\">\n",
       "  <thead>\n",
       "    <tr style=\"text-align: right;\">\n",
       "      <th></th>\n",
       "      <th>Month</th>\n",
       "      <th>Sales</th>\n",
       "    </tr>\n",
       "  </thead>\n",
       "  <tbody>\n",
       "    <tr>\n",
       "      <th>0</th>\n",
       "      <td>Apr</td>\n",
       "      <td>233181.34844</td>\n",
       "    </tr>\n",
       "    <tr>\n",
       "      <th>1</th>\n",
       "      <td>Aug</td>\n",
       "      <td>323876.60716</td>\n",
       "    </tr>\n",
       "    <tr>\n",
       "      <th>2</th>\n",
       "      <td>Dec</td>\n",
       "      <td>371245.40880</td>\n",
       "    </tr>\n",
       "    <tr>\n",
       "      <th>3</th>\n",
       "      <td>Feb</td>\n",
       "      <td>191062.77216</td>\n",
       "    </tr>\n",
       "    <tr>\n",
       "      <th>4</th>\n",
       "      <td>Jan</td>\n",
       "      <td>206459.19582</td>\n",
       "    </tr>\n",
       "  </tbody>\n",
       "</table>\n",
       "</div>"
      ],
      "text/plain": [
       "  Month         Sales\n",
       "0   Apr  233181.34844\n",
       "1   Aug  323876.60716\n",
       "2   Dec  371245.40880\n",
       "3   Feb  191062.77216\n",
       "4   Jan  206459.19582"
      ]
     },
     "execution_count": 37,
     "metadata": {},
     "output_type": "execute_result"
    }
   ],
   "source": [
    "dfC_trend = BranchC_df.groupby('Month')['Sales'].sum().reset_index()\n",
    "dfC_trend.head()"
   ]
  },
  {
   "cell_type": "code",
   "execution_count": 38,
   "metadata": {},
   "outputs": [
    {
     "data": {
      "image/png": "[encoded data removed]",
      "text/plain": [
       "<Figure size 864x576 with 1 Axes>"
      ]
     },
     "metadata": {
      "needs_background": "light"
     },
     "output_type": "display_data"
    }
   ],
   "source": [
    "BranchC_df.groupby('Month')['Sales'].sum().sort_values(ascending=True).plot(kind=\"bar\", figsize=(12,8))\n",
    "plt.show()"
   ]
  },
  {
   "cell_type": "markdown",
   "metadata": {},
   "source": [
    "#### 2014"
   ]
  },
  {
   "cell_type": "code",
   "execution_count": 39,
   "metadata": {},
   "outputs": [
    {
     "data": {
      "text/html": [
       "<div>\n",
       "<style scoped>\n",
       "    .dataframe tbody tr th:only-of-type {\n",
       "        vertical-align: middle;\n",
       "    }\n",
       "\n",
       "    .dataframe tbody tr th {\n",
       "        vertical-align: top;\n",
       "    }\n",
       "\n",
       "    .dataframe thead th {\n",
       "        text-align: right;\n",
       "    }\n",
       "</style>\n",
       "<table border=\"1\" class=\"dataframe\">\n",
       "  <thead>\n",
       "    <tr style=\"text-align: right;\">\n",
       "      <th></th>\n",
       "      <th>Order ID</th>\n",
       "      <th>Order Date</th>\n",
       "      <th>Ship Date</th>\n",
       "      <th>Ship Mode</th>\n",
       "      <th>Customer ID</th>\n",
       "      <th>Customer Name</th>\n",
       "      <th>Segment</th>\n",
       "      <th>City</th>\n",
       "      <th>State</th>\n",
       "      <th>Country</th>\n",
       "      <th>Market</th>\n",
       "      <th>Region</th>\n",
       "      <th>Product ID</th>\n",
       "      <th>Category</th>\n",
       "      <th>Sub-Category</th>\n",
       "      <th>Product Name</th>\n",
       "      <th>Sales</th>\n",
       "      <th>Quantity</th>\n",
       "      <th>Discount</th>\n",
       "      <th>Profit</th>\n",
       "      <th>Shipping Cost</th>\n",
       "      <th>Order Priority</th>\n",
       "      <th>Unit Price</th>\n",
       "      <th>Month</th>\n",
       "      <th>Year</th>\n",
       "      <th>Order Interval</th>\n",
       "    </tr>\n",
       "  </thead>\n",
       "  <tbody>\n",
       "    <tr>\n",
       "      <th>13222</th>\n",
       "      <td>ES-2014-4158324</td>\n",
       "      <td>2014-01-01</td>\n",
       "      <td>2014-08-01</td>\n",
       "      <td>Standard Class</td>\n",
       "      <td>BN-11470</td>\n",
       "      <td>Brad Norvell</td>\n",
       "      <td>Corporate</td>\n",
       "      <td>Afragola</td>\n",
       "      <td>Campania</td>\n",
       "      <td>Italy</td>\n",
       "      <td>EU</td>\n",
       "      <td>South</td>\n",
       "      <td>OFF-SU-10000171</td>\n",
       "      <td>Office Supplies</td>\n",
       "      <td>Supplies</td>\n",
       "      <td>Elite Trimmer, Easy Grip</td>\n",
       "      <td>43.29</td>\n",
       "      <td>1</td>\n",
       "      <td>0.0</td>\n",
       "      <td>20.34</td>\n",
       "      <td>2.75</td>\n",
       "      <td>Medium</td>\n",
       "      <td>43.29</td>\n",
       "      <td>Jan</td>\n",
       "      <td>2014</td>\n",
       "      <td>212.0</td>\n",
       "    </tr>\n",
       "  </tbody>\n",
       "</table>\n",
       "</div>"
      ],
      "text/plain": [
       "              Order ID Order Date  Ship Date       Ship Mode Customer ID  \\\n",
       "13222  ES-2014-4158324 2014-01-01 2014-08-01  Standard Class    BN-11470   \n",
       "\n",
       "      Customer Name    Segment      City     State Country Market Region  \\\n",
       "13222  Brad Norvell  Corporate  Afragola  Campania   Italy     EU  South   \n",
       "\n",
       "            Product ID         Category Sub-Category  \\\n",
       "13222  OFF-SU-10000171  Office Supplies     Supplies   \n",
       "\n",
       "                   Product Name  Sales  Quantity  Discount  Profit  \\\n",
       "13222  Elite Trimmer, Easy Grip  43.29         1       0.0   20.34   \n",
       "\n",
       "       Shipping Cost Order Priority  Unit Price Month  Year  Order Interval  \n",
       "13222           2.75         Medium       43.29   Jan  2014           212.0  "
      ]
     },
     "execution_count": 39,
     "metadata": {},
     "output_type": "execute_result"
    }
   ],
   "source": [
    "BranchD_df = data.loc[(data.Year == 2014)]\n",
    "BranchD_df.head(1)"
   ]
  },
  {
   "cell_type": "code",
   "execution_count": 40,
   "metadata": {},
   "outputs": [
    {
     "data": {
      "text/html": [
       "<div>\n",
       "<style scoped>\n",
       "    .dataframe tbody tr th:only-of-type {\n",
       "        vertical-align: middle;\n",
       "    }\n",
       "\n",
       "    .dataframe tbody tr th {\n",
       "        vertical-align: top;\n",
       "    }\n",
       "\n",
       "    .dataframe thead th {\n",
       "        text-align: right;\n",
       "    }\n",
       "</style>\n",
       "<table border=\"1\" class=\"dataframe\">\n",
       "  <thead>\n",
       "    <tr style=\"text-align: right;\">\n",
       "      <th></th>\n",
       "      <th>Month</th>\n",
       "      <th>Sales</th>\n",
       "    </tr>\n",
       "  </thead>\n",
       "  <tbody>\n",
       "    <tr>\n",
       "      <th>0</th>\n",
       "      <td>Apr</td>\n",
       "      <td>302132.54000</td>\n",
       "    </tr>\n",
       "    <tr>\n",
       "      <th>1</th>\n",
       "      <td>Aug</td>\n",
       "      <td>432731.04194</td>\n",
       "    </tr>\n",
       "    <tr>\n",
       "      <th>2</th>\n",
       "      <td>Dec</td>\n",
       "      <td>427757.39800</td>\n",
       "    </tr>\n",
       "    <tr>\n",
       "      <th>3</th>\n",
       "      <td>Feb</td>\n",
       "      <td>244159.30486</td>\n",
       "    </tr>\n",
       "    <tr>\n",
       "      <th>4</th>\n",
       "      <td>Jan</td>\n",
       "      <td>268265.52240</td>\n",
       "    </tr>\n",
       "  </tbody>\n",
       "</table>\n",
       "</div>"
      ],
      "text/plain": [
       "  Month         Sales\n",
       "0   Apr  302132.54000\n",
       "1   Aug  432731.04194\n",
       "2   Dec  427757.39800\n",
       "3   Feb  244159.30486\n",
       "4   Jan  268265.52240"
      ]
     },
     "execution_count": 40,
     "metadata": {},
     "output_type": "execute_result"
    }
   ],
   "source": [
    "dfD_trend = BranchD_df.groupby('Month')['Sales'].sum().reset_index()\n",
    "dfD_trend.head()"
   ]
  },
  {
   "cell_type": "code",
   "execution_count": 41,
   "metadata": {},
   "outputs": [
    {
     "data": {
      "image/png": "[encoded data removed]",
      "text/plain": [
       "<Figure size 864x576 with 1 Axes>"
      ]
     },
     "metadata": {
      "needs_background": "light"
     },
     "output_type": "display_data"
    }
   ],
   "source": [
    "BranchD_df.groupby('Month')['Sales'].sum().sort_values(ascending=True).plot(kind=\"bar\", figsize=(12,8))\n",
    "plt.show()"
   ]
  },
  {
   "cell_type": "markdown",
   "metadata": {},
   "source": [
    "#### General"
   ]
  },
  {
   "cell_type": "code",
   "execution_count": 42,
   "metadata": {},
   "outputs": [],
   "source": [
    "#Generating Sales of 2011\n",
    "trend_2011 = pd.DataFrame(BranchA_df.groupby(\"Month\")[\"Sales\"].sum()).reset_index()\n",
    "#convert ordered month back from month abrv in string to date.time month\n",
    "trend_2011[\"Month\"] = pd.to_datetime(trend_2011[\"Month\"], format='%b', errors='coerce').dt.month\n",
    "#sort out based on date.time month\n",
    "trend_2011 = trend_2011.sort_values(by=\"Month\")\n",
    "\n",
    "#Generating Sales of 2012\n",
    "trend_2012 = pd.DataFrame(BranchB_df.groupby(\"Month\")[\"Sales\"].sum()).reset_index()\n",
    "#convert ordered month back from month abrv in string to date.time month\n",
    "trend_2012[\"Month\"] = pd.to_datetime(trend_2012[\"Month\"], format='%b', errors='coerce').dt.month\n",
    "#sort out based on date.time month\n",
    "trend_2012 = trend_2012.sort_values(by=\"Month\")\n",
    "\n",
    "#Generating Sales of 2013\n",
    "trend_2013 = pd.DataFrame(BranchC_df.groupby(\"Month\")[\"Sales\"].sum()).reset_index()\n",
    "#convert ordered month back from month abrv in string to date.time month\n",
    "trend_2013[\"Month\"] = pd.to_datetime(trend_2013[\"Month\"], format='%b', errors='coerce').dt.month\n",
    "#sort out based on date.time month\n",
    "trend_2013 = trend_2013.sort_values(by=\"Month\")\n",
    "\n",
    "#Generating Sales of 2014\n",
    "trend_2014 = pd.DataFrame(BranchD_df.groupby(\"Month\")[\"Sales\"].sum()).reset_index()\n",
    "#convert ordered month back from month abrv in string to date.time month\n",
    "trend_2014[\"Month\"] = pd.to_datetime(trend_2014[\"Month\"], format='%b', errors='coerce').dt.month\n",
    "#sort out based on date.time month\n",
    "trend_2014 = trend_2014.sort_values(by=\"Month\")"
   ]
  },
  {
   "cell_type": "code",
   "execution_count": 43,
   "metadata": {},
   "outputs": [
    {
     "data": {
      "image/png": "[encoded data removed]",
      "text/plain": [
       "<Figure size 1152x576 with 1 Axes>"
      ]
     },
     "metadata": {
      "needs_background": "light"
     },
     "output_type": "display_data"
    }
   ],
   "source": [
    "#style.use('dark_background')\n",
    "plt.figure(figsize=[16,8])\n",
    "plt.grid()\n",
    "plt.title(\"Trend of Sales for the year 2011,2012,2013,2014\", fontsize = 16)\n",
    "plt.xlabel(\"Months\",fontsize=16)\n",
    "plt.ylabel(\"Sales\",fontsize=16)\n",
    "label = [\"Jan\",\"Feb\",\"Mar\",\"Apr\",\"May\",\"Jun\",\"Jul\",\"Aug\",\"Sep\",\"Oct\",\"Nov\",\"Dec\"]\n",
    "x = trend_2011[\"Month\"]\n",
    "plt.xticks(x,labels=label)\n",
    "plt.plot(x,trend_2011[\"Sales\"],label =\"2011\",lw=3,ls='--', marker='o')\n",
    "plt.plot(x,trend_2012[\"Sales\"],label=\"2012\",lw=3,ls='-', marker='s')\n",
    "plt.plot(x,trend_2013[\"Sales\"],label=\"2013\",lw=3,ls='--', marker='1')\n",
    "plt.plot(x,trend_2014[\"Sales\"],label=\"2014\",lw=3,ls='-', marker='+')\n",
    "plt.legend()\n",
    "plt.show()"
   ]
  },
  {
   "cell_type": "markdown",
   "metadata": {},
   "source": [
    "### 6. The trend of profit for each year"
   ]
  },
  {
   "cell_type": "markdown",
   "metadata": {},
   "source": [
    "#### 2011"
   ]
  },
  {
   "cell_type": "code",
   "execution_count": 44,
   "metadata": {},
   "outputs": [
    {
     "data": {
      "text/html": [
       "<div>\n",
       "<style scoped>\n",
       "    .dataframe tbody tr th:only-of-type {\n",
       "        vertical-align: middle;\n",
       "    }\n",
       "\n",
       "    .dataframe tbody tr th {\n",
       "        vertical-align: top;\n",
       "    }\n",
       "\n",
       "    .dataframe thead th {\n",
       "        text-align: right;\n",
       "    }\n",
       "</style>\n",
       "<table border=\"1\" class=\"dataframe\">\n",
       "  <thead>\n",
       "    <tr style=\"text-align: right;\">\n",
       "      <th></th>\n",
       "      <th>Month</th>\n",
       "      <th>Profit</th>\n",
       "    </tr>\n",
       "  </thead>\n",
       "  <tbody>\n",
       "    <tr>\n",
       "      <th>0</th>\n",
       "      <td>Apr</td>\n",
       "      <td>13405.46924</td>\n",
       "    </tr>\n",
       "    <tr>\n",
       "      <th>1</th>\n",
       "      <td>Aug</td>\n",
       "      <td>19650.67124</td>\n",
       "    </tr>\n",
       "    <tr>\n",
       "      <th>2</th>\n",
       "      <td>Dec</td>\n",
       "      <td>33006.85862</td>\n",
       "    </tr>\n",
       "    <tr>\n",
       "      <th>3</th>\n",
       "      <td>Feb</td>\n",
       "      <td>17588.83726</td>\n",
       "    </tr>\n",
       "    <tr>\n",
       "      <th>4</th>\n",
       "      <td>Jan</td>\n",
       "      <td>13457.23302</td>\n",
       "    </tr>\n",
       "  </tbody>\n",
       "</table>\n",
       "</div>"
      ],
      "text/plain": [
       "  Month       Profit\n",
       "0   Apr  13405.46924\n",
       "1   Aug  19650.67124\n",
       "2   Dec  33006.85862\n",
       "3   Feb  17588.83726\n",
       "4   Jan  13457.23302"
      ]
     },
     "execution_count": 44,
     "metadata": {},
     "output_type": "execute_result"
    }
   ],
   "source": [
    "df_trend = BranchA_df.groupby('Month')['Profit'].sum().reset_index()\n",
    "df_trend.head()"
   ]
  },
  {
   "cell_type": "code",
   "execution_count": 45,
   "metadata": {},
   "outputs": [
    {
     "data": {
      "image/png": "[encoded data removed]",
      "text/plain": [
       "<Figure size 864x576 with 1 Axes>"
      ]
     },
     "metadata": {
      "needs_background": "light"
     },
     "output_type": "display_data"
    }
   ],
   "source": [
    "BranchA_df.groupby('Month')['Profit'].sum().sort_values(ascending=True).plot(kind=\"bar\", figsize=(12,8))\n",
    "plt.show()"
   ]
  },
  {
   "cell_type": "markdown",
   "metadata": {},
   "source": [
    "#### 2012"
   ]
  },
  {
   "cell_type": "code",
   "execution_count": 46,
   "metadata": {},
   "outputs": [
    {
     "data": {
      "text/html": [
       "<div>\n",
       "<style scoped>\n",
       "    .dataframe tbody tr th:only-of-type {\n",
       "        vertical-align: middle;\n",
       "    }\n",
       "\n",
       "    .dataframe tbody tr th {\n",
       "        vertical-align: top;\n",
       "    }\n",
       "\n",
       "    .dataframe thead th {\n",
       "        text-align: right;\n",
       "    }\n",
       "</style>\n",
       "<table border=\"1\" class=\"dataframe\">\n",
       "  <thead>\n",
       "    <tr style=\"text-align: right;\">\n",
       "      <th></th>\n",
       "      <th>Month</th>\n",
       "      <th>Profit</th>\n",
       "    </tr>\n",
       "  </thead>\n",
       "  <tbody>\n",
       "    <tr>\n",
       "      <th>0</th>\n",
       "      <td>Apr</td>\n",
       "      <td>20804.00532</td>\n",
       "    </tr>\n",
       "    <tr>\n",
       "      <th>1</th>\n",
       "      <td>Aug</td>\n",
       "      <td>36511.44996</td>\n",
       "    </tr>\n",
       "    <tr>\n",
       "      <th>2</th>\n",
       "      <td>Dec</td>\n",
       "      <td>31968.30416</td>\n",
       "    </tr>\n",
       "    <tr>\n",
       "      <th>3</th>\n",
       "      <td>Feb</td>\n",
       "      <td>17828.18244</td>\n",
       "    </tr>\n",
       "    <tr>\n",
       "      <th>4</th>\n",
       "      <td>Jan</td>\n",
       "      <td>19627.42058</td>\n",
       "    </tr>\n",
       "  </tbody>\n",
       "</table>\n",
       "</div>"
      ],
      "text/plain": [
       "  Month       Profit\n",
       "0   Apr  20804.00532\n",
       "1   Aug  36511.44996\n",
       "2   Dec  31968.30416\n",
       "3   Feb  17828.18244\n",
       "4   Jan  19627.42058"
      ]
     },
     "execution_count": 46,
     "metadata": {},
     "output_type": "execute_result"
    }
   ],
   "source": [
    "df_trend = BranchB_df.groupby('Month')['Profit'].sum().reset_index()\n",
    "df_trend.head()"
   ]
  },
  {
   "cell_type": "code",
   "execution_count": 47,
   "metadata": {},
   "outputs": [
    {
     "data": {
      "image/png": "[encoded data removed]",
      "text/plain": [
       "<Figure size 864x576 with 1 Axes>"
      ]
     },
     "metadata": {
      "needs_background": "light"
     },
     "output_type": "display_data"
    }
   ],
   "source": [
    "BranchB_df.groupby('Month')['Profit'].sum().sort_values(ascending=True).plot(kind=\"bar\", figsize=(12,8))\n",
    "plt.show()"
   ]
  },
  {
   "cell_type": "markdown",
   "metadata": {},
   "source": [
    "#### 2013"
   ]
  },
  {
   "cell_type": "code",
   "execution_count": 48,
   "metadata": {},
   "outputs": [
    {
     "data": {
      "text/html": [
       "<div>\n",
       "<style scoped>\n",
       "    .dataframe tbody tr th:only-of-type {\n",
       "        vertical-align: middle;\n",
       "    }\n",
       "\n",
       "    .dataframe tbody tr th {\n",
       "        vertical-align: top;\n",
       "    }\n",
       "\n",
       "    .dataframe thead th {\n",
       "        text-align: right;\n",
       "    }\n",
       "</style>\n",
       "<table border=\"1\" class=\"dataframe\">\n",
       "  <thead>\n",
       "    <tr style=\"text-align: right;\">\n",
       "      <th></th>\n",
       "      <th>Month</th>\n",
       "      <th>Profit</th>\n",
       "    </tr>\n",
       "  </thead>\n",
       "  <tbody>\n",
       "    <tr>\n",
       "      <th>0</th>\n",
       "      <td>Apr</td>\n",
       "      <td>26008.05144</td>\n",
       "    </tr>\n",
       "    <tr>\n",
       "      <th>1</th>\n",
       "      <td>Aug</td>\n",
       "      <td>32977.75576</td>\n",
       "    </tr>\n",
       "    <tr>\n",
       "      <th>2</th>\n",
       "      <td>Dec</td>\n",
       "      <td>47654.27990</td>\n",
       "    </tr>\n",
       "    <tr>\n",
       "      <th>3</th>\n",
       "      <td>Feb</td>\n",
       "      <td>31553.99756</td>\n",
       "    </tr>\n",
       "    <tr>\n",
       "      <th>4</th>\n",
       "      <td>Jan</td>\n",
       "      <td>26052.40252</td>\n",
       "    </tr>\n",
       "  </tbody>\n",
       "</table>\n",
       "</div>"
      ],
      "text/plain": [
       "  Month       Profit\n",
       "0   Apr  26008.05144\n",
       "1   Aug  32977.75576\n",
       "2   Dec  47654.27990\n",
       "3   Feb  31553.99756\n",
       "4   Jan  26052.40252"
      ]
     },
     "execution_count": 48,
     "metadata": {},
     "output_type": "execute_result"
    }
   ],
   "source": [
    "df_trend = BranchC_df.groupby('Month')['Profit'].sum().reset_index()\n",
    "df_trend.head()"
   ]
  },
  {
   "cell_type": "code",
   "execution_count": 49,
   "metadata": {},
   "outputs": [
    {
     "data": {
      "image/png": "[encoded data removed]",
      "text/plain": [
       "<Figure size 864x576 with 1 Axes>"
      ]
     },
     "metadata": {
      "needs_background": "light"
     },
     "output_type": "display_data"
    }
   ],
   "source": [
    "BranchC_df.groupby('Month')['Profit'].sum().sort_values(ascending=True).plot(kind=\"bar\", figsize=(12,8))\n",
    "plt.show()"
   ]
  },
  {
   "cell_type": "markdown",
   "metadata": {},
   "source": [
    "#### 2014"
   ]
  },
  {
   "cell_type": "code",
   "execution_count": 50,
   "metadata": {},
   "outputs": [
    {
     "data": {
      "text/html": [
       "<div>\n",
       "<style scoped>\n",
       "    .dataframe tbody tr th:only-of-type {\n",
       "        vertical-align: middle;\n",
       "    }\n",
       "\n",
       "    .dataframe tbody tr th {\n",
       "        vertical-align: top;\n",
       "    }\n",
       "\n",
       "    .dataframe thead th {\n",
       "        text-align: right;\n",
       "    }\n",
       "</style>\n",
       "<table border=\"1\" class=\"dataframe\">\n",
       "  <thead>\n",
       "    <tr style=\"text-align: right;\">\n",
       "      <th></th>\n",
       "      <th>Month</th>\n",
       "      <th>Profit</th>\n",
       "    </tr>\n",
       "  </thead>\n",
       "  <tbody>\n",
       "    <tr>\n",
       "      <th>0</th>\n",
       "      <td>Apr</td>\n",
       "      <td>35709.53320</td>\n",
       "    </tr>\n",
       "    <tr>\n",
       "      <th>1</th>\n",
       "      <td>Aug</td>\n",
       "      <td>46443.47934</td>\n",
       "    </tr>\n",
       "    <tr>\n",
       "      <th>2</th>\n",
       "      <td>Dec</td>\n",
       "      <td>48920.76000</td>\n",
       "    </tr>\n",
       "    <tr>\n",
       "      <th>3</th>\n",
       "      <td>Feb</td>\n",
       "      <td>29454.01876</td>\n",
       "    </tr>\n",
       "    <tr>\n",
       "      <th>4</th>\n",
       "      <td>Jan</td>\n",
       "      <td>31447.74660</td>\n",
       "    </tr>\n",
       "  </tbody>\n",
       "</table>\n",
       "</div>"
      ],
      "text/plain": [
       "  Month       Profit\n",
       "0   Apr  35709.53320\n",
       "1   Aug  46443.47934\n",
       "2   Dec  48920.76000\n",
       "3   Feb  29454.01876\n",
       "4   Jan  31447.74660"
      ]
     },
     "execution_count": 50,
     "metadata": {},
     "output_type": "execute_result"
    }
   ],
   "source": [
    "df_trend = BranchD_df.groupby('Month')['Profit'].sum().reset_index()\n",
    "df_trend.head()"
   ]
  },
  {
   "cell_type": "code",
   "execution_count": 51,
   "metadata": {},
   "outputs": [
    {
     "data": {
      "image/png": "[encoded data removed]",
      "text/plain": [
       "<Figure size 864x576 with 1 Axes>"
      ]
     },
     "metadata": {
      "needs_background": "light"
     },
     "output_type": "display_data"
    }
   ],
   "source": [
    "BranchD_df.groupby('Month')['Profit'].sum().sort_values(ascending=True).plot(kind=\"bar\", figsize=(12,8))\n",
    "plt.show()"
   ]
  },
  {
   "cell_type": "markdown",
   "metadata": {},
   "source": [
    "#### General"
   ]
  },
  {
   "cell_type": "code",
   "execution_count": 52,
   "metadata": {},
   "outputs": [],
   "source": [
    "#Generating Profit of 2011\n",
    "profit_2011 = pd.DataFrame(BranchA_df.groupby(\"Month\")[\"Profit\"].sum()).reset_index()\n",
    "#convert ordered month back from month abrv in string to date.time month\n",
    "profit_2011[\"Month\"] = pd.to_datetime(profit_2011[\"Month\"], format='%b', errors='coerce').dt.month\n",
    "#sort out based on date.time month\n",
    "profit_2011 = profit_2011.sort_values(by=\"Month\")\n",
    "\n",
    "#Generating Profit of 2012\n",
    "profit_2012 = pd.DataFrame(BranchB_df.groupby(\"Month\")[\"Profit\"].sum()).reset_index()\n",
    "#convert ordered month back from month abrv in string to date.time month\n",
    "profit_2012[\"Month\"] = pd.to_datetime(profit_2012[\"Month\"], format='%b', errors='coerce').dt.month\n",
    "#sort out based on date.time month\n",
    "profit_2012 = profit_2012.sort_values(by=\"Month\")\n",
    "\n",
    "#Generating Profit of 2013\n",
    "profit_2013 = pd.DataFrame(BranchC_df.groupby(\"Month\")[\"Profit\"].sum()).reset_index()\n",
    "#convert ordered month back from month abrv in string to date.time month\n",
    "profit_2013[\"Month\"] = pd.to_datetime(profit_2013[\"Month\"], format='%b', errors='coerce').dt.month\n",
    "#sort out based on date.time month\n",
    "profit_2013 = profit_2013.sort_values(by=\"Month\")\n",
    "\n",
    "#Generating Profit of 2014\n",
    "profit_2014 = pd.DataFrame(BranchD_df.groupby(\"Month\")[\"Profit\"].sum()).reset_index()\n",
    "#convert ordered month back from month abrv in string to date.time month\n",
    "profit_2014[\"Month\"] = pd.to_datetime(profit_2014[\"Month\"], format='%b', errors='coerce').dt.month\n",
    "#sort out based on date.time month\n",
    "profit_2014 = profit_2014.sort_values(by=\"Month\")"
   ]
  },
  {
   "cell_type": "code",
   "execution_count": 53,
   "metadata": {},
   "outputs": [
    {
     "data": {
      "image/png": "[encoded data removed]",
      "text/plain": [
       "<Figure size 1152x576 with 1 Axes>"
      ]
     },
     "metadata": {
      "needs_background": "light"
     },
     "output_type": "display_data"
    }
   ],
   "source": [
    "#style.use('dark_background')\n",
    "plt.figure(figsize=[16,8])\n",
    "plt.grid()\n",
    "plt.title(\"Trend of Sales for the year 2011,2012,2013,2014\", fontsize = 16)\n",
    "plt.xlabel(\"Months\",fontsize=16)\n",
    "plt.ylabel(\"Sales\",fontsize=16)\n",
    "label = [\"Jan\",\"Feb\",\"Mar\",\"Apr\",\"May\",\"Jun\",\"Jul\",\"Aug\",\"Sep\",\"Oct\",\"Nov\",\"Dec\"]\n",
    "x = profit_2011[\"Month\"]\n",
    "plt.xticks(x,labels=label)\n",
    "plt.plot(x,profit_2011[\"Profit\"],label =\"2011\",lw=3,ls='--', marker='o')\n",
    "plt.plot(x,profit_2012[\"Profit\"],label=\"2012\",lw=3,ls='-', marker='s')\n",
    "plt.plot(x,profit_2013[\"Profit\"],label=\"2013\",lw=3,ls='--', marker='1')\n",
    "plt.plot(x,profit_2014[\"Profit\"],label=\"2014\",lw=3,ls='-', marker='+')\n",
    "plt.legend()\n",
    "plt.show()"
   ]
  },
  {
   "cell_type": "markdown",
   "metadata": {},
   "source": [
    "### 7. The general trend of sales from 2011 - 2014"
   ]
  },
  {
   "cell_type": "code",
   "execution_count": 54,
   "metadata": {},
   "outputs": [
    {
     "data": {
      "text/html": [
       "<div>\n",
       "<style scoped>\n",
       "    .dataframe tbody tr th:only-of-type {\n",
       "        vertical-align: middle;\n",
       "    }\n",
       "\n",
       "    .dataframe tbody tr th {\n",
       "        vertical-align: top;\n",
       "    }\n",
       "\n",
       "    .dataframe thead th {\n",
       "        text-align: right;\n",
       "    }\n",
       "</style>\n",
       "<table border=\"1\" class=\"dataframe\">\n",
       "  <thead>\n",
       "    <tr style=\"text-align: right;\">\n",
       "      <th></th>\n",
       "      <th>Year</th>\n",
       "      <th>Sales</th>\n",
       "    </tr>\n",
       "  </thead>\n",
       "  <tbody>\n",
       "    <tr>\n",
       "      <th>0</th>\n",
       "      <td>2011</td>\n",
       "      <td>2.259451e+06</td>\n",
       "    </tr>\n",
       "    <tr>\n",
       "      <th>1</th>\n",
       "      <td>2012</td>\n",
       "      <td>2.677439e+06</td>\n",
       "    </tr>\n",
       "    <tr>\n",
       "      <th>2</th>\n",
       "      <td>2013</td>\n",
       "      <td>3.405746e+06</td>\n",
       "    </tr>\n",
       "    <tr>\n",
       "      <th>3</th>\n",
       "      <td>2014</td>\n",
       "      <td>4.299866e+06</td>\n",
       "    </tr>\n",
       "  </tbody>\n",
       "</table>\n",
       "</div>"
      ],
      "text/plain": [
       "   Year         Sales\n",
       "0  2011  2.259451e+06\n",
       "1  2012  2.677439e+06\n",
       "2  2013  3.405746e+06\n",
       "3  2014  4.299866e+06"
      ]
     },
     "execution_count": 54,
     "metadata": {},
     "output_type": "execute_result"
    }
   ],
   "source": [
    "df_trend = data.groupby('Year')['Sales'].sum().reset_index()\n",
    "df_trend"
   ]
  },
  {
   "cell_type": "code",
   "execution_count": 55,
   "metadata": {},
   "outputs": [
    {
     "data": {
      "image/png": "[encoded data removed]",
      "text/plain": [
       "<Figure size 864x576 with 1 Axes>"
      ]
     },
     "metadata": {
      "needs_background": "light"
     },
     "output_type": "display_data"
    }
   ],
   "source": [
    "data.groupby('Year')['Sales'].sum().sort_values(ascending=True).plot(kind=\"bar\", figsize=(12,8))\n",
    "plt.show()"
   ]
  },
  {
   "cell_type": "markdown",
   "metadata": {},
   "source": [
    "### 8. What is the correlation between discount and sale?"
   ]
  },
  {
   "cell_type": "code",
   "execution_count": 56,
   "metadata": {},
   "outputs": [
    {
     "name": "stdout",
     "output_type": "stream",
     "text": [
      "Correlation between discount and sales is:  -0.09\n"
     ]
    }
   ],
   "source": [
    "corr = data['Discount'].corr(data['Sales'])\n",
    "print(\"Correlation between discount and sales is: \", round(corr, 2))"
   ]
  },
  {
   "cell_type": "markdown",
   "metadata": {},
   "source": [
    "**The correlation coefficient between `Discount` and `Sales` indicates a very weak one.**"
   ]
  },
  {
   "cell_type": "markdown",
   "metadata": {},
   "source": [
    "### 9. Does the shipping cost affect the sales?"
   ]
  },
  {
   "cell_type": "code",
   "execution_count": 57,
   "metadata": {},
   "outputs": [
    {
     "name": "stdout",
     "output_type": "stream",
     "text": [
      "Correlation between Shipping Cost and sales is:  0.77\n"
     ]
    }
   ],
   "source": [
    "corr = data['Shipping Cost'].corr(data['Sales'])\n",
    "print(\"Correlation between Shipping Cost and sales is: \", round(corr, 2))"
   ]
  },
  {
   "cell_type": "markdown",
   "metadata": {},
   "source": [
    "**Yes, we can say that `Shipping Cost` affect `Sales` since their correlation coefficient is on the high side**"
   ]
  },
  {
   "cell_type": "markdown",
   "metadata": {},
   "source": [
    "### 10. What is the dominant product category in each market?"
   ]
  },
  {
   "cell_type": "code",
   "execution_count": 58,
   "metadata": {},
   "outputs": [
    {
     "data": {
      "image/png": "[encoded data removed]",
      "text/plain": [
       "<Figure size 1080x720 with 1 Axes>"
      ]
     },
     "metadata": {
      "needs_background": "light"
     },
     "output_type": "display_data"
    }
   ],
   "source": [
    "plt.figure(figsize=[15,10])\n",
    "ax = sns.barplot(x=\"Market\", y=\"Sales\", hue=\"Category\", data=data, palette=\"Oranges\")\n",
    "plt.show()"
   ]
  },
  {
   "cell_type": "markdown",
   "metadata": {},
   "source": [
    "**From the graph above, the dominant product category in each market is `Technology`**"
   ]
  },
  {
   "cell_type": "markdown",
   "metadata": {},
   "source": [
    "### 11. City with most orders for a given product category?"
   ]
  },
  {
   "cell_type": "markdown",
   "metadata": {},
   "source": [
    "#### Office Supplies"
   ]
  },
  {
   "cell_type": "code",
   "execution_count": 59,
   "metadata": {},
   "outputs": [
    {
     "data": {
      "text/html": [
       "<div>\n",
       "<style scoped>\n",
       "    .dataframe tbody tr th:only-of-type {\n",
       "        vertical-align: middle;\n",
       "    }\n",
       "\n",
       "    .dataframe tbody tr th {\n",
       "        vertical-align: top;\n",
       "    }\n",
       "\n",
       "    .dataframe thead th {\n",
       "        text-align: right;\n",
       "    }\n",
       "</style>\n",
       "<table border=\"1\" class=\"dataframe\">\n",
       "  <thead>\n",
       "    <tr style=\"text-align: right;\">\n",
       "      <th></th>\n",
       "      <th>City</th>\n",
       "      <th>Quantity</th>\n",
       "    </tr>\n",
       "  </thead>\n",
       "  <tbody>\n",
       "    <tr>\n",
       "      <th>2102</th>\n",
       "      <td>New York City</td>\n",
       "      <td>2065</td>\n",
       "    </tr>\n",
       "    <tr>\n",
       "      <th>1747</th>\n",
       "      <td>Los Angeles</td>\n",
       "      <td>1688</td>\n",
       "    </tr>\n",
       "    <tr>\n",
       "      <th>2608</th>\n",
       "      <td>San Francisco</td>\n",
       "      <td>1220</td>\n",
       "    </tr>\n",
       "    <tr>\n",
       "      <th>2295</th>\n",
       "      <td>Philadelphia</td>\n",
       "      <td>1127</td>\n",
       "    </tr>\n",
       "    <tr>\n",
       "      <th>2695</th>\n",
       "      <td>Seattle</td>\n",
       "      <td>928</td>\n",
       "    </tr>\n",
       "    <tr>\n",
       "      <th>1279</th>\n",
       "      <td>Houston</td>\n",
       "      <td>924</td>\n",
       "    </tr>\n",
       "    <tr>\n",
       "      <th>2668</th>\n",
       "      <td>Santo Domingo</td>\n",
       "      <td>897</td>\n",
       "    </tr>\n",
       "    <tr>\n",
       "      <th>1824</th>\n",
       "      <td>Manila</td>\n",
       "      <td>813</td>\n",
       "    </tr>\n",
       "    <tr>\n",
       "      <th>2918</th>\n",
       "      <td>Tegucigalpa</td>\n",
       "      <td>792</td>\n",
       "    </tr>\n",
       "    <tr>\n",
       "      <th>1818</th>\n",
       "      <td>Managua</td>\n",
       "      <td>719</td>\n",
       "    </tr>\n",
       "    <tr>\n",
       "      <th>1381</th>\n",
       "      <td>Jakarta</td>\n",
       "      <td>709</td>\n",
       "    </tr>\n",
       "    <tr>\n",
       "      <th>640</th>\n",
       "      <td>Chicago</td>\n",
       "      <td>700</td>\n",
       "    </tr>\n",
       "    <tr>\n",
       "      <th>1733</th>\n",
       "      <td>London</td>\n",
       "      <td>674</td>\n",
       "    </tr>\n",
       "    <tr>\n",
       "      <th>258</th>\n",
       "      <td>Bangkok</td>\n",
       "      <td>647</td>\n",
       "    </tr>\n",
       "    <tr>\n",
       "      <th>1927</th>\n",
       "      <td>Mexico City</td>\n",
       "      <td>624</td>\n",
       "    </tr>\n",
       "  </tbody>\n",
       "</table>\n",
       "</div>"
      ],
      "text/plain": [
       "               City  Quantity\n",
       "2102  New York City      2065\n",
       "1747    Los Angeles      1688\n",
       "2608  San Francisco      1220\n",
       "2295   Philadelphia      1127\n",
       "2695        Seattle       928\n",
       "1279        Houston       924\n",
       "2668  Santo Domingo       897\n",
       "1824         Manila       813\n",
       "2918    Tegucigalpa       792\n",
       "1818        Managua       719\n",
       "1381        Jakarta       709\n",
       "640         Chicago       700\n",
       "1733         London       674\n",
       "258         Bangkok       647\n",
       "1927    Mexico City       624"
      ]
     },
     "execution_count": 59,
     "metadata": {},
     "output_type": "execute_result"
    }
   ],
   "source": [
    "Office_sup = data.loc[(data.Category == 'Office Supplies')]\n",
    "\n",
    "# Top 15 cities with the highest order\n",
    "top_office = Office_sup.groupby('City')['Quantity'].sum().reset_index().nlargest(15,columns = \"Quantity\")\n",
    "top_office"
   ]
  },
  {
   "cell_type": "code",
   "execution_count": 60,
   "metadata": {},
   "outputs": [
    {
     "data": {
      "image/png": "[encoded data removed]",
      "text/plain": [
       "<Figure size 864x576 with 1 Axes>"
      ]
     },
     "metadata": {
      "needs_background": "light"
     },
     "output_type": "display_data"
    }
   ],
   "source": [
    "top_office.groupby('City')['Quantity'].sum().sort_values(ascending=False).plot(kind=\"bar\", figsize=(12,8), title=\"Top cities with most order in Office supplies Category\")\n",
    "plt.show()"
   ]
  },
  {
   "cell_type": "markdown",
   "metadata": {},
   "source": [
    "#### Furniture"
   ]
  },
  {
   "cell_type": "code",
   "execution_count": 61,
   "metadata": {},
   "outputs": [
    {
     "data": {
      "text/html": [
       "<div>\n",
       "<style scoped>\n",
       "    .dataframe tbody tr th:only-of-type {\n",
       "        vertical-align: middle;\n",
       "    }\n",
       "\n",
       "    .dataframe tbody tr th {\n",
       "        vertical-align: top;\n",
       "    }\n",
       "\n",
       "    .dataframe thead th {\n",
       "        text-align: right;\n",
       "    }\n",
       "</style>\n",
       "<table border=\"1\" class=\"dataframe\">\n",
       "  <thead>\n",
       "    <tr style=\"text-align: right;\">\n",
       "      <th></th>\n",
       "      <th>City</th>\n",
       "      <th>Quantity</th>\n",
       "    </tr>\n",
       "  </thead>\n",
       "  <tbody>\n",
       "    <tr>\n",
       "      <th>1480</th>\n",
       "      <td>New York City</td>\n",
       "      <td>720</td>\n",
       "    </tr>\n",
       "    <tr>\n",
       "      <th>1221</th>\n",
       "      <td>Los Angeles</td>\n",
       "      <td>588</td>\n",
       "    </tr>\n",
       "    <tr>\n",
       "      <th>1616</th>\n",
       "      <td>Philadelphia</td>\n",
       "      <td>449</td>\n",
       "    </tr>\n",
       "    <tr>\n",
       "      <th>1281</th>\n",
       "      <td>Manila</td>\n",
       "      <td>441</td>\n",
       "    </tr>\n",
       "    <tr>\n",
       "      <th>1892</th>\n",
       "      <td>Santo Domingo</td>\n",
       "      <td>417</td>\n",
       "    </tr>\n",
       "    <tr>\n",
       "      <th>1839</th>\n",
       "      <td>San Francisco</td>\n",
       "      <td>399</td>\n",
       "    </tr>\n",
       "    <tr>\n",
       "      <th>1906</th>\n",
       "      <td>Seattle</td>\n",
       "      <td>370</td>\n",
       "    </tr>\n",
       "    <tr>\n",
       "      <th>1358</th>\n",
       "      <td>Mexico City</td>\n",
       "      <td>301</td>\n",
       "    </tr>\n",
       "    <tr>\n",
       "      <th>2061</th>\n",
       "      <td>Tegucigalpa</td>\n",
       "      <td>301</td>\n",
       "    </tr>\n",
       "    <tr>\n",
       "      <th>898</th>\n",
       "      <td>Houston</td>\n",
       "      <td>291</td>\n",
       "    </tr>\n",
       "    <tr>\n",
       "      <th>972</th>\n",
       "      <td>Jakarta</td>\n",
       "      <td>268</td>\n",
       "    </tr>\n",
       "    <tr>\n",
       "      <th>1276</th>\n",
       "      <td>Managua</td>\n",
       "      <td>262</td>\n",
       "    </tr>\n",
       "    <tr>\n",
       "      <th>2014</th>\n",
       "      <td>Sydney</td>\n",
       "      <td>258</td>\n",
       "    </tr>\n",
       "    <tr>\n",
       "      <th>447</th>\n",
       "      <td>Chicago</td>\n",
       "      <td>231</td>\n",
       "    </tr>\n",
       "    <tr>\n",
       "      <th>177</th>\n",
       "      <td>Bangkok</td>\n",
       "      <td>223</td>\n",
       "    </tr>\n",
       "  </tbody>\n",
       "</table>\n",
       "</div>"
      ],
      "text/plain": [
       "               City  Quantity\n",
       "1480  New York City       720\n",
       "1221    Los Angeles       588\n",
       "1616   Philadelphia       449\n",
       "1281         Manila       441\n",
       "1892  Santo Domingo       417\n",
       "1839  San Francisco       399\n",
       "1906        Seattle       370\n",
       "1358    Mexico City       301\n",
       "2061    Tegucigalpa       301\n",
       "898         Houston       291\n",
       "972         Jakarta       268\n",
       "1276        Managua       262\n",
       "2014         Sydney       258\n",
       "447         Chicago       231\n",
       "177         Bangkok       223"
      ]
     },
     "execution_count": 61,
     "metadata": {},
     "output_type": "execute_result"
    }
   ],
   "source": [
    "Furniture = data.loc[(data.Category == 'Furniture')]\n",
    "\n",
    "# Top 15 cities with the highest order\n",
    "top_furniture = Furniture.groupby('City')['Quantity'].sum().reset_index().nlargest(15,columns = \"Quantity\")\n",
    "top_furniture"
   ]
  },
  {
   "cell_type": "code",
   "execution_count": 62,
   "metadata": {},
   "outputs": [
    {
     "data": {
      "image/png": "[encoded data removed]",
      "text/plain": [
       "<Figure size 864x576 with 1 Axes>"
      ]
     },
     "metadata": {
      "needs_background": "light"
     },
     "output_type": "display_data"
    }
   ],
   "source": [
    "top_furniture.groupby('City')['Quantity'].sum().sort_values(ascending=False).plot(kind=\"bar\", figsize=(12,8), title=\"Top cities with most order in Furniture Category\")\n",
    "plt.show()"
   ]
  },
  {
   "cell_type": "markdown",
   "metadata": {},
   "source": [
    "#### Technology"
   ]
  },
  {
   "cell_type": "code",
   "execution_count": 63,
   "metadata": {},
   "outputs": [
    {
     "data": {
      "text/html": [
       "<div>\n",
       "<style scoped>\n",
       "    .dataframe tbody tr th:only-of-type {\n",
       "        vertical-align: middle;\n",
       "    }\n",
       "\n",
       "    .dataframe tbody tr th {\n",
       "        vertical-align: top;\n",
       "    }\n",
       "\n",
       "    .dataframe thead th {\n",
       "        text-align: right;\n",
       "    }\n",
       "</style>\n",
       "<table border=\"1\" class=\"dataframe\">\n",
       "  <thead>\n",
       "    <tr style=\"text-align: right;\">\n",
       "      <th></th>\n",
       "      <th>City</th>\n",
       "      <th>Quantity</th>\n",
       "    </tr>\n",
       "  </thead>\n",
       "  <tbody>\n",
       "    <tr>\n",
       "      <th>1522</th>\n",
       "      <td>New York City</td>\n",
       "      <td>632</td>\n",
       "    </tr>\n",
       "    <tr>\n",
       "      <th>1249</th>\n",
       "      <td>Los Angeles</td>\n",
       "      <td>603</td>\n",
       "    </tr>\n",
       "    <tr>\n",
       "      <th>1316</th>\n",
       "      <td>Manila</td>\n",
       "      <td>407</td>\n",
       "    </tr>\n",
       "    <tr>\n",
       "      <th>1655</th>\n",
       "      <td>Philadelphia</td>\n",
       "      <td>405</td>\n",
       "    </tr>\n",
       "    <tr>\n",
       "      <th>1930</th>\n",
       "      <td>Santo Domingo</td>\n",
       "      <td>335</td>\n",
       "    </tr>\n",
       "    <tr>\n",
       "      <th>1882</th>\n",
       "      <td>San Francisco</td>\n",
       "      <td>316</td>\n",
       "    </tr>\n",
       "    <tr>\n",
       "      <th>1949</th>\n",
       "      <td>Seattle</td>\n",
       "      <td>292</td>\n",
       "    </tr>\n",
       "    <tr>\n",
       "      <th>1310</th>\n",
       "      <td>Managua</td>\n",
       "      <td>252</td>\n",
       "    </tr>\n",
       "    <tr>\n",
       "      <th>925</th>\n",
       "      <td>Houston</td>\n",
       "      <td>251</td>\n",
       "    </tr>\n",
       "    <tr>\n",
       "      <th>2051</th>\n",
       "      <td>Sydney</td>\n",
       "      <td>251</td>\n",
       "    </tr>\n",
       "    <tr>\n",
       "      <th>990</th>\n",
       "      <td>Jakarta</td>\n",
       "      <td>249</td>\n",
       "    </tr>\n",
       "    <tr>\n",
       "      <th>2099</th>\n",
       "      <td>Tegucigalpa</td>\n",
       "      <td>241</td>\n",
       "    </tr>\n",
       "    <tr>\n",
       "      <th>1392</th>\n",
       "      <td>Mexico City</td>\n",
       "      <td>218</td>\n",
       "    </tr>\n",
       "    <tr>\n",
       "      <th>183</th>\n",
       "      <td>Bangkok</td>\n",
       "      <td>213</td>\n",
       "    </tr>\n",
       "    <tr>\n",
       "      <th>451</th>\n",
       "      <td>Chicago</td>\n",
       "      <td>201</td>\n",
       "    </tr>\n",
       "  </tbody>\n",
       "</table>\n",
       "</div>"
      ],
      "text/plain": [
       "               City  Quantity\n",
       "1522  New York City       632\n",
       "1249    Los Angeles       603\n",
       "1316         Manila       407\n",
       "1655   Philadelphia       405\n",
       "1930  Santo Domingo       335\n",
       "1882  San Francisco       316\n",
       "1949        Seattle       292\n",
       "1310        Managua       252\n",
       "925         Houston       251\n",
       "2051         Sydney       251\n",
       "990         Jakarta       249\n",
       "2099    Tegucigalpa       241\n",
       "1392    Mexico City       218\n",
       "183         Bangkok       213\n",
       "451         Chicago       201"
      ]
     },
     "execution_count": 63,
     "metadata": {},
     "output_type": "execute_result"
    }
   ],
   "source": [
    "Technology = data.loc[(data.Category == 'Technology')]\n",
    "\n",
    "# Top 15 cities with the highest order\n",
    "top_tech = Technology.groupby('City')['Quantity'].sum().reset_index().nlargest(15,columns = \"Quantity\")\n",
    "top_tech"
   ]
  },
  {
   "cell_type": "code",
   "execution_count": 64,
   "metadata": {},
   "outputs": [
    {
     "data": {
      "image/png": "[encoded data removed]",
      "text/plain": [
       "<Figure size 864x576 with 1 Axes>"
      ]
     },
     "metadata": {
      "needs_background": "light"
     },
     "output_type": "display_data"
    }
   ],
   "source": [
    "top_tech.groupby('City')['Quantity'].sum().sort_values(ascending=False).plot(kind=\"bar\", figsize=(12,8), title=\"Top cities with most order in Technology Category\")\n",
    "plt.show()"
   ]
  },
  {
   "cell_type": "markdown",
   "metadata": {},
   "source": [
    "**`New York` made the highest order with 3 seperate `Categories`**"
   ]
  },
  {
   "cell_type": "markdown",
   "metadata": {},
   "source": [
    "### 12. which products are making loss?"
   ]
  },
  {
   "cell_type": "code",
   "execution_count": 65,
   "metadata": {},
   "outputs": [
    {
     "data": {
      "image/png": "[encoded data removed]",
      "text/plain": [
       "<Figure size 864x576 with 1 Axes>"
      ]
     },
     "metadata": {
      "needs_background": "light"
     },
     "output_type": "display_data"
    }
   ],
   "source": [
    "data.groupby(\"Sub-Category\")[\"Profit\"].sum().sort_values(ascending=False).plot(kind=\"bar\", figsize=(12,8))\n",
    "plt.show()"
   ]
  },
  {
   "cell_type": "markdown",
   "metadata": {},
   "source": [
    "**`Tables` are making -ve profit, we need to figure out what's going on in that end**"
   ]
  },
  {
   "cell_type": "code",
   "execution_count": 66,
   "metadata": {},
   "outputs": [
    {
     "data": {
      "image/png": "[encoded data removed]",
      "text/plain": [
       "<Figure size 864x576 with 1 Axes>"
      ]
     },
     "metadata": {
      "needs_background": "light"
     },
     "output_type": "display_data"
    }
   ],
   "source": [
    "data.groupby(\"Product Name\")[\"Profit\"].sum().nsmallest(15).sort_values(ascending=False).plot(kind=\"bar\",color= \"red\",title=\"Products that are making losses\", figsize=(12,8))\n",
    "plt.show()"
   ]
  },
  {
   "cell_type": "markdown",
   "metadata": {},
   "source": [
    "**The graph above shows the different product name with -ve profit i.e loss**"
   ]
  },
  {
   "cell_type": "markdown",
   "metadata": {},
   "source": [
    "### 13. Which segment provides more profit?"
   ]
  },
  {
   "cell_type": "code",
   "execution_count": 67,
   "metadata": {},
   "outputs": [
    {
     "data": {
      "image/png": "[encoded data removed]",
      "text/plain": [
       "<Figure size 864x576 with 1 Axes>"
      ]
     },
     "metadata": {
      "needs_background": "light"
     },
     "output_type": "display_data"
    }
   ],
   "source": [
    "x = data.groupby(by='Segment')[['Profit']].sum()\n",
    "y = x.sort_values(by=['Profit'],ascending=True)\n",
    "\n",
    "y.plot(kind='bar', figsize=(12,8))\n",
    "plt.show()"
   ]
  },
  {
   "cell_type": "markdown",
   "metadata": {},
   "source": [
    "**`Consumer Segment` brings in the highest profit followed by `Corporate` then `Home Office`**"
   ]
  },
  {
   "cell_type": "markdown",
   "metadata": {},
   "source": [
    "### 14. what is the correlation between quantity and profit?"
   ]
  },
  {
   "cell_type": "code",
   "execution_count": 68,
   "metadata": {},
   "outputs": [
    {
     "name": "stdout",
     "output_type": "stream",
     "text": [
      "Correlation between Quantity and Profit is:  0.1\n"
     ]
    }
   ],
   "source": [
    "corr = data['Quantity'].corr(data['Profit'])\n",
    "print(\"Correlation between Quantity and Profit is: \", round(corr, 2))"
   ]
  },
  {
   "cell_type": "markdown",
   "metadata": {},
   "source": [
    "### 15. what it the correlation between shipping cost and profit?"
   ]
  },
  {
   "cell_type": "code",
   "execution_count": 69,
   "metadata": {},
   "outputs": [
    {
     "name": "stdout",
     "output_type": "stream",
     "text": [
      "Correlation between Shipping Cost and Profit is:  0.35\n"
     ]
    }
   ],
   "source": [
    "corr = data['Shipping Cost'].corr(data['Profit'])\n",
    "print(\"Correlation between Shipping Cost and Profit is: \", round(corr, 2))"
   ]
  },
  {
   "cell_type": "markdown",
   "metadata": {},
   "source": [
    "### 16. Which order priority yields more sales?"
   ]
  },
  {
   "cell_type": "code",
   "execution_count": 70,
   "metadata": {},
   "outputs": [
    {
     "data": {
      "image/png": "[encoded data removed]",
      "text/plain": [
       "<Figure size 864x576 with 1 Axes>"
      ]
     },
     "metadata": {
      "needs_background": "light"
     },
     "output_type": "display_data"
    }
   ],
   "source": [
    "x = data.groupby(by='Order Priority')[['Sales']].sum()\n",
    "y = x.sort_values(by=['Sales'],ascending=True)\n",
    "\n",
    "y.plot(kind='bar', figsize=(12,8))\n",
    "plt.show()"
   ]
  },
  {
   "cell_type": "markdown",
   "metadata": {},
   "source": [
    "**`Medium` yields the highest `Sales`, then `High` and the rest**"
   ]
  },
  {
   "cell_type": "markdown",
   "metadata": {},
   "source": [
    "### 17. What is the average shipping cost to each region?"
   ]
  },
  {
   "cell_type": "code",
   "execution_count": 71,
   "metadata": {},
   "outputs": [
    {
     "data": {
      "text/html": [
       "<div>\n",
       "<style scoped>\n",
       "    .dataframe tbody tr th:only-of-type {\n",
       "        vertical-align: middle;\n",
       "    }\n",
       "\n",
       "    .dataframe tbody tr th {\n",
       "        vertical-align: top;\n",
       "    }\n",
       "\n",
       "    .dataframe thead th {\n",
       "        text-align: right;\n",
       "    }\n",
       "</style>\n",
       "<table border=\"1\" class=\"dataframe\">\n",
       "  <thead>\n",
       "    <tr style=\"text-align: right;\">\n",
       "      <th></th>\n",
       "      <th>Region</th>\n",
       "      <th>Shipping Cost</th>\n",
       "    </tr>\n",
       "  </thead>\n",
       "  <tbody>\n",
       "    <tr>\n",
       "      <th>0</th>\n",
       "      <td>North Asia</td>\n",
       "      <td>40.646112</td>\n",
       "    </tr>\n",
       "    <tr>\n",
       "      <th>1</th>\n",
       "      <td>Central Asia</td>\n",
       "      <td>38.003003</td>\n",
       "    </tr>\n",
       "    <tr>\n",
       "      <th>2</th>\n",
       "      <td>Oceania</td>\n",
       "      <td>34.593780</td>\n",
       "    </tr>\n",
       "    <tr>\n",
       "      <th>3</th>\n",
       "      <td>Southeast Asia</td>\n",
       "      <td>29.937948</td>\n",
       "    </tr>\n",
       "    <tr>\n",
       "      <th>4</th>\n",
       "      <td>North</td>\n",
       "      <td>27.476299</td>\n",
       "    </tr>\n",
       "    <tr>\n",
       "      <th>5</th>\n",
       "      <td>Central</td>\n",
       "      <td>26.710494</td>\n",
       "    </tr>\n",
       "    <tr>\n",
       "      <th>6</th>\n",
       "      <td>East</td>\n",
       "      <td>25.542001</td>\n",
       "    </tr>\n",
       "    <tr>\n",
       "      <th>7</th>\n",
       "      <td>South</td>\n",
       "      <td>25.353509</td>\n",
       "    </tr>\n",
       "    <tr>\n",
       "      <th>8</th>\n",
       "      <td>West</td>\n",
       "      <td>23.887687</td>\n",
       "    </tr>\n",
       "    <tr>\n",
       "      <th>9</th>\n",
       "      <td>Caribbean</td>\n",
       "      <td>21.059260</td>\n",
       "    </tr>\n",
       "    <tr>\n",
       "      <th>10</th>\n",
       "      <td>Canada</td>\n",
       "      <td>19.285495</td>\n",
       "    </tr>\n",
       "    <tr>\n",
       "      <th>11</th>\n",
       "      <td>Africa</td>\n",
       "      <td>19.215058</td>\n",
       "    </tr>\n",
       "    <tr>\n",
       "      <th>12</th>\n",
       "      <td>EMEA</td>\n",
       "      <td>17.573221</td>\n",
       "    </tr>\n",
       "  </tbody>\n",
       "</table>\n",
       "</div>"
      ],
      "text/plain": [
       "            Region  Shipping Cost\n",
       "0       North Asia      40.646112\n",
       "1     Central Asia      38.003003\n",
       "2          Oceania      34.593780\n",
       "3   Southeast Asia      29.937948\n",
       "4            North      27.476299\n",
       "5          Central      26.710494\n",
       "6             East      25.542001\n",
       "7            South      25.353509\n",
       "8             West      23.887687\n",
       "9        Caribbean      21.059260\n",
       "10          Canada      19.285495\n",
       "11          Africa      19.215058\n",
       "12            EMEA      17.573221"
      ]
     },
     "execution_count": 71,
     "metadata": {},
     "output_type": "execute_result"
    }
   ],
   "source": [
    "avg_dist = data.groupby(by=\"Region\")['Shipping Cost'].agg(np.mean).sort_values(ascending=False).reset_index()\n",
    "\n",
    "# Regions with highest Average shipping cost\n",
    "avg_dist"
   ]
  },
  {
   "cell_type": "markdown",
   "metadata": {},
   "source": [
    "### 18. What product categories should be targetted to the  different markets?"
   ]
  },
  {
   "cell_type": "code",
   "execution_count": 72,
   "metadata": {},
   "outputs": [],
   "source": [
    "# plt.figure(figsize=[12,10])\n",
    "# ax = sns.barplot(x=\"Market\", y=\"Sales\", hue=\"Category\", data=data)\n",
    "# plt.show()"
   ]
  },
  {
   "cell_type": "markdown",
   "metadata": {},
   "source": [
    "**The sales of `Technology` has been the highest so far in all `Market Region`. We could need to find out why `Office Supplies` generate the lowest Sales across the `Market`**"
   ]
  },
  {
   "cell_type": "markdown",
   "metadata": {},
   "source": [
    "### 19. Does the interval between the order date and the shipping date affect sale and profit"
   ]
  },
  {
   "cell_type": "code",
   "execution_count": 73,
   "metadata": {},
   "outputs": [
    {
     "name": "stdout",
     "output_type": "stream",
     "text": [
      "Correlation between Quantity and Profit is:  0.01\n"
     ]
    }
   ],
   "source": [
    "corr = data['Order Interval'].corr(data['Profit'])\n",
    "print(\"Correlation between Quantity and Profit is: \", round(corr, 2))"
   ]
  },
  {
   "cell_type": "markdown",
   "metadata": {},
   "source": [
    "### Discount"
   ]
  },
  {
   "cell_type": "code",
   "execution_count": 74,
   "metadata": {},
   "outputs": [
    {
     "data": {
      "text/html": [
       "<div>\n",
       "<style scoped>\n",
       "    .dataframe tbody tr th:only-of-type {\n",
       "        vertical-align: middle;\n",
       "    }\n",
       "\n",
       "    .dataframe tbody tr th {\n",
       "        vertical-align: top;\n",
       "    }\n",
       "\n",
       "    .dataframe thead th {\n",
       "        text-align: right;\n",
       "    }\n",
       "</style>\n",
       "<table border=\"1\" class=\"dataframe\">\n",
       "  <thead>\n",
       "    <tr style=\"text-align: right;\">\n",
       "      <th></th>\n",
       "      <th>City</th>\n",
       "      <th>Discount</th>\n",
       "    </tr>\n",
       "  </thead>\n",
       "  <tbody>\n",
       "    <tr>\n",
       "      <th>0</th>\n",
       "      <td>Deer Park</td>\n",
       "      <td>0.8</td>\n",
       "    </tr>\n",
       "    <tr>\n",
       "      <th>1</th>\n",
       "      <td>Abilene</td>\n",
       "      <td>0.8</td>\n",
       "    </tr>\n",
       "    <tr>\n",
       "      <th>2</th>\n",
       "      <td>Missouri City</td>\n",
       "      <td>0.8</td>\n",
       "    </tr>\n",
       "    <tr>\n",
       "      <th>3</th>\n",
       "      <td>Romeoville</td>\n",
       "      <td>0.8</td>\n",
       "    </tr>\n",
       "    <tr>\n",
       "      <th>4</th>\n",
       "      <td>Kano</td>\n",
       "      <td>0.7</td>\n",
       "    </tr>\n",
       "  </tbody>\n",
       "</table>\n",
       "</div>"
      ],
      "text/plain": [
       "            City  Discount\n",
       "0      Deer Park       0.8\n",
       "1        Abilene       0.8\n",
       "2  Missouri City       0.8\n",
       "3     Romeoville       0.8\n",
       "4           Kano       0.7"
      ]
     },
     "execution_count": 74,
     "metadata": {},
     "output_type": "execute_result"
    }
   ],
   "source": [
    "# Average Discount per city\n",
    "avg_dist=data.groupby(by=\"City\")['Discount'].agg(np.mean).sort_values(ascending=False).reset_index()\n",
    "\n",
    "# Cities with highest Average discount\n",
    "avg_dist.head()"
   ]
  },
  {
   "cell_type": "code",
   "execution_count": 75,
   "metadata": {},
   "outputs": [
    {
     "data": {
      "text/html": [
       "<div>\n",
       "<style scoped>\n",
       "    .dataframe tbody tr th:only-of-type {\n",
       "        vertical-align: middle;\n",
       "    }\n",
       "\n",
       "    .dataframe tbody tr th {\n",
       "        vertical-align: top;\n",
       "    }\n",
       "\n",
       "    .dataframe thead th {\n",
       "        text-align: right;\n",
       "    }\n",
       "</style>\n",
       "<table border=\"1\" class=\"dataframe\">\n",
       "  <thead>\n",
       "    <tr style=\"text-align: right;\">\n",
       "      <th></th>\n",
       "      <th>City</th>\n",
       "      <th>Sales</th>\n",
       "    </tr>\n",
       "  </thead>\n",
       "  <tbody>\n",
       "    <tr>\n",
       "      <th>0</th>\n",
       "      <td>Kamina</td>\n",
       "      <td>3817.26000</td>\n",
       "    </tr>\n",
       "    <tr>\n",
       "      <th>1</th>\n",
       "      <td>Paysandú</td>\n",
       "      <td>3473.14000</td>\n",
       "    </tr>\n",
       "    <tr>\n",
       "      <th>2</th>\n",
       "      <td>Whakatane</td>\n",
       "      <td>3265.44000</td>\n",
       "    </tr>\n",
       "    <tr>\n",
       "      <th>3</th>\n",
       "      <td>Poitiers</td>\n",
       "      <td>2958.98400</td>\n",
       "    </tr>\n",
       "    <tr>\n",
       "      <th>4</th>\n",
       "      <td>Plaisir</td>\n",
       "      <td>2848.28625</td>\n",
       "    </tr>\n",
       "  </tbody>\n",
       "</table>\n",
       "</div>"
      ],
      "text/plain": [
       "        City       Sales\n",
       "0     Kamina  3817.26000\n",
       "1   Paysandú  3473.14000\n",
       "2  Whakatane  3265.44000\n",
       "3   Poitiers  2958.98400\n",
       "4    Plaisir  2848.28625"
      ]
     },
     "execution_count": 75,
     "metadata": {},
     "output_type": "execute_result"
    }
   ],
   "source": [
    "# Average Sales per city\n",
    "avg_sales=data.groupby(by=\"City\")['Sales'].agg(np.mean).sort_values(ascending=False).reset_index()\n",
    "\n",
    "# Cities with highest Average sales\n",
    "avg_sales.head()"
   ]
  },
  {
   "cell_type": "code",
   "execution_count": 76,
   "metadata": {},
   "outputs": [
    {
     "data": {
      "text/html": [
       "<div>\n",
       "<style scoped>\n",
       "    .dataframe tbody tr th:only-of-type {\n",
       "        vertical-align: middle;\n",
       "    }\n",
       "\n",
       "    .dataframe tbody tr th {\n",
       "        vertical-align: top;\n",
       "    }\n",
       "\n",
       "    .dataframe thead th {\n",
       "        text-align: right;\n",
       "    }\n",
       "</style>\n",
       "<table border=\"1\" class=\"dataframe\">\n",
       "  <thead>\n",
       "    <tr style=\"text-align: right;\">\n",
       "      <th></th>\n",
       "      <th>City</th>\n",
       "      <th>Profit</th>\n",
       "    </tr>\n",
       "  </thead>\n",
       "  <tbody>\n",
       "    <tr>\n",
       "      <th>0</th>\n",
       "      <td>Whakatane</td>\n",
       "      <td>1234.440</td>\n",
       "    </tr>\n",
       "    <tr>\n",
       "      <th>1</th>\n",
       "      <td>Xingtai</td>\n",
       "      <td>1068.840</td>\n",
       "    </tr>\n",
       "    <tr>\n",
       "      <th>2</th>\n",
       "      <td>Kamina</td>\n",
       "      <td>1068.660</td>\n",
       "    </tr>\n",
       "    <tr>\n",
       "      <th>3</th>\n",
       "      <td>Salto</td>\n",
       "      <td>988.120</td>\n",
       "    </tr>\n",
       "    <tr>\n",
       "      <th>4</th>\n",
       "      <td>Poitiers</td>\n",
       "      <td>953.274</td>\n",
       "    </tr>\n",
       "  </tbody>\n",
       "</table>\n",
       "</div>"
      ],
      "text/plain": [
       "        City    Profit\n",
       "0  Whakatane  1234.440\n",
       "1    Xingtai  1068.840\n",
       "2     Kamina  1068.660\n",
       "3      Salto   988.120\n",
       "4   Poitiers   953.274"
      ]
     },
     "execution_count": 76,
     "metadata": {},
     "output_type": "execute_result"
    }
   ],
   "source": [
    "# Average Profit per city\n",
    "avg_profit=data.groupby(by=\"City\")['Profit'].agg(np.mean).sort_values(ascending=False).reset_index()\n",
    "\n",
    "# Cities with highest Average profit\n",
    "avg_profit.head()"
   ]
  },
  {
   "cell_type": "code",
   "execution_count": 77,
   "metadata": {},
   "outputs": [
    {
     "data": {
      "text/html": [
       "<div>\n",
       "<style scoped>\n",
       "    .dataframe tbody tr th:only-of-type {\n",
       "        vertical-align: middle;\n",
       "    }\n",
       "\n",
       "    .dataframe tbody tr th {\n",
       "        vertical-align: top;\n",
       "    }\n",
       "\n",
       "    .dataframe thead th {\n",
       "        text-align: right;\n",
       "    }\n",
       "</style>\n",
       "<table border=\"1\" class=\"dataframe\">\n",
       "  <thead>\n",
       "    <tr style=\"text-align: right;\">\n",
       "      <th></th>\n",
       "      <th>City</th>\n",
       "      <th>Discount</th>\n",
       "      <th>Sales</th>\n",
       "    </tr>\n",
       "  </thead>\n",
       "  <tbody>\n",
       "    <tr>\n",
       "      <th>0</th>\n",
       "      <td>Deer Park</td>\n",
       "      <td>0.8</td>\n",
       "      <td>6.924000</td>\n",
       "    </tr>\n",
       "    <tr>\n",
       "      <th>1</th>\n",
       "      <td>Abilene</td>\n",
       "      <td>0.8</td>\n",
       "      <td>1.392000</td>\n",
       "    </tr>\n",
       "    <tr>\n",
       "      <th>2</th>\n",
       "      <td>Missouri City</td>\n",
       "      <td>0.8</td>\n",
       "      <td>6.370000</td>\n",
       "    </tr>\n",
       "    <tr>\n",
       "      <th>3</th>\n",
       "      <td>Romeoville</td>\n",
       "      <td>0.8</td>\n",
       "      <td>8.952000</td>\n",
       "    </tr>\n",
       "    <tr>\n",
       "      <th>4</th>\n",
       "      <td>Ibadan</td>\n",
       "      <td>0.7</td>\n",
       "      <td>49.091586</td>\n",
       "    </tr>\n",
       "    <tr>\n",
       "      <th>5</th>\n",
       "      <td>Ikot Ekpene</td>\n",
       "      <td>0.7</td>\n",
       "      <td>35.175375</td>\n",
       "    </tr>\n",
       "    <tr>\n",
       "      <th>6</th>\n",
       "      <td>Jinja</td>\n",
       "      <td>0.7</td>\n",
       "      <td>14.511857</td>\n",
       "    </tr>\n",
       "    <tr>\n",
       "      <th>7</th>\n",
       "      <td>Mary</td>\n",
       "      <td>0.7</td>\n",
       "      <td>40.849500</td>\n",
       "    </tr>\n",
       "    <tr>\n",
       "      <th>8</th>\n",
       "      <td>Minna</td>\n",
       "      <td>0.7</td>\n",
       "      <td>40.317545</td>\n",
       "    </tr>\n",
       "    <tr>\n",
       "      <th>9</th>\n",
       "      <td>Ilesha</td>\n",
       "      <td>0.7</td>\n",
       "      <td>24.722100</td>\n",
       "    </tr>\n",
       "    <tr>\n",
       "      <th>10</th>\n",
       "      <td>Mubi</td>\n",
       "      <td>0.7</td>\n",
       "      <td>26.587286</td>\n",
       "    </tr>\n",
       "    <tr>\n",
       "      <th>11</th>\n",
       "      <td>Katsina</td>\n",
       "      <td>0.7</td>\n",
       "      <td>19.977000</td>\n",
       "    </tr>\n",
       "    <tr>\n",
       "      <th>12</th>\n",
       "      <td>Owo</td>\n",
       "      <td>0.7</td>\n",
       "      <td>30.327750</td>\n",
       "    </tr>\n",
       "    <tr>\n",
       "      <th>13</th>\n",
       "      <td>Ugep</td>\n",
       "      <td>0.7</td>\n",
       "      <td>25.878857</td>\n",
       "    </tr>\n",
       "    <tr>\n",
       "      <th>14</th>\n",
       "      <td>Funtua</td>\n",
       "      <td>0.7</td>\n",
       "      <td>18.726000</td>\n",
       "    </tr>\n",
       "    <tr>\n",
       "      <th>15</th>\n",
       "      <td>Qaraghandy</td>\n",
       "      <td>0.7</td>\n",
       "      <td>34.192125</td>\n",
       "    </tr>\n",
       "    <tr>\n",
       "      <th>16</th>\n",
       "      <td>Abeokuta</td>\n",
       "      <td>0.7</td>\n",
       "      <td>13.344750</td>\n",
       "    </tr>\n",
       "    <tr>\n",
       "      <th>17</th>\n",
       "      <td>Siauliai</td>\n",
       "      <td>0.7</td>\n",
       "      <td>24.140250</td>\n",
       "    </tr>\n",
       "    <tr>\n",
       "      <th>18</th>\n",
       "      <td>Taraz</td>\n",
       "      <td>0.7</td>\n",
       "      <td>11.025000</td>\n",
       "    </tr>\n",
       "    <tr>\n",
       "      <th>19</th>\n",
       "      <td>Ekibastuz</td>\n",
       "      <td>0.7</td>\n",
       "      <td>31.505400</td>\n",
       "    </tr>\n",
       "    <tr>\n",
       "      <th>20</th>\n",
       "      <td>Ormond Beach</td>\n",
       "      <td>0.7</td>\n",
       "      <td>2.808000</td>\n",
       "    </tr>\n",
       "    <tr>\n",
       "      <th>21</th>\n",
       "      <td>Elyria</td>\n",
       "      <td>0.7</td>\n",
       "      <td>1.824000</td>\n",
       "    </tr>\n",
       "    <tr>\n",
       "      <th>22</th>\n",
       "      <td>Epworth</td>\n",
       "      <td>0.7</td>\n",
       "      <td>26.514000</td>\n",
       "    </tr>\n",
       "    <tr>\n",
       "      <th>23</th>\n",
       "      <td>Victoria Falls</td>\n",
       "      <td>0.7</td>\n",
       "      <td>3.465000</td>\n",
       "    </tr>\n",
       "    <tr>\n",
       "      <th>24</th>\n",
       "      <td>Gombe</td>\n",
       "      <td>0.7</td>\n",
       "      <td>12.026250</td>\n",
       "    </tr>\n",
       "    <tr>\n",
       "      <th>25</th>\n",
       "      <td>Fort Portal</td>\n",
       "      <td>0.7</td>\n",
       "      <td>3.573000</td>\n",
       "    </tr>\n",
       "    <tr>\n",
       "      <th>26</th>\n",
       "      <td>Mutare</td>\n",
       "      <td>0.7</td>\n",
       "      <td>5.926500</td>\n",
       "    </tr>\n",
       "    <tr>\n",
       "      <th>27</th>\n",
       "      <td>Sokoto</td>\n",
       "      <td>0.7</td>\n",
       "      <td>17.130600</td>\n",
       "    </tr>\n",
       "    <tr>\n",
       "      <th>28</th>\n",
       "      <td>Tartagal</td>\n",
       "      <td>0.7</td>\n",
       "      <td>6.714000</td>\n",
       "    </tr>\n",
       "    <tr>\n",
       "      <th>29</th>\n",
       "      <td>Pensacola</td>\n",
       "      <td>0.7</td>\n",
       "      <td>2.214000</td>\n",
       "    </tr>\n",
       "    <tr>\n",
       "      <th>30</th>\n",
       "      <td>Klaipeda</td>\n",
       "      <td>0.7</td>\n",
       "      <td>30.267000</td>\n",
       "    </tr>\n",
       "    <tr>\n",
       "      <th>31</th>\n",
       "      <td>Abakaliki</td>\n",
       "      <td>0.7</td>\n",
       "      <td>17.163000</td>\n",
       "    </tr>\n",
       "    <tr>\n",
       "      <th>32</th>\n",
       "      <td>Abuja</td>\n",
       "      <td>0.7</td>\n",
       "      <td>19.008000</td>\n",
       "    </tr>\n",
       "    <tr>\n",
       "      <th>33</th>\n",
       "      <td>Sarkand</td>\n",
       "      <td>0.7</td>\n",
       "      <td>30.121200</td>\n",
       "    </tr>\n",
       "    <tr>\n",
       "      <th>34</th>\n",
       "      <td>Temirtau</td>\n",
       "      <td>0.7</td>\n",
       "      <td>28.831846</td>\n",
       "    </tr>\n",
       "  </tbody>\n",
       "</table>\n",
       "</div>"
      ],
      "text/plain": [
       "              City  Discount      Sales\n",
       "0        Deer Park       0.8   6.924000\n",
       "1          Abilene       0.8   1.392000\n",
       "2    Missouri City       0.8   6.370000\n",
       "3       Romeoville       0.8   8.952000\n",
       "4           Ibadan       0.7  49.091586\n",
       "5      Ikot Ekpene       0.7  35.175375\n",
       "6            Jinja       0.7  14.511857\n",
       "7             Mary       0.7  40.849500\n",
       "8            Minna       0.7  40.317545\n",
       "9           Ilesha       0.7  24.722100\n",
       "10            Mubi       0.7  26.587286\n",
       "11         Katsina       0.7  19.977000\n",
       "12             Owo       0.7  30.327750\n",
       "13            Ugep       0.7  25.878857\n",
       "14          Funtua       0.7  18.726000\n",
       "15      Qaraghandy       0.7  34.192125\n",
       "16        Abeokuta       0.7  13.344750\n",
       "17        Siauliai       0.7  24.140250\n",
       "18           Taraz       0.7  11.025000\n",
       "19       Ekibastuz       0.7  31.505400\n",
       "20    Ormond Beach       0.7   2.808000\n",
       "21          Elyria       0.7   1.824000\n",
       "22         Epworth       0.7  26.514000\n",
       "23  Victoria Falls       0.7   3.465000\n",
       "24           Gombe       0.7  12.026250\n",
       "25     Fort Portal       0.7   3.573000\n",
       "26          Mutare       0.7   5.926500\n",
       "27          Sokoto       0.7  17.130600\n",
       "28        Tartagal       0.7   6.714000\n",
       "29       Pensacola       0.7   2.214000\n",
       "30        Klaipeda       0.7  30.267000\n",
       "31       Abakaliki       0.7  17.163000\n",
       "32           Abuja       0.7  19.008000\n",
       "33         Sarkand       0.7  30.121200\n",
       "34        Temirtau       0.7  28.831846"
      ]
     },
     "execution_count": 77,
     "metadata": {},
     "output_type": "execute_result"
    }
   ],
   "source": [
    "# Cities having High Average Discounts\n",
    "high_dist = avg_dist[avg_dist['Discount'] >= 0.7]\n",
    "\n",
    "# Cities having Low Average Discounts\n",
    "low_dist = avg_dist[avg_dist['Discount'] == 0]\n",
    "\n",
    "# Cities having High Average Sales\n",
    "high_sales = avg_sales[avg_sales['Sales'] > 500]\n",
    "\n",
    "# Cities having Low Average Sales\n",
    "low_sales = avg_sales[avg_sales['Sales'] < 50]\n",
    "\n",
    "# Cities having High Average Profit\n",
    "high_profit = avg_profit[avg_profit['Profit'] > 100]\n",
    "\n",
    "# Cities having low Average profit\n",
    "low_profit = avg_profit[avg_profit['Profit'] < 0]\n",
    "\n",
    "# Cities with High-Average-Discounts but Low-Average-Sales\n",
    "merged = pd.merge(high_dist,low_sales, on=['City'],how='inner')\n",
    "merged"
   ]
  },
  {
   "cell_type": "code",
   "execution_count": 78,
   "metadata": {},
   "outputs": [
    {
     "data": {
      "text/html": [
       "<div>\n",
       "<style scoped>\n",
       "    .dataframe tbody tr th:only-of-type {\n",
       "        vertical-align: middle;\n",
       "    }\n",
       "\n",
       "    .dataframe tbody tr th {\n",
       "        vertical-align: top;\n",
       "    }\n",
       "\n",
       "    .dataframe thead th {\n",
       "        text-align: right;\n",
       "    }\n",
       "</style>\n",
       "<table border=\"1\" class=\"dataframe\">\n",
       "  <thead>\n",
       "    <tr style=\"text-align: right;\">\n",
       "      <th></th>\n",
       "      <th>City</th>\n",
       "      <th>Sales</th>\n",
       "      <th>Profit</th>\n",
       "    </tr>\n",
       "  </thead>\n",
       "  <tbody>\n",
       "    <tr>\n",
       "      <th>0</th>\n",
       "      <td>Kamina</td>\n",
       "      <td>3817.26000</td>\n",
       "      <td>1068.66000</td>\n",
       "    </tr>\n",
       "    <tr>\n",
       "      <th>1</th>\n",
       "      <td>Paysandú</td>\n",
       "      <td>3473.14000</td>\n",
       "      <td>868.12000</td>\n",
       "    </tr>\n",
       "    <tr>\n",
       "      <th>2</th>\n",
       "      <td>Whakatane</td>\n",
       "      <td>3265.44000</td>\n",
       "      <td>1234.44000</td>\n",
       "    </tr>\n",
       "    <tr>\n",
       "      <th>3</th>\n",
       "      <td>Poitiers</td>\n",
       "      <td>2958.98400</td>\n",
       "      <td>953.27400</td>\n",
       "    </tr>\n",
       "    <tr>\n",
       "      <th>4</th>\n",
       "      <td>Plaisir</td>\n",
       "      <td>2848.28625</td>\n",
       "      <td>392.18625</td>\n",
       "    </tr>\n",
       "    <tr>\n",
       "      <th>5</th>\n",
       "      <td>Shuangcheng</td>\n",
       "      <td>2819.52000</td>\n",
       "      <td>338.22000</td>\n",
       "    </tr>\n",
       "    <tr>\n",
       "      <th>6</th>\n",
       "      <td>Xingtai</td>\n",
       "      <td>2544.96000</td>\n",
       "      <td>1068.84000</td>\n",
       "    </tr>\n",
       "    <tr>\n",
       "      <th>7</th>\n",
       "      <td>Jamestown</td>\n",
       "      <td>2354.39500</td>\n",
       "      <td>642.88575</td>\n",
       "    </tr>\n",
       "    <tr>\n",
       "      <th>8</th>\n",
       "      <td>Salto</td>\n",
       "      <td>2297.96000</td>\n",
       "      <td>988.12000</td>\n",
       "    </tr>\n",
       "    <tr>\n",
       "      <th>9</th>\n",
       "      <td>Asti</td>\n",
       "      <td>2243.88000</td>\n",
       "      <td>246.72000</td>\n",
       "    </tr>\n",
       "  </tbody>\n",
       "</table>\n",
       "</div>"
      ],
      "text/plain": [
       "          City       Sales      Profit\n",
       "0       Kamina  3817.26000  1068.66000\n",
       "1     Paysandú  3473.14000   868.12000\n",
       "2    Whakatane  3265.44000  1234.44000\n",
       "3     Poitiers  2958.98400   953.27400\n",
       "4      Plaisir  2848.28625   392.18625\n",
       "5  Shuangcheng  2819.52000   338.22000\n",
       "6      Xingtai  2544.96000  1068.84000\n",
       "7    Jamestown  2354.39500   642.88575\n",
       "8        Salto  2297.96000   988.12000\n",
       "9         Asti  2243.88000   246.72000"
      ]
     },
     "execution_count": 78,
     "metadata": {},
     "output_type": "execute_result"
    }
   ],
   "source": [
    "# Cities with high Average Sales as well as Average Profit\n",
    "merged2 = pd.merge(high_sales,high_profit, on=['City'], how='inner')\n",
    "merged2.head(10)"
   ]
  },
  {
   "cell_type": "code",
   "execution_count": 79,
   "metadata": {},
   "outputs": [
    {
     "data": {
      "text/html": [
       "<div>\n",
       "<style scoped>\n",
       "    .dataframe tbody tr th:only-of-type {\n",
       "        vertical-align: middle;\n",
       "    }\n",
       "\n",
       "    .dataframe tbody tr th {\n",
       "        vertical-align: top;\n",
       "    }\n",
       "\n",
       "    .dataframe thead th {\n",
       "        text-align: right;\n",
       "    }\n",
       "</style>\n",
       "<table border=\"1\" class=\"dataframe\">\n",
       "  <thead>\n",
       "    <tr style=\"text-align: right;\">\n",
       "      <th></th>\n",
       "      <th>City</th>\n",
       "      <th>Discount</th>\n",
       "      <th>Sales</th>\n",
       "    </tr>\n",
       "  </thead>\n",
       "  <tbody>\n",
       "    <tr>\n",
       "      <th>0</th>\n",
       "      <td>Shouguang</td>\n",
       "      <td>0.0</td>\n",
       "      <td>897.915000</td>\n",
       "    </tr>\n",
       "    <tr>\n",
       "      <th>1</th>\n",
       "      <td>Shuangcheng</td>\n",
       "      <td>0.0</td>\n",
       "      <td>2819.520000</td>\n",
       "    </tr>\n",
       "    <tr>\n",
       "      <th>2</th>\n",
       "      <td>Zhongxiang</td>\n",
       "      <td>0.0</td>\n",
       "      <td>560.900000</td>\n",
       "    </tr>\n",
       "    <tr>\n",
       "      <th>3</th>\n",
       "      <td>Shumen</td>\n",
       "      <td>0.0</td>\n",
       "      <td>1272.600000</td>\n",
       "    </tr>\n",
       "    <tr>\n",
       "      <th>4</th>\n",
       "      <td>Shihezi</td>\n",
       "      <td>0.0</td>\n",
       "      <td>667.507500</td>\n",
       "    </tr>\n",
       "    <tr>\n",
       "      <th>5</th>\n",
       "      <td>Shaoxing</td>\n",
       "      <td>0.0</td>\n",
       "      <td>1583.827500</td>\n",
       "    </tr>\n",
       "    <tr>\n",
       "      <th>6</th>\n",
       "      <td>Shimonoseki</td>\n",
       "      <td>0.0</td>\n",
       "      <td>747.500000</td>\n",
       "    </tr>\n",
       "    <tr>\n",
       "      <th>7</th>\n",
       "      <td>Slough</td>\n",
       "      <td>0.0</td>\n",
       "      <td>646.475000</td>\n",
       "    </tr>\n",
       "    <tr>\n",
       "      <th>8</th>\n",
       "      <td>Stevenage</td>\n",
       "      <td>0.0</td>\n",
       "      <td>600.210000</td>\n",
       "    </tr>\n",
       "    <tr>\n",
       "      <th>9</th>\n",
       "      <td>Stockton-on-Tees</td>\n",
       "      <td>0.0</td>\n",
       "      <td>1224.573333</td>\n",
       "    </tr>\n",
       "  </tbody>\n",
       "</table>\n",
       "</div>"
      ],
      "text/plain": [
       "               City  Discount        Sales\n",
       "0         Shouguang       0.0   897.915000\n",
       "1       Shuangcheng       0.0  2819.520000\n",
       "2        Zhongxiang       0.0   560.900000\n",
       "3            Shumen       0.0  1272.600000\n",
       "4           Shihezi       0.0   667.507500\n",
       "5          Shaoxing       0.0  1583.827500\n",
       "6       Shimonoseki       0.0   747.500000\n",
       "7            Slough       0.0   646.475000\n",
       "8         Stevenage       0.0   600.210000\n",
       "9  Stockton-on-Tees       0.0  1224.573333"
      ]
     },
     "execution_count": 79,
     "metadata": {},
     "output_type": "execute_result"
    }
   ],
   "source": [
    "# Cities where Average Discount is less but Average Sales is High\n",
    "merged3 = pd.merge(low_dist,high_sales, on='City', how='inner')\n",
    "merged3.head(10)"
   ]
  },
  {
   "cell_type": "code",
   "execution_count": 80,
   "metadata": {},
   "outputs": [
    {
     "data": {
      "text/html": [
       "<div>\n",
       "<style scoped>\n",
       "    .dataframe tbody tr th:only-of-type {\n",
       "        vertical-align: middle;\n",
       "    }\n",
       "\n",
       "    .dataframe tbody tr th {\n",
       "        vertical-align: top;\n",
       "    }\n",
       "\n",
       "    .dataframe thead th {\n",
       "        text-align: right;\n",
       "    }\n",
       "</style>\n",
       "<table border=\"1\" class=\"dataframe\">\n",
       "  <thead>\n",
       "    <tr style=\"text-align: right;\">\n",
       "      <th></th>\n",
       "      <th>City</th>\n",
       "      <th>Sales</th>\n",
       "      <th>Profit</th>\n",
       "    </tr>\n",
       "  </thead>\n",
       "  <tbody>\n",
       "    <tr>\n",
       "      <th>0</th>\n",
       "      <td>Houilles</td>\n",
       "      <td>987.957000</td>\n",
       "      <td>-54.963000</td>\n",
       "    </tr>\n",
       "    <tr>\n",
       "      <th>1</th>\n",
       "      <td>Taytay</td>\n",
       "      <td>939.714750</td>\n",
       "      <td>-103.805250</td>\n",
       "    </tr>\n",
       "    <tr>\n",
       "      <th>2</th>\n",
       "      <td>San Luis</td>\n",
       "      <td>932.488000</td>\n",
       "      <td>-352.018667</td>\n",
       "    </tr>\n",
       "    <tr>\n",
       "      <th>3</th>\n",
       "      <td>Abreu e Lima</td>\n",
       "      <td>928.256000</td>\n",
       "      <td>-81.224000</td>\n",
       "    </tr>\n",
       "    <tr>\n",
       "      <th>4</th>\n",
       "      <td>San Severo</td>\n",
       "      <td>925.020000</td>\n",
       "      <td>-447.180000</td>\n",
       "    </tr>\n",
       "    <tr>\n",
       "      <th>5</th>\n",
       "      <td>Arnhem</td>\n",
       "      <td>920.407500</td>\n",
       "      <td>-367.192500</td>\n",
       "    </tr>\n",
       "    <tr>\n",
       "      <th>6</th>\n",
       "      <td>Stains</td>\n",
       "      <td>874.962000</td>\n",
       "      <td>-68.058000</td>\n",
       "    </tr>\n",
       "    <tr>\n",
       "      <th>7</th>\n",
       "      <td>La Roche-sur-Yon</td>\n",
       "      <td>854.944500</td>\n",
       "      <td>-127.795500</td>\n",
       "    </tr>\n",
       "    <tr>\n",
       "      <th>8</th>\n",
       "      <td>Coudekerque-Branche</td>\n",
       "      <td>853.137000</td>\n",
       "      <td>-51.468000</td>\n",
       "    </tr>\n",
       "    <tr>\n",
       "      <th>9</th>\n",
       "      <td>Burlington</td>\n",
       "      <td>834.223154</td>\n",
       "      <td>-139.191431</td>\n",
       "    </tr>\n",
       "  </tbody>\n",
       "</table>\n",
       "</div>"
      ],
      "text/plain": [
       "                  City       Sales      Profit\n",
       "0             Houilles  987.957000  -54.963000\n",
       "1               Taytay  939.714750 -103.805250\n",
       "2             San Luis  932.488000 -352.018667\n",
       "3         Abreu e Lima  928.256000  -81.224000\n",
       "4           San Severo  925.020000 -447.180000\n",
       "5               Arnhem  920.407500 -367.192500\n",
       "6               Stains  874.962000  -68.058000\n",
       "7     La Roche-sur-Yon  854.944500 -127.795500\n",
       "8  Coudekerque-Branche  853.137000  -51.468000\n",
       "9           Burlington  834.223154 -139.191431"
      ]
     },
     "execution_count": 80,
     "metadata": {},
     "output_type": "execute_result"
    }
   ],
   "source": [
    "# Cities with high Average sales but low Average profit\n",
    "merged4 = pd.merge(high_sales,low_profit, on='City', how='inner')\n",
    "merged4.head(10)"
   ]
  },
  {
   "cell_type": "markdown",
   "metadata": {
    "id": "eNA4PIEnbBsk"
   },
   "source": [
    "**Author: Jammal Adeyemi**"
   ]
  }
 ],
 "metadata": {
  "colab": {
   "collapsed_sections": [],
   "name": "Mid-Course Project (Data Analysis Project).ipynb",
   "provenance": []
  },
  "kernelspec": {
   "display_name": "Python 3",
   "language": "python",
   "name": "python3"
  },
  "language_info": {
   "codemirror_mode": {
    "name": "ipython",
    "version": 3
   },
   "file_extension": ".py",
   "mimetype": "text/x-python",
   "name": "python",
   "nbconvert_exporter": "python",
   "pygments_lexer": "ipython3",
   "version": "3.8.8"
  }
 },
 "nbformat": 4,
 "nbformat_minor": 4
}
