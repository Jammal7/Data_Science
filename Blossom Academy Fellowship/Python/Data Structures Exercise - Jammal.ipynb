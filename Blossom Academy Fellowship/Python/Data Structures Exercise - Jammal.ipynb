{
 "cells": [
  {
   "cell_type": "markdown",
   "metadata": {
    "id": "BPxDnMFsHKrS"
   },
   "source": [
    "# Q1\n",
    "Name the four built-in data structures in python. Give one examples for each"
   ]
  },
  {
   "cell_type": "markdown",
   "metadata": {},
   "source": [
    "1. Dictionary = {\"key name\": value}\n",
    "2. Tuple = (0, 1, 2, 3)\n",
    "3. List = [1,4,5,6]\n",
    "4. Set = {'stock', 'NVO', 'wikipedia', 'Novo_Nordisk'}"
   ]
  },
  {
   "cell_type": "markdown",
   "metadata": {
    "id": "RxDPjlfnHKrg"
   },
   "source": [
    "# Q2\n",
    "Name the data structures of the following python codes \n",
    "\n",
    "(a) colors = ('red', 'yellow', 'blue', 'black')\n",
    "\n",
    "(b) {'stock': 'NVO', 'wikipedia': 'Novo_Nordisk'}\n",
    "\n",
    "(c) a = [[4, 5], [6, 7], [8, 9]]\n",
    "\n",
    "(d) {'stock', 'NVO', 'wikipedia', 'Novo_Nordisk'}\n",
    "\n",
    "**ANS: a. Tuple b. dictionary c. list (of a list) d. set**"
   ]
  },
  {
   "cell_type": "markdown",
   "metadata": {
    "id": "Xunim2HXHKrh"
   },
   "source": [
    "# Q3\n",
    "What is the difference between a list and a tuple in Python."
   ]
  },
  {
   "cell_type": "markdown",
   "metadata": {
    "id": "zkLK6NNwHKrh"
   },
   "source": [
    "**Ans:\n",
    "    Lists are mutable and tuples are immutable**"
   ]
  },
  {
   "cell_type": "markdown",
   "metadata": {
    "id": "Ogfd4JhqHKri"
   },
   "source": [
    "# Q4\n",
    "Make a list containg the zoo animals and print the 2nd. and the last one:\n"
   ]
  },
  {
   "cell_type": "code",
   "execution_count": null,
   "metadata": {},
   "outputs": [],
   "source": []
  },
  {
   "cell_type": "markdown",
   "metadata": {
    "id": "knzHqrRBHKrj"
   },
   "source": [
    "# Q5\n",
    "Write an assignment statement that will replace the item that currently holds the value \"lion\" in the zoo_animals list with another animal the tiger."
   ]
  },
  {
   "cell_type": "markdown",
   "metadata": {
    "id": "3a85k1TbHKrj"
   },
   "source": [
    "# Q6\n",
    "Given a list:\n",
    "\n",
    "suitcase = [\"sunglasses\", \"hat\", \"passport\", \"laptop\", \"suit\", \"shoes\"]\n",
    "\n",
    "a. Create a list called **first** containing only the two first items from suitcase.\n",
    "\n",
    "b. Create a list called **middle** containing only the two middle items from suitcase.\n",
    "\n",
    "c. Create a list called **last** made up only of the last two items from suitcase."
   ]
  },
  {
   "cell_type": "markdown",
   "metadata": {
    "id": "kLliEXvNHKrk"
   },
   "source": [
    "# Q7\n",
    "Write a python code to insert items into a list in sorted order"
   ]
  },
  {
   "cell_type": "markdown",
   "metadata": {
    "id": "zW9kLSvLHKrl"
   },
   "source": [
    "# Q8\n",
    "Write a python code to access the list inside the list. How many elememts are in that list?"
   ]
  },
  {
   "cell_type": "markdown",
   "metadata": {
    "id": "iRDv8ndtHKrm"
   },
   "source": [
    "# Q9\n",
    "Given that Python lists and Python tuples are quite similar – when might you prefer to use a tuple over a list?"
   ]
  },
  {
   "cell_type": "markdown",
   "metadata": {
    "id": "jOvQJeQPHKrn"
   },
   "source": [
    "# Q10\n",
    "How would you use string slicing [:] to print out ‘uct’ from the following string?"
   ]
  },
  {
   "cell_type": "code",
   "execution_count": null,
   "metadata": {
    "id": "ZNXBA2dTHKro"
   },
   "outputs": [],
   "source": []
  }
 ],
 "metadata": {
  "colab": {
   "name": "Data Structures Exercise .ipynb",
   "provenance": []
  },
  "kernelspec": {
   "display_name": "Python 3",
   "language": "python",
   "name": "python3"
  },
  "language_info": {
   "codemirror_mode": {
    "name": "ipython",
    "version": 3
   },
   "file_extension": ".py",
   "mimetype": "text/x-python",
   "name": "python",
   "nbconvert_exporter": "python",
   "pygments_lexer": "ipython3",
   "version": "3.8.8"
  }
 },
 "nbformat": 4,
 "nbformat_minor": 4
}
