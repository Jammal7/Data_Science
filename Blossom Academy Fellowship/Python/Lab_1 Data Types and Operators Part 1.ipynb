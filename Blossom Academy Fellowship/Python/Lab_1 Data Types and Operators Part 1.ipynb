{
 "cells": [
  {
   "cell_type": "markdown",
   "metadata": {
    "id": "QoJJKcNIN5ja"
   },
   "source": [
    "# Data Types and Operators Part 1\n"
   ]
  },
  {
   "cell_type": "markdown",
   "metadata": {
    "id": "C6xkDiC_N5jv"
   },
   "source": [
    "##### Some few things to note\n",
    "1. case sensitive\n",
    "2. spacing\n",
    "3. errors\n",
    "4. print function\n",
    "5. variable naming"
   ]
  },
  {
   "cell_type": "code",
   "execution_count": 3,
   "metadata": {
    "colab": {
     "base_uri": "https://localhost:8080/"
    },
    "executionInfo": {
     "elapsed": 414,
     "status": "ok",
     "timestamp": 1652384330368,
     "user": {
      "displayName": "Oluwadara Adepoju",
      "userId": "13428123461617812046"
     },
     "user_tz": -60
    },
    "id": "fVzG_j41N5jx",
    "outputId": "30be52e8-ee18-4fd9-840d-4f27626681b7"
   },
   "outputs": [
    {
     "name": "stdout",
     "output_type": "stream",
     "text": [
      "Ama\n",
      "Kofi\n"
     ]
    }
   ],
   "source": [
    "print('Ama')\n",
    "print('Kofi')"
   ]
  },
  {
   "cell_type": "code",
   "execution_count": 2,
   "metadata": {
    "executionInfo": {
     "elapsed": 391,
     "status": "ok",
     "timestamp": 1652383503490,
     "user": {
      "displayName": "Oluwadara Adepoju",
      "userId": "13428123461617812046"
     },
     "user_tz": -60
    },
    "id": "EOvTY6ZPN5j1"
   },
   "outputs": [],
   "source": [
    "string = \" this is Dara's sentence\""
   ]
  },
  {
   "cell_type": "code",
   "execution_count": null,
   "metadata": {
    "id": "F3oO7KXJN5j2",
    "outputId": "9cac5c0b-6245-4281-ea26-e4eab401e92a"
   },
   "outputs": [
    {
     "data": {
      "text/plain": [
       "'Kofi'"
      ]
     },
     "execution_count": 10,
     "metadata": {},
     "output_type": "execute_result"
    }
   ],
   "source": [
    "'Ama'\n",
    "'Kofi'"
   ]
  },
  {
   "cell_type": "markdown",
   "metadata": {
    "id": "q4uf-ZumN5j4"
   },
   "source": [
    "### Variables naming"
   ]
  },
  {
   "cell_type": "markdown",
   "metadata": {
    "id": "PU-CRk8IN5j5"
   },
   "source": [
    "Variable naming:\n",
    "\n",
    "* Use small letters and underscores and numbers where necessary\n",
    "* Use meaningful names\n",
    "* Do not allow space (s) in variable names\n",
    "* Do not begin variables with numbers\n",
    "* Do not use numbers alone as variable names\n",
    "* Do not use python reserved words as a variable name (such as print )\n",
    "* Do not start with a number\n",
    "* Variable names are case sensitive(Shade,shade,SHADE all different variables)\n",
    "\n",
    "\n"
   ]
  },
  {
   "cell_type": "code",
   "execution_count": null,
   "metadata": {
    "id": "DO-4JB6-QuMR"
   },
   "outputs": [],
   "source": []
  },
  {
   "cell_type": "code",
   "execution_count": 4,
   "metadata": {
    "executionInfo": {
     "elapsed": 448,
     "status": "ok",
     "timestamp": 1652384419762,
     "user": {
      "displayName": "Oluwadara Adepoju",
      "userId": "13428123461617812046"
     },
     "user_tz": -60
    },
    "id": "pdzksfp9N5j8"
   },
   "outputs": [],
   "source": [
    "students_names = ['Kelden','Dominic','Aurelia','Jessie','Jessica']\n"
   ]
  },
  {
   "cell_type": "code",
   "execution_count": null,
   "metadata": {
    "id": "82q7-F3eN5j-",
    "outputId": "104139de-c924-4bef-d405-f0c132fcabc1"
   },
   "outputs": [
    {
     "data": {
      "text/plain": [
       "['Kelden', 'Dominic', 'Aurelia', 'Jessie', 'Jessica']"
      ]
     },
     "execution_count": 5,
     "metadata": {},
     "output_type": "execute_result"
    }
   ],
   "source": [
    "students_names"
   ]
  },
  {
   "cell_type": "code",
   "execution_count": null,
   "metadata": {
    "id": "B6z_Ob-HN5j_",
    "outputId": "841215a1-dee3-4a18-c440-b59062ac5b95"
   },
   "outputs": [
    {
     "name": "stdout",
     "output_type": "stream",
     "text": [
      "['Kelden', 'Dominic', 'Aurelia', 'Jessie', 'Jessica']\n"
     ]
    }
   ],
   "source": [
    "print(students_names)"
   ]
  },
  {
   "cell_type": "code",
   "execution_count": 5,
   "metadata": {
    "executionInfo": {
     "elapsed": 531,
     "status": "ok",
     "timestamp": 1652384472195,
     "user": {
      "displayName": "Oluwadara Adepoju",
      "userId": "13428123461617812046"
     },
     "user_tz": -60
    },
    "id": "q1LVs5O2N5kA"
   },
   "outputs": [],
   "source": [
    "students_name = 'Samuel'"
   ]
  },
  {
   "cell_type": "code",
   "execution_count": 6,
   "metadata": {
    "colab": {
     "base_uri": "https://localhost:8080/",
     "height": 36
    },
    "executionInfo": {
     "elapsed": 489,
     "status": "ok",
     "timestamp": 1652384489352,
     "user": {
      "displayName": "Oluwadara Adepoju",
      "userId": "13428123461617812046"
     },
     "user_tz": -60
    },
    "id": "aE3dJZNEyjqq",
    "outputId": "6b55d4ec-89ad-4786-a7e1-6ad20f346cc9"
   },
   "outputs": [
    {
     "data": {
      "application/vnd.google.colaboratory.intrinsic+json": {
       "type": "string"
      },
      "text/plain": [
       "'Samuel'"
      ]
     },
     "execution_count": 6,
     "metadata": {},
     "output_type": "execute_result"
    }
   ],
   "source": [
    "students_name"
   ]
  },
  {
   "cell_type": "code",
   "execution_count": null,
   "metadata": {
    "id": "HABg_H6HN5kC"
   },
   "outputs": [],
   "source": [
    "Students_name = \"Benard\" # This wrong variable naming , the s shoudn't capitalized"
   ]
  },
  {
   "cell_type": "code",
   "execution_count": null,
   "metadata": {
    "id": "GmDcmDEqN5kC",
    "outputId": "7d9d39eb-18eb-42a5-e44b-15b76cc73c4f"
   },
   "outputs": [
    {
     "data": {
      "text/plain": [
       "'Samuel'"
      ]
     },
     "execution_count": 9,
     "metadata": {},
     "output_type": "execute_result"
    }
   ],
   "source": [
    "students_name"
   ]
  },
  {
   "cell_type": "code",
   "execution_count": 8,
   "metadata": {
    "executionInfo": {
     "elapsed": 404,
     "status": "ok",
     "timestamp": 1652384582251,
     "user": {
      "displayName": "Oluwadara Adepoju",
      "userId": "13428123461617812046"
     },
     "user_tz": -60
    },
    "id": "VYkWvD0CRIaU"
   },
   "outputs": [],
   "source": [
    "nine_eyes= 9"
   ]
  },
  {
   "cell_type": "code",
   "execution_count": 9,
   "metadata": {
    "colab": {
     "base_uri": "https://localhost:8080/",
     "height": 135
    },
    "executionInfo": {
     "elapsed": 412,
     "status": "error",
     "timestamp": 1652384612379,
     "user": {
      "displayName": "Oluwadara Adepoju",
      "userId": "13428123461617812046"
     },
     "user_tz": -60
    },
    "id": "-21WJbhSRpxu",
    "outputId": "d443f6a8-c942-423f-8b8d-16b36d0042f9"
   },
   "outputs": [
    {
     "ename": "SyntaxError",
     "evalue": "ignored",
     "output_type": "error",
     "traceback": [
      "\u001b[0;36m  File \u001b[0;32m\"<ipython-input-9-3cd7a87a3f18>\"\u001b[0;36m, line \u001b[0;32m1\u001b[0m\n\u001b[0;31m    print() = 'Printer'\u001b[0m\n\u001b[0m                       ^\u001b[0m\n\u001b[0;31mSyntaxError\u001b[0m\u001b[0;31m:\u001b[0m can't assign to function call\n"
     ]
    }
   ],
   "source": [
    "print() = 'Printer'"
   ]
  },
  {
   "cell_type": "code",
   "execution_count": 10,
   "metadata": {
    "executionInfo": {
     "elapsed": 543,
     "status": "ok",
     "timestamp": 1652384644213,
     "user": {
      "displayName": "Oluwadara Adepoju",
      "userId": "13428123461617812046"
     },
     "user_tz": -60
    },
    "id": "ATqGj575OPjc"
   },
   "outputs": [],
   "source": [
    "Aisle_1 = 'Ten bridesmaids'"
   ]
  },
  {
   "cell_type": "code",
   "execution_count": null,
   "metadata": {
    "id": "7ZP96e6QN5kE",
    "outputId": "1a78651c-a7ff-4f73-b5a2-b9c3ceec5711"
   },
   "outputs": [
    {
     "data": {
      "text/plain": [
       "'Benard'"
      ]
     },
     "execution_count": 10,
     "metadata": {},
     "output_type": "execute_result"
    }
   ],
   "source": [
    "Students_name"
   ]
  },
  {
   "cell_type": "code",
   "execution_count": 13,
   "metadata": {
    "colab": {
     "base_uri": "https://localhost:8080/"
    },
    "executionInfo": {
     "elapsed": 534,
     "status": "ok",
     "timestamp": 1652385002786,
     "user": {
      "displayName": "Oluwadara Adepoju",
      "userId": "13428123461617812046"
     },
     "user_tz": -60
    },
    "id": "dE3BNJDbN5kE",
    "outputId": "328d72ae-9090-4879-cbce-cb79fc8bcc3c"
   },
   "outputs": [
    {
     "name": "stdout",
     "output_type": "stream",
     "text": [
      "The average mark is 30.25 \n"
     ]
    }
   ],
   "source": [
    "x = 24+45+56+7+8+90+2+10\n",
    "print(f\"The average mark is {x/8} \") #-----> this is string literals"
   ]
  },
  {
   "cell_type": "code",
   "execution_count": 11,
   "metadata": {
    "colab": {
     "base_uri": "https://localhost:8080/"
    },
    "executionInfo": {
     "elapsed": 389,
     "status": "ok",
     "timestamp": 1652384857514,
     "user": {
      "displayName": "Oluwadara Adepoju",
      "userId": "13428123461617812046"
     },
     "user_tz": -60
    },
    "id": "-BSHHpt0zsey",
    "outputId": "86e4d110-5c18-4e3c-ea3e-b8dc6ccd544b"
   },
   "outputs": [
    {
     "data": {
      "text/plain": [
       "2.0"
      ]
     },
     "execution_count": 11,
     "metadata": {},
     "output_type": "execute_result"
    }
   ],
   "source": [
    "24/12"
   ]
  },
  {
   "cell_type": "code",
   "execution_count": 16,
   "metadata": {
    "executionInfo": {
     "elapsed": 430,
     "status": "ok",
     "timestamp": 1652385068464,
     "user": {
      "displayName": "Oluwadara Adepoju",
      "userId": "13428123461617812046"
     },
     "user_tz": -60
    },
    "id": "Zucbx7a20vYD"
   },
   "outputs": [],
   "source": [
    "x= '30.25'"
   ]
  },
  {
   "cell_type": "code",
   "execution_count": 18,
   "metadata": {
    "colab": {
     "base_uri": "https://localhost:8080/",
     "height": 172
    },
    "executionInfo": {
     "elapsed": 460,
     "status": "error",
     "timestamp": 1652385121962,
     "user": {
      "displayName": "Oluwadara Adepoju",
      "userId": "13428123461617812046"
     },
     "user_tz": -60
    },
    "id": "d2bY-JvT094D",
    "outputId": "48e5bc32-d671-4f3a-9339-cde768237bc6"
   },
   "outputs": [
    {
     "ename": "TypeError",
     "evalue": "ignored",
     "output_type": "error",
     "traceback": [
      "\u001b[0;31m---------------------------------------------------------------------------\u001b[0m",
      "\u001b[0;31mTypeError\u001b[0m                                 Traceback (most recent call last)",
      "\u001b[0;32m<ipython-input-18-6f984fa776e5>\u001b[0m in \u001b[0;36m<module>\u001b[0;34m()\u001b[0m\n\u001b[0;32m----> 1\u001b[0;31m \u001b[0;34m\"x\"\u001b[0m\u001b[0;34m+\u001b[0m\u001b[0;36m3\u001b[0m\u001b[0;34m\u001b[0m\u001b[0;34m\u001b[0m\u001b[0m\n\u001b[0m",
      "\u001b[0;31mTypeError\u001b[0m: can only concatenate str (not \"int\") to str"
     ]
    }
   ],
   "source": [
    "\"x\"+3"
   ]
  },
  {
   "cell_type": "code",
   "execution_count": 17,
   "metadata": {
    "colab": {
     "base_uri": "https://localhost:8080/"
    },
    "executionInfo": {
     "elapsed": 23,
     "status": "ok",
     "timestamp": 1652385071224,
     "user": {
      "displayName": "Oluwadara Adepoju",
      "userId": "13428123461617812046"
     },
     "user_tz": -60
    },
    "id": "lQ3Kq4Jm0apz",
    "outputId": "3f0593ab-2d13-44cc-b945-e3d7e920402b"
   },
   "outputs": [
    {
     "name": "stdout",
     "output_type": "stream",
     "text": [
      "The average mark is 30.25\n"
     ]
    }
   ],
   "source": [
    "print(\"The average mark is \"+ x)"
   ]
  },
  {
   "cell_type": "code",
   "execution_count": 19,
   "metadata": {
    "colab": {
     "base_uri": "https://localhost:8080/",
     "height": 135
    },
    "executionInfo": {
     "elapsed": 436,
     "status": "error",
     "timestamp": 1652385224191,
     "user": {
      "displayName": "Oluwadara Adepoju",
      "userId": "13428123461617812046"
     },
     "user_tz": -60
    },
    "id": "XWRNaiztN5kF",
    "outputId": "7e601ce6-855b-492c-9998-19b2d44eae74"
   },
   "outputs": [
    {
     "ename": "SyntaxError",
     "evalue": "ignored",
     "output_type": "error",
     "traceback": [
      "\u001b[0;36m  File \u001b[0;32m\"<ipython-input-19-ba8faa91bdae>\"\u001b[0;36m, line \u001b[0;32m4\u001b[0m\n\u001b[0;31m    students names = ['Ama','Teye','Kofi'] #----> It is wrong to bring a space in a variable name\u001b[0m\n\u001b[0m                 ^\u001b[0m\n\u001b[0;31mSyntaxError\u001b[0m\u001b[0;31m:\u001b[0m invalid syntax\n"
     ]
    }
   ],
   "source": [
    "students_names = ['Ama','Teye','Kofi']\n",
    "print(students_names)\n",
    "\n",
    "students_names = ['Ama','Teye','Kofi'] #----> It is wrong to bring a space in a variable name"
   ]
  },
  {
   "cell_type": "code",
   "execution_count": 20,
   "metadata": {
    "executionInfo": {
     "elapsed": 11,
     "status": "ok",
     "timestamp": 1652385318980,
     "user": {
      "displayName": "Oluwadara Adepoju",
      "userId": "13428123461617812046"
     },
     "user_tz": -60
    },
    "id": "Cf4M5TmdSZf-"
   },
   "outputs": [],
   "source": [
    "o, b, c = \"Orange\", \"Banana\", \"Cherry\" #----> Many to Many naming"
   ]
  },
  {
   "cell_type": "code",
   "execution_count": 21,
   "metadata": {
    "colab": {
     "base_uri": "https://localhost:8080/"
    },
    "executionInfo": {
     "elapsed": 755,
     "status": "ok",
     "timestamp": 1652385334210,
     "user": {
      "displayName": "Oluwadara Adepoju",
      "userId": "13428123461617812046"
     },
     "user_tz": -60
    },
    "id": "8K5vkvX51xON",
    "outputId": "bbfd09d8-c4e6-4899-c360-78b933578363"
   },
   "outputs": [
    {
     "name": "stdout",
     "output_type": "stream",
     "text": [
      "Orange\n"
     ]
    }
   ],
   "source": [
    "print(o)"
   ]
  },
  {
   "cell_type": "code",
   "execution_count": 22,
   "metadata": {
    "colab": {
     "base_uri": "https://localhost:8080/"
    },
    "executionInfo": {
     "elapsed": 25,
     "status": "ok",
     "timestamp": 1652385342243,
     "user": {
      "displayName": "Oluwadara Adepoju",
      "userId": "13428123461617812046"
     },
     "user_tz": -60
    },
    "id": "GR24O0sc1z2d",
    "outputId": "0caa91fd-73d1-451b-c7d5-e31944c33dea"
   },
   "outputs": [
    {
     "name": "stdout",
     "output_type": "stream",
     "text": [
      "Banana\n"
     ]
    }
   ],
   "source": [
    "print(b)"
   ]
  },
  {
   "cell_type": "code",
   "execution_count": 23,
   "metadata": {
    "colab": {
     "base_uri": "https://localhost:8080/"
    },
    "executionInfo": {
     "elapsed": 468,
     "status": "ok",
     "timestamp": 1652385385980,
     "user": {
      "displayName": "Oluwadara Adepoju",
      "userId": "13428123461617812046"
     },
     "user_tz": -60
    },
    "id": "4wjCpXuCV0ws",
    "outputId": "caa1ca47-cdf6-462e-b367-4f8ee8362f28"
   },
   "outputs": [
    {
     "name": "stdout",
     "output_type": "stream",
     "text": [
      "Orange\n",
      "Orange\n",
      "Orange\n"
     ]
    }
   ],
   "source": [
    "x = y = z = \"Orange\"   #----> one to many relationship\n",
    "print(x)\n",
    "print(y)\n",
    "print(z)"
   ]
  },
  {
   "cell_type": "markdown",
   "metadata": {
    "id": "idk9UFtYN5kI"
   },
   "source": [
    "### Arithmetric Operators"
   ]
  },
  {
   "cell_type": "markdown",
   "metadata": {
    "id": "QVn25sdiN5kI"
   },
   "source": [
    "|Operator||Action|\n",
    "|----||----|\n",
    "|+||addition|\n",
    "|-||subtraction|\n",
    "|*||multiplication|\n",
    "|/|| divsion|\n",
    "|\\**||exponential|\n",
    "|%||modulo|\n",
    "|\\//|| integer division|"
   ]
  },
  {
   "cell_type": "code",
   "execution_count": 24,
   "metadata": {
    "colab": {
     "base_uri": "https://localhost:8080/"
    },
    "executionInfo": {
     "elapsed": 499,
     "status": "ok",
     "timestamp": 1652385448981,
     "user": {
      "displayName": "Oluwadara Adepoju",
      "userId": "13428123461617812046"
     },
     "user_tz": -60
    },
    "id": "LRacwTJpN5kJ",
    "outputId": "8aadc071-f617-4801-8eb4-b206d4594060"
   },
   "outputs": [
    {
     "data": {
      "text/plain": [
       "7"
      ]
     },
     "execution_count": 24,
     "metadata": {},
     "output_type": "execute_result"
    }
   ],
   "source": [
    "3+4"
   ]
  },
  {
   "cell_type": "code",
   "execution_count": 25,
   "metadata": {
    "colab": {
     "base_uri": "https://localhost:8080/"
    },
    "executionInfo": {
     "elapsed": 509,
     "status": "ok",
     "timestamp": 1652385455710,
     "user": {
      "displayName": "Oluwadara Adepoju",
      "userId": "13428123461617812046"
     },
     "user_tz": -60
    },
    "id": "2Mp1jvpCN5kK",
    "outputId": "5c2f5b1b-c813-4367-ee5a-630b86945511"
   },
   "outputs": [
    {
     "data": {
      "text/plain": [
       "46"
      ]
     },
     "execution_count": 25,
     "metadata": {},
     "output_type": "execute_result"
    }
   ],
   "source": [
    "50-4"
   ]
  },
  {
   "cell_type": "code",
   "execution_count": 26,
   "metadata": {
    "colab": {
     "base_uri": "https://localhost:8080/"
    },
    "executionInfo": {
     "elapsed": 529,
     "status": "ok",
     "timestamp": 1652385459620,
     "user": {
      "displayName": "Oluwadara Adepoju",
      "userId": "13428123461617812046"
     },
     "user_tz": -60
    },
    "id": "YDboeMgQN5kK",
    "outputId": "1ee5736e-cc27-4c18-eddf-d5ed725b668e"
   },
   "outputs": [
    {
     "data": {
      "text/plain": [
       "20"
      ]
     },
     "execution_count": 26,
     "metadata": {},
     "output_type": "execute_result"
    }
   ],
   "source": [
    "5*4"
   ]
  },
  {
   "cell_type": "code",
   "execution_count": 27,
   "metadata": {
    "colab": {
     "base_uri": "https://localhost:8080/"
    },
    "executionInfo": {
     "elapsed": 442,
     "status": "ok",
     "timestamp": 1652385473513,
     "user": {
      "displayName": "Oluwadara Adepoju",
      "userId": "13428123461617812046"
     },
     "user_tz": -60
    },
    "id": "_zlHTNMCN5kL",
    "outputId": "15d29c5e-2d3e-4fb5-e765-accea4ed40be"
   },
   "outputs": [
    {
     "data": {
      "text/plain": [
       "125"
      ]
     },
     "execution_count": 27,
     "metadata": {},
     "output_type": "execute_result"
    }
   ],
   "source": [
    "5**3"
   ]
  },
  {
   "cell_type": "code",
   "execution_count": 28,
   "metadata": {
    "colab": {
     "base_uri": "https://localhost:8080/"
    },
    "executionInfo": {
     "elapsed": 494,
     "status": "ok",
     "timestamp": 1652385532984,
     "user": {
      "displayName": "Oluwadara Adepoju",
      "userId": "13428123461617812046"
     },
     "user_tz": -60
    },
    "id": "1PirVhYAN5kL",
    "outputId": "7b59740a-d7ee-4e33-8265-67b8ac3af643"
   },
   "outputs": [
    {
     "data": {
      "text/plain": [
       "6"
      ]
     },
     "execution_count": 28,
     "metadata": {},
     "output_type": "execute_result"
    }
   ],
   "source": [
    "5^3 # note: the ^ sign does not mean exponential in python. Kindly use **"
   ]
  },
  {
   "cell_type": "code",
   "execution_count": 29,
   "metadata": {
    "colab": {
     "base_uri": "https://localhost:8080/"
    },
    "executionInfo": {
     "elapsed": 712,
     "status": "ok",
     "timestamp": 1652385575182,
     "user": {
      "displayName": "Oluwadara Adepoju",
      "userId": "13428123461617812046"
     },
     "user_tz": -60
    },
    "id": "j1UXaBxjN5kM",
    "outputId": "d611caae-5428-4108-a845-424c580d3870"
   },
   "outputs": [
    {
     "name": "stdout",
     "output_type": "stream",
     "text": [
      "15\n",
      "125\n"
     ]
    }
   ],
   "source": [
    "print(5*3)\n",
    "print(5**3)"
   ]
  },
  {
   "cell_type": "code",
   "execution_count": null,
   "metadata": {
    "id": "6KZwiI9MN5kM",
    "outputId": "dbddfb71-be95-434b-f79d-d6df68d63293"
   },
   "outputs": [
    {
     "name": "stdout",
     "output_type": "stream",
     "text": [
      "3.5\n",
      "1\n",
      "3\n"
     ]
    }
   ],
   "source": [
    "print(7/2)# division\n",
    "print(7%2) # modulo\n",
    "print(7//2)# integer division"
   ]
  },
  {
   "cell_type": "markdown",
   "metadata": {
    "id": "gY_uig-6N5kN"
   },
   "source": [
    "### Assignment operators"
   ]
  },
  {
   "cell_type": "markdown",
   "metadata": {
    "id": "JkWLTWrCN5kN"
   },
   "source": [
    "Assignment operators\n",
    "1. '='\n",
    "\n",
    "2. 'operator='\n",
    "\n",
    "eg: +="
   ]
  },
  {
   "cell_type": "code",
   "execution_count": 31,
   "metadata": {
    "executionInfo": {
     "elapsed": 563,
     "status": "ok",
     "timestamp": 1652385725371,
     "user": {
      "displayName": "Oluwadara Adepoju",
      "userId": "13428123461617812046"
     },
     "user_tz": -60
    },
    "id": "vdUgMWugN5kN"
   },
   "outputs": [],
   "source": [
    "#Examples\n",
    "x = 45\n",
    "y = 50\n",
    "z = 30"
   ]
  },
  {
   "cell_type": "code",
   "execution_count": null,
   "metadata": {
    "id": "FWmohi_IN5kN",
    "outputId": "b3dc9213-3bd1-42d3-d5d1-cfe9a1358c23"
   },
   "outputs": [
    {
     "data": {
      "text/plain": [
       "30"
      ]
     },
     "execution_count": 22,
     "metadata": {},
     "output_type": "execute_result"
    }
   ],
   "source": [
    "z"
   ]
  },
  {
   "cell_type": "code",
   "execution_count": null,
   "metadata": {
    "id": "Czr2yHXrN5kO",
    "outputId": "2f64629b-bb89-4662-d198-649abaf23023"
   },
   "outputs": [
    {
     "name": "stdout",
     "output_type": "stream",
     "text": [
      "[20, 34, 43, 12, 15]\n"
     ]
    }
   ],
   "source": [
    "class_scores = [20,34,43,12,15]\n",
    "print(class_scores)"
   ]
  },
  {
   "cell_type": "code",
   "execution_count": null,
   "metadata": {
    "id": "N3unTCjQN5kO"
   },
   "outputs": [],
   "source": [
    "a,b,c = 13,55,29\n"
   ]
  },
  {
   "cell_type": "code",
   "execution_count": null,
   "metadata": {
    "id": "qgOZUkIJN5kP",
    "outputId": "57cf527f-4125-4fc2-8c47-00d21fab9c57"
   },
   "outputs": [
    {
     "data": {
      "text/plain": [
       "13"
      ]
     },
     "execution_count": 25,
     "metadata": {},
     "output_type": "execute_result"
    }
   ],
   "source": [
    "a"
   ]
  },
  {
   "cell_type": "code",
   "execution_count": null,
   "metadata": {
    "id": "RmbH8fx9N5kP",
    "outputId": "6dfd32ce-cb39-4ca8-aaf5-1da00133dcfa"
   },
   "outputs": [
    {
     "data": {
      "text/plain": [
       "55"
      ]
     },
     "execution_count": 26,
     "metadata": {},
     "output_type": "execute_result"
    }
   ],
   "source": [
    "b"
   ]
  },
  {
   "cell_type": "code",
   "execution_count": null,
   "metadata": {
    "id": "5wTG5svMN5kP",
    "outputId": "b98c316e-04bd-4e2e-9e51-abf3a71afc88"
   },
   "outputs": [
    {
     "data": {
      "text/plain": [
       "29"
      ]
     },
     "execution_count": 27,
     "metadata": {},
     "output_type": "execute_result"
    }
   ],
   "source": [
    "c"
   ]
  },
  {
   "cell_type": "code",
   "execution_count": 32,
   "metadata": {
    "colab": {
     "base_uri": "https://localhost:8080/"
    },
    "executionInfo": {
     "elapsed": 727,
     "status": "ok",
     "timestamp": 1652385734913,
     "user": {
      "displayName": "Oluwadara Adepoju",
      "userId": "13428123461617812046"
     },
     "user_tz": -60
    },
    "id": "UQCuu_RFN5kQ",
    "outputId": "1b80d2f8-050c-44d3-a12b-d7e4af5120a2"
   },
   "outputs": [
    {
     "data": {
      "text/plain": [
       "47"
      ]
     },
     "execution_count": 32,
     "metadata": {},
     "output_type": "execute_result"
    }
   ],
   "source": [
    "\n",
    "x+2"
   ]
  },
  {
   "cell_type": "code",
   "execution_count": 33,
   "metadata": {
    "colab": {
     "base_uri": "https://localhost:8080/"
    },
    "executionInfo": {
     "elapsed": 523,
     "status": "ok",
     "timestamp": 1652385739005,
     "user": {
      "displayName": "Oluwadara Adepoju",
      "userId": "13428123461617812046"
     },
     "user_tz": -60
    },
    "id": "JwhfRqQLN5kQ",
    "outputId": "aef36a67-7458-449b-ec1c-8cb824401980"
   },
   "outputs": [
    {
     "data": {
      "text/plain": [
       "45"
      ]
     },
     "execution_count": 33,
     "metadata": {},
     "output_type": "execute_result"
    }
   ],
   "source": [
    "x"
   ]
  },
  {
   "cell_type": "code",
   "execution_count": null,
   "metadata": {
    "id": "4vBRhU_4N5kR",
    "outputId": "83c11617-cf54-450a-9e1a-3aa12ee49b37"
   },
   "outputs": [
    {
     "name": "stdout",
     "output_type": "stream",
     "text": [
      "45\n",
      "47\n"
     ]
    }
   ],
   "source": [
    "print(x)\n",
    "x = x+2\n",
    "print(x)"
   ]
  },
  {
   "cell_type": "code",
   "execution_count": null,
   "metadata": {
    "id": "xxayuwbDN5kR",
    "outputId": "c49a8482-04f2-4845-e8a7-e4006dd6a815"
   },
   "outputs": [
    {
     "data": {
      "text/plain": [
       "47"
      ]
     },
     "execution_count": 31,
     "metadata": {},
     "output_type": "execute_result"
    }
   ],
   "source": [
    "x"
   ]
  },
  {
   "cell_type": "code",
   "execution_count": 34,
   "metadata": {
    "executionInfo": {
     "elapsed": 522,
     "status": "ok",
     "timestamp": 1652385853760,
     "user": {
      "displayName": "Oluwadara Adepoju",
      "userId": "13428123461617812046"
     },
     "user_tz": -60
    },
    "id": "b4hlUfIVN5kR"
   },
   "outputs": [],
   "source": [
    "x+=2"
   ]
  },
  {
   "cell_type": "code",
   "execution_count": null,
   "metadata": {
    "id": "wthB2AI4N5kR",
    "outputId": "6ddf1c7c-abef-4e85-f13d-2389695f64c5"
   },
   "outputs": [
    {
     "data": {
      "text/plain": [
       "49"
      ]
     },
     "execution_count": 33,
     "metadata": {},
     "output_type": "execute_result"
    }
   ],
   "source": [
    "x"
   ]
  },
  {
   "cell_type": "code",
   "execution_count": null,
   "metadata": {
    "id": "VXrsV4CCN5kS"
   },
   "outputs": [],
   "source": [
    "\n",
    "\n",
    "x-=2  # x+2 and assign it back to x. This the as writing x = x+2"
   ]
  },
  {
   "cell_type": "code",
   "execution_count": null,
   "metadata": {
    "id": "NPS_FJW4N5kS",
    "outputId": "9997f2f1-209e-43b6-e931-e19408795d56"
   },
   "outputs": [
    {
     "data": {
      "text/plain": [
       "47"
      ]
     },
     "execution_count": 35,
     "metadata": {},
     "output_type": "execute_result"
    }
   ],
   "source": [
    "x"
   ]
  },
  {
   "cell_type": "code",
   "execution_count": 35,
   "metadata": {
    "executionInfo": {
     "elapsed": 650,
     "status": "ok",
     "timestamp": 1652385926521,
     "user": {
      "displayName": "Oluwadara Adepoju",
      "userId": "13428123461617812046"
     },
     "user_tz": -60
    },
    "id": "js8GJAPuN5kS"
   },
   "outputs": [],
   "source": [
    "s = 75"
   ]
  },
  {
   "cell_type": "code",
   "execution_count": 36,
   "metadata": {
    "executionInfo": {
     "elapsed": 487,
     "status": "ok",
     "timestamp": 1652385930546,
     "user": {
      "displayName": "Oluwadara Adepoju",
      "userId": "13428123461617812046"
     },
     "user_tz": -60
    },
    "id": "haz0z1laN5kT"
   },
   "outputs": [],
   "source": [
    "s = s+5"
   ]
  },
  {
   "cell_type": "code",
   "execution_count": 37,
   "metadata": {
    "colab": {
     "base_uri": "https://localhost:8080/"
    },
    "executionInfo": {
     "elapsed": 518,
     "status": "ok",
     "timestamp": 1652385934477,
     "user": {
      "displayName": "Oluwadara Adepoju",
      "userId": "13428123461617812046"
     },
     "user_tz": -60
    },
    "id": "I6YkU-u6N5kT",
    "outputId": "09f61fff-250e-4107-d6f8-2123f952f285"
   },
   "outputs": [
    {
     "data": {
      "text/plain": [
       "80"
      ]
     },
     "execution_count": 37,
     "metadata": {},
     "output_type": "execute_result"
    }
   ],
   "source": [
    "s"
   ]
  },
  {
   "cell_type": "code",
   "execution_count": 38,
   "metadata": {
    "executionInfo": {
     "elapsed": 774,
     "status": "ok",
     "timestamp": 1652385944174,
     "user": {
      "displayName": "Oluwadara Adepoju",
      "userId": "13428123461617812046"
     },
     "user_tz": -60
    },
    "id": "H_zXda-WN5kT"
   },
   "outputs": [],
   "source": [
    "s+=5"
   ]
  },
  {
   "cell_type": "code",
   "execution_count": 39,
   "metadata": {
    "colab": {
     "base_uri": "https://localhost:8080/"
    },
    "executionInfo": {
     "elapsed": 13,
     "status": "ok",
     "timestamp": 1652385947447,
     "user": {
      "displayName": "Oluwadara Adepoju",
      "userId": "13428123461617812046"
     },
     "user_tz": -60
    },
    "id": "vKXwz27WN5kT",
    "outputId": "442f3424-a3aa-4d61-c4a2-126725afb1f9"
   },
   "outputs": [
    {
     "data": {
      "text/plain": [
       "85"
      ]
     },
     "execution_count": 39,
     "metadata": {},
     "output_type": "execute_result"
    }
   ],
   "source": [
    "s"
   ]
  },
  {
   "cell_type": "code",
   "execution_count": 40,
   "metadata": {
    "executionInfo": {
     "elapsed": 595,
     "status": "ok",
     "timestamp": 1652385978346,
     "user": {
      "displayName": "Oluwadara Adepoju",
      "userId": "13428123461617812046"
     },
     "user_tz": -60
    },
    "id": "WjGl1rlZN5kU"
   },
   "outputs": [],
   "source": [
    "s*=3"
   ]
  },
  {
   "cell_type": "code",
   "execution_count": 41,
   "metadata": {
    "colab": {
     "base_uri": "https://localhost:8080/"
    },
    "executionInfo": {
     "elapsed": 492,
     "status": "ok",
     "timestamp": 1652385983300,
     "user": {
      "displayName": "Oluwadara Adepoju",
      "userId": "13428123461617812046"
     },
     "user_tz": -60
    },
    "id": "Hpug5XRDN5kU",
    "outputId": "087eb7f1-9907-4283-b138-3a331597909c"
   },
   "outputs": [
    {
     "data": {
      "text/plain": [
       "255"
      ]
     },
     "execution_count": 41,
     "metadata": {},
     "output_type": "execute_result"
    }
   ],
   "source": [
    "s"
   ]
  },
  {
   "cell_type": "code",
   "execution_count": 42,
   "metadata": {
    "colab": {
     "base_uri": "https://localhost:8080/"
    },
    "executionInfo": {
     "elapsed": 658,
     "status": "ok",
     "timestamp": 1652386030355,
     "user": {
      "displayName": "Oluwadara Adepoju",
      "userId": "13428123461617812046"
     },
     "user_tz": -60
    },
    "id": "2r_eGglPN5kU",
    "outputId": "487602a1-fefb-4c67-92ea-3942012efc1a"
   },
   "outputs": [
    {
     "name": "stdout",
     "output_type": "stream",
     "text": [
      "50\n"
     ]
    }
   ],
   "source": [
    "x += 3\n",
    "print(x)"
   ]
  },
  {
   "cell_type": "code",
   "execution_count": 43,
   "metadata": {
    "colab": {
     "base_uri": "https://localhost:8080/"
    },
    "executionInfo": {
     "elapsed": 623,
     "status": "ok",
     "timestamp": 1652386040269,
     "user": {
      "displayName": "Oluwadara Adepoju",
      "userId": "13428123461617812046"
     },
     "user_tz": -60
    },
    "id": "2txqEHLcN5kU",
    "outputId": "d4cd4a85-d661-424a-dedd-284bfdd4ed86"
   },
   "outputs": [
    {
     "name": "stdout",
     "output_type": "stream",
     "text": [
      "100\n"
     ]
    }
   ],
   "source": [
    "x*=2\n",
    "print(x)"
   ]
  },
  {
   "cell_type": "code",
   "execution_count": 44,
   "metadata": {
    "colab": {
     "base_uri": "https://localhost:8080/"
    },
    "executionInfo": {
     "elapsed": 709,
     "status": "ok",
     "timestamp": 1652386050314,
     "user": {
      "displayName": "Oluwadara Adepoju",
      "userId": "13428123461617812046"
     },
     "user_tz": -60
    },
    "id": "4JJSAAjCN5kU",
    "outputId": "a5b30d89-1448-4145-c4e8-15edb267a805"
   },
   "outputs": [
    {
     "name": "stdout",
     "output_type": "stream",
     "text": [
      "90\n"
     ]
    }
   ],
   "source": [
    "x -= 10\n",
    "\n",
    "print(x)"
   ]
  },
  {
   "cell_type": "code",
   "execution_count": 45,
   "metadata": {
    "colab": {
     "base_uri": "https://localhost:8080/"
    },
    "executionInfo": {
     "elapsed": 498,
     "status": "ok",
     "timestamp": 1652386065401,
     "user": {
      "displayName": "Oluwadara Adepoju",
      "userId": "13428123461617812046"
     },
     "user_tz": -60
    },
    "id": "h_ShB9yIN5kV",
    "outputId": "5a57335d-5cde-4614-8e3a-9593637d1616"
   },
   "outputs": [
    {
     "name": "stdout",
     "output_type": "stream",
     "text": [
      "79\n"
     ]
    }
   ],
   "source": [
    "num  = 79\n",
    "print(num)"
   ]
  },
  {
   "cell_type": "code",
   "execution_count": 46,
   "metadata": {
    "executionInfo": {
     "elapsed": 515,
     "status": "ok",
     "timestamp": 1652386076629,
     "user": {
      "displayName": "Oluwadara Adepoju",
      "userId": "13428123461617812046"
     },
     "user_tz": -60
    },
    "id": "c3nGvh52N5kV"
   },
   "outputs": [],
   "source": [
    "num = num +10"
   ]
  },
  {
   "cell_type": "code",
   "execution_count": 47,
   "metadata": {
    "colab": {
     "base_uri": "https://localhost:8080/"
    },
    "executionInfo": {
     "elapsed": 1804,
     "status": "ok",
     "timestamp": 1652386085862,
     "user": {
      "displayName": "Oluwadara Adepoju",
      "userId": "13428123461617812046"
     },
     "user_tz": -60
    },
    "id": "_jXsRr_QN5kV",
    "outputId": "83eedf50-26de-4acb-938a-e37c3b02c4ae"
   },
   "outputs": [
    {
     "name": "stdout",
     "output_type": "stream",
     "text": [
      "99\n"
     ]
    }
   ],
   "source": [
    "num += 10\n",
    "print(num)"
   ]
  },
  {
   "cell_type": "code",
   "execution_count": null,
   "metadata": {
    "id": "wzS-WBykN5kV"
   },
   "outputs": [],
   "source": []
  },
  {
   "cell_type": "code",
   "execution_count": 48,
   "metadata": {
    "executionInfo": {
     "elapsed": 1074,
     "status": "ok",
     "timestamp": 1652386102698,
     "user": {
      "displayName": "Oluwadara Adepoju",
      "userId": "13428123461617812046"
     },
     "user_tz": -60
    },
    "id": "95CsW7ljN5kV"
   },
   "outputs": [],
   "source": [
    "sampson = 85"
   ]
  },
  {
   "cell_type": "code",
   "execution_count": 49,
   "metadata": {
    "colab": {
     "base_uri": "https://localhost:8080/"
    },
    "executionInfo": {
     "elapsed": 532,
     "status": "ok",
     "timestamp": 1652386109739,
     "user": {
      "displayName": "Oluwadara Adepoju",
      "userId": "13428123461617812046"
     },
     "user_tz": -60
    },
    "id": "_k-awjsAN5kW",
    "outputId": "d541942e-dddb-42c3-aaa4-e561ac83aa88"
   },
   "outputs": [
    {
     "data": {
      "text/plain": [
       "85"
      ]
     },
     "execution_count": 49,
     "metadata": {},
     "output_type": "execute_result"
    }
   ],
   "source": [
    "sampson"
   ]
  },
  {
   "cell_type": "code",
   "execution_count": 50,
   "metadata": {
    "colab": {
     "base_uri": "https://localhost:8080/"
    },
    "executionInfo": {
     "elapsed": 493,
     "status": "ok",
     "timestamp": 1652386136564,
     "user": {
      "displayName": "Oluwadara Adepoju",
      "userId": "13428123461617812046"
     },
     "user_tz": -60
    },
    "id": "JiutFvb8N5kW",
    "outputId": "195dcd86-443a-48b5-bd8a-728a541fdbd1"
   },
   "outputs": [
    {
     "data": {
      "text/plain": [
       "88"
      ]
     },
     "execution_count": 50,
     "metadata": {},
     "output_type": "execute_result"
    }
   ],
   "source": [
    "sampson+3\n"
   ]
  },
  {
   "cell_type": "code",
   "execution_count": 51,
   "metadata": {
    "colab": {
     "base_uri": "https://localhost:8080/"
    },
    "executionInfo": {
     "elapsed": 1613,
     "status": "ok",
     "timestamp": 1652386158110,
     "user": {
      "displayName": "Oluwadara Adepoju",
      "userId": "13428123461617812046"
     },
     "user_tz": -60
    },
    "id": "-_o5muToN5kW",
    "outputId": "60cad882-f424-4409-b010-91f4df4c1360"
   },
   "outputs": [
    {
     "data": {
      "text/plain": [
       "85"
      ]
     },
     "execution_count": 51,
     "metadata": {},
     "output_type": "execute_result"
    }
   ],
   "source": [
    "sampson"
   ]
  },
  {
   "cell_type": "code",
   "execution_count": 52,
   "metadata": {
    "executionInfo": {
     "elapsed": 528,
     "status": "ok",
     "timestamp": 1652386194036,
     "user": {
      "displayName": "Oluwadara Adepoju",
      "userId": "13428123461617812046"
     },
     "user_tz": -60
    },
    "id": "SI_QbgnDN5kX"
   },
   "outputs": [],
   "source": [
    "sampson+=3"
   ]
  },
  {
   "cell_type": "code",
   "execution_count": 53,
   "metadata": {
    "colab": {
     "base_uri": "https://localhost:8080/"
    },
    "executionInfo": {
     "elapsed": 13,
     "status": "ok",
     "timestamp": 1652386196075,
     "user": {
      "displayName": "Oluwadara Adepoju",
      "userId": "13428123461617812046"
     },
     "user_tz": -60
    },
    "id": "8TQH65GHN5kX",
    "outputId": "2a16a7d3-b21a-44bc-e607-1183420e3e3f"
   },
   "outputs": [
    {
     "data": {
      "text/plain": [
       "88"
      ]
     },
     "execution_count": 53,
     "metadata": {},
     "output_type": "execute_result"
    }
   ],
   "source": [
    "sampson"
   ]
  },
  {
   "cell_type": "code",
   "execution_count": 54,
   "metadata": {
    "executionInfo": {
     "elapsed": 551,
     "status": "ok",
     "timestamp": 1652386199065,
     "user": {
      "displayName": "Oluwadara Adepoju",
      "userId": "13428123461617812046"
     },
     "user_tz": -60
    },
    "id": "u9GcRBqCN5kX"
   },
   "outputs": [],
   "source": [
    "a = 4"
   ]
  },
  {
   "cell_type": "code",
   "execution_count": 55,
   "metadata": {
    "executionInfo": {
     "elapsed": 872,
     "status": "ok",
     "timestamp": 1652386300937,
     "user": {
      "displayName": "Oluwadara Adepoju",
      "userId": "13428123461617812046"
     },
     "user_tz": -60
    },
    "id": "ynZwBFgVN5kX"
   },
   "outputs": [],
   "source": [
    "a = a+2"
   ]
  },
  {
   "cell_type": "code",
   "execution_count": 56,
   "metadata": {
    "colab": {
     "base_uri": "https://localhost:8080/"
    },
    "executionInfo": {
     "elapsed": 458,
     "status": "ok",
     "timestamp": 1652386311528,
     "user": {
      "displayName": "Oluwadara Adepoju",
      "userId": "13428123461617812046"
     },
     "user_tz": -60
    },
    "id": "O93xM3KjN5kX",
    "outputId": "2d013a99-c683-44ac-9b43-0c990b4c781d"
   },
   "outputs": [
    {
     "data": {
      "text/plain": [
       "6"
      ]
     },
     "execution_count": 56,
     "metadata": {},
     "output_type": "execute_result"
    }
   ],
   "source": [
    "a"
   ]
  },
  {
   "cell_type": "code",
   "execution_count": 57,
   "metadata": {
    "executionInfo": {
     "elapsed": 451,
     "status": "ok",
     "timestamp": 1652386316824,
     "user": {
      "displayName": "Oluwadara Adepoju",
      "userId": "13428123461617812046"
     },
     "user_tz": -60
    },
    "id": "B1T5k-vwN5kY"
   },
   "outputs": [],
   "source": [
    "a+=1"
   ]
  },
  {
   "cell_type": "code",
   "execution_count": 58,
   "metadata": {
    "colab": {
     "base_uri": "https://localhost:8080/"
    },
    "executionInfo": {
     "elapsed": 11,
     "status": "ok",
     "timestamp": 1652386319318,
     "user": {
      "displayName": "Oluwadara Adepoju",
      "userId": "13428123461617812046"
     },
     "user_tz": -60
    },
    "id": "5uLg_srmN5kY",
    "outputId": "8b1bcb73-8101-48a0-dfa3-638d82547aa3"
   },
   "outputs": [
    {
     "data": {
      "text/plain": [
       "7"
      ]
     },
     "execution_count": 58,
     "metadata": {},
     "output_type": "execute_result"
    }
   ],
   "source": [
    "a"
   ]
  },
  {
   "cell_type": "code",
   "execution_count": 59,
   "metadata": {
    "executionInfo": {
     "elapsed": 456,
     "status": "ok",
     "timestamp": 1652386328557,
     "user": {
      "displayName": "Oluwadara Adepoju",
      "userId": "13428123461617812046"
     },
     "user_tz": -60
    },
    "id": "u_p8SbsbN5kY"
   },
   "outputs": [],
   "source": [
    "a+=1"
   ]
  },
  {
   "cell_type": "code",
   "execution_count": 60,
   "metadata": {
    "colab": {
     "base_uri": "https://localhost:8080/"
    },
    "executionInfo": {
     "elapsed": 39,
     "status": "ok",
     "timestamp": 1652386330689,
     "user": {
      "displayName": "Oluwadara Adepoju",
      "userId": "13428123461617812046"
     },
     "user_tz": -60
    },
    "id": "ZvwPiU_QN5kY",
    "outputId": "26548229-0bcf-4e2a-c6d1-8a5d5357c192"
   },
   "outputs": [
    {
     "data": {
      "text/plain": [
       "8"
      ]
     },
     "execution_count": 60,
     "metadata": {},
     "output_type": "execute_result"
    }
   ],
   "source": [
    "a"
   ]
  },
  {
   "cell_type": "markdown",
   "metadata": {
    "id": "YltKU89iN5kY"
   },
   "source": [
    "### Integers and floats"
   ]
  },
  {
   "cell_type": "markdown",
   "metadata": {
    "id": "iBeRpMbeN5kZ"
   },
   "source": [
    "Integers: positive or negative whole numbers\n",
    "\n",
    "Floats: decimals or floating points\n",
    "\n",
    "In python, integers are represented by \"int\" and floats are represented by \"float\"\n",
    "\n",
    "You can check the variable type using the in-built function \"type()\"\n",
    "\n",
    "You can also change a variable from one type to the other.\n"
   ]
  },
  {
   "cell_type": "code",
   "execution_count": 62,
   "metadata": {
    "executionInfo": {
     "elapsed": 562,
     "status": "ok",
     "timestamp": 1652386721050,
     "user": {
      "displayName": "Oluwadara Adepoju",
      "userId": "13428123461617812046"
     },
     "user_tz": -60
    },
    "id": "m9enhllDN5kZ"
   },
   "outputs": [],
   "source": [
    "# Examples\n",
    "age = 45                            \n",
    "income = 578.64"
   ]
  },
  {
   "cell_type": "code",
   "execution_count": 63,
   "metadata": {
    "colab": {
     "base_uri": "https://localhost:8080/"
    },
    "executionInfo": {
     "elapsed": 656,
     "status": "ok",
     "timestamp": 1652386729295,
     "user": {
      "displayName": "Oluwadara Adepoju",
      "userId": "13428123461617812046"
     },
     "user_tz": -60
    },
    "id": "qq9clPV0N5kZ",
    "outputId": "9ff08bcf-d6d9-4676-956b-7c2b22313061"
   },
   "outputs": [
    {
     "name": "stdout",
     "output_type": "stream",
     "text": [
      "<class 'int'>\n",
      "<class 'float'>\n"
     ]
    }
   ],
   "source": [
    "# use the type() function to check for variable type\n",
    "print(type(age))\n",
    "print(type(income))"
   ]
  },
  {
   "cell_type": "code",
   "execution_count": null,
   "metadata": {
    "id": "mCR4guRy6CdO"
   },
   "outputs": [],
   "source": [
    "0. a\n",
    ".9 b\n",
    "c"
   ]
  },
  {
   "cell_type": "code",
   "execution_count": 61,
   "metadata": {
    "colab": {
     "base_uri": "https://localhost:8080/"
    },
    "executionInfo": {
     "elapsed": 633,
     "status": "ok",
     "timestamp": 1652386632255,
     "user": {
      "displayName": "Oluwadara Adepoju",
      "userId": "13428123461617812046"
     },
     "user_tz": -60
    },
    "id": "Lk0_lrWd6iEn",
    "outputId": "57246b40-a3eb-447b-d0e9-a7e24e6c4313"
   },
   "outputs": [
    {
     "name": "stdout",
     "output_type": "stream",
     "text": [
      "<class 'float'>\n",
      "<class 'float'>\n"
     ]
    }
   ],
   "source": [
    "print(type(0.))\n",
    "print(type(.9))"
   ]
  },
  {
   "cell_type": "code",
   "execution_count": 64,
   "metadata": {
    "colab": {
     "base_uri": "https://localhost:8080/"
    },
    "executionInfo": {
     "elapsed": 563,
     "status": "ok",
     "timestamp": 1652386796598,
     "user": {
      "displayName": "Oluwadara Adepoju",
      "userId": "13428123461617812046"
     },
     "user_tz": -60
    },
    "id": "jhw8XQG-N5ka",
    "outputId": "c0d79b24-6372-44ed-8619-07880c690c4d"
   },
   "outputs": [
    {
     "name": "stdout",
     "output_type": "stream",
     "text": [
      "45.0\n"
     ]
    }
   ],
   "source": [
    "age_float = float(age) # float()\n",
    "print(age_float)"
   ]
  },
  {
   "cell_type": "code",
   "execution_count": 65,
   "metadata": {
    "colab": {
     "base_uri": "https://localhost:8080/"
    },
    "executionInfo": {
     "elapsed": 498,
     "status": "ok",
     "timestamp": 1652386861048,
     "user": {
      "displayName": "Oluwadara Adepoju",
      "userId": "13428123461617812046"
     },
     "user_tz": -60
    },
    "id": "GJ8uEdESN5ka",
    "outputId": "31254096-3116-4607-b81c-ca63f0a6b97d",
    "scrolled": true
   },
   "outputs": [
    {
     "name": "stdout",
     "output_type": "stream",
     "text": [
      "578\n",
      "<class 'int'>\n"
     ]
    }
   ],
   "source": [
    "income_int = int(income)\n",
    "print(income_int)\n",
    "print(type(income_int))"
   ]
  },
  {
   "cell_type": "code",
   "execution_count": 67,
   "metadata": {
    "colab": {
     "base_uri": "https://localhost:8080/"
    },
    "executionInfo": {
     "elapsed": 632,
     "status": "ok",
     "timestamp": 1652387009280,
     "user": {
      "displayName": "Oluwadara Adepoju",
      "userId": "13428123461617812046"
     },
     "user_tz": -60
    },
    "id": "Fv5utVnM7w0Q",
    "outputId": "50ace78f-c7d8-46fc-90d8-7734aa4b2cb6"
   },
   "outputs": [
    {
     "data": {
      "text/plain": [
       "3.696969696969697"
      ]
     },
     "execution_count": 67,
     "metadata": {},
     "output_type": "execute_result"
    }
   ],
   "source": [
    "12.2/3.3"
   ]
  },
  {
   "cell_type": "code",
   "execution_count": 68,
   "metadata": {
    "executionInfo": {
     "elapsed": 523,
     "status": "ok",
     "timestamp": 1652387057790,
     "user": {
      "displayName": "Oluwadara Adepoju",
      "userId": "13428123461617812046"
     },
     "user_tz": -60
    },
    "id": "W0NwBJEn8O-T"
   },
   "outputs": [],
   "source": [
    "a=str(5)"
   ]
  },
  {
   "cell_type": "code",
   "execution_count": 69,
   "metadata": {
    "colab": {
     "base_uri": "https://localhost:8080/",
     "height": 36
    },
    "executionInfo": {
     "elapsed": 669,
     "status": "ok",
     "timestamp": 1652387064286,
     "user": {
      "displayName": "Oluwadara Adepoju",
      "userId": "13428123461617812046"
     },
     "user_tz": -60
    },
    "id": "AMebYZ648ZnW",
    "outputId": "a8f1a717-8bdb-4931-a640-5f5ba942ba0e"
   },
   "outputs": [
    {
     "data": {
      "application/vnd.google.colaboratory.intrinsic+json": {
       "type": "string"
      },
      "text/plain": [
       "'5'"
      ]
     },
     "execution_count": 69,
     "metadata": {},
     "output_type": "execute_result"
    }
   ],
   "source": [
    "a"
   ]
  },
  {
   "cell_type": "code",
   "execution_count": 77,
   "metadata": {
    "colab": {
     "base_uri": "https://localhost:8080/"
    },
    "executionInfo": {
     "elapsed": 588,
     "status": "ok",
     "timestamp": 1652387629866,
     "user": {
      "displayName": "Oluwadara Adepoju",
      "userId": "13428123461617812046"
     },
     "user_tz": -60
    },
    "id": "j0SNx44G9_2V",
    "outputId": "c6eba61b-5660-495b-b264-590155f6b9e9"
   },
   "outputs": [
    {
     "name": "stdout",
     "output_type": "stream",
     "text": [
      "I am 45.0 years old\n"
     ]
    }
   ],
   "source": [
    "print(f'I am {age_float} years old')\n"
   ]
  },
  {
   "cell_type": "code",
   "execution_count": 80,
   "metadata": {
    "colab": {
     "base_uri": "https://localhost:8080/"
    },
    "executionInfo": {
     "elapsed": 602,
     "status": "ok",
     "timestamp": 1652387886886,
     "user": {
      "displayName": "Oluwadara Adepoju",
      "userId": "13428123461617812046"
     },
     "user_tz": -60
    },
    "id": "T0vwZ9w2_IiX",
    "outputId": "76644264-91b2-45b2-9aca-f5d581983451"
   },
   "outputs": [
    {
     "name": "stdout",
     "output_type": "stream",
     "text": [
      "4  X  4 = 16\n"
     ]
    }
   ],
   "source": [
    "num= 4\n",
    "ans =16\n",
    "print(f'{num}  X  {num} = {ans}')"
   ]
  },
  {
   "cell_type": "code",
   "execution_count": 71,
   "metadata": {
    "executionInfo": {
     "elapsed": 548,
     "status": "ok",
     "timestamp": 1652387204290,
     "user": {
      "displayName": "Oluwadara Adepoju",
      "userId": "13428123461617812046"
     },
     "user_tz": -60
    },
    "id": "4R7Kap9q83XW"
   },
   "outputs": [],
   "source": [
    "b = 'This sentence'"
   ]
  },
  {
   "cell_type": "code",
   "execution_count": 72,
   "metadata": {
    "colab": {
     "base_uri": "https://localhost:8080/",
     "height": 36
    },
    "executionInfo": {
     "elapsed": 619,
     "status": "ok",
     "timestamp": 1652387210622,
     "user": {
      "displayName": "Oluwadara Adepoju",
      "userId": "13428123461617812046"
     },
     "user_tz": -60
    },
    "id": "b9W4eTPS89JB",
    "outputId": "8c981d1d-93ed-4dd5-9536-07ac97fd8f18"
   },
   "outputs": [
    {
     "data": {
      "application/vnd.google.colaboratory.intrinsic+json": {
       "type": "string"
      },
      "text/plain": [
       "'This sentence'"
      ]
     },
     "execution_count": 72,
     "metadata": {},
     "output_type": "execute_result"
    }
   ],
   "source": [
    "b"
   ]
  },
  {
   "cell_type": "code",
   "execution_count": 73,
   "metadata": {
    "colab": {
     "base_uri": "https://localhost:8080/"
    },
    "executionInfo": {
     "elapsed": 9,
     "status": "ok",
     "timestamp": 1652387219736,
     "user": {
      "displayName": "Oluwadara Adepoju",
      "userId": "13428123461617812046"
     },
     "user_tz": -60
    },
    "id": "EsCnC2Sg8-Qu",
    "outputId": "982c7571-e660-42a3-bdac-7770a029ea47"
   },
   "outputs": [
    {
     "name": "stdout",
     "output_type": "stream",
     "text": [
      "This sentence\n"
     ]
    }
   ],
   "source": [
    "print(b)"
   ]
  },
  {
   "cell_type": "code",
   "execution_count": 70,
   "metadata": {
    "colab": {
     "base_uri": "https://localhost:8080/"
    },
    "executionInfo": {
     "elapsed": 538,
     "status": "ok",
     "timestamp": 1652387164768,
     "user": {
      "displayName": "Oluwadara Adepoju",
      "userId": "13428123461617812046"
     },
     "user_tz": -60
    },
    "id": "7QIPzoTY8tq9",
    "outputId": "6a0338c8-c893-4e7c-975c-97eb9e03c63a"
   },
   "outputs": [
    {
     "name": "stdout",
     "output_type": "stream",
     "text": [
      "5\n"
     ]
    }
   ],
   "source": [
    "print(a)"
   ]
  },
  {
   "cell_type": "code",
   "execution_count": null,
   "metadata": {
    "id": "Rz87KmOG9K-8"
   },
   "outputs": [],
   "source": []
  },
  {
   "cell_type": "code",
   "execution_count": 74,
   "metadata": {
    "colab": {
     "base_uri": "https://localhost:8080/"
    },
    "executionInfo": {
     "elapsed": 524,
     "status": "ok",
     "timestamp": 1652387282707,
     "user": {
      "displayName": "Oluwadara Adepoju",
      "userId": "13428123461617812046"
     },
     "user_tz": -60
    },
    "id": "AkbaokZjN5ka",
    "outputId": "222fa7e7-2be8-47dc-fdff-c95925d8cb7e"
   },
   "outputs": [
    {
     "data": {
      "text/plain": [
       "578.6"
      ]
     },
     "execution_count": 74,
     "metadata": {},
     "output_type": "execute_result"
    }
   ],
   "source": [
    "round(578.64,1)"
   ]
  },
  {
   "cell_type": "code",
   "execution_count": 75,
   "metadata": {
    "colab": {
     "base_uri": "https://localhost:8080/"
    },
    "executionInfo": {
     "elapsed": 644,
     "status": "ok",
     "timestamp": 1652387304574,
     "user": {
      "displayName": "Oluwadara Adepoju",
      "userId": "13428123461617812046"
     },
     "user_tz": -60
    },
    "id": "1SkK6vmM9MxR",
    "outputId": "5faa4e43-ef54-45a1-cd15-448d693606ab"
   },
   "outputs": [
    {
     "data": {
      "text/plain": [
       "578.647"
      ]
     },
     "execution_count": 75,
     "metadata": {},
     "output_type": "execute_result"
    }
   ],
   "source": [
    "round(578.64678,3)"
   ]
  },
  {
   "cell_type": "code",
   "execution_count": 76,
   "metadata": {
    "colab": {
     "base_uri": "https://localhost:8080/"
    },
    "executionInfo": {
     "elapsed": 748,
     "status": "ok",
     "timestamp": 1652387378663,
     "user": {
      "displayName": "Oluwadara Adepoju",
      "userId": "13428123461617812046"
     },
     "user_tz": -60
    },
    "id": "-2BWIckZ9iR6",
    "outputId": "04dcd1f1-c5d7-4846-8e0e-54e64f880bf0"
   },
   "outputs": [
    {
     "data": {
      "text/plain": [
       "3.3"
      ]
     },
     "execution_count": 76,
     "metadata": {},
     "output_type": "execute_result"
    }
   ],
   "source": [
    "round(3.3,3)"
   ]
  },
  {
   "cell_type": "markdown",
   "metadata": {
    "id": "TqjKo6NUN5ka"
   },
   "source": [
    "### Booleans\n",
    "* True (T)\n",
    "* False (F)\n",
    "\n",
    "Booleans are represented as  'bool' in python\n",
    "\n",
    "Python assigns the value '1' and '0' to True and False respectively\n"
   ]
  },
  {
   "cell_type": "code",
   "execution_count": 81,
   "metadata": {
    "executionInfo": {
     "elapsed": 489,
     "status": "ok",
     "timestamp": 1652388095536,
     "user": {
      "displayName": "Oluwadara Adepoju",
      "userId": "13428123461617812046"
     },
     "user_tz": -60
    },
    "id": "QZouVgCMN5kb"
   },
   "outputs": [],
   "source": [
    "a = True + True + True + False"
   ]
  },
  {
   "cell_type": "code",
   "execution_count": 83,
   "metadata": {
    "colab": {
     "base_uri": "https://localhost:8080/"
    },
    "executionInfo": {
     "elapsed": 559,
     "status": "ok",
     "timestamp": 1652388224329,
     "user": {
      "displayName": "Oluwadara Adepoju",
      "userId": "13428123461617812046"
     },
     "user_tz": -60
    },
    "id": "W5EHBQKdN5kb",
    "outputId": "efbbc896-4798-4254-b852-272fc3a64289"
   },
   "outputs": [
    {
     "data": {
      "text/plain": [
       "2"
      ]
     },
     "execution_count": 83,
     "metadata": {},
     "output_type": "execute_result"
    }
   ],
   "source": [
    "a - True"
   ]
  },
  {
   "cell_type": "markdown",
   "metadata": {
    "id": "LVZrkrIoN5kb"
   },
   "source": [
    "### Comparison operators\n"
   ]
  },
  {
   "cell_type": "markdown",
   "metadata": {
    "id": "bwBCAwsvN5kb"
   },
   "source": [
    "|Operator||Meaning|\n",
    "|----||----|\n",
    "|<||less than|\n",
    "|>||greater than|\n",
    "|<=||less than or equals to|\n",
    "|>=||greater than or equals to|\n",
    "|==||equals to|\n",
    "|!=|| not equals to|"
   ]
  },
  {
   "cell_type": "code",
   "execution_count": 86,
   "metadata": {
    "colab": {
     "base_uri": "https://localhost:8080/"
    },
    "executionInfo": {
     "elapsed": 892,
     "status": "ok",
     "timestamp": 1652388468858,
     "user": {
      "displayName": "Oluwadara Adepoju",
      "userId": "13428123461617812046"
     },
     "user_tz": -60
    },
    "id": "iQC9AUZeBZwo",
    "outputId": "17b93bd2-67cd-40b5-8c05-edb7851352b4"
   },
   "outputs": [
    {
     "data": {
      "text/plain": [
       "True"
      ]
     },
     "execution_count": 86,
     "metadata": {},
     "output_type": "execute_result"
    }
   ],
   "source": [
    "True!=False"
   ]
  },
  {
   "cell_type": "markdown",
   "metadata": {
    "id": "35rDpBAvN5kc"
   },
   "source": [
    "### Logical Operators"
   ]
  },
  {
   "cell_type": "markdown",
   "metadata": {
    "id": "Z5HteV1zN5kc"
   },
   "source": [
    "|Operator||Action|\n",
    "|----||----|\n",
    "|and(&)||evaluates if both sides are True|\n",
    "|or(\\|)||evaluates if at least one side is True|\n",
    "|not||inverses a boolean|"
   ]
  },
  {
   "cell_type": "code",
   "execution_count": 87,
   "metadata": {
    "colab": {
     "base_uri": "https://localhost:8080/"
    },
    "executionInfo": {
     "elapsed": 492,
     "status": "ok",
     "timestamp": 1652388514656,
     "user": {
      "displayName": "Oluwadara Adepoju",
      "userId": "13428123461617812046"
     },
     "user_tz": -60
    },
    "id": "t1gWzaYIN5kc",
    "outputId": "b879e58e-45da-42d4-98ad-9e049618d087"
   },
   "outputs": [
    {
     "data": {
      "text/plain": [
       "False"
      ]
     },
     "execution_count": 87,
     "metadata": {},
     "output_type": "execute_result"
    }
   ],
   "source": [
    "# Examples\n",
    "statement_1 = False\n",
    "\n",
    "statement_2 = True\n",
    "\n",
    "statement_1 and  statement_2"
   ]
  },
  {
   "cell_type": "code",
   "execution_count": 88,
   "metadata": {
    "colab": {
     "base_uri": "https://localhost:8080/"
    },
    "executionInfo": {
     "elapsed": 930,
     "status": "ok",
     "timestamp": 1652388621411,
     "user": {
      "displayName": "Oluwadara Adepoju",
      "userId": "13428123461617812046"
     },
     "user_tz": -60
    },
    "id": "rIOtTotzN5kd",
    "outputId": "6b1f3b73-42dc-465f-f6df-b61ee24d3282"
   },
   "outputs": [
    {
     "data": {
      "text/plain": [
       "True"
      ]
     },
     "execution_count": 88,
     "metadata": {},
     "output_type": "execute_result"
    }
   ],
   "source": [
    "not(statement_1)\n"
   ]
  },
  {
   "cell_type": "code",
   "execution_count": 89,
   "metadata": {
    "colab": {
     "base_uri": "https://localhost:8080/"
    },
    "executionInfo": {
     "elapsed": 493,
     "status": "ok",
     "timestamp": 1652388664623,
     "user": {
      "displayName": "Oluwadara Adepoju",
      "userId": "13428123461617812046"
     },
     "user_tz": -60
    },
    "id": "YelgMRIDN5kd",
    "outputId": "be6194a8-22c6-42df-e6a4-bf7b926b5222"
   },
   "outputs": [
    {
     "data": {
      "text/plain": [
       "True"
      ]
     },
     "execution_count": 89,
     "metadata": {},
     "output_type": "execute_result"
    }
   ],
   "source": [
    "7 > 5 and 3>2"
   ]
  },
  {
   "cell_type": "code",
   "execution_count": null,
   "metadata": {
    "id": "HMf9LMLwN5kd",
    "outputId": "37573929-1150-4cc7-bf0b-e9ec2b1f181e"
   },
   "outputs": [
    {
     "data": {
      "text/plain": [
       "False"
      ]
     },
     "execution_count": 50,
     "metadata": {},
     "output_type": "execute_result"
    }
   ],
   "source": [
    "75.34 < 45.67<50 # False and  # True = False"
   ]
  },
  {
   "cell_type": "code",
   "execution_count": null,
   "metadata": {
    "id": "EqoB44vWN5kd",
    "outputId": "8f246bda-28d3-4f84-e897-88838553b113"
   },
   "outputs": [
    {
     "data": {
      "text/plain": [
       "False"
      ]
     },
     "execution_count": 51,
     "metadata": {},
     "output_type": "execute_result"
    }
   ],
   "source": [
    "75.34 < 45.67  and 45.67<50"
   ]
  },
  {
   "cell_type": "code",
   "execution_count": null,
   "metadata": {
    "id": "izk8h8U0N5ke",
    "outputId": "9ec87ac4-5d7a-435b-ff53-991ed3accd2a"
   },
   "outputs": [
    {
     "data": {
      "text/plain": [
       "True"
      ]
     },
     "execution_count": 52,
     "metadata": {},
     "output_type": "execute_result"
    }
   ],
   "source": [
    "not(2>3)"
   ]
  },
  {
   "cell_type": "code",
   "execution_count": null,
   "metadata": {
    "id": "1mQRaRdKN5ke",
    "outputId": "001d8a2c-5527-490d-c350-4de27cbf2fac",
    "scrolled": true
   },
   "outputs": [
    {
     "data": {
      "text/plain": [
       "True"
      ]
     },
     "execution_count": 53,
     "metadata": {},
     "output_type": "execute_result"
    }
   ],
   "source": [
    "3 < 5"
   ]
  },
  {
   "cell_type": "markdown",
   "metadata": {
    "id": "SYpVngJ9N5ke"
   },
   "source": [
    "###  'and' logical operator"
   ]
  },
  {
   "cell_type": "code",
   "execution_count": 90,
   "metadata": {
    "colab": {
     "base_uri": "https://localhost:8080/"
    },
    "executionInfo": {
     "elapsed": 534,
     "status": "ok",
     "timestamp": 1652388782982,
     "user": {
      "displayName": "Oluwadara Adepoju",
      "userId": "13428123461617812046"
     },
     "user_tz": -60
    },
    "id": "4JAr6nKwN5kf",
    "outputId": "b0c60434-fc0f-4284-f358-1ba1021bafe9",
    "scrolled": true
   },
   "outputs": [
    {
     "data": {
      "text/plain": [
       "True"
      ]
     },
     "execution_count": 90,
     "metadata": {},
     "output_type": "execute_result"
    }
   ],
   "source": [
    "7 > 5 and 3 < 5 # logical and operator yields true only and only if condition 1 and condition 2 yields true\n",
    "                # other wise, it yieds false"
   ]
  },
  {
   "cell_type": "code",
   "execution_count": 91,
   "metadata": {
    "colab": {
     "base_uri": "https://localhost:8080/"
    },
    "executionInfo": {
     "elapsed": 534,
     "status": "ok",
     "timestamp": 1652388861617,
     "user": {
      "displayName": "Oluwadara Adepoju",
      "userId": "13428123461617812046"
     },
     "user_tz": -60
    },
    "id": "y6UGZQKfN5kf",
    "outputId": "bf8876ed-4995-4cf8-a22f-183c66faf81f"
   },
   "outputs": [
    {
     "data": {
      "text/plain": [
       "False"
      ]
     },
     "execution_count": 91,
     "metadata": {},
     "output_type": "execute_result"
    }
   ],
   "source": [
    "7 < 5 and 3 < 5 #False and True"
   ]
  },
  {
   "cell_type": "code",
   "execution_count": null,
   "metadata": {
    "id": "I6gF-EFfN5kf"
   },
   "outputs": [],
   "source": [
    "7 > 5 and 3 > 5 #True and False"
   ]
  },
  {
   "cell_type": "code",
   "execution_count": null,
   "metadata": {
    "id": "GPFWlqFuN5kf"
   },
   "outputs": [],
   "source": [
    "7 == 5 and 3 > 5 # False and False"
   ]
  },
  {
   "cell_type": "markdown",
   "metadata": {
    "id": "p3N7O7fYN5kf"
   },
   "source": [
    "### 'or' operator"
   ]
  },
  {
   "cell_type": "code",
   "execution_count": null,
   "metadata": {
    "id": "qsiNHWSmN5kg"
   },
   "outputs": [],
   "source": [
    "# The or operator yields False only and only if condition 1 and condition 2 yields false\n",
    "# other wise, it yieds True\n",
    "# Check the examples below"
   ]
  },
  {
   "cell_type": "code",
   "execution_count": null,
   "metadata": {
    "id": "k98lCF67N5kg",
    "outputId": "f41eaccb-5636-43e8-eb33-f3ffa3544d1e"
   },
   "outputs": [
    {
     "data": {
      "text/plain": [
       "True"
      ]
     },
     "execution_count": 54,
     "metadata": {},
     "output_type": "execute_result"
    }
   ],
   "source": [
    "#eg 1\n",
    "100 <200 or 100 <50\n",
    "# True    or   False = True"
   ]
  },
  {
   "cell_type": "markdown",
   "metadata": {
    "id": "13y6pQXyN5kg"
   },
   "source": [
    "#### Explanation of eg 1"
   ]
  },
  {
   "cell_type": "code",
   "execution_count": null,
   "metadata": {
    "id": "jf52ZZ1fN5kg",
    "outputId": "435bd6b5-39d4-4787-d8fb-4dcfa7554177"
   },
   "outputs": [
    {
     "data": {
      "text/plain": [
       "True"
      ]
     },
     "execution_count": 55,
     "metadata": {},
     "output_type": "execute_result"
    }
   ],
   "source": [
    "\n",
    "100 <200 # condition 1 yields True"
   ]
  },
  {
   "cell_type": "code",
   "execution_count": null,
   "metadata": {
    "id": "Txve63FQN5kh",
    "outputId": "fec4395e-e395-48f9-b2cc-c4c05e95de2f"
   },
   "outputs": [
    {
     "data": {
      "text/plain": [
       "False"
      ]
     },
     "execution_count": 56,
     "metadata": {},
     "output_type": "execute_result"
    }
   ],
   "source": [
    "100 <50 ## condition 2 yields False"
   ]
  },
  {
   "cell_type": "markdown",
   "metadata": {
    "id": "zAbIZrCVN5kh"
   },
   "source": [
    "Since condition 1 is True and condition 2 is False, the whole expression is True based on the or operator"
   ]
  },
  {
   "cell_type": "code",
   "execution_count": 92,
   "metadata": {
    "colab": {
     "base_uri": "https://localhost:8080/"
    },
    "executionInfo": {
     "elapsed": 16,
     "status": "ok",
     "timestamp": 1652388966825,
     "user": {
      "displayName": "Oluwadara Adepoju",
      "userId": "13428123461617812046"
     },
     "user_tz": -60
    },
    "id": "3NKGA1FVN5kh",
    "outputId": "77ba61f3-ba20-45f5-a8fb-cc1407ab19cb"
   },
   "outputs": [
    {
     "data": {
      "text/plain": [
       "True"
      ]
     },
     "execution_count": 92,
     "metadata": {},
     "output_type": "execute_result"
    }
   ],
   "source": [
    "#eg_2\n",
    "100 <200 or 100 >50 # since both are true, the whole expression is true based on the or operator"
   ]
  },
  {
   "cell_type": "code",
   "execution_count": 93,
   "metadata": {
    "colab": {
     "base_uri": "https://localhost:8080/"
    },
    "executionInfo": {
     "elapsed": 23,
     "status": "ok",
     "timestamp": 1652388970253,
     "user": {
      "displayName": "Oluwadara Adepoju",
      "userId": "13428123461617812046"
     },
     "user_tz": -60
    },
    "id": "GhZB8rDRN5ki",
    "outputId": "eeb9e211-b412-47bd-fc3e-f191059079ae",
    "scrolled": true
   },
   "outputs": [
    {
     "data": {
      "text/plain": [
       "False"
      ]
     },
     "execution_count": 93,
     "metadata": {},
     "output_type": "execute_result"
    }
   ],
   "source": [
    "#eg 3\n",
    "100 >200 or 100 <50 # since both conditions are False, the whole expression is False based on the or operator"
   ]
  },
  {
   "cell_type": "markdown",
   "metadata": {
    "id": "xjbrLUeNN5ki"
   },
   "source": [
    "### not logical operator"
   ]
  },
  {
   "cell_type": "code",
   "execution_count": 94,
   "metadata": {
    "colab": {
     "base_uri": "https://localhost:8080/"
    },
    "executionInfo": {
     "elapsed": 723,
     "status": "ok",
     "timestamp": 1652389067986,
     "user": {
      "displayName": "Oluwadara Adepoju",
      "userId": "13428123461617812046"
     },
     "user_tz": -60
    },
    "id": "bPnURBVUN5ki",
    "outputId": "07756a30-26cc-4105-cbc1-4ecda5dc584c"
   },
   "outputs": [
    {
     "data": {
      "text/plain": [
       "True"
      ]
     },
     "execution_count": 94,
     "metadata": {},
     "output_type": "execute_result"
    }
   ],
   "source": [
    "not(100 >200 or 100 <50) # The not negates the boolean.It turns True to False and False to True"
   ]
  },
  {
   "cell_type": "code",
   "execution_count": 95,
   "metadata": {
    "colab": {
     "base_uri": "https://localhost:8080/"
    },
    "executionInfo": {
     "elapsed": 931,
     "status": "ok",
     "timestamp": 1652389097481,
     "user": {
      "displayName": "Oluwadara Adepoju",
      "userId": "13428123461617812046"
     },
     "user_tz": -60
    },
    "id": "3LLEyB-0N5ki",
    "outputId": "9bd37fa9-a284-45f2-e859-1d2d40fe54aa"
   },
   "outputs": [
    {
     "data": {
      "text/plain": [
       "True"
      ]
     },
     "execution_count": 95,
     "metadata": {},
     "output_type": "execute_result"
    }
   ],
   "source": [
    "2<6"
   ]
  },
  {
   "cell_type": "code",
   "execution_count": 96,
   "metadata": {
    "colab": {
     "base_uri": "https://localhost:8080/"
    },
    "executionInfo": {
     "elapsed": 14,
     "status": "ok",
     "timestamp": 1652389103612,
     "user": {
      "displayName": "Oluwadara Adepoju",
      "userId": "13428123461617812046"
     },
     "user_tz": -60
    },
    "id": "gklcvzPMN5kj",
    "outputId": "96f070f1-991f-465b-d7e3-4454b814f3b4"
   },
   "outputs": [
    {
     "data": {
      "text/plain": [
       "False"
      ]
     },
     "execution_count": 96,
     "metadata": {},
     "output_type": "execute_result"
    }
   ],
   "source": [
    "not(2<6)"
   ]
  },
  {
   "cell_type": "code",
   "execution_count": 97,
   "metadata": {
    "colab": {
     "base_uri": "https://localhost:8080/"
    },
    "executionInfo": {
     "elapsed": 2345,
     "status": "ok",
     "timestamp": 1652389115234,
     "user": {
      "displayName": "Oluwadara Adepoju",
      "userId": "13428123461617812046"
     },
     "user_tz": -60
    },
    "id": "ufaPX5tUN5kj",
    "outputId": "8e618cf0-0797-4788-e440-eb238b5e58fb"
   },
   "outputs": [
    {
     "data": {
      "text/plain": [
       "False"
      ]
     },
     "execution_count": 97,
     "metadata": {},
     "output_type": "execute_result"
    }
   ],
   "source": [
    "6>10"
   ]
  },
  {
   "cell_type": "code",
   "execution_count": 98,
   "metadata": {
    "colab": {
     "base_uri": "https://localhost:8080/"
    },
    "executionInfo": {
     "elapsed": 18,
     "status": "ok",
     "timestamp": 1652389122960,
     "user": {
      "displayName": "Oluwadara Adepoju",
      "userId": "13428123461617812046"
     },
     "user_tz": -60
    },
    "id": "9AAcmzZDN5kj",
    "outputId": "98c05fc2-b8cf-4097-f57b-114ef7977dcc"
   },
   "outputs": [
    {
     "data": {
      "text/plain": [
       "True"
      ]
     },
     "execution_count": 98,
     "metadata": {},
     "output_type": "execute_result"
    }
   ],
   "source": [
    "not(6>10)"
   ]
  },
  {
   "cell_type": "markdown",
   "metadata": {
    "id": "UxMQL_wSN5kj"
   },
   "source": [
    "### more examples"
   ]
  },
  {
   "cell_type": "code",
   "execution_count": 99,
   "metadata": {
    "colab": {
     "base_uri": "https://localhost:8080/"
    },
    "executionInfo": {
     "elapsed": 517,
     "status": "ok",
     "timestamp": 1652389190439,
     "user": {
      "displayName": "Oluwadara Adepoju",
      "userId": "13428123461617812046"
     },
     "user_tz": -60
    },
    "id": "PB9GxPhfN5kj",
    "outputId": "4a21ff2b-a5e5-45c4-8f42-62cd87bea90f"
   },
   "outputs": [
    {
     "name": "stdout",
     "output_type": "stream",
     "text": [
      "100\n",
      "120\n"
     ]
    }
   ],
   "source": [
    "x = 40+50+10\n",
    "y = 120\n",
    "print(x)\n",
    "print(y)"
   ]
  },
  {
   "cell_type": "code",
   "execution_count": 100,
   "metadata": {
    "colab": {
     "base_uri": "https://localhost:8080/"
    },
    "executionInfo": {
     "elapsed": 500,
     "status": "ok",
     "timestamp": 1652389199336,
     "user": {
      "displayName": "Oluwadara Adepoju",
      "userId": "13428123461617812046"
     },
     "user_tz": -60
    },
    "id": "0Miqac67N5kk",
    "outputId": "1d67d91b-284d-4851-9844-f048cbf1aab3"
   },
   "outputs": [
    {
     "name": "stdout",
     "output_type": "stream",
     "text": [
      "31\n"
     ]
    }
   ],
   "source": [
    "z = (34+45+12)-30 *2\n",
    "print(z)"
   ]
  },
  {
   "cell_type": "code",
   "execution_count": 101,
   "metadata": {
    "colab": {
     "base_uri": "https://localhost:8080/"
    },
    "executionInfo": {
     "elapsed": 8,
     "status": "ok",
     "timestamp": 1652389201337,
     "user": {
      "displayName": "Oluwadara Adepoju",
      "userId": "13428123461617812046"
     },
     "user_tz": -60
    },
    "id": "gWEvmJFhN5kl",
    "outputId": "d942008a-9c1c-4006-c48b-13c2543e917c"
   },
   "outputs": [
    {
     "name": "stdout",
     "output_type": "stream",
     "text": [
      "100\n",
      "120\n",
      "31\n"
     ]
    }
   ],
   "source": [
    "print(x)\n",
    "print(y)\n",
    "print(z)"
   ]
  },
  {
   "cell_type": "code",
   "execution_count": 102,
   "metadata": {
    "colab": {
     "base_uri": "https://localhost:8080/"
    },
    "executionInfo": {
     "elapsed": 430,
     "status": "ok",
     "timestamp": 1652389221324,
     "user": {
      "displayName": "Oluwadara Adepoju",
      "userId": "13428123461617812046"
     },
     "user_tz": -60
    },
    "id": "1QCjZljtN5km",
    "outputId": "cced89a5-79fb-4f40-d8d3-b5b66c0ce5ed"
   },
   "outputs": [
    {
     "data": {
      "text/plain": [
       "False"
      ]
     },
     "execution_count": 102,
     "metadata": {},
     "output_type": "execute_result"
    }
   ],
   "source": [
    "x == y and x < z\n",
    "# left side = False\n",
    "# right side  = False\n",
    "#False"
   ]
  },
  {
   "cell_type": "code",
   "execution_count": null,
   "metadata": {
    "id": "ncpnCp_RN5kn"
   },
   "outputs": [],
   "source": [
    "x < y and x < z \n",
    "# left side = True\n",
    "#right side  = False\n",
    "# False\n"
   ]
  },
  {
   "cell_type": "code",
   "execution_count": 103,
   "metadata": {
    "colab": {
     "base_uri": "https://localhost:8080/"
    },
    "executionInfo": {
     "elapsed": 493,
     "status": "ok",
     "timestamp": 1652389234393,
     "user": {
      "displayName": "Oluwadara Adepoju",
      "userId": "13428123461617812046"
     },
     "user_tz": -60
    },
    "id": "QkuJcT34N5ko",
    "outputId": "8a510d1c-c3df-4275-f958-10b53b0b387b"
   },
   "outputs": [
    {
     "data": {
      "text/plain": [
       "True"
      ]
     },
     "execution_count": 103,
     "metadata": {},
     "output_type": "execute_result"
    }
   ],
   "source": [
    "x < y and x > z\n",
    "# left side = True\n",
    "#right side  = True\n",
    "# True"
   ]
  },
  {
   "cell_type": "code",
   "execution_count": null,
   "metadata": {
    "id": "EkEsz3_5N5ko"
   },
   "outputs": [],
   "source": [
    "x == y or x < z\n",
    "# left side = False\n",
    "#right side  = False\n",
    "# False"
   ]
  },
  {
   "cell_type": "code",
   "execution_count": 104,
   "metadata": {
    "colab": {
     "base_uri": "https://localhost:8080/"
    },
    "executionInfo": {
     "elapsed": 16,
     "status": "ok",
     "timestamp": 1652389327335,
     "user": {
      "displayName": "Oluwadara Adepoju",
      "userId": "13428123461617812046"
     },
     "user_tz": -60
    },
    "id": "AMIgQ0SaN5kp",
    "outputId": "9494a962-ed1d-4db4-da73-4ff7510703de"
   },
   "outputs": [
    {
     "data": {
      "text/plain": [
       "True"
      ]
     },
     "execution_count": 104,
     "metadata": {},
     "output_type": "execute_result"
    }
   ],
   "source": [
    "x < y or x < z"
   ]
  },
  {
   "cell_type": "code",
   "execution_count": null,
   "metadata": {
    "id": "c877IZYyFCyh"
   },
   "outputs": [],
   "source": []
  }
 ],
 "metadata": {
  "colab": {
   "name": "Lab_1 Data Types and Operators Part 1.ipynb",
   "provenance": []
  },
  "kernelspec": {
   "display_name": "Python 3",
   "language": "python",
   "name": "python3"
  },
  "language_info": {
   "codemirror_mode": {
    "name": "ipython",
    "version": 3
   },
   "file_extension": ".py",
   "mimetype": "text/x-python",
   "name": "python",
   "nbconvert_exporter": "python",
   "pygments_lexer": "ipython3",
   "version": "3.8.8"
  }
 },
 "nbformat": 4,
 "nbformat_minor": 4
}
