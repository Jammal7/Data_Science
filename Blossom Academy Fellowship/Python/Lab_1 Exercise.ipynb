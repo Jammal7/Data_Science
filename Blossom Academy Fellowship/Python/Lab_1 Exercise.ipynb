{
 "cells": [
  {
   "cell_type": "markdown",
   "metadata": {
    "id": "SwQs8bWd96Fi"
   },
   "source": [
    "# Q1"
   ]
  },
  {
   "cell_type": "markdown",
   "metadata": {
    "id": "BtNbew1G96Fn"
   },
   "source": [
    "List the basic data types in python and give one example each."
   ]
  },
  {
   "cell_type": "code",
   "execution_count": null,
   "metadata": {},
   "outputs": [],
   "source": []
  },
  {
   "cell_type": "markdown",
   "metadata": {
    "id": "TyQFdgUP96Fo"
   },
   "source": [
    "# Q2"
   ]
  },
  {
   "cell_type": "markdown",
   "metadata": {
    "id": "18cOdxgE96Fq"
   },
   "source": [
    "Change the variable x = 4539.85 to a string and assign it to a new variable y an integer assign it to a new variable z Print out the type of y and z using the type function."
   ]
  },
  {
   "cell_type": "code",
   "execution_count": null,
   "metadata": {},
   "outputs": [],
   "source": []
  },
  {
   "cell_type": "markdown",
   "metadata": {
    "id": "-Nac31js96Fr"
   },
   "source": [
    "# Q3"
   ]
  },
  {
   "cell_type": "markdown",
   "metadata": {
    "id": "PJP3o9by96Ft"
   },
   "source": [
    "What data type would you use to store  \n",
    "\n",
    "a. the price of car?\n",
    "\n",
    "b. the age of a person\n",
    "\n",
    "c. car plate number: plateNumber = \"AV01-AFP\"?"
   ]
  },
  {
   "cell_type": "code",
   "execution_count": null,
   "metadata": {},
   "outputs": [],
   "source": []
  },
  {
   "cell_type": "code",
   "execution_count": null,
   "metadata": {},
   "outputs": [],
   "source": []
  },
  {
   "cell_type": "code",
   "execution_count": null,
   "metadata": {},
   "outputs": [],
   "source": []
  },
  {
   "cell_type": "code",
   "execution_count": null,
   "metadata": {},
   "outputs": [],
   "source": []
  },
  {
   "cell_type": "code",
   "execution_count": null,
   "metadata": {},
   "outputs": [],
   "source": []
  },
  {
   "cell_type": "markdown",
   "metadata": {
    "id": "s1S9uyxU96Fu"
   },
   "source": [
    "# Q4"
   ]
  },
  {
   "cell_type": "markdown",
   "metadata": {
    "id": "GdnTKgbx96Fv"
   },
   "source": [
    "Split the statement below into two statement_1 and statement_2 such that statement_1 will be ' Thomas Partey is arguably the best player in the Black Stars' and statement_2 will be 'He is a great addition to the team'"
   ]
  },
  {
   "cell_type": "code",
   "execution_count": null,
   "metadata": {},
   "outputs": [],
   "source": []
  },
  {
   "cell_type": "code",
   "execution_count": null,
   "metadata": {},
   "outputs": [],
   "source": []
  },
  {
   "cell_type": "code",
   "execution_count": null,
   "metadata": {},
   "outputs": [],
   "source": []
  },
  {
   "cell_type": "markdown",
   "metadata": {
    "id": "lV7_Nyxo96Fw"
   },
   "source": [
    "# Q5"
   ]
  },
  {
   "cell_type": "markdown",
   "metadata": {
    "id": "IgoAOuOh96Fx"
   },
   "source": [
    "what values does python use to represent True and False respectively?"
   ]
  },
  {
   "cell_type": "code",
   "execution_count": null,
   "metadata": {},
   "outputs": [],
   "source": []
  },
  {
   "cell_type": "code",
   "execution_count": null,
   "metadata": {},
   "outputs": [],
   "source": []
  },
  {
   "cell_type": "markdown",
   "metadata": {
    "id": "ncD7zGo496Fy"
   },
   "source": [
    "# Q6"
   ]
  },
  {
   "cell_type": "markdown",
   "metadata": {
    "id": "J88TEssV96Fz"
   },
   "source": [
    "write a code to evaluate if the following statments are True or False.\n",
    "\n",
    "1. 78 is greater than 46 and less than 30 which is an odd number.\n",
    "\n",
    "2. is an even number or 8 is a 8-2 is an odd number.\n",
    "\n",
    "3. The number of characters in the word 'boostrap' is 7 and that of 'sample' is 6."
   ]
  },
  {
   "cell_type": "code",
   "execution_count": null,
   "metadata": {},
   "outputs": [],
   "source": []
  },
  {
   "cell_type": "code",
   "execution_count": null,
   "metadata": {},
   "outputs": [],
   "source": []
  },
  {
   "cell_type": "code",
   "execution_count": null,
   "metadata": {},
   "outputs": [],
   "source": []
  },
  {
   "cell_type": "code",
   "execution_count": null,
   "metadata": {},
   "outputs": [],
   "source": []
  },
  {
   "cell_type": "code",
   "execution_count": null,
   "metadata": {},
   "outputs": [],
   "source": []
  },
  {
   "cell_type": "code",
   "execution_count": null,
   "metadata": {},
   "outputs": [],
   "source": []
  },
  {
   "cell_type": "markdown",
   "metadata": {
    "id": "FURQjDL496F0"
   },
   "source": [
    "# Q7"
   ]
  },
  {
   "cell_type": "markdown",
   "metadata": {
    "id": "cAeYGJwn96F0"
   },
   "source": [
    "Given the following python code, write an expression to return 'How'"
   ]
  },
  {
   "cell_type": "code",
   "execution_count": null,
   "metadata": {
    "id": "g6mimd1f96F1"
   },
   "outputs": [],
   "source": [
    "word='Hello. How are you?'"
   ]
  },
  {
   "cell_type": "code",
   "execution_count": null,
   "metadata": {},
   "outputs": [],
   "source": []
  },
  {
   "cell_type": "markdown",
   "metadata": {
    "id": "vsMSDaJe96F3"
   },
   "source": [
    "# Q8"
   ]
  },
  {
   "cell_type": "markdown",
   "metadata": {
    "id": "LnF1e0h496F4"
   },
   "source": [
    "What is the right way to create a string for Ault'Kelly"
   ]
  },
  {
   "cell_type": "code",
   "execution_count": null,
   "metadata": {},
   "outputs": [],
   "source": []
  },
  {
   "cell_type": "markdown",
   "metadata": {
    "id": "kc1QIb5A96F4"
   },
   "source": [
    "# Q9"
   ]
  },
  {
   "cell_type": "markdown",
   "metadata": {
    "id": "aJ1dDZWG96F5"
   },
   "source": [
    "What data type would you use to store the price of a CD?"
   ]
  },
  {
   "cell_type": "code",
   "execution_count": null,
   "metadata": {},
   "outputs": [],
   "source": []
  },
  {
   "cell_type": "markdown",
   "metadata": {
    "id": "xjJU_K5c96F5"
   },
   "source": [
    "# Q10"
   ]
  },
  {
   "cell_type": "markdown",
   "metadata": {
    "id": "-UNemU9w96F6"
   },
   "source": [
    "How would you print out the following variable in all upper case in Python?"
   ]
  },
  {
   "cell_type": "code",
   "execution_count": null,
   "metadata": {
    "id": "qRxMZIaC96F6"
   },
   "outputs": [],
   "source": [
    "greet = 'Hello Bob'\n"
   ]
  },
  {
   "cell_type": "code",
   "execution_count": null,
   "metadata": {},
   "outputs": [],
   "source": []
  },
  {
   "cell_type": "markdown",
   "metadata": {
    "id": "USgW5vtJBbcZ"
   },
   "source": [
    "# Q11"
   ]
  },
  {
   "cell_type": "markdown",
   "metadata": {
    "id": "N_FaHVwuCBmk"
   },
   "source": [
    "Unpack the following collections to variable and print out each of the variable:"
   ]
  },
  {
   "cell_type": "code",
   "execution_count": null,
   "metadata": {
    "id": "JDvCU-Qj96F7"
   },
   "outputs": [],
   "source": [
    "fruits = ['apple','pineapple','grape','watermelon']"
   ]
  },
  {
   "cell_type": "code",
   "execution_count": null,
   "metadata": {},
   "outputs": [],
   "source": []
  },
  {
   "cell_type": "markdown",
   "metadata": {
    "id": "4pD6QtUTFGwa"
   },
   "source": [
    "# Q12\n"
   ]
  },
  {
   "cell_type": "markdown",
   "metadata": {
    "id": "i7CeXZ8cFMJf"
   },
   "source": [
    "Can a string character be concatenated with a float or integer(If yes or no give a brief explanation)"
   ]
  },
  {
   "cell_type": "code",
   "execution_count": null,
   "metadata": {},
   "outputs": [],
   "source": []
  },
  {
   "cell_type": "code",
   "execution_count": null,
   "metadata": {},
   "outputs": [],
   "source": []
  },
  {
   "cell_type": "markdown",
   "metadata": {
    "id": "D7uU51s_FrBQ"
   },
   "source": [
    "# Q13"
   ]
  },
  {
   "cell_type": "markdown",
   "metadata": {
    "id": "5ipRobT7FwwJ"
   },
   "source": [
    "What type of datatype does using the input() function automatically produce?"
   ]
  },
  {
   "cell_type": "code",
   "execution_count": null,
   "metadata": {
    "id": "L6zWVXopFuGh"
   },
   "outputs": [],
   "source": []
  }
 ],
 "metadata": {
  "colab": {
   "collapsed_sections": [],
   "name": "Data Types Exx.ipynb",
   "provenance": []
  },
  "kernelspec": {
   "display_name": "Python 3",
   "language": "python",
   "name": "python3"
  },
  "language_info": {
   "codemirror_mode": {
    "name": "ipython",
    "version": 3
   },
   "file_extension": ".py",
   "mimetype": "text/x-python",
   "name": "python",
   "nbconvert_exporter": "python",
   "pygments_lexer": "ipython3",
   "version": "3.8.8"
  }
 },
 "nbformat": 4,
 "nbformat_minor": 4
}
