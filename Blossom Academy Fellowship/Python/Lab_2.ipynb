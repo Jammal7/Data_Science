{
 "cells": [
  {
   "cell_type": "code",
   "execution_count": 3,
   "id": "5053d803-1b4b-433d-9623-abe25cb312ff",
   "metadata": {},
   "outputs": [
    {
     "data": {
      "text/plain": [
       "[1, 2, 3, 4, 5, 6, 7, 8, 9, 10]"
      ]
     },
     "execution_count": 3,
     "metadata": {},
     "output_type": "execute_result"
    }
   ],
   "source": [
    "numbers = [*range(1,11)]\n",
    "numbers"
   ]
  },
  {
   "cell_type": "code",
   "execution_count": 16,
   "id": "16c2f336-6a58-4ce4-9846-616f3501c851",
   "metadata": {},
   "outputs": [
    {
     "name": "stdout",
     "output_type": "stream",
     "text": [
      "{'great': 1, 'love': 4, 'the': 1, 'adventures': 1, 'of': 1, 'sherlock': 1, 'holmes': 1, 'hamlet': 1, 'huckleberry': 1, ' fin': 1}\n"
     ]
    }
   ],
   "source": [
    "book_title = ['great', 'love', 'the', 'adventures', 'of','love', 'sherlock', 'holmes', 'love', 'hamlet', 'huckleberry', ' fin', 'love']\n",
    "\n",
    "counts = {}\n",
    "for i in book_title:\n",
    "    counts[i]  = book_title.count(i)\n",
    "print(counts)"
   ]
  },
  {
   "cell_type": "code",
   "execution_count": 18,
   "id": "8d6225a5-dc89-4d85-8216-b45e3a72b7d8",
   "metadata": {},
   "outputs": [
    {
     "name": "stdout",
     "output_type": "stream",
     "text": [
      "{'great': 1, 'love': 4, 'the': 1, 'adventures': 1, 'of': 1, 'sherlock': 1, 'holmes': 1, 'hamlet': 1, 'huckleberry': 1, ' fin': 1}\n"
     ]
    }
   ],
   "source": [
    "# counts = dict()\n",
    "# for i in book_title:\n",
    "#   counts[i] = counts.get(i, 0) + 1\n",
    "# print(counts)\n",
    "\n",
    "word_count = {}\n",
    "for word in book_title:\n",
    "    if word not in word_count:\n",
    "        word_count[word] = 1\n",
    "    else:\n",
    "        word_count[word] +=1\n",
    "print(word_count)"
   ]
  },
  {
   "cell_type": "code",
   "execution_count": null,
   "id": "e2d5b890-ddbc-4660-8a51-3f4753606087",
   "metadata": {},
   "outputs": [],
   "source": [
    "co"
   ]
  }
 ],
 "metadata": {
  "kernelspec": {
   "display_name": "Python 3",
   "language": "python",
   "name": "python3"
  },
  "language_info": {
   "codemirror_mode": {
    "name": "ipython",
    "version": 3
   },
   "file_extension": ".py",
   "mimetype": "text/x-python",
   "name": "python",
   "nbconvert_exporter": "python",
   "pygments_lexer": "ipython3",
   "version": "3.8.8"
  }
 },
 "nbformat": 4,
 "nbformat_minor": 5
}
