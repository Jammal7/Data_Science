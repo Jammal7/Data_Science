{
 "cells": [
  {
   "cell_type": "markdown",
   "id": "P9I8E0gTC6nV",
   "metadata": {
    "id": "P9I8E0gTC6nV"
   },
   "source": [
    "## **Univariate Statistics Python Project**\n",
    "**Supervisor: Zion Pibowei**"
   ]
  },
  {
   "cell_type": "code",
   "execution_count": 1,
   "id": "06bacd34",
   "metadata": {
    "id": "06bacd34"
   },
   "outputs": [],
   "source": [
    "%matplotlib inline\n",
    "import matplotlib.pyplot as plt\n",
    "import pandas as pd\n",
    "import numpy as np"
   ]
  },
  {
   "cell_type": "markdown",
   "id": "9b3399b0",
   "metadata": {},
   "source": [
    "## Supermarket sales dataset\n",
    "<p>The dataset is one of the historical sales of a supermarket company that was recorded in three different branches over a three-month period. With this dataset, predictive data analytics methods are simple to apply.</p>\n",
    "\n",
    "<strong>Attribute information</strong>\n",
    "1. Invoice id: Computer generated sales slip invoice identification number\n",
    "2. Branch: Branch of supercenter (3 branches are available identified by A, B and C).\n",
    "\n",
    "3. City: Location of supercenters\n",
    "4. Customer type: Type of customers, recorded by <strong>Members</strong> for customers using member card and <strong>Normal</strong> for without member card.\n",
    "\n",
    "5. Gender: Gender type of customer\n",
    "6. Product line: General item categorization groups\n",
    "\n",
    "7. Unit price: Price of each product in dollars\n",
    "8. Quantity: Number of products purchased by customer\n",
    "\n",
    "9. Tax: 5% tax fee for customer buying\n",
    "10. Total: Total price including tax\n",
    "\n",
    "11. Date: Date of purchase (Record available from January 2019 to March 2019)\n",
    "12. Time: Purchase time (10am to 9pm)\n",
    "\n",
    "13. Payment: Payment used by customer for purchase (3 methods are available – Cash, Credit card and Ewallet)\n",
    "\n",
    "14. COGS: Cost of goods sold\n",
    "15. Gross margin percentage: Gross margin percentage\n",
    "\n",
    "16. Gross income: Gross income\n",
    "17. Rating: Customer stratification rating on their overall shopping experience (On a scale of 1 to 10)"
   ]
  },
  {
   "cell_type": "code",
   "execution_count": 2,
   "id": "4e7d574b",
   "metadata": {
    "id": "4e7d574b",
    "outputId": "8e6fc576-06fa-4f04-e5d4-87ab24044717",
    "scrolled": true
   },
   "outputs": [
    {
     "data": {
      "text/html": [
       "<div>\n",
       "<style scoped>\n",
       "    .dataframe tbody tr th:only-of-type {\n",
       "        vertical-align: middle;\n",
       "    }\n",
       "\n",
       "    .dataframe tbody tr th {\n",
       "        vertical-align: top;\n",
       "    }\n",
       "\n",
       "    .dataframe thead th {\n",
       "        text-align: right;\n",
       "    }\n",
       "</style>\n",
       "<table border=\"1\" class=\"dataframe\">\n",
       "  <thead>\n",
       "    <tr style=\"text-align: right;\">\n",
       "      <th></th>\n",
       "      <th>Invoice ID</th>\n",
       "      <th>Branch</th>\n",
       "      <th>City</th>\n",
       "      <th>Customer type</th>\n",
       "      <th>Gender</th>\n",
       "      <th>Product line</th>\n",
       "      <th>Unit price</th>\n",
       "      <th>Quantity</th>\n",
       "      <th>Tax 5%</th>\n",
       "      <th>Total</th>\n",
       "      <th>Date</th>\n",
       "      <th>Time</th>\n",
       "      <th>Payment</th>\n",
       "      <th>cogs</th>\n",
       "      <th>gross margin percentage</th>\n",
       "      <th>gross income</th>\n",
       "      <th>Rating</th>\n",
       "    </tr>\n",
       "  </thead>\n",
       "  <tbody>\n",
       "    <tr>\n",
       "      <th>0</th>\n",
       "      <td>750-67-8428</td>\n",
       "      <td>A</td>\n",
       "      <td>Yangon</td>\n",
       "      <td>Member</td>\n",
       "      <td>Female</td>\n",
       "      <td>Health and beauty</td>\n",
       "      <td>74.69</td>\n",
       "      <td>7</td>\n",
       "      <td>26.1415</td>\n",
       "      <td>548.9715</td>\n",
       "      <td>1/5/2019</td>\n",
       "      <td>13:08</td>\n",
       "      <td>Ewallet</td>\n",
       "      <td>522.83</td>\n",
       "      <td>4.761905</td>\n",
       "      <td>26.1415</td>\n",
       "      <td>9.1</td>\n",
       "    </tr>\n",
       "    <tr>\n",
       "      <th>1</th>\n",
       "      <td>226-31-3081</td>\n",
       "      <td>C</td>\n",
       "      <td>Naypyitaw</td>\n",
       "      <td>Normal</td>\n",
       "      <td>Female</td>\n",
       "      <td>Electronic accessories</td>\n",
       "      <td>15.28</td>\n",
       "      <td>5</td>\n",
       "      <td>3.8200</td>\n",
       "      <td>80.2200</td>\n",
       "      <td>3/8/2019</td>\n",
       "      <td>10:29</td>\n",
       "      <td>Cash</td>\n",
       "      <td>76.40</td>\n",
       "      <td>4.761905</td>\n",
       "      <td>3.8200</td>\n",
       "      <td>9.6</td>\n",
       "    </tr>\n",
       "    <tr>\n",
       "      <th>2</th>\n",
       "      <td>631-41-3108</td>\n",
       "      <td>A</td>\n",
       "      <td>Yangon</td>\n",
       "      <td>Normal</td>\n",
       "      <td>Male</td>\n",
       "      <td>Home and lifestyle</td>\n",
       "      <td>46.33</td>\n",
       "      <td>7</td>\n",
       "      <td>16.2155</td>\n",
       "      <td>340.5255</td>\n",
       "      <td>3/3/2019</td>\n",
       "      <td>13:23</td>\n",
       "      <td>Credit card</td>\n",
       "      <td>324.31</td>\n",
       "      <td>4.761905</td>\n",
       "      <td>16.2155</td>\n",
       "      <td>7.4</td>\n",
       "    </tr>\n",
       "    <tr>\n",
       "      <th>3</th>\n",
       "      <td>123-19-1176</td>\n",
       "      <td>A</td>\n",
       "      <td>Yangon</td>\n",
       "      <td>Member</td>\n",
       "      <td>Male</td>\n",
       "      <td>Health and beauty</td>\n",
       "      <td>58.22</td>\n",
       "      <td>8</td>\n",
       "      <td>23.2880</td>\n",
       "      <td>489.0480</td>\n",
       "      <td>1/27/2019</td>\n",
       "      <td>20:33</td>\n",
       "      <td>Ewallet</td>\n",
       "      <td>465.76</td>\n",
       "      <td>4.761905</td>\n",
       "      <td>23.2880</td>\n",
       "      <td>8.4</td>\n",
       "    </tr>\n",
       "    <tr>\n",
       "      <th>4</th>\n",
       "      <td>373-73-7910</td>\n",
       "      <td>A</td>\n",
       "      <td>Yangon</td>\n",
       "      <td>Normal</td>\n",
       "      <td>Male</td>\n",
       "      <td>Sports and travel</td>\n",
       "      <td>86.31</td>\n",
       "      <td>7</td>\n",
       "      <td>30.2085</td>\n",
       "      <td>634.3785</td>\n",
       "      <td>2/8/2019</td>\n",
       "      <td>10:37</td>\n",
       "      <td>Ewallet</td>\n",
       "      <td>604.17</td>\n",
       "      <td>4.761905</td>\n",
       "      <td>30.2085</td>\n",
       "      <td>5.3</td>\n",
       "    </tr>\n",
       "  </tbody>\n",
       "</table>\n",
       "</div>"
      ],
      "text/plain": [
       "    Invoice ID Branch       City Customer type  Gender  \\\n",
       "0  750-67-8428      A     Yangon        Member  Female   \n",
       "1  226-31-3081      C  Naypyitaw        Normal  Female   \n",
       "2  631-41-3108      A     Yangon        Normal    Male   \n",
       "3  123-19-1176      A     Yangon        Member    Male   \n",
       "4  373-73-7910      A     Yangon        Normal    Male   \n",
       "\n",
       "             Product line  Unit price  Quantity   Tax 5%     Total       Date  \\\n",
       "0       Health and beauty       74.69         7  26.1415  548.9715   1/5/2019   \n",
       "1  Electronic accessories       15.28         5   3.8200   80.2200   3/8/2019   \n",
       "2      Home and lifestyle       46.33         7  16.2155  340.5255   3/3/2019   \n",
       "3       Health and beauty       58.22         8  23.2880  489.0480  1/27/2019   \n",
       "4       Sports and travel       86.31         7  30.2085  634.3785   2/8/2019   \n",
       "\n",
       "    Time      Payment    cogs  gross margin percentage  gross income  Rating  \n",
       "0  13:08      Ewallet  522.83                 4.761905       26.1415     9.1  \n",
       "1  10:29         Cash   76.40                 4.761905        3.8200     9.6  \n",
       "2  13:23  Credit card  324.31                 4.761905       16.2155     7.4  \n",
       "3  20:33      Ewallet  465.76                 4.761905       23.2880     8.4  \n",
       "4  10:37      Ewallet  604.17                 4.761905       30.2085     5.3  "
      ]
     },
     "execution_count": 2,
     "metadata": {},
     "output_type": "execute_result"
    }
   ],
   "source": [
    "sales = pd.read_csv(\"../data/Univariate_Statistics/supermarket_sales.csv\")\n",
    "sales.head()"
   ]
  },
  {
   "cell_type": "code",
   "execution_count": 3,
   "id": "5145ea04",
   "metadata": {
    "id": "5145ea04",
    "outputId": "5833440a-c209-4984-9300-c93b39f8953a"
   },
   "outputs": [
    {
     "data": {
      "text/plain": [
       "(1000, 17)"
      ]
     },
     "execution_count": 3,
     "metadata": {},
     "output_type": "execute_result"
    }
   ],
   "source": [
    "sales.shape"
   ]
  },
  {
   "cell_type": "markdown",
   "id": "4a245575",
   "metadata": {
    "id": "4a245575"
   },
   "source": [
    "### Objectives"
   ]
  },
  {
   "cell_type": "markdown",
   "id": "38f0e384",
   "metadata": {
    "id": "38f0e384"
   },
   "source": [
    "<p><strong>0. About the Data </strong> <br>\n",
    "    Create a cell at the beginning of your notebook and use markdown to give a brief description of the dataset and the agenda of your project. You can find more details about the data on Kaggle: <a href =\"https://www.kaggle.com/aungpyaeap/supermarket-sales\">https://www.kaggle.com/aungpyaeap/supermarket-sales</a> <p>\n",
    "\n",
    "<p><strong>1. Describe each of the numerical variables using summary measures </strong> <br>\n",
    "    (a) Summary measures to be computed: mean, median, variance, standard deviation, skewness, kurtosis <br>\n",
    "    (b) Use Sympy to display the formula for each of the summary measures above <br>\n",
    "    (c) Write custom functions to compute each of these summary measures, and apply the functions on each of the numerical variables</p>\n",
    "<p><strong> 2. Describe each of the numerical variables using graphical methods </strong><br>\n",
    "    (a) Use histograms, strip plots and box plots to plot the distribution of each of the variables <br>\n",
    "    (b) Carry out your visualisations using pandas, matplotlib and seaborn for each of the variables.</p>\n",
    "<p><strong>3. Describe each of the categorical variables using numerical methods </strong><br>\n",
    "    (a) Obtain the unique categories and frequency of occurence of these elements for each of the categorical variables</p>\n",
    "<p><strong> 4. Describe each of the categorical variables using graphical methods </strong><br>\n",
    "    (a) Use pie charts and bar charts to plot the distribution of each of the categorical variables <br>\n",
    "    (b) Carry out your visualisations using pandas, matplotlib and seaborn.</p><br>"
   ]
  },
  {
   "cell_type": "markdown",
   "id": "bf5b4ddd",
   "metadata": {
    "id": "a6471502"
   },
   "source": [
    "### 1. Describe each of the numerical variables using summary measures"
   ]
  },
  {
   "cell_type": "code",
   "execution_count": 4,
   "id": "1f709b95",
   "metadata": {},
   "outputs": [
    {
     "data": {
      "text/html": [
       "<div>\n",
       "<style scoped>\n",
       "    .dataframe tbody tr th:only-of-type {\n",
       "        vertical-align: middle;\n",
       "    }\n",
       "\n",
       "    .dataframe tbody tr th {\n",
       "        vertical-align: top;\n",
       "    }\n",
       "\n",
       "    .dataframe thead th {\n",
       "        text-align: right;\n",
       "    }\n",
       "</style>\n",
       "<table border=\"1\" class=\"dataframe\">\n",
       "  <thead>\n",
       "    <tr style=\"text-align: right;\">\n",
       "      <th></th>\n",
       "      <th>Unit price</th>\n",
       "      <th>Quantity</th>\n",
       "      <th>Tax 5%</th>\n",
       "      <th>Total</th>\n",
       "      <th>cogs</th>\n",
       "      <th>gross margin percentage</th>\n",
       "      <th>gross income</th>\n",
       "      <th>Rating</th>\n",
       "    </tr>\n",
       "  </thead>\n",
       "  <tbody>\n",
       "    <tr>\n",
       "      <th>count</th>\n",
       "      <td>1000.000000</td>\n",
       "      <td>1000.000000</td>\n",
       "      <td>1000.000000</td>\n",
       "      <td>1000.000000</td>\n",
       "      <td>1000.00000</td>\n",
       "      <td>1.000000e+03</td>\n",
       "      <td>1000.000000</td>\n",
       "      <td>1000.00000</td>\n",
       "    </tr>\n",
       "    <tr>\n",
       "      <th>mean</th>\n",
       "      <td>55.672130</td>\n",
       "      <td>5.510000</td>\n",
       "      <td>15.379369</td>\n",
       "      <td>322.966749</td>\n",
       "      <td>307.58738</td>\n",
       "      <td>4.761905e+00</td>\n",
       "      <td>15.379369</td>\n",
       "      <td>6.97270</td>\n",
       "    </tr>\n",
       "    <tr>\n",
       "      <th>std</th>\n",
       "      <td>26.494628</td>\n",
       "      <td>2.923431</td>\n",
       "      <td>11.708825</td>\n",
       "      <td>245.885335</td>\n",
       "      <td>234.17651</td>\n",
       "      <td>6.131498e-14</td>\n",
       "      <td>11.708825</td>\n",
       "      <td>1.71858</td>\n",
       "    </tr>\n",
       "    <tr>\n",
       "      <th>min</th>\n",
       "      <td>10.080000</td>\n",
       "      <td>1.000000</td>\n",
       "      <td>0.508500</td>\n",
       "      <td>10.678500</td>\n",
       "      <td>10.17000</td>\n",
       "      <td>4.761905e+00</td>\n",
       "      <td>0.508500</td>\n",
       "      <td>4.00000</td>\n",
       "    </tr>\n",
       "    <tr>\n",
       "      <th>25%</th>\n",
       "      <td>32.875000</td>\n",
       "      <td>3.000000</td>\n",
       "      <td>5.924875</td>\n",
       "      <td>124.422375</td>\n",
       "      <td>118.49750</td>\n",
       "      <td>4.761905e+00</td>\n",
       "      <td>5.924875</td>\n",
       "      <td>5.50000</td>\n",
       "    </tr>\n",
       "    <tr>\n",
       "      <th>50%</th>\n",
       "      <td>55.230000</td>\n",
       "      <td>5.000000</td>\n",
       "      <td>12.088000</td>\n",
       "      <td>253.848000</td>\n",
       "      <td>241.76000</td>\n",
       "      <td>4.761905e+00</td>\n",
       "      <td>12.088000</td>\n",
       "      <td>7.00000</td>\n",
       "    </tr>\n",
       "    <tr>\n",
       "      <th>75%</th>\n",
       "      <td>77.935000</td>\n",
       "      <td>8.000000</td>\n",
       "      <td>22.445250</td>\n",
       "      <td>471.350250</td>\n",
       "      <td>448.90500</td>\n",
       "      <td>4.761905e+00</td>\n",
       "      <td>22.445250</td>\n",
       "      <td>8.50000</td>\n",
       "    </tr>\n",
       "    <tr>\n",
       "      <th>max</th>\n",
       "      <td>99.960000</td>\n",
       "      <td>10.000000</td>\n",
       "      <td>49.650000</td>\n",
       "      <td>1042.650000</td>\n",
       "      <td>993.00000</td>\n",
       "      <td>4.761905e+00</td>\n",
       "      <td>49.650000</td>\n",
       "      <td>10.00000</td>\n",
       "    </tr>\n",
       "  </tbody>\n",
       "</table>\n",
       "</div>"
      ],
      "text/plain": [
       "        Unit price     Quantity       Tax 5%        Total        cogs  \\\n",
       "count  1000.000000  1000.000000  1000.000000  1000.000000  1000.00000   \n",
       "mean     55.672130     5.510000    15.379369   322.966749   307.58738   \n",
       "std      26.494628     2.923431    11.708825   245.885335   234.17651   \n",
       "min      10.080000     1.000000     0.508500    10.678500    10.17000   \n",
       "25%      32.875000     3.000000     5.924875   124.422375   118.49750   \n",
       "50%      55.230000     5.000000    12.088000   253.848000   241.76000   \n",
       "75%      77.935000     8.000000    22.445250   471.350250   448.90500   \n",
       "max      99.960000    10.000000    49.650000  1042.650000   993.00000   \n",
       "\n",
       "       gross margin percentage  gross income      Rating  \n",
       "count             1.000000e+03   1000.000000  1000.00000  \n",
       "mean              4.761905e+00     15.379369     6.97270  \n",
       "std               6.131498e-14     11.708825     1.71858  \n",
       "min               4.761905e+00      0.508500     4.00000  \n",
       "25%               4.761905e+00      5.924875     5.50000  \n",
       "50%               4.761905e+00     12.088000     7.00000  \n",
       "75%               4.761905e+00     22.445250     8.50000  \n",
       "max               4.761905e+00     49.650000    10.00000  "
      ]
     },
     "execution_count": 4,
     "metadata": {},
     "output_type": "execute_result"
    }
   ],
   "source": [
    "sales.describe()"
   ]
  },
  {
   "cell_type": "code",
   "execution_count": 5,
   "id": "c078e9a0",
   "metadata": {},
   "outputs": [
    {
     "data": {
      "text/plain": [
       "Invoice ID                  object\n",
       "Branch                      object\n",
       "City                        object\n",
       "Customer type               object\n",
       "Gender                      object\n",
       "Product line                object\n",
       "Unit price                 float64\n",
       "Quantity                     int64\n",
       "Tax 5%                     float64\n",
       "Total                      float64\n",
       "Date                        object\n",
       "Time                        object\n",
       "Payment                     object\n",
       "cogs                       float64\n",
       "gross margin percentage    float64\n",
       "gross income               float64\n",
       "Rating                     float64\n",
       "dtype: object"
      ]
     },
     "execution_count": 5,
     "metadata": {},
     "output_type": "execute_result"
    }
   ],
   "source": [
    "sales.dtypes"
   ]
  },
  {
   "cell_type": "code",
   "execution_count": 6,
   "id": "da074e68",
   "metadata": {},
   "outputs": [
    {
     "data": {
      "text/plain": [
       "5.51"
      ]
     },
     "execution_count": 6,
     "metadata": {},
     "output_type": "execute_result"
    }
   ],
   "source": [
    "sales[\"Quantity\"].mean()"
   ]
  },
  {
   "cell_type": "code",
   "execution_count": null,
   "id": "dedae38b",
   "metadata": {},
   "outputs": [],
   "source": []
  },
  {
   "cell_type": "code",
   "execution_count": 7,
   "id": "83655d3a",
   "metadata": {},
   "outputs": [],
   "source": [
    "import statistics"
   ]
  },
  {
   "cell_type": "code",
   "execution_count": 8,
   "id": "e3029778",
   "metadata": {},
   "outputs": [
    {
     "data": {
      "text/plain": [
       "5.0"
      ]
     },
     "execution_count": 8,
     "metadata": {},
     "output_type": "execute_result"
    }
   ],
   "source": [
    "sales[\"Quantity\"].median()"
   ]
  },
  {
   "cell_type": "code",
   "execution_count": 9,
   "id": "db0fcd87",
   "metadata": {},
   "outputs": [
    {
     "data": {
      "text/plain": [
       "253.848"
      ]
     },
     "execution_count": 9,
     "metadata": {},
     "output_type": "execute_result"
    }
   ],
   "source": [
    "sales[\"Total\"].median()"
   ]
  },
  {
   "cell_type": "code",
   "execution_count": null,
   "id": "a7905949",
   "metadata": {},
   "outputs": [],
   "source": []
  },
  {
   "cell_type": "code",
   "execution_count": 10,
   "id": "74043b85",
   "metadata": {},
   "outputs": [],
   "source": [
    "import sympy as sym\n",
    "from sympy.abc import i, k, m, n, x, s"
   ]
  },
  {
   "cell_type": "code",
   "execution_count": 11,
   "id": "6e6b180d",
   "metadata": {},
   "outputs": [],
   "source": [
    "xi, xm = sym.symbols(\"x_i x_m\")"
   ]
  },
  {
   "cell_type": "code",
   "execution_count": 12,
   "id": "c0641f39",
   "metadata": {},
   "outputs": [
    {
     "data": {
      "text/latex": [
       "$\\displaystyle x_{i}$"
      ],
      "text/plain": [
       "x_i"
      ]
     },
     "execution_count": 12,
     "metadata": {},
     "output_type": "execute_result"
    }
   ],
   "source": [
    "xi"
   ]
  },
  {
   "cell_type": "code",
   "execution_count": 13,
   "id": "9e5b1371",
   "metadata": {},
   "outputs": [
    {
     "data": {
      "text/latex": [
       "$\\displaystyle x_{m}$"
      ],
      "text/plain": [
       "x_m"
      ]
     },
     "execution_count": 13,
     "metadata": {},
     "output_type": "execute_result"
    }
   ],
   "source": [
    "xm"
   ]
  },
  {
   "cell_type": "markdown",
   "id": "3f45b920",
   "metadata": {},
   "source": [
    "### a. Mean"
   ]
  },
  {
   "cell_type": "code",
   "execution_count": 14,
   "id": "868c9dab",
   "metadata": {},
   "outputs": [
    {
     "data": {
      "text/latex": [
       "$\\displaystyle \\frac{\\sum_{i=1}^{n} x_{i}}{n}$"
      ],
      "text/plain": [
       "Sum(x_i, (i, 1, n))/n"
      ]
     },
     "execution_count": 14,
     "metadata": {},
     "output_type": "execute_result"
    }
   ],
   "source": [
    "sym.Sum(xi, (i, 1, n)) / n"
   ]
  },
  {
   "cell_type": "code",
   "execution_count": 15,
   "id": "1dc9243b",
   "metadata": {},
   "outputs": [],
   "source": [
    "def mean(data):\n",
    "    input_sum = data.sum()\n",
    "    count = data.count()\n",
    "    mean = input_sum/count\n",
    "    return mean"
   ]
  },
  {
   "cell_type": "code",
   "execution_count": 16,
   "id": "22760c9b",
   "metadata": {},
   "outputs": [
    {
     "data": {
      "text/plain": [
       "Unit price                  55.672130\n",
       "Quantity                     5.510000\n",
       "Tax 5%                      15.379369\n",
       "Total                      322.966749\n",
       "cogs                       307.587380\n",
       "gross margin percentage      4.761905\n",
       "gross income                15.379369\n",
       "Rating                       6.972700\n",
       "dtype: float64"
      ]
     },
     "execution_count": 16,
     "metadata": {},
     "output_type": "execute_result"
    }
   ],
   "source": [
    "sales.mean()"
   ]
  },
  {
   "cell_type": "code",
   "execution_count": 17,
   "id": "6aab42ab",
   "metadata": {},
   "outputs": [
    {
     "data": {
      "text/plain": [
       "55.67213"
      ]
     },
     "execution_count": 17,
     "metadata": {},
     "output_type": "execute_result"
    }
   ],
   "source": [
    "mean(sales[\"Unit price\"])"
   ]
  },
  {
   "cell_type": "code",
   "execution_count": 18,
   "id": "8c80b221",
   "metadata": {},
   "outputs": [
    {
     "data": {
      "text/plain": [
       "322.966749"
      ]
     },
     "execution_count": 18,
     "metadata": {},
     "output_type": "execute_result"
    }
   ],
   "source": [
    "mean(sales[\"Total\"])"
   ]
  },
  {
   "cell_type": "code",
   "execution_count": 19,
   "id": "5172766c",
   "metadata": {},
   "outputs": [
    {
     "data": {
      "text/plain": [
       "15.379368999999999"
      ]
     },
     "execution_count": 19,
     "metadata": {},
     "output_type": "execute_result"
    }
   ],
   "source": [
    "mean(sales[\"Tax 5%\"])"
   ]
  },
  {
   "cell_type": "code",
   "execution_count": 20,
   "id": "c4fd2362",
   "metadata": {},
   "outputs": [
    {
     "data": {
      "text/plain": [
       "5.51"
      ]
     },
     "execution_count": 20,
     "metadata": {},
     "output_type": "execute_result"
    }
   ],
   "source": [
    "mean(sales[\"Quantity\"])"
   ]
  },
  {
   "cell_type": "code",
   "execution_count": 21,
   "id": "112b8799",
   "metadata": {},
   "outputs": [
    {
     "data": {
      "text/plain": [
       "307.58738"
      ]
     },
     "execution_count": 21,
     "metadata": {},
     "output_type": "execute_result"
    }
   ],
   "source": [
    "mean(sales[\"cogs\"])"
   ]
  },
  {
   "cell_type": "code",
   "execution_count": 22,
   "id": "2cb026d8",
   "metadata": {},
   "outputs": [
    {
     "data": {
      "text/plain": [
       "4.761904762"
      ]
     },
     "execution_count": 22,
     "metadata": {},
     "output_type": "execute_result"
    }
   ],
   "source": [
    "mean(sales[\"gross margin percentage\"])"
   ]
  },
  {
   "cell_type": "code",
   "execution_count": 23,
   "id": "0c82016d",
   "metadata": {},
   "outputs": [
    {
     "data": {
      "text/plain": [
       "15.379368999999999"
      ]
     },
     "execution_count": 23,
     "metadata": {},
     "output_type": "execute_result"
    }
   ],
   "source": [
    "mean(sales[\"gross income\"])"
   ]
  },
  {
   "cell_type": "code",
   "execution_count": 24,
   "id": "f9d658cd",
   "metadata": {},
   "outputs": [
    {
     "data": {
      "text/plain": [
       "6.9727"
      ]
     },
     "execution_count": 24,
     "metadata": {},
     "output_type": "execute_result"
    }
   ],
   "source": [
    "mean(sales[\"Rating\"])"
   ]
  },
  {
   "cell_type": "markdown",
   "id": "ab2b20ab",
   "metadata": {},
   "source": [
    "### b. Median"
   ]
  },
  {
   "cell_type": "code",
   "execution_count": 25,
   "id": "805e73af",
   "metadata": {},
   "outputs": [
    {
     "data": {
      "text/latex": [
       "$\\displaystyle median_O = \\frac{n}{2}$"
      ],
      "text/plain": [
       "<IPython.core.display.Math object>"
      ]
     },
     "metadata": {},
     "output_type": "display_data"
    }
   ],
   "source": [
    "from IPython.display import Math, display\n",
    "# Odd\n",
    "median_O = ((n)/2)\n",
    "display(Math('median_O = ' + sym.latex(median_O)))"
   ]
  },
  {
   "cell_type": "code",
   "execution_count": 26,
   "id": "ffe4b1d8",
   "metadata": {},
   "outputs": [
    {
     "data": {
      "text/latex": [
       "$\\displaystyle median_E = \\frac{N}{4} + \\frac{n}{4}$"
      ],
      "text/plain": [
       "<IPython.core.display.Math object>"
      ]
     },
     "metadata": {},
     "output_type": "display_data"
    }
   ],
   "source": [
    "# Even\n",
    "from sympy.abc import N\n",
    "median_E = ((((n-1)/2) + ((N+1)/2))/2)\n",
    "display(Math('median_E = ' + sym.latex(median_E)))\n",
    "#sym.Eq((((n-1)/2) + ((n+1)/2))/2)"
   ]
  },
  {
   "cell_type": "code",
   "execution_count": 27,
   "id": "6441c1ef",
   "metadata": {},
   "outputs": [],
   "source": [
    "def median(data):\n",
    "    n = len(data)\n",
    "    # data.sort_()\n",
    "    \n",
    "    # Sample with an even number of observations\n",
    "    if n % 2 == 0:\n",
    "        index = data[n // 2]\n",
    "        index1 = data[n // 2 - 1]\n",
    "        median = (index + index1) / 2\n",
    "        return median\n",
    "    \n",
    "    # Sample with an odd number of observations\n",
    "    else:\n",
    "        median = data[n // 2]\n",
    "        return median"
   ]
  },
  {
   "cell_type": "code",
   "execution_count": 28,
   "id": "5cd485d4",
   "metadata": {
    "scrolled": true
   },
   "outputs": [
    {
     "data": {
      "text/plain": [
       "Unit price                  55.230000\n",
       "Quantity                     5.000000\n",
       "Tax 5%                      12.088000\n",
       "Total                      253.848000\n",
       "cogs                       241.760000\n",
       "gross margin percentage      4.761905\n",
       "gross income                12.088000\n",
       "Rating                       7.000000\n",
       "dtype: float64"
      ]
     },
     "execution_count": 28,
     "metadata": {},
     "output_type": "execute_result"
    }
   ],
   "source": [
    "sales.median()"
   ]
  },
  {
   "cell_type": "code",
   "execution_count": 29,
   "id": "2fbbe66f",
   "metadata": {},
   "outputs": [
    {
     "data": {
      "text/plain": [
       "5.0"
      ]
     },
     "execution_count": 29,
     "metadata": {},
     "output_type": "execute_result"
    }
   ],
   "source": [
    "median(sorted(sales[\"Quantity\"]))"
   ]
  },
  {
   "cell_type": "code",
   "execution_count": 30,
   "id": "8c5bda09",
   "metadata": {},
   "outputs": [
    {
     "data": {
      "text/plain": [
       "55.230000000000004"
      ]
     },
     "execution_count": 30,
     "metadata": {},
     "output_type": "execute_result"
    }
   ],
   "source": [
    "median(sorted(sales[\"Unit price\"]))"
   ]
  },
  {
   "cell_type": "code",
   "execution_count": 31,
   "id": "19c7ad44",
   "metadata": {},
   "outputs": [
    {
     "data": {
      "text/plain": [
       "12.088000000000001"
      ]
     },
     "execution_count": 31,
     "metadata": {},
     "output_type": "execute_result"
    }
   ],
   "source": [
    "median(sorted(sales[\"Tax 5%\"]))"
   ]
  },
  {
   "cell_type": "code",
   "execution_count": 32,
   "id": "90054fed",
   "metadata": {},
   "outputs": [
    {
     "data": {
      "text/plain": [
       "253.848"
      ]
     },
     "execution_count": 32,
     "metadata": {},
     "output_type": "execute_result"
    }
   ],
   "source": [
    "median(sorted(sales[\"Total\"]))"
   ]
  },
  {
   "cell_type": "code",
   "execution_count": 33,
   "id": "aaeed08d",
   "metadata": {},
   "outputs": [
    {
     "data": {
      "text/plain": [
       "241.76"
      ]
     },
     "execution_count": 33,
     "metadata": {},
     "output_type": "execute_result"
    }
   ],
   "source": [
    "median(sorted(sales[\"cogs\"]))"
   ]
  },
  {
   "cell_type": "code",
   "execution_count": 34,
   "id": "03c01106",
   "metadata": {},
   "outputs": [
    {
     "data": {
      "text/plain": [
       "4.761904762"
      ]
     },
     "execution_count": 34,
     "metadata": {},
     "output_type": "execute_result"
    }
   ],
   "source": [
    "median(sorted(sales[\"gross margin percentage\"]))"
   ]
  },
  {
   "cell_type": "code",
   "execution_count": 35,
   "id": "4313736f",
   "metadata": {},
   "outputs": [
    {
     "data": {
      "text/plain": [
       "12.088000000000001"
      ]
     },
     "execution_count": 35,
     "metadata": {},
     "output_type": "execute_result"
    }
   ],
   "source": [
    "median(sorted(sales[\"gross income\"]))"
   ]
  },
  {
   "cell_type": "code",
   "execution_count": 36,
   "id": "ab169511",
   "metadata": {},
   "outputs": [
    {
     "data": {
      "text/plain": [
       "7.0"
      ]
     },
     "execution_count": 36,
     "metadata": {},
     "output_type": "execute_result"
    }
   ],
   "source": [
    "median(sorted(sales[\"Rating\"]))"
   ]
  },
  {
   "cell_type": "markdown",
   "id": "e149788e",
   "metadata": {},
   "source": [
    "### c. Variance"
   ]
  },
  {
   "cell_type": "code",
   "execution_count": 37,
   "id": "da3fb178",
   "metadata": {
    "scrolled": true
   },
   "outputs": [
    {
     "data": {
      "text/latex": [
       "$\\displaystyle var = \\frac{\\sum_{i=1}^{n} \\left(x_{i} - x_{m}\\right)}{n - 1}$"
      ],
      "text/plain": [
       "<IPython.core.display.Math object>"
      ]
     },
     "metadata": {},
     "output_type": "display_data"
    }
   ],
   "source": [
    "var = sym.Sum((xi - xm), (i,1,n))/(n-1)\n",
    "display(Math('var = ' + sym.latex(var)))"
   ]
  },
  {
   "cell_type": "code",
   "execution_count": 38,
   "id": "f0992693",
   "metadata": {},
   "outputs": [],
   "source": [
    "def variance(data):\n",
    "    def mean(data):\n",
    "        mean = data.sum()/data.count()\n",
    "        return mean\n",
    "    squared_diff = []\n",
    "    for i in data:\n",
    "        mdev = (i - mean(data))\n",
    "        squared_diff.append(mdev**2)\n",
    "    ssd = sum(squared_diff)\n",
    "    var = ssd / (len(squared_diff) - 1)\n",
    "    return var"
   ]
  },
  {
   "cell_type": "code",
   "execution_count": 39,
   "id": "0ddd506a",
   "metadata": {},
   "outputs": [
    {
     "data": {
      "text/plain": [
       "Unit price                 7.019653e+02\n",
       "Quantity                   8.546446e+00\n",
       "Tax 5%                     1.370966e+02\n",
       "Total                      6.045960e+04\n",
       "cogs                       5.483864e+04\n",
       "gross margin percentage    3.759526e-27\n",
       "gross income               1.370966e+02\n",
       "Rating                     2.953518e+00\n",
       "dtype: float64"
      ]
     },
     "execution_count": 39,
     "metadata": {},
     "output_type": "execute_result"
    }
   ],
   "source": [
    "sales.var()"
   ]
  },
  {
   "cell_type": "code",
   "execution_count": 40,
   "id": "bac13d97",
   "metadata": {},
   "outputs": [
    {
     "data": {
      "text/plain": [
       "701.965331294394"
      ]
     },
     "execution_count": 40,
     "metadata": {},
     "output_type": "execute_result"
    }
   ],
   "source": [
    "variance(sales[\"Unit price\"])"
   ]
  },
  {
   "cell_type": "code",
   "execution_count": 41,
   "id": "a95e2e63",
   "metadata": {},
   "outputs": [
    {
     "data": {
      "text/plain": [
       "8.546446446446451"
      ]
     },
     "execution_count": 41,
     "metadata": {},
     "output_type": "execute_result"
    }
   ],
   "source": [
    "variance(sales[\"Quantity\"])"
   ]
  },
  {
   "cell_type": "code",
   "execution_count": 42,
   "id": "2322b38d",
   "metadata": {},
   "outputs": [
    {
     "data": {
      "text/plain": [
       "137.0965941444835"
      ]
     },
     "execution_count": 42,
     "metadata": {},
     "output_type": "execute_result"
    }
   ],
   "source": [
    "variance(sales[\"Tax 5%\"])"
   ]
  },
  {
   "cell_type": "code",
   "execution_count": 43,
   "id": "c75e7d7d",
   "metadata": {},
   "outputs": [
    {
     "data": {
      "text/plain": [
       "60459.59801771733"
      ]
     },
     "execution_count": 43,
     "metadata": {},
     "output_type": "execute_result"
    }
   ],
   "source": [
    "variance(sales[\"Total\"])"
   ]
  },
  {
   "cell_type": "code",
   "execution_count": 44,
   "id": "5396e9bf",
   "metadata": {},
   "outputs": [
    {
     "data": {
      "text/plain": [
       "54838.637657793355"
      ]
     },
     "execution_count": 44,
     "metadata": {},
     "output_type": "execute_result"
    }
   ],
   "source": [
    "variance(sales[\"cogs\"])"
   ]
  },
  {
   "cell_type": "code",
   "execution_count": 45,
   "id": "b5227186",
   "metadata": {},
   "outputs": [
    {
     "data": {
      "text/plain": [
       "137.0965941444835"
      ]
     },
     "execution_count": 45,
     "metadata": {},
     "output_type": "execute_result"
    }
   ],
   "source": [
    "variance(sales[\"gross income\"])"
   ]
  },
  {
   "cell_type": "code",
   "execution_count": 46,
   "id": "24618d03",
   "metadata": {},
   "outputs": [
    {
     "data": {
      "text/plain": [
       "0.0"
      ]
     },
     "execution_count": 46,
     "metadata": {},
     "output_type": "execute_result"
    }
   ],
   "source": [
    "variance(sales[\"gross margin percentage\"])"
   ]
  },
  {
   "cell_type": "code",
   "execution_count": 47,
   "id": "71ce0f86",
   "metadata": {},
   "outputs": [
    {
     "data": {
      "text/plain": [
       "2.953518228228234"
      ]
     },
     "execution_count": 47,
     "metadata": {},
     "output_type": "execute_result"
    }
   ],
   "source": [
    "variance(sales[\"Rating\"])"
   ]
  },
  {
   "cell_type": "markdown",
   "id": "fb2bc93c",
   "metadata": {},
   "source": [
    "### d. Standard deviation"
   ]
  },
  {
   "cell_type": "code",
   "execution_count": 48,
   "id": "4557e4df",
   "metadata": {},
   "outputs": [
    {
     "data": {
      "text/latex": [
       "$\\displaystyle std = \\sqrt{\\frac{\\sum_{i=1}^{n} \\left(x_{i} - x_{m}\\right)^{2}}{n - 1}}$"
      ],
      "text/plain": [
       "<IPython.core.display.Math object>"
      ]
     },
     "metadata": {},
     "output_type": "display_data"
    }
   ],
   "source": [
    "std = sym.sqrt(sym.Sum((xi - xm)**2, (i, 1, n))/(n - 1))\n",
    "display(Math('std = ' + sym.latex(std)))"
   ]
  },
  {
   "cell_type": "code",
   "execution_count": 49,
   "id": "c86f4e69",
   "metadata": {},
   "outputs": [],
   "source": [
    "def std_dev(data):\n",
    "    def mean(data):\n",
    "        mean = data.sum()/data.count()\n",
    "        return mean\n",
    "    squared_diff = []\n",
    "    for i in data:\n",
    "        mdev = (i - mean(data))\n",
    "        squared_diff.append(mdev**2)\n",
    "    ssd = sum(squared_diff)\n",
    "    var = ssd / (len(squared_diff) - 1)\n",
    "    std = var**0.5\n",
    "    return std"
   ]
  },
  {
   "cell_type": "code",
   "execution_count": 50,
   "id": "24279802",
   "metadata": {},
   "outputs": [
    {
     "data": {
      "text/plain": [
       "Unit price                 2.649463e+01\n",
       "Quantity                   2.923431e+00\n",
       "Tax 5%                     1.170883e+01\n",
       "Total                      2.458853e+02\n",
       "cogs                       2.341765e+02\n",
       "gross margin percentage    6.131498e-14\n",
       "gross income               1.170883e+01\n",
       "Rating                     1.718580e+00\n",
       "dtype: float64"
      ]
     },
     "execution_count": 50,
     "metadata": {},
     "output_type": "execute_result"
    }
   ],
   "source": [
    "sales.std()"
   ]
  },
  {
   "cell_type": "code",
   "execution_count": 51,
   "id": "a885e320",
   "metadata": {},
   "outputs": [
    {
     "data": {
      "text/plain": [
       "26.49462834791977"
      ]
     },
     "execution_count": 51,
     "metadata": {},
     "output_type": "execute_result"
    }
   ],
   "source": [
    "std_dev(sales['Unit price'])"
   ]
  },
  {
   "cell_type": "code",
   "execution_count": 52,
   "id": "7efdf94e",
   "metadata": {},
   "outputs": [
    {
     "data": {
      "text/plain": [
       "2.923430595455697"
      ]
     },
     "execution_count": 52,
     "metadata": {},
     "output_type": "execute_result"
    }
   ],
   "source": [
    "std_dev(sales['Quantity'])"
   ]
  },
  {
   "cell_type": "code",
   "execution_count": 53,
   "id": "1ebcbc08",
   "metadata": {},
   "outputs": [
    {
     "data": {
      "text/plain": [
       "11.70882548099866"
      ]
     },
     "execution_count": 53,
     "metadata": {},
     "output_type": "execute_result"
    }
   ],
   "source": [
    "std_dev(sales['Tax 5%'])"
   ]
  },
  {
   "cell_type": "code",
   "execution_count": 54,
   "id": "30e77d15",
   "metadata": {},
   "outputs": [
    {
     "data": {
      "text/plain": [
       "245.88533510097207"
      ]
     },
     "execution_count": 54,
     "metadata": {},
     "output_type": "execute_result"
    }
   ],
   "source": [
    "std_dev(sales['Total'])"
   ]
  },
  {
   "cell_type": "code",
   "execution_count": 55,
   "id": "96d2a95d",
   "metadata": {},
   "outputs": [
    {
     "data": {
      "text/plain": [
       "234.1765096199731"
      ]
     },
     "execution_count": 55,
     "metadata": {},
     "output_type": "execute_result"
    }
   ],
   "source": [
    "std_dev(sales['cogs'])"
   ]
  },
  {
   "cell_type": "code",
   "execution_count": 56,
   "id": "fb5e8839",
   "metadata": {},
   "outputs": [
    {
     "data": {
      "text/plain": [
       "0.0"
      ]
     },
     "execution_count": 56,
     "metadata": {},
     "output_type": "execute_result"
    }
   ],
   "source": [
    "std_dev(sales['gross margin percentage'])"
   ]
  },
  {
   "cell_type": "code",
   "execution_count": 57,
   "id": "27c8e8e7",
   "metadata": {},
   "outputs": [
    {
     "data": {
      "text/plain": [
       "11.70882548099866"
      ]
     },
     "execution_count": 57,
     "metadata": {},
     "output_type": "execute_result"
    }
   ],
   "source": [
    "std_dev(sales['gross income'])"
   ]
  },
  {
   "cell_type": "code",
   "execution_count": 58,
   "id": "87f718f0",
   "metadata": {},
   "outputs": [
    {
     "data": {
      "text/plain": [
       "1.7185802943791233"
      ]
     },
     "execution_count": 58,
     "metadata": {},
     "output_type": "execute_result"
    }
   ],
   "source": [
    "std_dev(sales['Rating'])"
   ]
  },
  {
   "cell_type": "markdown",
   "id": "7d0d8924",
   "metadata": {},
   "source": [
    "### e. Skewness"
   ]
  },
  {
   "cell_type": "code",
   "execution_count": 73,
   "id": "381f23b6",
   "metadata": {},
   "outputs": [],
   "source": [
    "from sympy.abc import sigma"
   ]
  },
  {
   "cell_type": "code",
   "execution_count": 74,
   "id": "cb07b359",
   "metadata": {},
   "outputs": [
    {
     "data": {
      "text/latex": [
       "$\\displaystyle skew = \\frac{\\sum_{i=1}^{n} \\left(x_{i} - x_{m}\\right)^{3}}{\\sigma^{3} \\left(n - 1\\right)}$"
      ],
      "text/plain": [
       "<IPython.core.display.Math object>"
      ]
     },
     "metadata": {},
     "output_type": "display_data"
    }
   ],
   "source": [
    "skew = sym.Sum((xi - xm)**3, (i,1,n))/((n-1)*sigma**3)\n",
    "display(Math('skew = ' + sym.latex(skew)))"
   ]
  },
  {
   "cell_type": "code",
   "execution_count": 62,
   "id": "e068ce85",
   "metadata": {},
   "outputs": [],
   "source": [
    "def skewness(data):\n",
    "    def mean(data):\n",
    "        mean = data.sum()/data.count()\n",
    "        return mean\n",
    "    def std_dev(data):\n",
    "        squared_diff = []\n",
    "        for i in data:\n",
    "            mdev = (i - mean(data))\n",
    "            squared_diff.append(mdev**2)\n",
    "        ssd = sum(squared_diff)\n",
    "        var = ssd / (len(squared_diff) - 1)\n",
    "        std = var ** 0.5\n",
    "        return std\n",
    "    cubed_diff = []\n",
    "    for i in data:\n",
    "        mdev = (i - mean(data))\n",
    "        cubed_diff.append(mdev**3)\n",
    "    skew_sum = sum(cubed_diff)\n",
    "    s3 = std_dev(data)**3\n",
    "    n = (len(cubed_diff) - 1)\n",
    "    skew = skew_sum / (s3 * n)\n",
    "    return skew"
   ]
  },
  {
   "cell_type": "code",
   "execution_count": 63,
   "id": "bfefbc47",
   "metadata": {},
   "outputs": [
    {
     "data": {
      "text/plain": [
       "Unit price                 0.007077\n",
       "Quantity                   0.012941\n",
       "Tax 5%                     0.892570\n",
       "Total                      0.892570\n",
       "cogs                       0.892570\n",
       "gross margin percentage    0.000000\n",
       "gross income               0.892570\n",
       "Rating                     0.009010\n",
       "dtype: float64"
      ]
     },
     "execution_count": 63,
     "metadata": {},
     "output_type": "execute_result"
    }
   ],
   "source": [
    "sales.skew()"
   ]
  },
  {
   "cell_type": "code",
   "execution_count": 64,
   "id": "cebf2790",
   "metadata": {},
   "outputs": [
    {
     "data": {
      "text/plain": [
       "0.007063292957622198"
      ]
     },
     "execution_count": 64,
     "metadata": {},
     "output_type": "execute_result"
    }
   ],
   "source": [
    "skewness(sales[\"Unit price\"])"
   ]
  },
  {
   "cell_type": "code",
   "execution_count": 65,
   "id": "34f5df18",
   "metadata": {},
   "outputs": [
    {
     "data": {
      "text/plain": [
       "0.012915165921138375"
      ]
     },
     "execution_count": 65,
     "metadata": {},
     "output_type": "execute_result"
    }
   ],
   "source": [
    "skewness(sales[\"Quantity\"])"
   ]
  },
  {
   "cell_type": "code",
   "execution_count": 66,
   "id": "8413d309",
   "metadata": {},
   "outputs": [
    {
     "data": {
      "text/plain": [
       "0.890784665348227"
      ]
     },
     "execution_count": 66,
     "metadata": {},
     "output_type": "execute_result"
    }
   ],
   "source": [
    "skewness(sales[\"Tax 5%\"])"
   ]
  },
  {
   "cell_type": "code",
   "execution_count": 67,
   "id": "0a8bb46b",
   "metadata": {},
   "outputs": [
    {
     "data": {
      "text/plain": [
       "0.8907846653482221"
      ]
     },
     "execution_count": 67,
     "metadata": {},
     "output_type": "execute_result"
    }
   ],
   "source": [
    "skewness(sales[\"Total\"])"
   ]
  },
  {
   "cell_type": "code",
   "execution_count": 68,
   "id": "f31c7bb1",
   "metadata": {},
   "outputs": [
    {
     "data": {
      "text/plain": [
       "0.890784665348225"
      ]
     },
     "execution_count": 68,
     "metadata": {},
     "output_type": "execute_result"
    }
   ],
   "source": [
    "skewness(sales[\"cogs\"])"
   ]
  },
  {
   "cell_type": "code",
   "execution_count": 69,
   "id": "9b1444b4",
   "metadata": {},
   "outputs": [
    {
     "name": "stderr",
     "output_type": "stream",
     "text": [
      "<ipython-input-62-2ae42497dc1c>:21: RuntimeWarning: invalid value encountered in double_scalars\n",
      "  skew = skew_sum / (s3 * n)\n"
     ]
    },
    {
     "data": {
      "text/plain": [
       "nan"
      ]
     },
     "execution_count": 69,
     "metadata": {},
     "output_type": "execute_result"
    }
   ],
   "source": [
    "skewness(sales[\"gross margin percentage\"])"
   ]
  },
  {
   "cell_type": "code",
   "execution_count": 70,
   "id": "f7f7a2f3",
   "metadata": {},
   "outputs": [
    {
     "data": {
      "text/plain": [
       "0.890784665348227"
      ]
     },
     "execution_count": 70,
     "metadata": {},
     "output_type": "execute_result"
    }
   ],
   "source": [
    "skewness(sales[\"gross income\"])"
   ]
  },
  {
   "cell_type": "code",
   "execution_count": 71,
   "id": "4f8c9a35",
   "metadata": {},
   "outputs": [
    {
     "data": {
      "text/plain": [
       "0.00899162946819919"
      ]
     },
     "execution_count": 71,
     "metadata": {},
     "output_type": "execute_result"
    }
   ],
   "source": [
    "skewness(sales[\"Rating\"])"
   ]
  },
  {
   "cell_type": "markdown",
   "id": "d98b396f",
   "metadata": {},
   "source": [
    "### f. kurtosis"
   ]
  },
  {
   "cell_type": "code",
   "execution_count": 75,
   "id": "ec2a809a",
   "metadata": {},
   "outputs": [
    {
     "data": {
      "text/latex": [
       "$\\displaystyle s$"
      ],
      "text/plain": [
       "s"
      ]
     },
     "execution_count": 75,
     "metadata": {},
     "output_type": "execute_result"
    }
   ],
   "source": [
    "s = sym.Symbol(\"s\")\n",
    "s"
   ]
  },
  {
   "cell_type": "code",
   "execution_count": 76,
   "id": "15125b16",
   "metadata": {},
   "outputs": [
    {
     "data": {
      "text/latex": [
       "$\\displaystyle kurt = \\frac{\\sum_{i=1}^{n} \\left(x_{i} - x_{m}\\right)^{4}}{s^{4} \\left(n - 1\\right)}$"
      ],
      "text/plain": [
       "<IPython.core.display.Math object>"
      ]
     },
     "metadata": {},
     "output_type": "display_data"
    }
   ],
   "source": [
    "kurt = sym.Sum((xi - xm)**4, (i, 1, n))/((n-1)*s**4)\n",
    "display(Math('kurt = ' + sym.latex(kurt)))"
   ]
  },
  {
   "cell_type": "code",
   "execution_count": 103,
   "id": "a723299b",
   "metadata": {},
   "outputs": [],
   "source": [
    "def kurtosis(data):\n",
    "    def mean(data):\n",
    "        mean = data.sum()/data.count()\n",
    "        return mean\n",
    "    def std_dev(data):\n",
    "        squared_diff = []\n",
    "        for i in data:\n",
    "            mdev = (i - mean(data))\n",
    "            squared_diff.append(mdev**2)\n",
    "        ssd = sum(squared_diff)\n",
    "        var = ssd / (len(squared_diff) - 1)\n",
    "        std = var**0.5\n",
    "        return std\n",
    "    fourth_diff = []\n",
    "    for i in data:\n",
    "        mdev = (i - mean(data))\n",
    "        fourth_diff.append(mdev**4)\n",
    "    kurt_sum = sum(fourth_diff)\n",
    "    s4 = std_dev(data)**4\n",
    "    n = (len(fourth_diff) - 1)\n",
    "    kurtosis = kurt_sum / (s4 * n)\n",
    "    return kurtosis"
   ]
  },
  {
   "cell_type": "code",
   "execution_count": 116,
   "id": "4319b667",
   "metadata": {},
   "outputs": [
    {
     "data": {
      "text/plain": [
       "Unit price                -1.218591\n",
       "Quantity                  -1.215547\n",
       "Tax 5%                    -0.081885\n",
       "Total                     -0.081885\n",
       "cogs                      -0.081885\n",
       "gross margin percentage    0.000000\n",
       "gross income              -0.081885\n",
       "Rating                    -1.151587\n",
       "dtype: float64"
      ]
     },
     "execution_count": 116,
     "metadata": {},
     "output_type": "execute_result"
    }
   ],
   "source": [
    "sales.kurtosis()"
   ]
  },
  {
   "cell_type": "code",
   "execution_count": 104,
   "id": "43bde6f5",
   "metadata": {},
   "outputs": [
    {
     "data": {
      "text/plain": [
       "1.779717499975705"
      ]
     },
     "execution_count": 104,
     "metadata": {},
     "output_type": "execute_result"
    }
   ],
   "source": [
    "kurtosis(sales[\"Unit price\"])"
   ]
  },
  {
   "cell_type": "code",
   "execution_count": 98,
   "id": "bb681d4e",
   "metadata": {},
   "outputs": [
    {
     "data": {
      "text/plain": [
       "1.7827434729008682"
      ]
     },
     "execution_count": 98,
     "metadata": {},
     "output_type": "execute_result"
    }
   ],
   "source": [
    "kurtosis(sales[\"Quantity\"])"
   ]
  },
  {
   "cell_type": "code",
   "execution_count": 99,
   "id": "d011042c",
   "metadata": {},
   "outputs": [
    {
     "data": {
      "text/plain": [
       "2.9096175570196054"
      ]
     },
     "execution_count": 99,
     "metadata": {},
     "output_type": "execute_result"
    }
   ],
   "source": [
    "kurtosis(sales[\"Tax 5%\"])"
   ]
  },
  {
   "cell_type": "code",
   "execution_count": 109,
   "id": "6dd343ee",
   "metadata": {},
   "outputs": [
    {
     "data": {
      "text/plain": [
       "2.9096175570195943"
      ]
     },
     "execution_count": 109,
     "metadata": {},
     "output_type": "execute_result"
    }
   ],
   "source": [
    "kurtosis(sales[\"Total\"])"
   ]
  },
  {
   "cell_type": "code",
   "execution_count": 108,
   "id": "41a7aaa1",
   "metadata": {},
   "outputs": [
    {
     "data": {
      "text/plain": [
       "2.9096175570196063"
      ]
     },
     "execution_count": 108,
     "metadata": {},
     "output_type": "execute_result"
    }
   ],
   "source": [
    "kurtosis(sales[\"cogs\"])"
   ]
  },
  {
   "cell_type": "code",
   "execution_count": 107,
   "id": "0b759a83",
   "metadata": {},
   "outputs": [
    {
     "name": "stderr",
     "output_type": "stream",
     "text": [
      "<ipython-input-103-b59725769899>:21: RuntimeWarning: invalid value encountered in double_scalars\n",
      "  kurtosis = kurt_sum / (s4 * n)\n"
     ]
    },
    {
     "data": {
      "text/plain": [
       "nan"
      ]
     },
     "execution_count": 107,
     "metadata": {},
     "output_type": "execute_result"
    }
   ],
   "source": [
    "kurtosis(sales[\"gross margin percentage\"])"
   ]
  },
  {
   "cell_type": "code",
   "execution_count": 106,
   "id": "98c3d6bf",
   "metadata": {},
   "outputs": [
    {
     "data": {
      "text/plain": [
       "2.9096175570196054"
      ]
     },
     "execution_count": 106,
     "metadata": {},
     "output_type": "execute_result"
    }
   ],
   "source": [
    "kurtosis(sales[\"gross income\"])"
   ]
  },
  {
   "cell_type": "code",
   "execution_count": 105,
   "id": "2c6e3806",
   "metadata": {},
   "outputs": [
    {
     "data": {
      "text/plain": [
       "1.8463208648729263"
      ]
     },
     "execution_count": 105,
     "metadata": {},
     "output_type": "execute_result"
    }
   ],
   "source": [
    "kurtosis(sales[\"Rating\"])"
   ]
  },
  {
   "cell_type": "markdown",
   "id": "f503494d",
   "metadata": {},
   "source": [
    "### 2. Describe each of the numerical variables using graphical methods\n",
    "1. Use histograms, strip plots and box plots to plot the distribution of each of the variables\n",
    "2. Carry out your visualisations using pandas, matplotlib and seaborn for each of the variables."
   ]
  },
  {
   "cell_type": "markdown",
   "id": "6f0b754a",
   "metadata": {},
   "source": [
    "## a. Histogram"
   ]
  },
  {
   "cell_type": "code",
   "execution_count": 117,
   "id": "2058b737",
   "metadata": {},
   "outputs": [
    {
     "data": {
      "text/html": [
       "<div>\n",
       "<style scoped>\n",
       "    .dataframe tbody tr th:only-of-type {\n",
       "        vertical-align: middle;\n",
       "    }\n",
       "\n",
       "    .dataframe tbody tr th {\n",
       "        vertical-align: top;\n",
       "    }\n",
       "\n",
       "    .dataframe thead th {\n",
       "        text-align: right;\n",
       "    }\n",
       "</style>\n",
       "<table border=\"1\" class=\"dataframe\">\n",
       "  <thead>\n",
       "    <tr style=\"text-align: right;\">\n",
       "      <th></th>\n",
       "      <th>Unit price</th>\n",
       "      <th>Quantity</th>\n",
       "      <th>Tax 5%</th>\n",
       "      <th>Total</th>\n",
       "      <th>cogs</th>\n",
       "      <th>gross margin percentage</th>\n",
       "      <th>gross income</th>\n",
       "      <th>Rating</th>\n",
       "    </tr>\n",
       "  </thead>\n",
       "  <tbody>\n",
       "    <tr>\n",
       "      <th>count</th>\n",
       "      <td>1000.000000</td>\n",
       "      <td>1000.000000</td>\n",
       "      <td>1000.000000</td>\n",
       "      <td>1000.000000</td>\n",
       "      <td>1000.00000</td>\n",
       "      <td>1.000000e+03</td>\n",
       "      <td>1000.000000</td>\n",
       "      <td>1000.00000</td>\n",
       "    </tr>\n",
       "    <tr>\n",
       "      <th>mean</th>\n",
       "      <td>55.672130</td>\n",
       "      <td>5.510000</td>\n",
       "      <td>15.379369</td>\n",
       "      <td>322.966749</td>\n",
       "      <td>307.58738</td>\n",
       "      <td>4.761905e+00</td>\n",
       "      <td>15.379369</td>\n",
       "      <td>6.97270</td>\n",
       "    </tr>\n",
       "    <tr>\n",
       "      <th>std</th>\n",
       "      <td>26.494628</td>\n",
       "      <td>2.923431</td>\n",
       "      <td>11.708825</td>\n",
       "      <td>245.885335</td>\n",
       "      <td>234.17651</td>\n",
       "      <td>6.131498e-14</td>\n",
       "      <td>11.708825</td>\n",
       "      <td>1.71858</td>\n",
       "    </tr>\n",
       "    <tr>\n",
       "      <th>min</th>\n",
       "      <td>10.080000</td>\n",
       "      <td>1.000000</td>\n",
       "      <td>0.508500</td>\n",
       "      <td>10.678500</td>\n",
       "      <td>10.17000</td>\n",
       "      <td>4.761905e+00</td>\n",
       "      <td>0.508500</td>\n",
       "      <td>4.00000</td>\n",
       "    </tr>\n",
       "    <tr>\n",
       "      <th>25%</th>\n",
       "      <td>32.875000</td>\n",
       "      <td>3.000000</td>\n",
       "      <td>5.924875</td>\n",
       "      <td>124.422375</td>\n",
       "      <td>118.49750</td>\n",
       "      <td>4.761905e+00</td>\n",
       "      <td>5.924875</td>\n",
       "      <td>5.50000</td>\n",
       "    </tr>\n",
       "    <tr>\n",
       "      <th>50%</th>\n",
       "      <td>55.230000</td>\n",
       "      <td>5.000000</td>\n",
       "      <td>12.088000</td>\n",
       "      <td>253.848000</td>\n",
       "      <td>241.76000</td>\n",
       "      <td>4.761905e+00</td>\n",
       "      <td>12.088000</td>\n",
       "      <td>7.00000</td>\n",
       "    </tr>\n",
       "    <tr>\n",
       "      <th>75%</th>\n",
       "      <td>77.935000</td>\n",
       "      <td>8.000000</td>\n",
       "      <td>22.445250</td>\n",
       "      <td>471.350250</td>\n",
       "      <td>448.90500</td>\n",
       "      <td>4.761905e+00</td>\n",
       "      <td>22.445250</td>\n",
       "      <td>8.50000</td>\n",
       "    </tr>\n",
       "    <tr>\n",
       "      <th>max</th>\n",
       "      <td>99.960000</td>\n",
       "      <td>10.000000</td>\n",
       "      <td>49.650000</td>\n",
       "      <td>1042.650000</td>\n",
       "      <td>993.00000</td>\n",
       "      <td>4.761905e+00</td>\n",
       "      <td>49.650000</td>\n",
       "      <td>10.00000</td>\n",
       "    </tr>\n",
       "  </tbody>\n",
       "</table>\n",
       "</div>"
      ],
      "text/plain": [
       "        Unit price     Quantity       Tax 5%        Total        cogs  \\\n",
       "count  1000.000000  1000.000000  1000.000000  1000.000000  1000.00000   \n",
       "mean     55.672130     5.510000    15.379369   322.966749   307.58738   \n",
       "std      26.494628     2.923431    11.708825   245.885335   234.17651   \n",
       "min      10.080000     1.000000     0.508500    10.678500    10.17000   \n",
       "25%      32.875000     3.000000     5.924875   124.422375   118.49750   \n",
       "50%      55.230000     5.000000    12.088000   253.848000   241.76000   \n",
       "75%      77.935000     8.000000    22.445250   471.350250   448.90500   \n",
       "max      99.960000    10.000000    49.650000  1042.650000   993.00000   \n",
       "\n",
       "       gross margin percentage  gross income      Rating  \n",
       "count             1.000000e+03   1000.000000  1000.00000  \n",
       "mean              4.761905e+00     15.379369     6.97270  \n",
       "std               6.131498e-14     11.708825     1.71858  \n",
       "min               4.761905e+00      0.508500     4.00000  \n",
       "25%               4.761905e+00      5.924875     5.50000  \n",
       "50%               4.761905e+00     12.088000     7.00000  \n",
       "75%               4.761905e+00     22.445250     8.50000  \n",
       "max               4.761905e+00     49.650000    10.00000  "
      ]
     },
     "execution_count": 117,
     "metadata": {},
     "output_type": "execute_result"
    }
   ],
   "source": [
    "sales.describe()"
   ]
  },
  {
   "cell_type": "markdown",
   "id": "5f3a43e7",
   "metadata": {},
   "source": [
    "# i - pandas direct plotting"
   ]
  },
  {
   "cell_type": "code",
   "execution_count": 132,
   "id": "568a0023",
   "metadata": {
    "scrolled": true
   },
   "outputs": [
    {
     "data": {
      "image/png": "[encoded data removed]",
      "text/plain": [
       "<Figure size 432x288 with 1 Axes>"
      ]
     },
     "metadata": {
      "needs_background": "light"
     },
     "output_type": "display_data"
    }
   ],
   "source": [
    "sales[\"Unit price\"].plot.hist(bins=20, rwidth=0.7);\n",
    "plt.xlabel(\"Unit Price\")\n",
    "plt.ylabel(\"Frequency\")\n",
    "plt.title(\"Sales frequency for Supermarket customers\\n\");"
   ]
  },
  {
   "cell_type": "code",
   "execution_count": 144,
   "id": "39cf8545",
   "metadata": {},
   "outputs": [
    {
     "data": {
      "image/png": "[encoded data removed]",
      "text/plain": [
       "<Figure size 432x288 with 1 Axes>"
      ]
     },
     "metadata": {
      "needs_background": "light"
     },
     "output_type": "display_data"
    }
   ],
   "source": [
    "sales[\"Quantity\"].plot.hist(color = '#630330', bins = 20, rwidth=0.7);\n",
    "plt.xlabel(\"Quantity\")\n",
    "plt.ylabel(\"Frequency\")\n",
    "plt.title(\"Sales frequency for Supermarket customers\\n\");"
   ]
  },
  {
   "cell_type": "code",
   "execution_count": null,
   "id": "b666d0bd",
   "metadata": {},
   "outputs": [],
   "source": [
    "Unit price - default color\n",
    "Quantity - #630330\n",
    "Tax 5% - #DE3163\n",
    "Total - #40E0D0\n",
    "cogs - #CCCCFF\n",
    "gross margin percentage - #FF7F50\n",
    "gross income - #FFBF00\n",
    "Rating - #9FE2BF"
   ]
  },
  {
   "cell_type": "code",
   "execution_count": 138,
   "id": "97c795f9",
   "metadata": {},
   "outputs": [
    {
     "data": {
      "image/png": "[encoded data removed]",
      "text/plain": [
       "<Figure size 432x288 with 1 Axes>"
      ]
     },
     "metadata": {
      "needs_background": "light"
     },
     "output_type": "display_data"
    }
   ],
   "source": [
    "sales[\"Tax 5%\"].plot.hist(color = '#DE3163',bins = 20, rwidth=0.7);\n",
    "plt.xlabel(\"Tax 5%\")\n",
    "plt.ylabel(\"Frequency\")\n",
    "plt.title(\"Sales frequency for Supermarket customers\\n\");"
   ]
  },
  {
   "cell_type": "code",
   "execution_count": 141,
   "id": "40b4b0e0",
   "metadata": {},
   "outputs": [
    {
     "data": {
      "image/png": "[encoded data removed]",
      "text/plain": [
       "<Figure size 432x288 with 1 Axes>"
      ]
     },
     "metadata": {
      "needs_background": "light"
     },
     "output_type": "display_data"
    }
   ],
   "source": [
    "sales[\"Total\"].plot.hist(color = '#40E0D0',bins = 15, rwidth=0.7);\n",
    "plt.xlabel(\"Total\")\n",
    "plt.ylabel(\"Frequency\")\n",
    "plt.title(\"Sales frequency for Supermarket customers\\n\");"
   ]
  },
  {
   "cell_type": "code",
   "execution_count": 149,
   "id": "29f82cdb",
   "metadata": {},
   "outputs": [
    {
     "data": {
      "image/png": "[encoded data removed]",
      "text/plain": [
       "<Figure size 432x288 with 1 Axes>"
      ]
     },
     "metadata": {
      "needs_background": "light"
     },
     "output_type": "display_data"
    }
   ],
   "source": [
    "sales[\"cogs\"].plot.hist(color = '#CCCCFF',bins = 15, rwidth=0.7);\n",
    "plt.xlabel(\"Cogs\")\n",
    "plt.ylabel(\"Frequency\")\n",
    "plt.title(\"Sales frequency for Supermarket customers\\n\");"
   ]
  },
  {
   "cell_type": "code",
   "execution_count": 154,
   "id": "53bf8ea9",
   "metadata": {},
   "outputs": [
    {
     "data": {
      "image/png": "[encoded data removed]",
      "text/plain": [
       "<Figure size 432x288 with 1 Axes>"
      ]
     },
     "metadata": {
      "needs_background": "light"
     },
     "output_type": "display_data"
    }
   ],
   "source": [
    "sales[\"gross margin percentage\"].plot.hist(color='#FF7F50', bins = 10, rwidth=0.7);\n",
    "plt.xlabel(\"Gross margin %\")\n",
    "plt.ylabel(\"Frequency\")\n",
    "plt.title(\"Sales frequency for Supermarket customers\\n\");"
   ]
  },
  {
   "cell_type": "code",
   "execution_count": 156,
   "id": "f2644330",
   "metadata": {},
   "outputs": [
    {
     "data": {
      "image/png": "[encoded data removed]",
      "text/plain": [
       "<Figure size 432x288 with 1 Axes>"
      ]
     },
     "metadata": {
      "needs_background": "light"
     },
     "output_type": "display_data"
    }
   ],
   "source": [
    "sales[\"gross income\"].plot.hist(color='#FFBF00', bins = 15, rwidth=0.7);\n",
    "plt.xlabel(\"Gross income\")\n",
    "plt.ylabel(\"Frequency\")\n",
    "plt.title(\"Sales frequency for Supermarket customers\\n\");"
   ]
  },
  {
   "cell_type": "code",
   "execution_count": 160,
   "id": "4e674d2c",
   "metadata": {},
   "outputs": [
    {
     "data": {
      "image/png": "[encoded data removed]",
      "text/plain": [
       "<Figure size 432x288 with 1 Axes>"
      ]
     },
     "metadata": {
      "needs_background": "light"
     },
     "output_type": "display_data"
    }
   ],
   "source": [
    "sales[\"Rating\"].plot.hist(color='#9FE2BF', bins = 15, rwidth=0.7);\n",
    "plt.xlabel(\"Rating\")\n",
    "plt.ylabel(\"Frequency\")\n",
    "plt.title(\"Sales frequency for Supermarket customers\\n\");"
   ]
  },
  {
   "cell_type": "markdown",
   "id": "049ad1a6",
   "metadata": {},
   "source": [
    "# ii - Matplotlib"
   ]
  },
  {
   "cell_type": "code",
   "execution_count": 161,
   "id": "22bf3331",
   "metadata": {},
   "outputs": [
    {
     "data": {
      "image/png": "[encoded data removed]",
      "text/plain": [
       "<Figure size 432x288 with 1 Axes>"
      ]
     },
     "metadata": {
      "needs_background": "light"
     },
     "output_type": "display_data"
    }
   ],
   "source": [
    "n, bins, patches = plt.hist(sales[\"Unit price\"], bins=20, rwidth=0.7);\n",
    "plt.xlabel(\"Unit Price\")\n",
    "plt.ylabel(\"Frequency\")\n",
    "plt.title(\"Sales frequency for Supermarket customers\\n\");"
   ]
  },
  {
   "cell_type": "code",
   "execution_count": 194,
   "id": "fee84ca9",
   "metadata": {},
   "outputs": [
    {
     "data": {
      "image/png": "[encoded data removed]",
      "text/plain": [
       "<Figure size 432x288 with 1 Axes>"
      ]
     },
     "metadata": {
      "needs_background": "light"
     },
     "output_type": "display_data"
    }
   ],
   "source": [
    "n, bins, patches = plt.hist(sales[\"Quantity\"], bins=20, rwidth=0.7, color='#630330');\n",
    "plt.xlabel(\"Quantity\")\n",
    "plt.ylabel(\"Frequency\")\n",
    "plt.title(\"Sales frequency for Supermarket customers\\n\");"
   ]
  },
  {
   "cell_type": "code",
   "execution_count": 195,
   "id": "9b009bbb",
   "metadata": {},
   "outputs": [
    {
     "data": {
      "image/png": "[encoded data removed]",
      "text/plain": [
       "<Figure size 432x288 with 1 Axes>"
      ]
     },
     "metadata": {
      "needs_background": "light"
     },
     "output_type": "display_data"
    }
   ],
   "source": [
    "n, bins, patches = plt.hist(sales[\"Tax 5%\"], bins=20, rwidth=0.7, \n",
    "                            color='#DE3163');\n",
    "plt.xlabel(\"Tax 5%\")\n",
    "plt.ylabel(\"Frequency\")\n",
    "plt.title(\"Sales frequency for Supermarket customers\\n\");"
   ]
  },
  {
   "cell_type": "code",
   "execution_count": 166,
   "id": "02cd62be",
   "metadata": {},
   "outputs": [
    {
     "data": {
      "image/png": "[encoded data removed]",
      "text/plain": [
       "<Figure size 432x288 with 1 Axes>"
      ]
     },
     "metadata": {
      "needs_background": "light"
     },
     "output_type": "display_data"
    }
   ],
   "source": [
    "n, bins, patches = plt.hist(sales[\"Total\"], bins=15, rwidth=0.7, \n",
    "                            color='#40E0D0');\n",
    "plt.xlabel(\"Total\")\n",
    "plt.ylabel(\"Frequency\")\n",
    "plt.title(\"Sales frequency for Supermarket customers\\n\");"
   ]
  },
  {
   "cell_type": "code",
   "execution_count": 167,
   "id": "96a2bba7",
   "metadata": {},
   "outputs": [
    {
     "data": {
      "image/png": "[encoded data removed]",
      "text/plain": [
       "<Figure size 432x288 with 1 Axes>"
      ]
     },
     "metadata": {
      "needs_background": "light"
     },
     "output_type": "display_data"
    }
   ],
   "source": [
    "n, bins, patches = plt.hist(sales[\"cogs\"], bins=15, rwidth=0.7, \n",
    "                            color='#CCCCFF');\n",
    "plt.xlabel(\"Cogs\")\n",
    "plt.ylabel(\"Frequency\")\n",
    "plt.title(\"Sales frequency for Supermarket customers\\n\");"
   ]
  },
  {
   "cell_type": "code",
   "execution_count": 168,
   "id": "5f8e7724",
   "metadata": {},
   "outputs": [
    {
     "data": {
      "image/png": "[encoded data removed]",
      "text/plain": [
       "<Figure size 432x288 with 1 Axes>"
      ]
     },
     "metadata": {
      "needs_background": "light"
     },
     "output_type": "display_data"
    }
   ],
   "source": [
    "n, bins, patches = plt.hist(sales[\"gross margin percentage\"], bins=15, rwidth=0.7, \n",
    "                            color='#FF7F50');\n",
    "plt.xlabel(\"gross margin percentage\")\n",
    "plt.ylabel(\"Frequency\")\n",
    "plt.title(\"Sales frequency for Supermarket customers\\n\");"
   ]
  },
  {
   "cell_type": "code",
   "execution_count": 196,
   "id": "2a4af683",
   "metadata": {},
   "outputs": [
    {
     "data": {
      "image/png": "[encoded data removed]",
      "text/plain": [
       "<Figure size 432x288 with 1 Axes>"
      ]
     },
     "metadata": {
      "needs_background": "light"
     },
     "output_type": "display_data"
    }
   ],
   "source": [
    "n, bins, patches = plt.hist(sales[\"gross income\"], bins=15, rwidth=0.7, \n",
    "                            color='#FFBF00');\n",
    "plt.xlabel(\"gross income\")\n",
    "plt.ylabel(\"Frequency\")\n",
    "plt.title(\"Sales frequency for Supermarket customers\\n\");"
   ]
  },
  {
   "cell_type": "code",
   "execution_count": 197,
   "id": "2af97576",
   "metadata": {},
   "outputs": [
    {
     "data": {
      "image/png": "[encoded data removed]",
      "text/plain": [
       "<Figure size 432x288 with 1 Axes>"
      ]
     },
     "metadata": {
      "needs_background": "light"
     },
     "output_type": "display_data"
    }
   ],
   "source": [
    "n, bins, patches = plt.hist(sales[\"Rating\"], bins=15, rwidth=0.7, \n",
    "                            color='#9FE2BF');\n",
    "plt.xlabel(\"Rating\")\n",
    "plt.ylabel(\"Frequency\")\n",
    "plt.title(\"Sales frequency for Supermarket customers\\n\");"
   ]
  },
  {
   "cell_type": "markdown",
   "id": "82fca433",
   "metadata": {},
   "source": [
    "# iii - Seaborn"
   ]
  },
  {
   "cell_type": "code",
   "execution_count": 171,
   "id": "25364f29",
   "metadata": {},
   "outputs": [],
   "source": [
    "import seaborn as sns"
   ]
  },
  {
   "cell_type": "code",
   "execution_count": 209,
   "id": "945e78f8",
   "metadata": {},
   "outputs": [
    {
     "data": {
      "image/png": "[encoded data removed]",
      "text/plain": [
       "<Figure size 432x288 with 1 Axes>"
      ]
     },
     "metadata": {
      "needs_background": "light"
     },
     "output_type": "display_data"
    }
   ],
   "source": [
    "sns.histplot(data = sales[\"Unit price\"], bins=20)\n",
    "plt.xlabel(\"Unit price\",fontname=\"Tw Cen MT\", fontsize=16)\n",
    "plt.title(\"Sales frequency for Supermarket customers\\n\",fontname=\"Tw Cen MT\", fontsize=16)\n",
    "plt.show();"
   ]
  },
  {
   "cell_type": "code",
   "execution_count": 203,
   "id": "141cc699",
   "metadata": {},
   "outputs": [
    {
     "data": {
      "image/png": "[encoded data removed]",
      "text/plain": [
       "<Figure size 432x288 with 1 Axes>"
      ]
     },
     "metadata": {
      "needs_background": "light"
     },
     "output_type": "display_data"
    }
   ],
   "source": [
    "sns.histplot(data = sales[\"Quantity\"], color='#630330', bins=20)\n",
    "plt.xlabel(\"Quantity\",fontname=\"Tw Cen MT\", fontsize=16)\n",
    "plt.title(\"Sales frequency for Supermarket customers\\n\",fontname=\"Tw Cen MT\", fontsize=16)\n",
    "plt.show();"
   ]
  },
  {
   "cell_type": "code",
   "execution_count": 210,
   "id": "96a1a755",
   "metadata": {},
   "outputs": [
    {
     "data": {
      "image/png": "[encoded data removed]",
      "text/plain": [
       "<Figure size 432x288 with 1 Axes>"
      ]
     },
     "metadata": {
      "needs_background": "light"
     },
     "output_type": "display_data"
    }
   ],
   "source": [
    "sns.histplot(data = sales[\"Tax 5%\"], color='#DE3163', bins=20)\n",
    "plt.xlabel(\"Tax 5%\",fontname=\"Tw Cen MT\", fontsize=16)\n",
    "plt.title(\"Sales frequency for Supermarket customers\\n\",fontname=\"Tw Cen MT\", fontsize=16)\n",
    "plt.show();"
   ]
  },
  {
   "cell_type": "code",
   "execution_count": 211,
   "id": "bdffe8ca",
   "metadata": {},
   "outputs": [
    {
     "data": {
      "image/png": "[encoded data removed]",
      "text/plain": [
       "<Figure size 432x288 with 1 Axes>"
      ]
     },
     "metadata": {
      "needs_background": "light"
     },
     "output_type": "display_data"
    }
   ],
   "source": [
    "sns.histplot(data = sales[\"Total\"], color='#40E0D0', bins=20)\n",
    "plt.xlabel(\"Total\",fontname=\"Tw Cen MT\", fontsize=16)\n",
    "plt.title(\"Sales frequency for Supermarket customers\\n\",fontname=\"Tw Cen MT\", fontsize=16)\n",
    "plt.show();"
   ]
  },
  {
   "cell_type": "code",
   "execution_count": 212,
   "id": "17464609",
   "metadata": {},
   "outputs": [
    {
     "data": {
      "image/png": "[encoded data removed]",
      "text/plain": [
       "<Figure size 432x288 with 1 Axes>"
      ]
     },
     "metadata": {
      "needs_background": "light"
     },
     "output_type": "display_data"
    }
   ],
   "source": [
    "sns.histplot(data = sales[\"cogs\"], color='#CCCCFF', bins=20)\n",
    "plt.xlabel(\"Cogs\",fontname=\"Tw Cen MT\", fontsize=16)\n",
    "plt.title(\"Sales frequency for Supermarket customers\\n\",fontname=\"Tw Cen MT\", fontsize=16)\n",
    "plt.show();"
   ]
  },
  {
   "cell_type": "code",
   "execution_count": 215,
   "id": "a4b62fac",
   "metadata": {},
   "outputs": [
    {
     "data": {
      "image/png": "[encoded data removed]",
      "text/plain": [
       "<Figure size 432x288 with 1 Axes>"
      ]
     },
     "metadata": {
      "needs_background": "light"
     },
     "output_type": "display_data"
    }
   ],
   "source": [
    "sns.histplot(data = sales[\"gross margin percentage\"], color='#FF7F50', bins=10)\n",
    "plt.xlabel(\"Gross margin %\",fontname=\"Tw Cen MT\", fontsize=16)\n",
    "plt.title(\"Sales frequency for Supermarket customers\\n\",fontname=\"Tw Cen MT\", fontsize=16)\n",
    "plt.show();"
   ]
  },
  {
   "cell_type": "code",
   "execution_count": 217,
   "id": "2edead22",
   "metadata": {},
   "outputs": [
    {
     "data": {
      "image/png": "[encoded data removed]",
      "text/plain": [
       "<Figure size 432x288 with 1 Axes>"
      ]
     },
     "metadata": {
      "needs_background": "light"
     },
     "output_type": "display_data"
    }
   ],
   "source": [
    "sns.histplot(data = sales[\"gross income\"], color='#FFBF00', bins=20)\n",
    "plt.xlabel(\"Gross income\",fontname=\"Tw Cen MT\", fontsize=16)\n",
    "plt.title(\"Sales frequency for Supermarket customers\\n\",fontname=\"Tw Cen MT\", fontsize=16)\n",
    "plt.show();"
   ]
  },
  {
   "cell_type": "code",
   "execution_count": 218,
   "id": "978bbc53",
   "metadata": {},
   "outputs": [
    {
     "data": {
      "image/png": "[encoded data removed]",
      "text/plain": [
       "<Figure size 432x288 with 1 Axes>"
      ]
     },
     "metadata": {
      "needs_background": "light"
     },
     "output_type": "display_data"
    }
   ],
   "source": [
    "sns.histplot(data = sales[\"Rating\"], color='#9FE2BF', bins=20)\n",
    "plt.xlabel(\"Rating\",fontname=\"Tw Cen MT\", fontsize=16)\n",
    "plt.title(\"Sales frequency for Supermarket customers\\n\",fontname=\"Tw Cen MT\", fontsize=16)\n",
    "plt.show();"
   ]
  },
  {
   "cell_type": "code",
   "execution_count": null,
   "id": "09299219",
   "metadata": {},
   "outputs": [],
   "source": []
  },
  {
   "cell_type": "code",
   "execution_count": null,
   "id": "901a9913",
   "metadata": {},
   "outputs": [],
   "source": []
  },
  {
   "cell_type": "code",
   "execution_count": null,
   "id": "f76cd3d5",
   "metadata": {},
   "outputs": [],
   "source": [
    "#### b. Strip plot"
   ]
  },
  {
   "cell_type": "code",
   "execution_count": null,
   "id": "a332bdcb",
   "metadata": {},
   "outputs": [],
   "source": []
  },
  {
   "cell_type": "code",
   "execution_count": null,
   "id": "6c3ca5a9",
   "metadata": {},
   "outputs": [],
   "source": [
    "#### c. Box plot"
   ]
  },
  {
   "cell_type": "code",
   "execution_count": null,
   "id": "a32e45ff",
   "metadata": {},
   "outputs": [],
   "source": []
  },
  {
   "cell_type": "code",
   "execution_count": null,
   "id": "c312fb84",
   "metadata": {},
   "outputs": [],
   "source": []
  },
  {
   "cell_type": "code",
   "execution_count": null,
   "id": "0bf24972",
   "metadata": {},
   "outputs": [],
   "source": []
  }
 ],
 "metadata": {
  "colab": {
   "collapsed_sections": [],
   "name": "Univariate Statistics Python Project Objectives.ipynb",
   "provenance": []
  },
  "kernelspec": {
   "display_name": "Python 3",
   "language": "python",
   "name": "python3"
  },
  "language_info": {
   "codemirror_mode": {
    "name": "ipython",
    "version": 3
   },
   "file_extension": ".py",
   "mimetype": "text/x-python",
   "name": "python",
   "nbconvert_exporter": "python",
   "pygments_lexer": "ipython3",
   "version": "3.8.8"
  }
 },
 "nbformat": 4,
 "nbformat_minor": 5
}
