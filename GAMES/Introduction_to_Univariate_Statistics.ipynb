{
 "cells": [
  {
   "cell_type": "code",
   "execution_count": 44,
   "id": "527fcda8",
   "metadata": {},
   "outputs": [],
   "source": [
    "import pandas as pd\n",
    "import numpy as np\n",
    "%matplotlib inline\n",
    "import matplotlib.pyplot as plt"
   ]
  },
  {
   "cell_type": "code",
   "execution_count": 2,
   "id": "84fa9b15",
   "metadata": {
    "scrolled": false
   },
   "outputs": [
    {
     "data": {
      "text/html": [
       "<div>\n",
       "<style scoped>\n",
       "    .dataframe tbody tr th:only-of-type {\n",
       "        vertical-align: middle;\n",
       "    }\n",
       "\n",
       "    .dataframe tbody tr th {\n",
       "        vertical-align: top;\n",
       "    }\n",
       "\n",
       "    .dataframe thead th {\n",
       "        text-align: right;\n",
       "    }\n",
       "</style>\n",
       "<table border=\"1\" class=\"dataframe\">\n",
       "  <thead>\n",
       "    <tr style=\"text-align: right;\">\n",
       "      <th></th>\n",
       "      <th>Unnamed: 0</th>\n",
       "      <th>rank</th>\n",
       "      <th>discipline</th>\n",
       "      <th>yrs.since.phd</th>\n",
       "      <th>yrs.service</th>\n",
       "      <th>sex</th>\n",
       "      <th>salary</th>\n",
       "    </tr>\n",
       "  </thead>\n",
       "  <tbody>\n",
       "    <tr>\n",
       "      <th>0</th>\n",
       "      <td>1</td>\n",
       "      <td>Prof</td>\n",
       "      <td>B</td>\n",
       "      <td>19</td>\n",
       "      <td>18</td>\n",
       "      <td>Male</td>\n",
       "      <td>139750</td>\n",
       "    </tr>\n",
       "    <tr>\n",
       "      <th>1</th>\n",
       "      <td>2</td>\n",
       "      <td>Prof</td>\n",
       "      <td>B</td>\n",
       "      <td>20</td>\n",
       "      <td>16</td>\n",
       "      <td>Male</td>\n",
       "      <td>173200</td>\n",
       "    </tr>\n",
       "    <tr>\n",
       "      <th>2</th>\n",
       "      <td>3</td>\n",
       "      <td>AsstProf</td>\n",
       "      <td>B</td>\n",
       "      <td>4</td>\n",
       "      <td>3</td>\n",
       "      <td>Male</td>\n",
       "      <td>79750</td>\n",
       "    </tr>\n",
       "    <tr>\n",
       "      <th>3</th>\n",
       "      <td>4</td>\n",
       "      <td>Prof</td>\n",
       "      <td>B</td>\n",
       "      <td>45</td>\n",
       "      <td>39</td>\n",
       "      <td>Male</td>\n",
       "      <td>115000</td>\n",
       "    </tr>\n",
       "    <tr>\n",
       "      <th>4</th>\n",
       "      <td>5</td>\n",
       "      <td>Prof</td>\n",
       "      <td>B</td>\n",
       "      <td>40</td>\n",
       "      <td>41</td>\n",
       "      <td>Male</td>\n",
       "      <td>141500</td>\n",
       "    </tr>\n",
       "  </tbody>\n",
       "</table>\n",
       "</div>"
      ],
      "text/plain": [
       "   Unnamed: 0      rank discipline  yrs.since.phd  yrs.service   sex  salary\n",
       "0           1      Prof          B             19           18  Male  139750\n",
       "1           2      Prof          B             20           16  Male  173200\n",
       "2           3  AsstProf          B              4            3  Male   79750\n",
       "3           4      Prof          B             45           39  Male  115000\n",
       "4           5      Prof          B             40           41  Male  141500"
      ]
     },
     "execution_count": 2,
     "metadata": {},
     "output_type": "execute_result"
    }
   ],
   "source": [
    "# Importing the salary file\n",
    "salaries = pd.read_csv(\"../Files/Univariate Statistics/Salaries.csv\")\n",
    "salaries.head()"
   ]
  },
  {
   "cell_type": "code",
   "execution_count": 3,
   "id": "2d1a8bcd",
   "metadata": {},
   "outputs": [
    {
     "data": {
      "text/html": [
       "<div>\n",
       "<style scoped>\n",
       "    .dataframe tbody tr th:only-of-type {\n",
       "        vertical-align: middle;\n",
       "    }\n",
       "\n",
       "    .dataframe tbody tr th {\n",
       "        vertical-align: top;\n",
       "    }\n",
       "\n",
       "    .dataframe thead th {\n",
       "        text-align: right;\n",
       "    }\n",
       "</style>\n",
       "<table border=\"1\" class=\"dataframe\">\n",
       "  <thead>\n",
       "    <tr style=\"text-align: right;\">\n",
       "      <th></th>\n",
       "      <th>ID</th>\n",
       "      <th>rank</th>\n",
       "      <th>discipline</th>\n",
       "      <th>yrs.since.phd</th>\n",
       "      <th>yrs.service</th>\n",
       "      <th>sex</th>\n",
       "      <th>salary</th>\n",
       "    </tr>\n",
       "  </thead>\n",
       "  <tbody>\n",
       "    <tr>\n",
       "      <th>0</th>\n",
       "      <td>1</td>\n",
       "      <td>Prof</td>\n",
       "      <td>B</td>\n",
       "      <td>19</td>\n",
       "      <td>18</td>\n",
       "      <td>Male</td>\n",
       "      <td>139750</td>\n",
       "    </tr>\n",
       "    <tr>\n",
       "      <th>1</th>\n",
       "      <td>2</td>\n",
       "      <td>Prof</td>\n",
       "      <td>B</td>\n",
       "      <td>20</td>\n",
       "      <td>16</td>\n",
       "      <td>Male</td>\n",
       "      <td>173200</td>\n",
       "    </tr>\n",
       "    <tr>\n",
       "      <th>2</th>\n",
       "      <td>3</td>\n",
       "      <td>AsstProf</td>\n",
       "      <td>B</td>\n",
       "      <td>4</td>\n",
       "      <td>3</td>\n",
       "      <td>Male</td>\n",
       "      <td>79750</td>\n",
       "    </tr>\n",
       "    <tr>\n",
       "      <th>3</th>\n",
       "      <td>4</td>\n",
       "      <td>Prof</td>\n",
       "      <td>B</td>\n",
       "      <td>45</td>\n",
       "      <td>39</td>\n",
       "      <td>Male</td>\n",
       "      <td>115000</td>\n",
       "    </tr>\n",
       "    <tr>\n",
       "      <th>4</th>\n",
       "      <td>5</td>\n",
       "      <td>Prof</td>\n",
       "      <td>B</td>\n",
       "      <td>40</td>\n",
       "      <td>41</td>\n",
       "      <td>Male</td>\n",
       "      <td>141500</td>\n",
       "    </tr>\n",
       "  </tbody>\n",
       "</table>\n",
       "</div>"
      ],
      "text/plain": [
       "   ID      rank discipline  yrs.since.phd  yrs.service   sex  salary\n",
       "0   1      Prof          B             19           18  Male  139750\n",
       "1   2      Prof          B             20           16  Male  173200\n",
       "2   3  AsstProf          B              4            3  Male   79750\n",
       "3   4      Prof          B             45           39  Male  115000\n",
       "4   5      Prof          B             40           41  Male  141500"
      ]
     },
     "execution_count": 3,
     "metadata": {},
     "output_type": "execute_result"
    }
   ],
   "source": [
    "# Renaming the \"Unnamed column\"\n",
    "salaries.rename(columns={'Unnamed: 0' : 'ID'}, inplace=True)\n",
    "salaries.head()"
   ]
  },
  {
   "cell_type": "code",
   "execution_count": 4,
   "id": "6dfd4136",
   "metadata": {},
   "outputs": [
    {
     "data": {
      "text/html": [
       "<div>\n",
       "<style scoped>\n",
       "    .dataframe tbody tr th:only-of-type {\n",
       "        vertical-align: middle;\n",
       "    }\n",
       "\n",
       "    .dataframe tbody tr th {\n",
       "        vertical-align: top;\n",
       "    }\n",
       "\n",
       "    .dataframe thead th {\n",
       "        text-align: right;\n",
       "    }\n",
       "</style>\n",
       "<table border=\"1\" class=\"dataframe\">\n",
       "  <thead>\n",
       "    <tr style=\"text-align: right;\">\n",
       "      <th></th>\n",
       "      <th>ID</th>\n",
       "      <th>rank</th>\n",
       "      <th>discipline</th>\n",
       "      <th>yrs.since.phd</th>\n",
       "      <th>yrs.service</th>\n",
       "      <th>sex</th>\n",
       "      <th>salary</th>\n",
       "    </tr>\n",
       "  </thead>\n",
       "  <tbody>\n",
       "    <tr>\n",
       "      <th>392</th>\n",
       "      <td>393</td>\n",
       "      <td>Prof</td>\n",
       "      <td>A</td>\n",
       "      <td>33</td>\n",
       "      <td>30</td>\n",
       "      <td>Male</td>\n",
       "      <td>103106</td>\n",
       "    </tr>\n",
       "    <tr>\n",
       "      <th>393</th>\n",
       "      <td>394</td>\n",
       "      <td>Prof</td>\n",
       "      <td>A</td>\n",
       "      <td>31</td>\n",
       "      <td>19</td>\n",
       "      <td>Male</td>\n",
       "      <td>150564</td>\n",
       "    </tr>\n",
       "    <tr>\n",
       "      <th>394</th>\n",
       "      <td>395</td>\n",
       "      <td>Prof</td>\n",
       "      <td>A</td>\n",
       "      <td>42</td>\n",
       "      <td>25</td>\n",
       "      <td>Male</td>\n",
       "      <td>101738</td>\n",
       "    </tr>\n",
       "    <tr>\n",
       "      <th>395</th>\n",
       "      <td>396</td>\n",
       "      <td>Prof</td>\n",
       "      <td>A</td>\n",
       "      <td>25</td>\n",
       "      <td>15</td>\n",
       "      <td>Male</td>\n",
       "      <td>95329</td>\n",
       "    </tr>\n",
       "    <tr>\n",
       "      <th>396</th>\n",
       "      <td>397</td>\n",
       "      <td>AsstProf</td>\n",
       "      <td>A</td>\n",
       "      <td>8</td>\n",
       "      <td>4</td>\n",
       "      <td>Male</td>\n",
       "      <td>81035</td>\n",
       "    </tr>\n",
       "  </tbody>\n",
       "</table>\n",
       "</div>"
      ],
      "text/plain": [
       "      ID      rank discipline  yrs.since.phd  yrs.service   sex  salary\n",
       "392  393      Prof          A             33           30  Male  103106\n",
       "393  394      Prof          A             31           19  Male  150564\n",
       "394  395      Prof          A             42           25  Male  101738\n",
       "395  396      Prof          A             25           15  Male   95329\n",
       "396  397  AsstProf          A              8            4  Male   81035"
      ]
     },
     "execution_count": 4,
     "metadata": {},
     "output_type": "execute_result"
    }
   ],
   "source": [
    "salaries.tail()"
   ]
  },
  {
   "cell_type": "code",
   "execution_count": 5,
   "id": "08d889b2",
   "metadata": {},
   "outputs": [
    {
     "data": {
      "text/html": [
       "<div>\n",
       "<style scoped>\n",
       "    .dataframe tbody tr th:only-of-type {\n",
       "        vertical-align: middle;\n",
       "    }\n",
       "\n",
       "    .dataframe tbody tr th {\n",
       "        vertical-align: top;\n",
       "    }\n",
       "\n",
       "    .dataframe thead th {\n",
       "        text-align: right;\n",
       "    }\n",
       "</style>\n",
       "<table border=\"1\" class=\"dataframe\">\n",
       "  <thead>\n",
       "    <tr style=\"text-align: right;\">\n",
       "      <th></th>\n",
       "      <th>rank</th>\n",
       "      <th>discipline</th>\n",
       "      <th>yrs.since.phd</th>\n",
       "      <th>yrs.service</th>\n",
       "      <th>sex</th>\n",
       "      <th>salary</th>\n",
       "    </tr>\n",
       "    <tr>\n",
       "      <th>ID</th>\n",
       "      <th></th>\n",
       "      <th></th>\n",
       "      <th></th>\n",
       "      <th></th>\n",
       "      <th></th>\n",
       "      <th></th>\n",
       "    </tr>\n",
       "  </thead>\n",
       "  <tbody>\n",
       "    <tr>\n",
       "      <th>1</th>\n",
       "      <td>Prof</td>\n",
       "      <td>B</td>\n",
       "      <td>19</td>\n",
       "      <td>18</td>\n",
       "      <td>Male</td>\n",
       "      <td>139750</td>\n",
       "    </tr>\n",
       "    <tr>\n",
       "      <th>2</th>\n",
       "      <td>Prof</td>\n",
       "      <td>B</td>\n",
       "      <td>20</td>\n",
       "      <td>16</td>\n",
       "      <td>Male</td>\n",
       "      <td>173200</td>\n",
       "    </tr>\n",
       "    <tr>\n",
       "      <th>3</th>\n",
       "      <td>AsstProf</td>\n",
       "      <td>B</td>\n",
       "      <td>4</td>\n",
       "      <td>3</td>\n",
       "      <td>Male</td>\n",
       "      <td>79750</td>\n",
       "    </tr>\n",
       "    <tr>\n",
       "      <th>4</th>\n",
       "      <td>Prof</td>\n",
       "      <td>B</td>\n",
       "      <td>45</td>\n",
       "      <td>39</td>\n",
       "      <td>Male</td>\n",
       "      <td>115000</td>\n",
       "    </tr>\n",
       "    <tr>\n",
       "      <th>5</th>\n",
       "      <td>Prof</td>\n",
       "      <td>B</td>\n",
       "      <td>40</td>\n",
       "      <td>41</td>\n",
       "      <td>Male</td>\n",
       "      <td>141500</td>\n",
       "    </tr>\n",
       "  </tbody>\n",
       "</table>\n",
       "</div>"
      ],
      "text/plain": [
       "        rank discipline  yrs.since.phd  yrs.service   sex  salary\n",
       "ID                                                               \n",
       "1       Prof          B             19           18  Male  139750\n",
       "2       Prof          B             20           16  Male  173200\n",
       "3   AsstProf          B              4            3  Male   79750\n",
       "4       Prof          B             45           39  Male  115000\n",
       "5       Prof          B             40           41  Male  141500"
      ]
     },
     "execution_count": 5,
     "metadata": {},
     "output_type": "execute_result"
    }
   ],
   "source": [
    "salaries = salaries.set_index(\"ID\")\n",
    "salaries.head()"
   ]
  },
  {
   "cell_type": "markdown",
   "id": "af6ba537",
   "metadata": {},
   "source": [
    "## Numerical method\n",
    "\n",
    "In this section, we shall examine some of the numerical summary measures for summarising and describing univariate data."
   ]
  },
  {
   "cell_type": "code",
   "execution_count": 6,
   "id": "9c992932",
   "metadata": {},
   "outputs": [
    {
     "data": {
      "text/html": [
       "<div>\n",
       "<style scoped>\n",
       "    .dataframe tbody tr th:only-of-type {\n",
       "        vertical-align: middle;\n",
       "    }\n",
       "\n",
       "    .dataframe tbody tr th {\n",
       "        vertical-align: top;\n",
       "    }\n",
       "\n",
       "    .dataframe thead th {\n",
       "        text-align: right;\n",
       "    }\n",
       "</style>\n",
       "<table border=\"1\" class=\"dataframe\">\n",
       "  <thead>\n",
       "    <tr style=\"text-align: right;\">\n",
       "      <th></th>\n",
       "      <th>yrs.since.phd</th>\n",
       "      <th>yrs.service</th>\n",
       "      <th>salary</th>\n",
       "    </tr>\n",
       "  </thead>\n",
       "  <tbody>\n",
       "    <tr>\n",
       "      <th>count</th>\n",
       "      <td>397.000000</td>\n",
       "      <td>397.000000</td>\n",
       "      <td>397.000000</td>\n",
       "    </tr>\n",
       "    <tr>\n",
       "      <th>mean</th>\n",
       "      <td>22.314861</td>\n",
       "      <td>17.614610</td>\n",
       "      <td>113706.458438</td>\n",
       "    </tr>\n",
       "    <tr>\n",
       "      <th>std</th>\n",
       "      <td>12.887003</td>\n",
       "      <td>13.006024</td>\n",
       "      <td>30289.038695</td>\n",
       "    </tr>\n",
       "    <tr>\n",
       "      <th>min</th>\n",
       "      <td>1.000000</td>\n",
       "      <td>0.000000</td>\n",
       "      <td>57800.000000</td>\n",
       "    </tr>\n",
       "    <tr>\n",
       "      <th>25%</th>\n",
       "      <td>12.000000</td>\n",
       "      <td>7.000000</td>\n",
       "      <td>91000.000000</td>\n",
       "    </tr>\n",
       "    <tr>\n",
       "      <th>50%</th>\n",
       "      <td>21.000000</td>\n",
       "      <td>16.000000</td>\n",
       "      <td>107300.000000</td>\n",
       "    </tr>\n",
       "    <tr>\n",
       "      <th>75%</th>\n",
       "      <td>32.000000</td>\n",
       "      <td>27.000000</td>\n",
       "      <td>134185.000000</td>\n",
       "    </tr>\n",
       "    <tr>\n",
       "      <th>max</th>\n",
       "      <td>56.000000</td>\n",
       "      <td>60.000000</td>\n",
       "      <td>231545.000000</td>\n",
       "    </tr>\n",
       "  </tbody>\n",
       "</table>\n",
       "</div>"
      ],
      "text/plain": [
       "       yrs.since.phd  yrs.service         salary\n",
       "count     397.000000   397.000000     397.000000\n",
       "mean       22.314861    17.614610  113706.458438\n",
       "std        12.887003    13.006024   30289.038695\n",
       "min         1.000000     0.000000   57800.000000\n",
       "25%        12.000000     7.000000   91000.000000\n",
       "50%        21.000000    16.000000  107300.000000\n",
       "75%        32.000000    27.000000  134185.000000\n",
       "max        56.000000    60.000000  231545.000000"
      ]
     },
     "execution_count": 6,
     "metadata": {},
     "output_type": "execute_result"
    }
   ],
   "source": [
    "salaries.describe()"
   ]
  },
  {
   "cell_type": "code",
   "execution_count": 7,
   "id": "df8dd012",
   "metadata": {},
   "outputs": [
    {
     "data": {
      "text/plain": [
       "22.31486146095718"
      ]
     },
     "execution_count": 7,
     "metadata": {},
     "output_type": "execute_result"
    }
   ],
   "source": [
    "salaries[\"yrs.since.phd\"].mean()"
   ]
  },
  {
   "cell_type": "code",
   "execution_count": 8,
   "id": "fcddf4b0",
   "metadata": {},
   "outputs": [
    {
     "data": {
      "text/plain": [
       "17.614609571788414"
      ]
     },
     "execution_count": 8,
     "metadata": {},
     "output_type": "execute_result"
    }
   ],
   "source": [
    "salaries[\"yrs.service\"].mean()"
   ]
  },
  {
   "cell_type": "code",
   "execution_count": 9,
   "id": "03886fc0",
   "metadata": {},
   "outputs": [
    {
     "data": {
      "text/plain": [
       "113706.45843828715"
      ]
     },
     "execution_count": 9,
     "metadata": {},
     "output_type": "execute_result"
    }
   ],
   "source": [
    "salaries[\"salary\"].mean()"
   ]
  },
  {
   "cell_type": "code",
   "execution_count": 10,
   "id": "9b2da809",
   "metadata": {},
   "outputs": [
    {
     "data": {
      "text/plain": [
       "30289.038694747804"
      ]
     },
     "execution_count": 10,
     "metadata": {},
     "output_type": "execute_result"
    }
   ],
   "source": [
    "salaries[\"salary\"].std()"
   ]
  },
  {
   "cell_type": "code",
   "execution_count": 11,
   "id": "ed5be94c",
   "metadata": {},
   "outputs": [],
   "source": [
    "import sympy as sym\n",
    "from sympy.abc import i, j, k, m, n, x"
   ]
  },
  {
   "cell_type": "code",
   "execution_count": 12,
   "id": "165b5d21",
   "metadata": {},
   "outputs": [
    {
     "data": {
      "text/latex": [
       "$\\displaystyle x_{i}$"
      ],
      "text/plain": [
       "x_i"
      ]
     },
     "execution_count": 12,
     "metadata": {},
     "output_type": "execute_result"
    }
   ],
   "source": [
    "xi, xm =sym.symbols(\"x_i x_m\")\n",
    "xi"
   ]
  },
  {
   "cell_type": "code",
   "execution_count": 13,
   "id": "ca2110fe",
   "metadata": {},
   "outputs": [
    {
     "data": {
      "text/latex": [
       "$\\displaystyle x_{m}$"
      ],
      "text/plain": [
       "x_m"
      ]
     },
     "execution_count": 13,
     "metadata": {},
     "output_type": "execute_result"
    }
   ],
   "source": [
    "xm"
   ]
  },
  {
   "cell_type": "markdown",
   "id": "8ad4e348",
   "metadata": {},
   "source": [
    "### Sample mean"
   ]
  },
  {
   "cell_type": "code",
   "execution_count": 14,
   "id": "1a3a910c",
   "metadata": {},
   "outputs": [
    {
     "data": {
      "text/latex": [
       "$\\displaystyle \\frac{\\sum_{i=1}^{n} x_{i}}{n}$"
      ],
      "text/plain": [
       "Sum(x_i, (i, 1, n))/n"
      ]
     },
     "execution_count": 14,
     "metadata": {},
     "output_type": "execute_result"
    }
   ],
   "source": [
    "sym.Sum(xi, (i, 1, n))/n"
   ]
  },
  {
   "cell_type": "code",
   "execution_count": 15,
   "id": "08a62f5c",
   "metadata": {},
   "outputs": [],
   "source": [
    "def sample_mean(data):\n",
    "    sample_sum = data.sum()\n",
    "    count = data.count()\n",
    "    mean = sample_sum / count\n",
    "    return mean"
   ]
  },
  {
   "cell_type": "code",
   "execution_count": 16,
   "id": "c8218711",
   "metadata": {},
   "outputs": [
    {
     "data": {
      "text/plain": [
       "22.31486146095718"
      ]
     },
     "execution_count": 16,
     "metadata": {},
     "output_type": "execute_result"
    }
   ],
   "source": [
    "sample_mean(salaries[\"yrs.since.phd\"])"
   ]
  },
  {
   "cell_type": "code",
   "execution_count": 17,
   "id": "c0cb671e",
   "metadata": {},
   "outputs": [
    {
     "data": {
      "text/plain": [
       "17.614609571788414"
      ]
     },
     "execution_count": 17,
     "metadata": {},
     "output_type": "execute_result"
    }
   ],
   "source": [
    "sample_mean(salaries[\"yrs.service\"])"
   ]
  },
  {
   "cell_type": "markdown",
   "id": "5d807530",
   "metadata": {},
   "source": [
    "### Sample variance"
   ]
  },
  {
   "cell_type": "code",
   "execution_count": 18,
   "id": "f1dff2f0",
   "metadata": {},
   "outputs": [
    {
     "data": {
      "text/latex": [
       "$\\displaystyle \\frac{\\sum_{i=1}^{n} \\left(x_{i} - x_{m}\\right)}{n - 1}$"
      ],
      "text/plain": [
       "Sum(x_i - x_m, (i, 1, n))/(n - 1)"
      ]
     },
     "execution_count": 18,
     "metadata": {},
     "output_type": "execute_result"
    }
   ],
   "source": [
    "sym.Sum((xi-xm), (i, 1, n))/(n - 1)"
   ]
  },
  {
   "cell_type": "code",
   "execution_count": 19,
   "id": "264701cc",
   "metadata": {},
   "outputs": [],
   "source": [
    "def variance(data):\n",
    "    def sample_mean(data):\n",
    "        mean = data.sum()/data.count()\n",
    "        return mean\n",
    "    squared_diff = []\n",
    "    for i in data:\n",
    "        mdev = (i - sample_mean(data))\n",
    "        squared_diff.append(mdev**2)\n",
    "    ssd = sum(squared_diff)\n",
    "    var = ssd / (len(squared_diff) - 1)\n",
    "    return var"
   ]
  },
  {
   "cell_type": "code",
   "execution_count": 20,
   "id": "6b6c9b61",
   "metadata": {},
   "outputs": [
    {
     "data": {
      "text/plain": [
       "917425865.0519297"
      ]
     },
     "execution_count": 20,
     "metadata": {},
     "output_type": "execute_result"
    }
   ],
   "source": [
    "variance(salaries['salary'])"
   ]
  },
  {
   "cell_type": "markdown",
   "id": "c6ef235e",
   "metadata": {},
   "source": [
    "### Standard Deviation"
   ]
  },
  {
   "cell_type": "code",
   "execution_count": 21,
   "id": "abc2184e",
   "metadata": {},
   "outputs": [
    {
     "data": {
      "text/latex": [
       "$\\displaystyle \\sqrt{\\frac{\\sum_{i=1}^{n} \\left(x_{i} - x_{m}\\right)}{n - 1}}$"
      ],
      "text/plain": [
       "sqrt(Sum(x_i - x_m, (i, 1, n))/(n - 1))"
      ]
     },
     "execution_count": 21,
     "metadata": {},
     "output_type": "execute_result"
    }
   ],
   "source": [
    "sym.sqrt(sym.Sum((xi-xm), (i, 1, n))/(n - 1))"
   ]
  },
  {
   "cell_type": "code",
   "execution_count": 22,
   "id": "fb2edbc2",
   "metadata": {},
   "outputs": [],
   "source": [
    "def std_dev(data):\n",
    "    def sample_mean(data):\n",
    "        mean = data.sum()/data.count()\n",
    "        return mean\n",
    "    squared_diff = []\n",
    "    for i in data:\n",
    "        mdev = (i - sample_mean(data))\n",
    "        squared_diff.append(mdev**2)\n",
    "    ssd = sum(squared_diff)\n",
    "    var = ssd / (len(squared_diff) - 1)\n",
    "    std = var**0.5\n",
    "    return std"
   ]
  },
  {
   "cell_type": "code",
   "execution_count": 23,
   "id": "9545af87",
   "metadata": {},
   "outputs": [
    {
     "data": {
      "text/plain": [
       "30289.038694747804"
      ]
     },
     "execution_count": 23,
     "metadata": {},
     "output_type": "execute_result"
    }
   ],
   "source": [
    "std_dev(salaries['salary'])"
   ]
  },
  {
   "cell_type": "code",
   "execution_count": 24,
   "id": "0bb19d08",
   "metadata": {},
   "outputs": [
    {
     "data": {
      "text/plain": [
       "13.006023785473102"
      ]
     },
     "execution_count": 24,
     "metadata": {},
     "output_type": "execute_result"
    }
   ],
   "source": [
    "std_dev(salaries['yrs.service'])"
   ]
  },
  {
   "cell_type": "markdown",
   "id": "181c94de",
   "metadata": {},
   "source": [
    "### Skewness"
   ]
  },
  {
   "cell_type": "code",
   "execution_count": 25,
   "id": "198a45bb",
   "metadata": {},
   "outputs": [
    {
     "data": {
      "text/latex": [
       "$\\displaystyle s$"
      ],
      "text/plain": [
       "s"
      ]
     },
     "execution_count": 25,
     "metadata": {},
     "output_type": "execute_result"
    }
   ],
   "source": [
    "s = sym.Symbol(\"s\")\n",
    "s"
   ]
  },
  {
   "cell_type": "code",
   "execution_count": 26,
   "id": "2b9f47f4",
   "metadata": {},
   "outputs": [
    {
     "data": {
      "text/latex": [
       "$\\displaystyle \\frac{\\sum_{i=1}^{n} \\left(x_{i} - x_{m}\\right)^{3}}{s^{3} \\left(n - 1\\right)}$"
      ],
      "text/plain": [
       "Sum((x_i - x_m)**3, (i, 1, n))/(s**3*(n - 1))"
      ]
     },
     "execution_count": 26,
     "metadata": {},
     "output_type": "execute_result"
    }
   ],
   "source": [
    "sym.Sum((xi - xm)**3, (i, 1, n))/((n - 1)*s**3)"
   ]
  },
  {
   "cell_type": "code",
   "execution_count": 27,
   "id": "77607792",
   "metadata": {},
   "outputs": [],
   "source": [
    "def skewness(data):\n",
    "    def sample_mean(data):\n",
    "        mean = data.sum()/data.count()\n",
    "        return mean\n",
    "    def std_dev(data):\n",
    "        squared_diff = []\n",
    "        for i in data:\n",
    "            mdev = (i - sample_mean(data))\n",
    "            squared_diff.append(mdev**2)\n",
    "        ssd = sum(squared_diff)\n",
    "        var = ssd / (len(squared_diff) - 1)\n",
    "        std = var**0.5\n",
    "        return std\n",
    "    cubed_diff = []\n",
    "    for i in data:\n",
    "        mdev = (i - sample_mean(data))\n",
    "        cubed_diff.append(mdev**3)\n",
    "    skew_sum = sum(cubed_diff)\n",
    "    s3 = std_dev(data)**3\n",
    "    n = (len(cubed_diff) - 1)\n",
    "    skewness = skew_sum / (s3 * n)\n",
    "    return skewness    "
   ]
  },
  {
   "cell_type": "code",
   "execution_count": 28,
   "id": "01f56d95",
   "metadata": {},
   "outputs": [
    {
     "data": {
      "text/plain": [
       "0.2993637853229659"
      ]
     },
     "execution_count": 28,
     "metadata": {},
     "output_type": "execute_result"
    }
   ],
   "source": [
    "skewness(salaries['yrs.since.phd'])"
   ]
  },
  {
   "cell_type": "code",
   "execution_count": 29,
   "id": "e400c339",
   "metadata": {},
   "outputs": [
    {
     "data": {
      "text/plain": [
       "0.7109686121251086"
      ]
     },
     "execution_count": 29,
     "metadata": {},
     "output_type": "execute_result"
    }
   ],
   "source": [
    "skewness(salaries['salary'])"
   ]
  },
  {
   "cell_type": "code",
   "execution_count": 30,
   "id": "dcdb3fd2",
   "metadata": {},
   "outputs": [
    {
     "data": {
      "text/plain": [
       "0.6472920514384662"
      ]
     },
     "execution_count": 30,
     "metadata": {},
     "output_type": "execute_result"
    }
   ],
   "source": [
    "skewness(salaries['yrs.service'])"
   ]
  },
  {
   "cell_type": "markdown",
   "id": "062d5c50",
   "metadata": {},
   "source": [
    "### Taking SymPy further\n",
    "We can take our formula display further by going from expressions to equations. We can achieve this by employing the machinery of IPython display."
   ]
  },
  {
   "cell_type": "code",
   "execution_count": 33,
   "id": "34b75f96",
   "metadata": {},
   "outputs": [
    {
     "data": {
      "text/latex": [
       "$\\displaystyle j = \\sqrt{\\frac{\\sum_{i=1}^{n} \\left(x - x_{m}\\right)^{2}}{n - 1}}$"
      ],
      "text/plain": [
       "<IPython.core.display.Math object>"
      ]
     },
     "metadata": {},
     "output_type": "display_data"
    }
   ],
   "source": [
    "from IPython.display import Math, display\n",
    "j = sym.sqrt(sym.Sum((x-xm)**2, (i,1,n))/(n-1))\n",
    "display(Math('j = ' + sym.latex(j)))"
   ]
  },
  {
   "cell_type": "code",
   "execution_count": 34,
   "id": "3873df63",
   "metadata": {},
   "outputs": [
    {
     "data": {
      "text/latex": [
       "$\\displaystyle skew = \\frac{\\sum_{i=1}^{n} \\left(x_{i} - x_{m}\\right)^{3}}{s^{3} \\left(n - 1\\right)}$"
      ],
      "text/plain": [
       "<IPython.core.display.Math object>"
      ]
     },
     "metadata": {},
     "output_type": "display_data"
    }
   ],
   "source": [
    "skew = sym.Sum((xi - xm)**3, (i,1,n))/((n - 1)*s**3)\n",
    "display(Math('skew = ' + sym.latex(skew)))"
   ]
  },
  {
   "cell_type": "markdown",
   "id": "287102ab",
   "metadata": {},
   "source": [
    "#### Sigma"
   ]
  },
  {
   "cell_type": "code",
   "execution_count": 35,
   "id": "0287e751",
   "metadata": {},
   "outputs": [],
   "source": [
    "from sympy.abc import sigma"
   ]
  },
  {
   "cell_type": "code",
   "execution_count": 36,
   "id": "73703b40",
   "metadata": {},
   "outputs": [
    {
     "data": {
      "text/latex": [
       "$\\displaystyle skew= \\frac{\\sum_{i=1}^{n} \\left(x_{i} - x_{m}\\right)^{3}}{\\sigma^{3} \\left(n - 1\\right)}$"
      ],
      "text/plain": [
       "<IPython.core.display.Math object>"
      ]
     },
     "metadata": {},
     "output_type": "display_data"
    }
   ],
   "source": [
    "skew = sym.Sum((xi - xm)**3, (i,1,n))/((n-1)*sigma**3)\n",
    "display(Math('skew= ' + sym.latex(skew)))"
   ]
  },
  {
   "cell_type": "markdown",
   "id": "a3a5f0ad",
   "metadata": {},
   "source": [
    "## Graphical Method"
   ]
  },
  {
   "cell_type": "markdown",
   "id": "bb3c33f1",
   "metadata": {},
   "source": [
    "### 1. Histogram\n",
    "\n",
    "<br><strong>Implementation:</strong> (i) Pandas direct plotting (ii) Matplotlib<br><br>"
   ]
  },
  {
   "cell_type": "code",
   "execution_count": 37,
   "id": "d33e70ce",
   "metadata": {},
   "outputs": [
    {
     "data": {
      "image/png": "[encoded data removed]",
      "text/plain": [
       "<Figure size 432x288 with 1 Axes>"
      ]
     },
     "metadata": {
      "needs_background": "light"
     },
     "output_type": "display_data"
    }
   ],
   "source": [
    "# i - Pandas direct plotting\n",
    "salaries[\"salary\"].plot.hist();"
   ]
  },
  {
   "cell_type": "code",
   "execution_count": 41,
   "id": "96af526c",
   "metadata": {},
   "outputs": [
    {
     "data": {
      "image/png": "[encoded data removed]",
      "text/plain": [
       "<Figure size 432x288 with 1 Axes>"
      ]
     },
     "metadata": {
      "needs_background": "light"
     },
     "output_type": "display_data"
    }
   ],
   "source": [
    "# Changing the color of the histogram\n",
    "salaries[\"yrs.service\"].plot.hist(color = 'black');"
   ]
  },
  {
   "cell_type": "code",
   "execution_count": 42,
   "id": "b73c378a",
   "metadata": {},
   "outputs": [
    {
     "data": {
      "image/png": "[encoded data removed]",
      "text/plain": [
       "<Figure size 432x288 with 1 Axes>"
      ]
     },
     "metadata": {
      "needs_background": "light"
     },
     "output_type": "display_data"
    }
   ],
   "source": [
    "salaries[\"yrs.since.phd\"].plot.hist(color = '#630330', bins = 20);"
   ]
  },
  {
   "cell_type": "code",
   "execution_count": 45,
   "id": "d9b5d35f",
   "metadata": {},
   "outputs": [
    {
     "data": {
      "text/plain": [
       "(array([ 33.,  78., 103.,  64.,  50.,  37.,  20.,   9.,   2.,   1.]),\n",
       " array([ 57800. ,  75174.5,  92549. , 109923.5, 127298. , 144672.5,\n",
       "        162047. , 179421.5, 196796. , 214170.5, 231545. ]),\n",
       " <BarContainer object of 10 artists>)"
      ]
     },
     "execution_count": 45,
     "metadata": {},
     "output_type": "execute_result"
    },
    {
     "data": {
      "image/png": "[encoded data removed]",
      "text/plain": [
       "<Figure size 432x288 with 1 Axes>"
      ]
     },
     "metadata": {
      "needs_background": "light"
     },
     "output_type": "display_data"
    }
   ],
   "source": [
    "# ii - matplotlib\n",
    "plt.hist(salaries[\"salary\"])"
   ]
  },
  {
   "cell_type": "code",
   "execution_count": 46,
   "id": "40eeba41",
   "metadata": {},
   "outputs": [
    {
     "data": {
      "image/png": "[encoded data removed]",
      "text/plain": [
       "<Figure size 432x288 with 1 Axes>"
      ]
     },
     "metadata": {
      "needs_background": "light"
     },
     "output_type": "display_data"
    }
   ],
   "source": [
    "n, bins, patches = plt.hist(salaries[\"salary\"], bins = 20, rwidth = 0.7, color= '#630330')"
   ]
  },
  {
   "cell_type": "code",
   "execution_count": 51,
   "id": "c2acc2c7",
   "metadata": {},
   "outputs": [
    {
     "data": {
      "image/png": "[encoded data removed]",
      "text/plain": [
       "<Figure size 432x288 with 1 Axes>"
      ]
     },
     "metadata": {
      "needs_background": "light"
     },
     "output_type": "display_data"
    }
   ],
   "source": [
    "n, bins, patches = plt.hist(salaries[\"salary\"], bins = 20, rwidth = 0.7, color= 'indigo');\n",
    "plt.xlabel(\"Salary\")\n",
    "plt.ylabel(\"Frequency\")\n",
    "plt.title(\"Salaries frequency for sample population\\n\");"
   ]
  },
  {
   "cell_type": "code",
   "execution_count": 52,
   "id": "e71edb4a",
   "metadata": {},
   "outputs": [
    {
     "data": {
      "image/png": "[encoded data removed]",
      "text/plain": [
       "<Figure size 432x288 with 1 Axes>"
      ]
     },
     "metadata": {
      "needs_background": "light"
     },
     "output_type": "display_data"
    }
   ],
   "source": [
    "n, bins, patches = plt.hist(salaries[\"yrs.since.phd\"], bins = 20, rwidth = 0.7,\n",
    "                            color = 'indigo');\n",
    "plt.xlabel(\"Years since PhD\", fontname=\"Tw Cen MT\", fontsize=16)\n",
    "plt.ylabel(\"Frequency\", fontname=\"Tw Cen MT\", fontsize=16)\n",
    "plt.title(\"Frequency of Years since PhD Graduation\\n\",fontname=\"Tw Cen MT\", \n",
    "          fontsize=16);"
   ]
  },
  {
   "cell_type": "code",
   "execution_count": 56,
   "id": "bc14c8f9",
   "metadata": {},
   "outputs": [
    {
     "data": {
      "image/png": "[encoded data removed]",
      "text/plain": [
       "<Figure size 432x288 with 1 Axes>"
      ]
     },
     "metadata": {
      "needs_background": "light"
     },
     "output_type": "display_data"
    }
   ],
   "source": [
    "n,bins,patches = plt.hist(salaries[\"yrs.service\"], bins=20, rwidth=0.7, color='indigo')\n",
    "plt.xlabel(\"Years of Service\")\n",
    "plt.ylabel(\"Frequency\");"
   ]
  },
  {
   "cell_type": "code",
   "execution_count": null,
   "id": "440b9097",
   "metadata": {},
   "outputs": [],
   "source": []
  }
 ],
 "metadata": {
  "kernelspec": {
   "display_name": "Python 3",
   "language": "python",
   "name": "python3"
  },
  "language_info": {
   "codemirror_mode": {
    "name": "ipython",
    "version": 3
   },
   "file_extension": ".py",
   "mimetype": "text/x-python",
   "name": "python",
   "nbconvert_exporter": "python",
   "pygments_lexer": "ipython3",
   "version": "3.8.8"
  }
 },
 "nbformat": 4,
 "nbformat_minor": 5
}
