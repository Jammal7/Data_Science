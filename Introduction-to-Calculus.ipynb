{
 "cells": [
  {
   "cell_type": "code",
   "execution_count": 1,
   "id": "d35f5911",
   "metadata": {},
   "outputs": [],
   "source": [
    "import sympy as sym"
   ]
  },
  {
   "cell_type": "code",
   "execution_count": 2,
   "id": "e34c2d6d",
   "metadata": {},
   "outputs": [],
   "source": [
    "# Converting the letters a, b into symbols\n",
    "a,b = sym.symbols('a b')"
   ]
  },
  {
   "cell_type": "code",
   "execution_count": 3,
   "id": "fac21795",
   "metadata": {},
   "outputs": [
    {
     "data": {
      "text/latex": [
       "$\\displaystyle a$"
      ],
      "text/plain": [
       "a"
      ]
     },
     "execution_count": 3,
     "metadata": {},
     "output_type": "execute_result"
    }
   ],
   "source": [
    "a"
   ]
  },
  {
   "cell_type": "code",
   "execution_count": 4,
   "id": "e3e93595",
   "metadata": {},
   "outputs": [
    {
     "data": {
      "text/latex": [
       "$\\displaystyle b$"
      ],
      "text/plain": [
       "b"
      ]
     },
     "execution_count": 4,
     "metadata": {},
     "output_type": "execute_result"
    }
   ],
   "source": [
    "b"
   ]
  },
  {
   "cell_type": "code",
   "execution_count": 5,
   "id": "836b1485",
   "metadata": {},
   "outputs": [
    {
     "data": {
      "text/latex": [
       "$\\displaystyle \\sqrt{\\left(a - b\\right)^{2}}$"
      ],
      "text/plain": [
       "sqrt((a - b)**2)"
      ]
     },
     "execution_count": 5,
     "metadata": {},
     "output_type": "execute_result"
    }
   ],
   "source": [
    "sym.sqrt((a - b)**2)"
   ]
  },
  {
   "cell_type": "code",
   "execution_count": 6,
   "id": "8f6d2aac",
   "metadata": {},
   "outputs": [],
   "source": [
    "from sympy.abc import i, n"
   ]
  },
  {
   "cell_type": "code",
   "execution_count": 7,
   "id": "12b4cfa8",
   "metadata": {},
   "outputs": [
    {
     "data": {
      "text/latex": [
       "$\\displaystyle \\sqrt{\\sum_{i=1}^{n} \\left(a - b\\right)^{2}}$"
      ],
      "text/plain": [
       "sqrt(Sum((a - b)**2, (i, 1, n)))"
      ]
     },
     "execution_count": 7,
     "metadata": {},
     "output_type": "execute_result"
    }
   ],
   "source": [
    "sym.sqrt(sym.Sum((a - b)**2, (i, 1, n)))"
   ]
  },
  {
   "cell_type": "code",
   "execution_count": 8,
   "id": "626ed9c5",
   "metadata": {},
   "outputs": [],
   "source": [
    "ai,bi = sym.symbols('a_i b_i')"
   ]
  },
  {
   "cell_type": "code",
   "execution_count": 9,
   "id": "bbc6c7bd",
   "metadata": {},
   "outputs": [
    {
     "data": {
      "text/latex": [
       "$\\displaystyle \\sqrt{\\sum_{i=1}^{n} \\left(a_{i} - b_{i}\\right)^{2}}$"
      ],
      "text/plain": [
       "sqrt(Sum((a_i - b_i)**2, (i, 1, n)))"
      ]
     },
     "execution_count": 9,
     "metadata": {},
     "output_type": "execute_result"
    }
   ],
   "source": [
    "sym.sqrt(sym.Sum((ai - bi)**2, (i, 1, n)))"
   ]
  },
  {
   "cell_type": "code",
   "execution_count": 10,
   "id": "f32d62b0",
   "metadata": {},
   "outputs": [],
   "source": [
    "def eucliddr1(a,b):\n",
    "    squarediff = (a - b)**2\n",
    "    ssd = squarediff**0.5\n",
    "    return ssd"
   ]
  },
  {
   "cell_type": "code",
   "execution_count": 11,
   "id": "b04013a7",
   "metadata": {},
   "outputs": [
    {
     "data": {
      "text/plain": [
       "8.0"
      ]
     },
     "execution_count": 11,
     "metadata": {},
     "output_type": "execute_result"
    }
   ],
   "source": [
    "eucliddr1(4,12)"
   ]
  },
  {
   "cell_type": "code",
   "execution_count": 12,
   "id": "133bd71b",
   "metadata": {},
   "outputs": [],
   "source": [
    "def euclidd(a, b):\n",
    "    squarediff = []\n",
    "    for i,j in zip(a,b):\n",
    "        c = i - j\n",
    "        squarediff.append(c**2)\n",
    "    ssd = sum(squarediff)\n",
    "    distance = ssd**0.5\n",
    "    return distance"
   ]
  },
  {
   "cell_type": "code",
   "execution_count": 13,
   "id": "60ac6059",
   "metadata": {},
   "outputs": [],
   "source": [
    "# x = [9, 4, 3, 0, 5]\n",
    "# y = [12, 9, 3, 17, 6]"
   ]
  },
  {
   "cell_type": "code",
   "execution_count": 14,
   "id": "a9660b49",
   "metadata": {},
   "outputs": [],
   "source": [
    "# euclidd(x,y)"
   ]
  },
  {
   "cell_type": "code",
   "execution_count": 25,
   "id": "e248003c",
   "metadata": {},
   "outputs": [],
   "source": [
    "x,y = sym.symbols('x y')"
   ]
  },
  {
   "cell_type": "code",
   "execution_count": 15,
   "id": "9ca55a5b",
   "metadata": {},
   "outputs": [],
   "source": [
    " z = sym.Symbol('z')"
   ]
  },
  {
   "cell_type": "code",
   "execution_count": 16,
   "id": "74b67bd9",
   "metadata": {},
   "outputs": [
    {
     "data": {
      "text/latex": [
       "$\\displaystyle z$"
      ],
      "text/plain": [
       "z"
      ]
     },
     "execution_count": 16,
     "metadata": {},
     "output_type": "execute_result"
    }
   ],
   "source": [
    "z"
   ]
  },
  {
   "cell_type": "code",
   "execution_count": 17,
   "id": "56b531c3",
   "metadata": {},
   "outputs": [
    {
     "data": {
      "text/latex": [
       "$\\displaystyle 1$"
      ],
      "text/plain": [
       "1"
      ]
     },
     "execution_count": 17,
     "metadata": {},
     "output_type": "execute_result"
    }
   ],
   "source": [
    "sym.limit(z**2, z, 1)"
   ]
  },
  {
   "cell_type": "code",
   "execution_count": 18,
   "id": "149c2c17",
   "metadata": {},
   "outputs": [
    {
     "data": {
      "text/latex": [
       "$\\displaystyle 4$"
      ],
      "text/plain": [
       "4"
      ]
     },
     "execution_count": 18,
     "metadata": {},
     "output_type": "execute_result"
    }
   ],
   "source": [
    "sym.limit(z**2, z, 2)"
   ]
  },
  {
   "cell_type": "markdown",
   "id": "ed121888",
   "metadata": {},
   "source": [
    "## Differentiation"
   ]
  },
  {
   "cell_type": "code",
   "execution_count": 19,
   "id": "6196da18",
   "metadata": {},
   "outputs": [],
   "source": [
    "def slope():\n",
    "    x1 = int(input(\"Enter the first value of x: \"))\n",
    "    x2 = int(input(\"Enter the second value of x: \"))\n",
    "    y1 = int(input(\"Enter the first value of y: \"))\n",
    "    y2 = int(input(\"Enter the second value of y: \"))\n",
    "    \n",
    "    run = x2 - x1\n",
    "    rise = y2 - y1\n",
    "    slope = rise / run\n",
    "    \n",
    "    print(f\"The slope of the line is {slope}\")\n",
    "    "
   ]
  },
  {
   "cell_type": "code",
   "execution_count": 20,
   "id": "19d08623",
   "metadata": {},
   "outputs": [
    {
     "name": "stdout",
     "output_type": "stream",
     "text": [
      "Enter the first value of x: 2\n",
      "Enter the second value of x: 7\n",
      "Enter the first value of y: 7\n",
      "Enter the second value of y: 17\n",
      "The slope of the line is 2.0\n"
     ]
    }
   ],
   "source": [
    "slope()"
   ]
  },
  {
   "cell_type": "code",
   "execution_count": 24,
   "id": "ae5453e2",
   "metadata": {},
   "outputs": [
    {
     "data": {
      "text/latex": [
       "$\\displaystyle 0.5$"
      ],
      "text/plain": [
       "0.500000000000000"
      ]
     },
     "execution_count": 24,
     "metadata": {},
     "output_type": "execute_result"
    }
   ],
   "source": [
    "sym.diff(0.25*z**2, (z, 2))"
   ]
  },
  {
   "cell_type": "code",
   "execution_count": 26,
   "id": "29cc5714",
   "metadata": {},
   "outputs": [
    {
     "data": {
      "text/latex": [
       "$\\displaystyle \\cos{\\left(x \\right)}$"
      ],
      "text/plain": [
       "cos(x)"
      ]
     },
     "execution_count": 26,
     "metadata": {},
     "output_type": "execute_result"
    }
   ],
   "source": [
    "sym.diff(sym.sin(x), x)"
   ]
  },
  {
   "cell_type": "code",
   "execution_count": 27,
   "id": "64e9e96c",
   "metadata": {},
   "outputs": [
    {
     "data": {
      "text/latex": [
       "$\\displaystyle 2 \\cos{\\left(2 x \\right)}$"
      ],
      "text/plain": [
       "2*cos(2*x)"
      ]
     },
     "execution_count": 27,
     "metadata": {},
     "output_type": "execute_result"
    }
   ],
   "source": [
    "sym.diff(sym.sin(2*x), x)"
   ]
  },
  {
   "cell_type": "code",
   "execution_count": 28,
   "id": "a3d3b220",
   "metadata": {},
   "outputs": [
    {
     "data": {
      "text/latex": [
       "$\\displaystyle \\tan^{2}{\\left(x \\right)} + 1$"
      ],
      "text/plain": [
       "tan(x)**2 + 1"
      ]
     },
     "execution_count": 28,
     "metadata": {},
     "output_type": "execute_result"
    }
   ],
   "source": [
    "sym.diff(sym.tan(x), x)"
   ]
  },
  {
   "cell_type": "code",
   "execution_count": null,
   "id": "8b05766f",
   "metadata": {},
   "outputs": [],
   "source": []
  }
 ],
 "metadata": {
  "kernelspec": {
   "display_name": "Python 3",
   "language": "python",
   "name": "python3"
  },
  "language_info": {
   "codemirror_mode": {
    "name": "ipython",
    "version": 3
   },
   "file_extension": ".py",
   "mimetype": "text/x-python",
   "name": "python",
   "nbconvert_exporter": "python",
   "pygments_lexer": "ipython3",
   "version": "3.8.8"
  }
 },
 "nbformat": 4,
 "nbformat_minor": 5
}
