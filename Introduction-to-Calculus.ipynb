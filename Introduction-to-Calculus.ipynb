{
 "cells": [
  {
   "cell_type": "code",
   "execution_count": 1,
   "id": "32ae72d5",
   "metadata": {},
   "outputs": [],
   "source": [
    "import sympy as sym"
   ]
  },
  {
   "cell_type": "code",
   "execution_count": 2,
   "id": "d497ccb3",
   "metadata": {},
   "outputs": [],
   "source": [
    "# Converting the letters a, b into symbols\n",
    "a,b = sym.symbols('a b')"
   ]
  },
  {
   "cell_type": "code",
   "execution_count": 3,
   "id": "5e9c6ad0",
   "metadata": {},
   "outputs": [
    {
     "data": {
      "text/latex": [
       "$\\displaystyle a$"
      ],
      "text/plain": [
       "a"
      ]
     },
     "execution_count": 3,
     "metadata": {},
     "output_type": "execute_result"
    }
   ],
   "source": [
    "a"
   ]
  },
  {
   "cell_type": "code",
   "execution_count": 4,
   "id": "bcc29026",
   "metadata": {},
   "outputs": [
    {
     "data": {
      "text/latex": [
       "$\\displaystyle b$"
      ],
      "text/plain": [
       "b"
      ]
     },
     "execution_count": 4,
     "metadata": {},
     "output_type": "execute_result"
    }
   ],
   "source": [
    "b"
   ]
  },
  {
   "cell_type": "code",
   "execution_count": 5,
   "id": "7b13bd41",
   "metadata": {},
   "outputs": [
    {
     "data": {
      "text/latex": [
       "$\\displaystyle \\sqrt{\\left(a - b\\right)^{2}}$"
      ],
      "text/plain": [
       "sqrt((a - b)**2)"
      ]
     },
     "execution_count": 5,
     "metadata": {},
     "output_type": "execute_result"
    }
   ],
   "source": [
    "sym.sqrt((a - b)**2)"
   ]
  },
  {
   "cell_type": "code",
   "execution_count": 6,
   "id": "373b6b74",
   "metadata": {},
   "outputs": [],
   "source": [
    "from sympy.abc import i, n"
   ]
  },
  {
   "cell_type": "code",
   "execution_count": 7,
   "id": "90980ce6",
   "metadata": {},
   "outputs": [
    {
     "data": {
      "text/latex": [
       "$\\displaystyle \\sqrt{\\sum_{i=1}^{n} \\left(a - b\\right)^{2}}$"
      ],
      "text/plain": [
       "sqrt(Sum((a - b)**2, (i, 1, n)))"
      ]
     },
     "execution_count": 7,
     "metadata": {},
     "output_type": "execute_result"
    }
   ],
   "source": [
    "sym.sqrt(sym.Sum((a - b)**2, (i, 1, n)))"
   ]
  },
  {
   "cell_type": "code",
   "execution_count": 8,
   "id": "f3251a19",
   "metadata": {},
   "outputs": [],
   "source": [
    "ai,bi = sym.symbols('a_i b_i')"
   ]
  },
  {
   "cell_type": "code",
   "execution_count": 9,
   "id": "2924d30c",
   "metadata": {},
   "outputs": [
    {
     "data": {
      "text/latex": [
       "$\\displaystyle \\sqrt{\\sum_{i=1}^{n} \\left(a_{i} - b_{i}\\right)^{2}}$"
      ],
      "text/plain": [
       "sqrt(Sum((a_i - b_i)**2, (i, 1, n)))"
      ]
     },
     "execution_count": 9,
     "metadata": {},
     "output_type": "execute_result"
    }
   ],
   "source": [
    "sym.sqrt(sym.Sum((ai - bi)**2, (i, 1, n)))"
   ]
  },
  {
   "cell_type": "code",
   "execution_count": 12,
   "id": "ebe085fb",
   "metadata": {},
   "outputs": [],
   "source": [
    "def eucliddr1(a,b):\n",
    "    squarediff = (a - b)**2\n",
    "    ssd = squarediff**0.5\n",
    "    return ssd"
   ]
  },
  {
   "cell_type": "code",
   "execution_count": 15,
   "id": "effcc6c4",
   "metadata": {},
   "outputs": [
    {
     "data": {
      "text/plain": [
       "8.0"
      ]
     },
     "execution_count": 15,
     "metadata": {},
     "output_type": "execute_result"
    }
   ],
   "source": [
    "eucliddr1(4,12)"
   ]
  },
  {
   "cell_type": "code",
   "execution_count": 16,
   "id": "95f668a0",
   "metadata": {},
   "outputs": [],
   "source": [
    "def euclidd(a, b):\n",
    "    squarediff = []\n",
    "    for i,j in zip(a,b):\n",
    "        c = i - j\n",
    "        squarediff.append(c**2)\n",
    "    ssd = sum(squarediff)\n",
    "    distance = ssd**0.5\n",
    "    return distance"
   ]
  },
  {
   "cell_type": "code",
   "execution_count": 17,
   "id": "d26905e9",
   "metadata": {},
   "outputs": [],
   "source": [
    "x = [9, 4, 3, 0, 5]\n",
    "y = [12, 9, 3, 17, 6]"
   ]
  },
  {
   "cell_type": "code",
   "execution_count": 18,
   "id": "b9610643",
   "metadata": {},
   "outputs": [
    {
     "data": {
      "text/plain": [
       "18.0"
      ]
     },
     "execution_count": 18,
     "metadata": {},
     "output_type": "execute_result"
    }
   ],
   "source": [
    "euclidd(x,y)"
   ]
  },
  {
   "cell_type": "code",
   "execution_count": null,
   "id": "7fdc8c35",
   "metadata": {},
   "outputs": [],
   "source": []
  }
 ],
 "metadata": {
  "kernelspec": {
   "display_name": "Python 3",
   "language": "python",
   "name": "python3"
  },
  "language_info": {
   "codemirror_mode": {
    "name": "ipython",
    "version": 3
   },
   "file_extension": ".py",
   "mimetype": "text/x-python",
   "name": "python",
   "nbconvert_exporter": "python",
   "pygments_lexer": "ipython3",
   "version": "3.8.8"
  }
 },
 "nbformat": 4,
 "nbformat_minor": 5
}
