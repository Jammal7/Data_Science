{
 "cells": [
  {
   "cell_type": "markdown",
   "id": "0edd515c",
   "metadata": {},
   "source": [
    "# Clustering Analysis\n",
    "\n",
    "## 1. Problem Definition\n",
    "In a statement,\n",
    "> Given the dataset perform clustering analysis or customer segmentation. Create a Report of your approach and explain the different segments or clusters you have business wise.\n",
    "\n",
    "## 2. Data\n",
    "The data to be used for these questions can be found here: https://drive.google.com/file/d/1v2iD-74K1g286eejy0jrqbpkV9UuUoXQ/view\n",
    "\n",
    "\n",
    "## 3. Features\n",
    "Here, we get to see different information about each of the features in the data. It was given in the assessment.\n",
    "\n",
    "**Create data dictionary**\n",
    "\n",
    "1. User_id - ID of a customer or user \n",
    "2. Channel - Channel used for last transaction by the customer \n",
    "3. TotalTransactionAmount - Total amount transacted by the customer in the last few months \n",
    "4. Tx_Count - Count of transactions done by the customer on the system \n",
    "5. DaysSinceLastTrans - Number of days since the customer did his last transaction with reference to a specific date \n",
    "6. Reseller_id - Id of the reseller that the customer belongs to.\n",
    "7. Superdealer_id - ID of the SuperDealer that the customer belongs to. \n",
    "8. Product_ServiceProvider - Service Provider of the Last Product purchased by the customer. \n",
    "9. Product_Type - The Product type of the last product purchased by the customer \n",
    "10. Product_Category - Category for the last Product purchased by the Customer."
   ]
  },
  {
   "cell_type": "code",
   "execution_count": 1,
   "id": "4a6562ba",
   "metadata": {},
   "outputs": [],
   "source": [
    "import pandas as pd\n",
    "import numpy as np\n",
    "%matplotlib inline\n",
    "import seaborn as sns\n",
    "import matplotlib.pyplot as plt\n",
    "\n",
    "from sklearn.cluster import AgglomerativeClustering, KMeans\n",
    "from scipy.cluster.hierarchy import dendrogram, linkage\n",
    "from sklearn.preprocessing import StandardScaler"
   ]
  },
  {
   "cell_type": "code",
   "execution_count": 2,
   "id": "f7c21613",
   "metadata": {},
   "outputs": [
    {
     "data": {
      "text/html": [
       "<div>\n",
       "<style scoped>\n",
       "    .dataframe tbody tr th:only-of-type {\n",
       "        vertical-align: middle;\n",
       "    }\n",
       "\n",
       "    .dataframe tbody tr th {\n",
       "        vertical-align: top;\n",
       "    }\n",
       "\n",
       "    .dataframe thead th {\n",
       "        text-align: right;\n",
       "    }\n",
       "</style>\n",
       "<table border=\"1\" class=\"dataframe\">\n",
       "  <thead>\n",
       "    <tr style=\"text-align: right;\">\n",
       "      <th></th>\n",
       "      <th>user_id</th>\n",
       "      <th>Channel</th>\n",
       "      <th>TotalTransactionAmount</th>\n",
       "      <th>Tx_Count</th>\n",
       "      <th>DaysSinceLastTrans</th>\n",
       "      <th>reseller_id</th>\n",
       "      <th>superdealer_id</th>\n",
       "      <th>Product_ServiceProvider</th>\n",
       "      <th>Product_Type</th>\n",
       "      <th>Product_Category</th>\n",
       "    </tr>\n",
       "  </thead>\n",
       "  <tbody>\n",
       "    <tr>\n",
       "      <th>0</th>\n",
       "      <td>1191</td>\n",
       "      <td>8.0</td>\n",
       "      <td>532700</td>\n",
       "      <td>137</td>\n",
       "      <td>30</td>\n",
       "      <td>1130.0</td>\n",
       "      <td>18.0</td>\n",
       "      <td>Jos Electric</td>\n",
       "      <td>Postpaid</td>\n",
       "      <td>Electricity</td>\n",
       "    </tr>\n",
       "    <tr>\n",
       "      <th>1</th>\n",
       "      <td>1287</td>\n",
       "      <td>1.0</td>\n",
       "      <td>1635552</td>\n",
       "      <td>131</td>\n",
       "      <td>30</td>\n",
       "      <td>0.0</td>\n",
       "      <td>18.0</td>\n",
       "      <td>MTN</td>\n",
       "      <td>Airtime</td>\n",
       "      <td>Telco</td>\n",
       "    </tr>\n",
       "    <tr>\n",
       "      <th>2</th>\n",
       "      <td>1168</td>\n",
       "      <td>8.0</td>\n",
       "      <td>548300</td>\n",
       "      <td>114</td>\n",
       "      <td>30</td>\n",
       "      <td>1130.0</td>\n",
       "      <td>18.0</td>\n",
       "      <td>Jos Electric</td>\n",
       "      <td>Postpaid</td>\n",
       "      <td>Electricity</td>\n",
       "    </tr>\n",
       "    <tr>\n",
       "      <th>3</th>\n",
       "      <td>1119</td>\n",
       "      <td>2.0</td>\n",
       "      <td>12200</td>\n",
       "      <td>13</td>\n",
       "      <td>30</td>\n",
       "      <td>0.0</td>\n",
       "      <td>447.0</td>\n",
       "      <td>Airtel</td>\n",
       "      <td>Data</td>\n",
       "      <td>Telco</td>\n",
       "    </tr>\n",
       "    <tr>\n",
       "      <th>4</th>\n",
       "      <td>1168</td>\n",
       "      <td>8.0</td>\n",
       "      <td>211700</td>\n",
       "      <td>75</td>\n",
       "      <td>30</td>\n",
       "      <td>1130.0</td>\n",
       "      <td>18.0</td>\n",
       "      <td>Jos Electric</td>\n",
       "      <td>Prepaid</td>\n",
       "      <td>Electricity</td>\n",
       "    </tr>\n",
       "  </tbody>\n",
       "</table>\n",
       "</div>"
      ],
      "text/plain": [
       "   user_id  Channel  TotalTransactionAmount  Tx_Count  DaysSinceLastTrans  \\\n",
       "0     1191      8.0                  532700       137                  30   \n",
       "1     1287      1.0                 1635552       131                  30   \n",
       "2     1168      8.0                  548300       114                  30   \n",
       "3     1119      2.0                   12200        13                  30   \n",
       "4     1168      8.0                  211700        75                  30   \n",
       "\n",
       "   reseller_id  superdealer_id Product_ServiceProvider Product_Type  \\\n",
       "0       1130.0            18.0            Jos Electric     Postpaid   \n",
       "1          0.0            18.0                     MTN      Airtime   \n",
       "2       1130.0            18.0            Jos Electric     Postpaid   \n",
       "3          0.0           447.0                  Airtel         Data   \n",
       "4       1130.0            18.0            Jos Electric      Prepaid   \n",
       "\n",
       "  Product_Category  \n",
       "0      Electricity  \n",
       "1            Telco  \n",
       "2      Electricity  \n",
       "3            Telco  \n",
       "4      Electricity  "
      ]
     },
     "execution_count": 2,
     "metadata": {},
     "output_type": "execute_result"
    }
   ],
   "source": [
    "assessment = pd.read_csv(\"assessment.csv\")\n",
    "assessment.head()"
   ]
  },
  {
   "cell_type": "code",
   "execution_count": 3,
   "id": "fcfba78e",
   "metadata": {},
   "outputs": [
    {
     "data": {
      "text/plain": [
       "(2635, 10)"
      ]
     },
     "execution_count": 3,
     "metadata": {},
     "output_type": "execute_result"
    }
   ],
   "source": [
    "assessment.shape"
   ]
  },
  {
   "cell_type": "code",
   "execution_count": 4,
   "id": "c91763f1",
   "metadata": {},
   "outputs": [
    {
     "name": "stdout",
     "output_type": "stream",
     "text": [
      "<class 'pandas.core.frame.DataFrame'>\n",
      "RangeIndex: 2635 entries, 0 to 2634\n",
      "Data columns (total 10 columns):\n",
      " #   Column                   Non-Null Count  Dtype  \n",
      "---  ------                   --------------  -----  \n",
      " 0   user_id                  2635 non-null   int64  \n",
      " 1   Channel                  2633 non-null   float64\n",
      " 2   TotalTransactionAmount   2635 non-null   int64  \n",
      " 3   Tx_Count                 2635 non-null   int64  \n",
      " 4   DaysSinceLastTrans       2635 non-null   int64  \n",
      " 5   reseller_id              2633 non-null   float64\n",
      " 6   superdealer_id           2633 non-null   float64\n",
      " 7   Product_ServiceProvider  2456 non-null   object \n",
      " 8   Product_Type             2456 non-null   object \n",
      " 9   Product_Category         2456 non-null   object \n",
      "dtypes: float64(3), int64(4), object(3)\n",
      "memory usage: 206.0+ KB\n"
     ]
    }
   ],
   "source": [
    "assessment.info()"
   ]
  },
  {
   "cell_type": "code",
   "execution_count": 5,
   "id": "486a75ba",
   "metadata": {},
   "outputs": [
    {
     "data": {
      "text/plain": [
       "Product_ServiceProvider    179\n",
       "Product_Type               179\n",
       "Product_Category           179\n",
       "Channel                      2\n",
       "reseller_id                  2\n",
       "superdealer_id               2\n",
       "user_id                      0\n",
       "TotalTransactionAmount       0\n",
       "Tx_Count                     0\n",
       "DaysSinceLastTrans           0\n",
       "dtype: int64"
      ]
     },
     "execution_count": 5,
     "metadata": {},
     "output_type": "execute_result"
    }
   ],
   "source": [
    "assessment.isnull().sum().sort_values(ascending=False)"
   ]
  },
  {
   "cell_type": "code",
   "execution_count": 6,
   "id": "3c3429d9",
   "metadata": {},
   "outputs": [
    {
     "data": {
      "text/plain": [
       "0.0       2392\n",
       "1130.0     151\n",
       "1802.0      30\n",
       "553.0       19\n",
       "2557.0      15\n",
       "56.0        11\n",
       "464.0        9\n",
       "910.0        3\n",
       "2379.0       2\n",
       "841.0        1\n",
       "Name: reseller_id, dtype: int64"
      ]
     },
     "execution_count": 6,
     "metadata": {},
     "output_type": "execute_result"
    }
   ],
   "source": [
    "assessment['reseller_id'].value_counts() "
   ]
  },
  {
   "cell_type": "code",
   "execution_count": 7,
   "id": "4e3e1f86",
   "metadata": {},
   "outputs": [
    {
     "data": {
      "text/plain": [
       "1.0     1890\n",
       "2.0      526\n",
       "8.0      102\n",
       "10.0      42\n",
       "5.0       33\n",
       "6.0       28\n",
       "4.0        6\n",
       "3.0        5\n",
       "7.0        1\n",
       "Name: Channel, dtype: int64"
      ]
     },
     "execution_count": 7,
     "metadata": {},
     "output_type": "execute_result"
    }
   ],
   "source": [
    "assessment['Channel'].value_counts() "
   ]
  },
  {
   "cell_type": "code",
   "execution_count": 8,
   "id": "1136a4e5",
   "metadata": {},
   "outputs": [
    {
     "data": {
      "text/plain": [
       "447.0     1513\n",
       "501.0      411\n",
       "18.0       360\n",
       "0.0        122\n",
       "741.0       61\n",
       "86.0        40\n",
       "417.0       30\n",
       "172.0       26\n",
       "2494.0      19\n",
       "40.0        16\n",
       "430.0       14\n",
       "1642.0       8\n",
       "56.0         6\n",
       "384.0        5\n",
       "466.0        1\n",
       "2379.0       1\n",
       "Name: superdealer_id, dtype: int64"
      ]
     },
     "execution_count": 8,
     "metadata": {},
     "output_type": "execute_result"
    }
   ],
   "source": [
    "assessment['superdealer_id'].value_counts()"
   ]
  },
  {
   "cell_type": "code",
   "execution_count": 9,
   "id": "bc15346c",
   "metadata": {},
   "outputs": [],
   "source": [
    "# Imputing missing values with median\n",
    "\n",
    "assessment.loc[(assessment['Channel'].isnull() == True), 'Channel'] = assessment['Channel'].median()\n",
    "assessment.loc[(assessment['reseller_id'].isnull() == True), 'reseller_id'] = assessment['reseller_id'].median()\n",
    "assessment.loc[(assessment['superdealer_id'].isnull() == True), 'superdealer_id'] = assessment['superdealer_id'].median()"
   ]
  },
  {
   "cell_type": "code",
   "execution_count": 10,
   "id": "38a15d18",
   "metadata": {},
   "outputs": [
    {
     "data": {
      "text/plain": [
       "0.0       2394\n",
       "1130.0     151\n",
       "1802.0      30\n",
       "553.0       19\n",
       "2557.0      15\n",
       "56.0        11\n",
       "464.0        9\n",
       "910.0        3\n",
       "2379.0       2\n",
       "841.0        1\n",
       "Name: reseller_id, dtype: int64"
      ]
     },
     "execution_count": 10,
     "metadata": {},
     "output_type": "execute_result"
    }
   ],
   "source": [
    "assessment['reseller_id'].value_counts() "
   ]
  },
  {
   "cell_type": "code",
   "execution_count": 11,
   "id": "f601eeef",
   "metadata": {},
   "outputs": [
    {
     "data": {
      "text/plain": [
       "447.0     1515\n",
       "501.0      411\n",
       "18.0       360\n",
       "0.0        122\n",
       "741.0       61\n",
       "86.0        40\n",
       "417.0       30\n",
       "172.0       26\n",
       "2494.0      19\n",
       "40.0        16\n",
       "430.0       14\n",
       "1642.0       8\n",
       "56.0         6\n",
       "384.0        5\n",
       "466.0        1\n",
       "2379.0       1\n",
       "Name: superdealer_id, dtype: int64"
      ]
     },
     "execution_count": 11,
     "metadata": {},
     "output_type": "execute_result"
    }
   ],
   "source": [
    "assessment['superdealer_id'].value_counts()"
   ]
  },
  {
   "cell_type": "code",
   "execution_count": 12,
   "id": "55699b71",
   "metadata": {},
   "outputs": [
    {
     "data": {
      "text/plain": [
       "Telco            2276\n",
       "Electricity        99\n",
       "Education          42\n",
       "Cable TV           25\n",
       "Universal Pin      14\n",
       "Name: Product_Category, dtype: int64"
      ]
     },
     "execution_count": 12,
     "metadata": {},
     "output_type": "execute_result"
    }
   ],
   "source": [
    "assessment['Product_Category'].value_counts() "
   ]
  },
  {
   "cell_type": "code",
   "execution_count": 13,
   "id": "2021900f",
   "metadata": {},
   "outputs": [
    {
     "data": {
      "text/plain": [
       "MTN                      813\n",
       "Airtel                   700\n",
       "Glo                      422\n",
       "9mobile                  355\n",
       "Jamb                      42\n",
       "Eko Electric              33\n",
       "Jos Electric              32\n",
       "Ikeja Electric            18\n",
       "DSTV                      13\n",
       "Ibadan Electric           13\n",
       "GOTV                      10\n",
       "Portharcourt Electric      3\n",
       "Startimes                  2\n",
       "Name: Product_ServiceProvider, dtype: int64"
      ]
     },
     "execution_count": 13,
     "metadata": {},
     "output_type": "execute_result"
    }
   ],
   "source": [
    "assessment['Product_ServiceProvider'].value_counts() "
   ]
  },
  {
   "cell_type": "code",
   "execution_count": 14,
   "id": "b6e51458",
   "metadata": {},
   "outputs": [
    {
     "data": {
      "text/plain": [
       "Airtime        1878\n",
       "Data            398\n",
       "Prepaid          71\n",
       "E-facility       42\n",
       "Postpaid         28\n",
       "Pay TV           25\n",
       "Voucher Pin      14\n",
       "Name: Product_Type, dtype: int64"
      ]
     },
     "execution_count": 14,
     "metadata": {},
     "output_type": "execute_result"
    }
   ],
   "source": [
    "assessment['Product_Type'].value_counts() "
   ]
  },
  {
   "cell_type": "code",
   "execution_count": 15,
   "id": "31ccf3b4",
   "metadata": {},
   "outputs": [],
   "source": [
    "assessment[\"Product_ServiceProvider\"].fillna(\"missing\", inplace = True)\n",
    "assessment[\"Product_Category\"].fillna(\"missing\", inplace = True)\n",
    "assessment[\"Product_Type\"].fillna(\"missing\", inplace = True)"
   ]
  },
  {
   "cell_type": "code",
   "execution_count": 16,
   "id": "7a6267f5",
   "metadata": {},
   "outputs": [
    {
     "data": {
      "text/plain": [
       "user_id                    0\n",
       "Channel                    0\n",
       "TotalTransactionAmount     0\n",
       "Tx_Count                   0\n",
       "DaysSinceLastTrans         0\n",
       "reseller_id                0\n",
       "superdealer_id             0\n",
       "Product_ServiceProvider    0\n",
       "Product_Type               0\n",
       "Product_Category           0\n",
       "dtype: int64"
      ]
     },
     "execution_count": 16,
     "metadata": {},
     "output_type": "execute_result"
    }
   ],
   "source": [
    "assessment.isnull().sum().sort_values(ascending=False)"
   ]
  },
  {
   "cell_type": "code",
   "execution_count": 17,
   "id": "5766a3b7",
   "metadata": {},
   "outputs": [
    {
     "data": {
      "text/html": [
       "<div>\n",
       "<style scoped>\n",
       "    .dataframe tbody tr th:only-of-type {\n",
       "        vertical-align: middle;\n",
       "    }\n",
       "\n",
       "    .dataframe tbody tr th {\n",
       "        vertical-align: top;\n",
       "    }\n",
       "\n",
       "    .dataframe thead th {\n",
       "        text-align: right;\n",
       "    }\n",
       "</style>\n",
       "<table border=\"1\" class=\"dataframe\">\n",
       "  <thead>\n",
       "    <tr style=\"text-align: right;\">\n",
       "      <th></th>\n",
       "      <th>user_id</th>\n",
       "      <th>Channel</th>\n",
       "      <th>TotalTransactionAmount</th>\n",
       "      <th>Tx_Count</th>\n",
       "      <th>DaysSinceLastTrans</th>\n",
       "      <th>reseller_id</th>\n",
       "      <th>superdealer_id</th>\n",
       "    </tr>\n",
       "  </thead>\n",
       "  <tbody>\n",
       "    <tr>\n",
       "      <th>count</th>\n",
       "      <td>2635.000000</td>\n",
       "      <td>2635.000000</td>\n",
       "      <td>2.635000e+03</td>\n",
       "      <td>2635.000000</td>\n",
       "      <td>2635.000000</td>\n",
       "      <td>2635.000000</td>\n",
       "      <td>2635.000000</td>\n",
       "    </tr>\n",
       "    <tr>\n",
       "      <th>mean</th>\n",
       "      <td>1251.568880</td>\n",
       "      <td>1.730171</td>\n",
       "      <td>5.815019e+04</td>\n",
       "      <td>91.971157</td>\n",
       "      <td>119.154459</td>\n",
       "      <td>108.794307</td>\n",
       "      <td>389.943833</td>\n",
       "    </tr>\n",
       "    <tr>\n",
       "      <th>std</th>\n",
       "      <td>664.557929</td>\n",
       "      <td>1.833953</td>\n",
       "      <td>5.766734e+05</td>\n",
       "      <td>1223.775908</td>\n",
       "      <td>84.336623</td>\n",
       "      <td>379.528720</td>\n",
       "      <td>271.454742</td>\n",
       "    </tr>\n",
       "    <tr>\n",
       "      <th>min</th>\n",
       "      <td>3.000000</td>\n",
       "      <td>1.000000</td>\n",
       "      <td>1.000000e+00</td>\n",
       "      <td>1.000000</td>\n",
       "      <td>30.000000</td>\n",
       "      <td>0.000000</td>\n",
       "      <td>0.000000</td>\n",
       "    </tr>\n",
       "    <tr>\n",
       "      <th>25%</th>\n",
       "      <td>816.000000</td>\n",
       "      <td>1.000000</td>\n",
       "      <td>2.000000e+02</td>\n",
       "      <td>1.000000</td>\n",
       "      <td>54.000000</td>\n",
       "      <td>0.000000</td>\n",
       "      <td>447.000000</td>\n",
       "    </tr>\n",
       "    <tr>\n",
       "      <th>50%</th>\n",
       "      <td>1140.000000</td>\n",
       "      <td>1.000000</td>\n",
       "      <td>1.000000e+03</td>\n",
       "      <td>3.000000</td>\n",
       "      <td>107.000000</td>\n",
       "      <td>0.000000</td>\n",
       "      <td>447.000000</td>\n",
       "    </tr>\n",
       "    <tr>\n",
       "      <th>75%</th>\n",
       "      <td>1613.500000</td>\n",
       "      <td>2.000000</td>\n",
       "      <td>4.952000e+03</td>\n",
       "      <td>9.000000</td>\n",
       "      <td>147.000000</td>\n",
       "      <td>0.000000</td>\n",
       "      <td>447.000000</td>\n",
       "    </tr>\n",
       "    <tr>\n",
       "      <th>max</th>\n",
       "      <td>2725.000000</td>\n",
       "      <td>10.000000</td>\n",
       "      <td>2.086921e+07</td>\n",
       "      <td>46531.000000</td>\n",
       "      <td>735.000000</td>\n",
       "      <td>2557.000000</td>\n",
       "      <td>2494.000000</td>\n",
       "    </tr>\n",
       "  </tbody>\n",
       "</table>\n",
       "</div>"
      ],
      "text/plain": [
       "           user_id      Channel  TotalTransactionAmount      Tx_Count  \\\n",
       "count  2635.000000  2635.000000            2.635000e+03   2635.000000   \n",
       "mean   1251.568880     1.730171            5.815019e+04     91.971157   \n",
       "std     664.557929     1.833953            5.766734e+05   1223.775908   \n",
       "min       3.000000     1.000000            1.000000e+00      1.000000   \n",
       "25%     816.000000     1.000000            2.000000e+02      1.000000   \n",
       "50%    1140.000000     1.000000            1.000000e+03      3.000000   \n",
       "75%    1613.500000     2.000000            4.952000e+03      9.000000   \n",
       "max    2725.000000    10.000000            2.086921e+07  46531.000000   \n",
       "\n",
       "       DaysSinceLastTrans  reseller_id  superdealer_id  \n",
       "count         2635.000000  2635.000000     2635.000000  \n",
       "mean           119.154459   108.794307      389.943833  \n",
       "std             84.336623   379.528720      271.454742  \n",
       "min             30.000000     0.000000        0.000000  \n",
       "25%             54.000000     0.000000      447.000000  \n",
       "50%            107.000000     0.000000      447.000000  \n",
       "75%            147.000000     0.000000      447.000000  \n",
       "max            735.000000  2557.000000     2494.000000  "
      ]
     },
     "execution_count": 17,
     "metadata": {},
     "output_type": "execute_result"
    }
   ],
   "source": [
    "assessment.describe()"
   ]
  },
  {
   "cell_type": "code",
   "execution_count": 18,
   "id": "558faaec",
   "metadata": {},
   "outputs": [
    {
     "name": "stdout",
     "output_type": "stream",
     "text": [
      "<class 'pandas.core.frame.DataFrame'>\n",
      "RangeIndex: 2635 entries, 0 to 2634\n",
      "Data columns (total 10 columns):\n",
      " #   Column                   Non-Null Count  Dtype  \n",
      "---  ------                   --------------  -----  \n",
      " 0   user_id                  2635 non-null   int64  \n",
      " 1   Channel                  2635 non-null   float64\n",
      " 2   TotalTransactionAmount   2635 non-null   int64  \n",
      " 3   Tx_Count                 2635 non-null   int64  \n",
      " 4   DaysSinceLastTrans       2635 non-null   int64  \n",
      " 5   reseller_id              2635 non-null   float64\n",
      " 6   superdealer_id           2635 non-null   float64\n",
      " 7   Product_ServiceProvider  2635 non-null   object \n",
      " 8   Product_Type             2635 non-null   object \n",
      " 9   Product_Category         2635 non-null   object \n",
      "dtypes: float64(3), int64(4), object(3)\n",
      "memory usage: 206.0+ KB\n"
     ]
    }
   ],
   "source": [
    "assessment.info()"
   ]
  },
  {
   "cell_type": "code",
   "execution_count": 19,
   "id": "1b847fa5",
   "metadata": {},
   "outputs": [],
   "source": [
    "assessment = assessment.drop(columns=['user_id'])"
   ]
  },
  {
   "cell_type": "code",
   "execution_count": 20,
   "id": "820b6178",
   "metadata": {},
   "outputs": [],
   "source": [
    "df = assessment.copy()"
   ]
  },
  {
   "cell_type": "code",
   "execution_count": 21,
   "id": "864af90a",
   "metadata": {},
   "outputs": [
    {
     "data": {
      "text/html": [
       "<div>\n",
       "<style scoped>\n",
       "    .dataframe tbody tr th:only-of-type {\n",
       "        vertical-align: middle;\n",
       "    }\n",
       "\n",
       "    .dataframe tbody tr th {\n",
       "        vertical-align: top;\n",
       "    }\n",
       "\n",
       "    .dataframe thead th {\n",
       "        text-align: right;\n",
       "    }\n",
       "</style>\n",
       "<table border=\"1\" class=\"dataframe\">\n",
       "  <thead>\n",
       "    <tr style=\"text-align: right;\">\n",
       "      <th></th>\n",
       "      <th>Channel</th>\n",
       "      <th>TotalTransactionAmount</th>\n",
       "      <th>Tx_Count</th>\n",
       "      <th>DaysSinceLastTrans</th>\n",
       "      <th>reseller_id</th>\n",
       "      <th>superdealer_id</th>\n",
       "      <th>Product_ServiceProvider</th>\n",
       "      <th>Product_Type</th>\n",
       "      <th>Product_Category</th>\n",
       "    </tr>\n",
       "  </thead>\n",
       "  <tbody>\n",
       "    <tr>\n",
       "      <th>0</th>\n",
       "      <td>8.0</td>\n",
       "      <td>532700</td>\n",
       "      <td>137</td>\n",
       "      <td>30</td>\n",
       "      <td>1130.0</td>\n",
       "      <td>18.0</td>\n",
       "      <td>Jos Electric</td>\n",
       "      <td>Postpaid</td>\n",
       "      <td>Electricity</td>\n",
       "    </tr>\n",
       "    <tr>\n",
       "      <th>1</th>\n",
       "      <td>1.0</td>\n",
       "      <td>1635552</td>\n",
       "      <td>131</td>\n",
       "      <td>30</td>\n",
       "      <td>0.0</td>\n",
       "      <td>18.0</td>\n",
       "      <td>MTN</td>\n",
       "      <td>Airtime</td>\n",
       "      <td>Telco</td>\n",
       "    </tr>\n",
       "    <tr>\n",
       "      <th>2</th>\n",
       "      <td>8.0</td>\n",
       "      <td>548300</td>\n",
       "      <td>114</td>\n",
       "      <td>30</td>\n",
       "      <td>1130.0</td>\n",
       "      <td>18.0</td>\n",
       "      <td>Jos Electric</td>\n",
       "      <td>Postpaid</td>\n",
       "      <td>Electricity</td>\n",
       "    </tr>\n",
       "    <tr>\n",
       "      <th>3</th>\n",
       "      <td>2.0</td>\n",
       "      <td>12200</td>\n",
       "      <td>13</td>\n",
       "      <td>30</td>\n",
       "      <td>0.0</td>\n",
       "      <td>447.0</td>\n",
       "      <td>Airtel</td>\n",
       "      <td>Data</td>\n",
       "      <td>Telco</td>\n",
       "    </tr>\n",
       "    <tr>\n",
       "      <th>4</th>\n",
       "      <td>8.0</td>\n",
       "      <td>211700</td>\n",
       "      <td>75</td>\n",
       "      <td>30</td>\n",
       "      <td>1130.0</td>\n",
       "      <td>18.0</td>\n",
       "      <td>Jos Electric</td>\n",
       "      <td>Prepaid</td>\n",
       "      <td>Electricity</td>\n",
       "    </tr>\n",
       "  </tbody>\n",
       "</table>\n",
       "</div>"
      ],
      "text/plain": [
       "   Channel  TotalTransactionAmount  Tx_Count  DaysSinceLastTrans  reseller_id  \\\n",
       "0      8.0                  532700       137                  30       1130.0   \n",
       "1      1.0                 1635552       131                  30          0.0   \n",
       "2      8.0                  548300       114                  30       1130.0   \n",
       "3      2.0                   12200        13                  30          0.0   \n",
       "4      8.0                  211700        75                  30       1130.0   \n",
       "\n",
       "   superdealer_id Product_ServiceProvider Product_Type Product_Category  \n",
       "0            18.0            Jos Electric     Postpaid      Electricity  \n",
       "1            18.0                     MTN      Airtime            Telco  \n",
       "2            18.0            Jos Electric     Postpaid      Electricity  \n",
       "3           447.0                  Airtel         Data            Telco  \n",
       "4            18.0            Jos Electric      Prepaid      Electricity  "
      ]
     },
     "execution_count": 21,
     "metadata": {},
     "output_type": "execute_result"
    }
   ],
   "source": [
    "df.head()"
   ]
  },
  {
   "cell_type": "code",
   "execution_count": 22,
   "id": "ee555025",
   "metadata": {},
   "outputs": [],
   "source": [
    "# Turn categorical variables into numbers\n",
    "for label, content in df.items():\n",
    "    if not pd.api.types.is_numeric_dtype(content):\n",
    "        # We add the +1 because pandas encodes missing categories as -1\n",
    "        df[label] = pd.Categorical(content).codes+1"
   ]
  },
  {
   "cell_type": "code",
   "execution_count": 23,
   "id": "314ec547",
   "metadata": {},
   "outputs": [
    {
     "name": "stdout",
     "output_type": "stream",
     "text": [
      "<class 'pandas.core.frame.DataFrame'>\n",
      "RangeIndex: 2635 entries, 0 to 2634\n",
      "Data columns (total 9 columns):\n",
      " #   Column                   Non-Null Count  Dtype  \n",
      "---  ------                   --------------  -----  \n",
      " 0   Channel                  2635 non-null   float64\n",
      " 1   TotalTransactionAmount   2635 non-null   int64  \n",
      " 2   Tx_Count                 2635 non-null   int64  \n",
      " 3   DaysSinceLastTrans       2635 non-null   int64  \n",
      " 4   reseller_id              2635 non-null   float64\n",
      " 5   superdealer_id           2635 non-null   float64\n",
      " 6   Product_ServiceProvider  2635 non-null   int8   \n",
      " 7   Product_Type             2635 non-null   int8   \n",
      " 8   Product_Category         2635 non-null   int8   \n",
      "dtypes: float64(3), int64(3), int8(3)\n",
      "memory usage: 131.4 KB\n"
     ]
    }
   ],
   "source": [
    "df.info()"
   ]
  },
  {
   "cell_type": "code",
   "execution_count": 24,
   "id": "7a884ff3",
   "metadata": {},
   "outputs": [],
   "source": [
    "# Standardization rescales data to have a mean (𝜇) of 0 and standard deviation (𝜎) of 1 (unit variance).\n",
    "for i in df.columns:\n",
    "    df.loc[:, i] = StandardScaler().fit_transform(np.array(df[[i]]))"
   ]
  },
  {
   "cell_type": "markdown",
   "id": "2b6422ce",
   "metadata": {},
   "source": [
    "## Modeling clusters\n",
    "\n",
    "### Clustering using K-Prototypes"
   ]
  },
  {
   "cell_type": "code",
   "execution_count": 25,
   "id": "bf459a26",
   "metadata": {},
   "outputs": [
    {
     "data": {
      "image/png": "[encoded data removed]",
      "text/plain": [
       "<Figure size 864x576 with 1 Axes>"
      ]
     },
     "metadata": {
      "needs_background": "light"
     },
     "output_type": "display_data"
    }
   ],
   "source": [
    "from kmodes.kprototypes import KPrototypes\n",
    "\n",
    "# Choosing optimal K\n",
    "cost = []\n",
    "for k in range(1,10):\n",
    "    kproto = KPrototypes(n_clusters=k, init='Cao', random_state=42)\n",
    "    kproto.fit_predict(df, categorical=[1,2])\n",
    "    cost.append(kproto.cost_)\n",
    "\n",
    "fig, ax = plt.subplots(figsize =(12, 8))\n",
    "\n",
    "plt.plot(range(1,10), cost, 'bo-', color = '#FFC300')\n",
    "plt.xlabel('k', size = 14)\n",
    "plt.ylabel('Distortion', size = 14)\n",
    "plt.tick_params(axis='x')\n",
    "plt.tick_params(axis='y')\n",
    "\n",
    "# Hide the right and top spines\n",
    "ax.spines['right'].set_visible(False)\n",
    "ax.spines['top'].set_visible(False)\n",
    "\n",
    "plt.show()"
   ]
  },
  {
   "cell_type": "markdown",
   "id": "cbf95a29",
   "metadata": {},
   "source": [
    "We use the *Elbow Method* to determine the optimal number of clusters to use. In our case, we'll choose **4 clusters**."
   ]
  },
  {
   "cell_type": "code",
   "execution_count": 26,
   "id": "be2b348f",
   "metadata": {},
   "outputs": [],
   "source": [
    "# Clustering\n",
    "kproto = KPrototypes(n_clusters= 4, init='Cao', n_jobs = 4)\n",
    "clusters = kproto.fit_predict(df, categorical=[1,2])"
   ]
  },
  {
   "cell_type": "code",
   "execution_count": 27,
   "id": "9025464c",
   "metadata": {},
   "outputs": [],
   "source": [
    "# Merging original data with clusters\n",
    "df_clusters = pd.concat([assessment, pd.DataFrame({'cluster': clusters})], axis=1)"
   ]
  },
  {
   "cell_type": "code",
   "execution_count": 37,
   "id": "87a53a04",
   "metadata": {},
   "outputs": [
    {
     "data": {
      "image/png": "[encoded data removed]",
      "text/plain": [
       "<Figure size 864x360 with 4 Axes>"
      ]
     },
     "metadata": {
      "needs_background": "light"
     },
     "output_type": "display_data"
    },
    {
     "data": {
      "image/png": "[encoded data removed]",
      "text/plain": [
       "<Figure size 864x360 with 4 Axes>"
      ]
     },
     "metadata": {
      "needs_background": "light"
     },
     "output_type": "display_data"
    },
    {
     "data": {
      "image/png": "[encoded data removed]",
      "text/plain": [
       "<Figure size 864x360 with 4 Axes>"
      ]
     },
     "metadata": {
      "needs_background": "light"
     },
     "output_type": "display_data"
    },
    {
     "data": {
      "image/png": "[encoded data removed]",
      "text/plain": [
       "<Figure size 864x360 with 4 Axes>"
      ]
     },
     "metadata": {
      "needs_background": "light"
     },
     "output_type": "display_data"
    },
    {
     "data": {
      "image/png": "[encoded data removed]",
      "text/plain": [
       "<Figure size 864x360 with 4 Axes>"
      ]
     },
     "metadata": {
      "needs_background": "light"
     },
     "output_type": "display_data"
    },
    {
     "data": {
      "image/png": "[encoded data removed]",
      "text/plain": [
       "<Figure size 864x360 with 4 Axes>"
      ]
     },
     "metadata": {
      "needs_background": "light"
     },
     "output_type": "display_data"
    },
    {
     "data": {
      "image/png": "[encoded data removed]",
      "text/plain": [
       "<Figure size 864x360 with 4 Axes>"
      ]
     },
     "metadata": {
      "needs_background": "light"
     },
     "output_type": "display_data"
    },
    {
     "data": {
      "image/png": "[encoded data removed]",
      "text/plain": [
       "<Figure size 864x360 with 4 Axes>"
      ]
     },
     "metadata": {
      "needs_background": "light"
     },
     "output_type": "display_data"
    },
    {
     "data": {
      "image/png": "[encoded data removed]",
      "text/plain": [
       "<Figure size 864x360 with 4 Axes>"
      ]
     },
     "metadata": {
      "needs_background": "light"
     },
     "output_type": "display_data"
    },
    {
     "data": {
      "image/png": "[encoded data removed]",
      "text/plain": [
       "<Figure size 864x360 with 4 Axes>"
      ]
     },
     "metadata": {
      "needs_background": "light"
     },
     "output_type": "display_data"
    }
   ],
   "source": [
    "# Clusters interpretation\n",
    "for i in df_clusters:\n",
    "    g = sns.FacetGrid(df_clusters, col = \"cluster\", hue = \"cluster\", palette = \"Set2\")\n",
    "    g.map(plt.hist, i, bins=15, ec=\"k\") \n",
    "    g.set_xticklabels(rotation=30)\n",
    "    g.set_yticklabels()\n",
    "    g.set_xlabels(size=15)\n",
    "    g.set_titles(size=15, color = '#FFC300', fontweight=\"bold\")\n",
    "    g.fig.set_figheight(5)"
   ]
  },
  {
   "cell_type": "markdown",
   "id": "9f276447",
   "metadata": {},
   "source": [
    "* **Cluster 0:** Customers here mainly use Channel 8 and a little bit of channel 6&10. They don't spend much as compared to those in Cluster 1, they have little transaction count and purchase product from reseller within the ID no 0-464 while a little use reseller with the ID 2379. They purchase product across all service providers which majority use for Data\n",
    "\n",
    "* **Cluster 1:** Customers here mainly use Channel 1 and some use channel 2, hearvy spenders as their TotalTransactionAmount is on the high side. They have high transaction count and are active customers. They purchase goods and product mainly from reseller within the ID no 0&56  while a few uses reseller with the ID 1130. They purchase product mainly from MTN, 9Mobile, Glo and Airtel which majority use for Airtime while some use it for Data\n",
    "\n",
    "* **Cluster 2:** Customers here mainly use Channel 2 and a little bit of channel 1,3,4,5,6,8. They don't spend much as compared to those in Cluster 1, they have fair bit of transaction count and purchase product from reseller within the ID no 0-553 while a few use reseller with the ID 2557. They purchase product mainly from MTN and few purchase from 9Mobile, Glo and Airtel which majority use for Airtime while some use it for Data\n",
    "\n",
    "* **Cluster 3:** Customers here mainly use Channel 1 and some use channel 2, they spend little. They have little transaction count, and purchase product from reseller within the ID no 2379-2557. They purchase product mainly from MTN, 9Mobile, Glo and Airtel which majority use for Airtime while some use it for Data"
   ]
  },
  {
   "cell_type": "code",
   "execution_count": 38,
   "id": "4ea2f289",
   "metadata": {},
   "outputs": [
    {
     "data": {
      "text/plain": [
       "MTN                      813\n",
       "Airtel                   700\n",
       "Glo                      422\n",
       "9mobile                  355\n",
       "missing                  179\n",
       "Jamb                      42\n",
       "Eko Electric              33\n",
       "Jos Electric              32\n",
       "Ikeja Electric            18\n",
       "DSTV                      13\n",
       "Ibadan Electric           13\n",
       "GOTV                      10\n",
       "Portharcourt Electric      3\n",
       "Startimes                  2\n",
       "Name: Product_ServiceProvider, dtype: int64"
      ]
     },
     "execution_count": 38,
     "metadata": {},
     "output_type": "execute_result"
    }
   ],
   "source": [
    "assessment['Product_ServiceProvider'].value_counts() "
   ]
  },
  {
   "cell_type": "code",
   "execution_count": null,
   "id": "2f4a78cd",
   "metadata": {},
   "outputs": [],
   "source": []
  }
 ],
 "metadata": {
  "kernelspec": {
   "display_name": "Python 3",
   "language": "python",
   "name": "python3"
  },
  "language_info": {
   "codemirror_mode": {
    "name": "ipython",
    "version": 3
   },
   "file_extension": ".py",
   "mimetype": "text/x-python",
   "name": "python",
   "nbconvert_exporter": "python",
   "pygments_lexer": "ipython3",
   "version": "3.8.8"
  }
 },
 "nbformat": 4,
 "nbformat_minor": 5
}
