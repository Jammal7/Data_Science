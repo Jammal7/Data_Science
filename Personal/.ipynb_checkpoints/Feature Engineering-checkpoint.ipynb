{
 "cells": [
  {
   "cell_type": "markdown",
   "id": "212c125c",
   "metadata": {},
   "source": [
    "## Feature Engineering\n",
    "\n",
    "It is the process of using domain knowledge to extract features from raw data via data mining techniques.\n",
    "\n",
    "There are 3 general approaches to feature engineering:\n",
    "1. Extracting Information \n",
    "2. Combining Information\n",
    "3. Transforming Information"
   ]
  },
  {
   "cell_type": "code",
   "execution_count": null,
   "id": "b8057615",
   "metadata": {},
   "outputs": [],
   "source": []
  }
 ],
 "metadata": {
  "kernelspec": {
   "display_name": "Python 3",
   "language": "python",
   "name": "python3"
  },
  "language_info": {
   "codemirror_mode": {
    "name": "ipython",
    "version": 3
   },
   "file_extension": ".py",
   "mimetype": "text/x-python",
   "name": "python",
   "nbconvert_exporter": "python",
   "pygments_lexer": "ipython3",
   "version": "3.8.8"
  }
 },
 "nbformat": 4,
 "nbformat_minor": 5
}
