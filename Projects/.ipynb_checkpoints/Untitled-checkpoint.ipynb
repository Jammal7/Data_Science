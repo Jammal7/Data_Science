{
 "cells": [
  {
   "cell_type": "code",
   "execution_count": 1,
   "id": "91a0e669",
   "metadata": {},
   "outputs": [],
   "source": [
    "#pip install opendatasets --upgrade --quiet"
   ]
  },
  {
   "cell_type": "code",
   "execution_count": 2,
   "id": "428991e8",
   "metadata": {},
   "outputs": [],
   "source": [
    "#import opendatasets as od\n",
    "#download_url = 'https://www.kaggle.com/sobhanmoosavi/us-accidents'\n",
    "#od.download(download_url)\n",
    "\n",
    "#input your kaggle username and get your apikey from your kaggle acct"
   ]
  },
  {
   "cell_type": "code",
   "execution_count": null,
   "id": "cd5a4c67",
   "metadata": {},
   "outputs": [],
   "source": []
  }
 ],
 "metadata": {
  "kernelspec": {
   "display_name": "Python 3",
   "language": "python",
   "name": "python3"
  },
  "language_info": {
   "codemirror_mode": {
    "name": "ipython",
    "version": 3
   },
   "file_extension": ".py",
   "mimetype": "text/x-python",
   "name": "python",
   "nbconvert_exporter": "python",
   "pygments_lexer": "ipython3",
   "version": "3.8.8"
  }
 },
 "nbformat": 4,
 "nbformat_minor": 5
}
