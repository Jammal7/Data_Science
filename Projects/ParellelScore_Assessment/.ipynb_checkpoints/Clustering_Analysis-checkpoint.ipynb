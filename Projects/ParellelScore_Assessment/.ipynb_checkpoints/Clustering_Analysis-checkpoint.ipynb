{
 "cells": [
  {
   "cell_type": "code",
   "execution_count": 1,
   "id": "c1117dbd",
   "metadata": {},
   "outputs": [],
   "source": [
    "import pandas as pd\n",
    "import numpy as np\n",
    "import seaborn as sns\n",
    "%matplotlib inline\n",
    "import matplotlib.pyplot as plt"
   ]
  },
  {
   "cell_type": "code",
   "execution_count": 2,
   "id": "c893c6ea",
   "metadata": {},
   "outputs": [
    {
     "data": {
      "text/html": [
       "<div>\n",
       "<style scoped>\n",
       "    .dataframe tbody tr th:only-of-type {\n",
       "        vertical-align: middle;\n",
       "    }\n",
       "\n",
       "    .dataframe tbody tr th {\n",
       "        vertical-align: top;\n",
       "    }\n",
       "\n",
       "    .dataframe thead th {\n",
       "        text-align: right;\n",
       "    }\n",
       "</style>\n",
       "<table border=\"1\" class=\"dataframe\">\n",
       "  <thead>\n",
       "    <tr style=\"text-align: right;\">\n",
       "      <th></th>\n",
       "      <th>user_id</th>\n",
       "      <th>Channel</th>\n",
       "      <th>TotalTransactionAmount</th>\n",
       "      <th>Tx_Count</th>\n",
       "      <th>DaysSinceLastTrans</th>\n",
       "      <th>reseller_id</th>\n",
       "      <th>superdealer_id</th>\n",
       "      <th>Product_ServiceProvider</th>\n",
       "      <th>Product_Type</th>\n",
       "      <th>Product_Category</th>\n",
       "    </tr>\n",
       "  </thead>\n",
       "  <tbody>\n",
       "    <tr>\n",
       "      <th>0</th>\n",
       "      <td>1191</td>\n",
       "      <td>8.0</td>\n",
       "      <td>532700</td>\n",
       "      <td>137</td>\n",
       "      <td>30</td>\n",
       "      <td>1130.0</td>\n",
       "      <td>18.0</td>\n",
       "      <td>Jos Electric</td>\n",
       "      <td>Postpaid</td>\n",
       "      <td>Electricity</td>\n",
       "    </tr>\n",
       "    <tr>\n",
       "      <th>1</th>\n",
       "      <td>1287</td>\n",
       "      <td>1.0</td>\n",
       "      <td>1635552</td>\n",
       "      <td>131</td>\n",
       "      <td>30</td>\n",
       "      <td>0.0</td>\n",
       "      <td>18.0</td>\n",
       "      <td>MTN</td>\n",
       "      <td>Airtime</td>\n",
       "      <td>Telco</td>\n",
       "    </tr>\n",
       "    <tr>\n",
       "      <th>2</th>\n",
       "      <td>1168</td>\n",
       "      <td>8.0</td>\n",
       "      <td>548300</td>\n",
       "      <td>114</td>\n",
       "      <td>30</td>\n",
       "      <td>1130.0</td>\n",
       "      <td>18.0</td>\n",
       "      <td>Jos Electric</td>\n",
       "      <td>Postpaid</td>\n",
       "      <td>Electricity</td>\n",
       "    </tr>\n",
       "    <tr>\n",
       "      <th>3</th>\n",
       "      <td>1119</td>\n",
       "      <td>2.0</td>\n",
       "      <td>12200</td>\n",
       "      <td>13</td>\n",
       "      <td>30</td>\n",
       "      <td>0.0</td>\n",
       "      <td>447.0</td>\n",
       "      <td>Airtel</td>\n",
       "      <td>Data</td>\n",
       "      <td>Telco</td>\n",
       "    </tr>\n",
       "    <tr>\n",
       "      <th>4</th>\n",
       "      <td>1168</td>\n",
       "      <td>8.0</td>\n",
       "      <td>211700</td>\n",
       "      <td>75</td>\n",
       "      <td>30</td>\n",
       "      <td>1130.0</td>\n",
       "      <td>18.0</td>\n",
       "      <td>Jos Electric</td>\n",
       "      <td>Prepaid</td>\n",
       "      <td>Electricity</td>\n",
       "    </tr>\n",
       "  </tbody>\n",
       "</table>\n",
       "</div>"
      ],
      "text/plain": [
       "   user_id  Channel  TotalTransactionAmount  Tx_Count  DaysSinceLastTrans  \\\n",
       "0     1191      8.0                  532700       137                  30   \n",
       "1     1287      1.0                 1635552       131                  30   \n",
       "2     1168      8.0                  548300       114                  30   \n",
       "3     1119      2.0                   12200        13                  30   \n",
       "4     1168      8.0                  211700        75                  30   \n",
       "\n",
       "   reseller_id  superdealer_id Product_ServiceProvider Product_Type  \\\n",
       "0       1130.0            18.0            Jos Electric     Postpaid   \n",
       "1          0.0            18.0                     MTN      Airtime   \n",
       "2       1130.0            18.0            Jos Electric     Postpaid   \n",
       "3          0.0           447.0                  Airtel         Data   \n",
       "4       1130.0            18.0            Jos Electric      Prepaid   \n",
       "\n",
       "  Product_Category  \n",
       "0      Electricity  \n",
       "1            Telco  \n",
       "2      Electricity  \n",
       "3            Telco  \n",
       "4      Electricity  "
      ]
     },
     "execution_count": 2,
     "metadata": {},
     "output_type": "execute_result"
    }
   ],
   "source": [
    "df = pd.read_csv(\"assessment.csv\")\n",
    "df.head()"
   ]
  },
  {
   "cell_type": "code",
   "execution_count": 3,
   "id": "7ad5ea4d",
   "metadata": {},
   "outputs": [
    {
     "data": {
      "text/plain": [
       "(2635, 10)"
      ]
     },
     "execution_count": 3,
     "metadata": {},
     "output_type": "execute_result"
    }
   ],
   "source": [
    "df.shape"
   ]
  },
  {
   "cell_type": "code",
   "execution_count": 4,
   "id": "1ba16ff0",
   "metadata": {},
   "outputs": [
    {
     "data": {
      "text/html": [
       "<div>\n",
       "<style scoped>\n",
       "    .dataframe tbody tr th:only-of-type {\n",
       "        vertical-align: middle;\n",
       "    }\n",
       "\n",
       "    .dataframe tbody tr th {\n",
       "        vertical-align: top;\n",
       "    }\n",
       "\n",
       "    .dataframe thead th {\n",
       "        text-align: right;\n",
       "    }\n",
       "</style>\n",
       "<table border=\"1\" class=\"dataframe\">\n",
       "  <thead>\n",
       "    <tr style=\"text-align: right;\">\n",
       "      <th></th>\n",
       "      <th>user_id</th>\n",
       "      <th>Channel</th>\n",
       "      <th>TotalTransactionAmount</th>\n",
       "      <th>Tx_Count</th>\n",
       "      <th>DaysSinceLastTrans</th>\n",
       "      <th>reseller_id</th>\n",
       "      <th>superdealer_id</th>\n",
       "    </tr>\n",
       "  </thead>\n",
       "  <tbody>\n",
       "    <tr>\n",
       "      <th>count</th>\n",
       "      <td>2635.000000</td>\n",
       "      <td>2633.000000</td>\n",
       "      <td>2.635000e+03</td>\n",
       "      <td>2635.000000</td>\n",
       "      <td>2635.000000</td>\n",
       "      <td>2633.000000</td>\n",
       "      <td>2633.000000</td>\n",
       "    </tr>\n",
       "    <tr>\n",
       "      <th>mean</th>\n",
       "      <td>1251.568880</td>\n",
       "      <td>1.730725</td>\n",
       "      <td>5.815019e+04</td>\n",
       "      <td>91.971157</td>\n",
       "      <td>119.154459</td>\n",
       "      <td>108.876946</td>\n",
       "      <td>389.900494</td>\n",
       "    </tr>\n",
       "    <tr>\n",
       "      <th>std</th>\n",
       "      <td>664.557929</td>\n",
       "      <td>1.834539</td>\n",
       "      <td>5.766734e+05</td>\n",
       "      <td>1223.775908</td>\n",
       "      <td>84.336623</td>\n",
       "      <td>379.661037</td>\n",
       "      <td>271.553301</td>\n",
       "    </tr>\n",
       "    <tr>\n",
       "      <th>min</th>\n",
       "      <td>3.000000</td>\n",
       "      <td>1.000000</td>\n",
       "      <td>1.000000e+00</td>\n",
       "      <td>1.000000</td>\n",
       "      <td>30.000000</td>\n",
       "      <td>0.000000</td>\n",
       "      <td>0.000000</td>\n",
       "    </tr>\n",
       "    <tr>\n",
       "      <th>25%</th>\n",
       "      <td>816.000000</td>\n",
       "      <td>1.000000</td>\n",
       "      <td>2.000000e+02</td>\n",
       "      <td>1.000000</td>\n",
       "      <td>54.000000</td>\n",
       "      <td>0.000000</td>\n",
       "      <td>447.000000</td>\n",
       "    </tr>\n",
       "    <tr>\n",
       "      <th>50%</th>\n",
       "      <td>1140.000000</td>\n",
       "      <td>1.000000</td>\n",
       "      <td>1.000000e+03</td>\n",
       "      <td>3.000000</td>\n",
       "      <td>107.000000</td>\n",
       "      <td>0.000000</td>\n",
       "      <td>447.000000</td>\n",
       "    </tr>\n",
       "    <tr>\n",
       "      <th>75%</th>\n",
       "      <td>1613.500000</td>\n",
       "      <td>2.000000</td>\n",
       "      <td>4.952000e+03</td>\n",
       "      <td>9.000000</td>\n",
       "      <td>147.000000</td>\n",
       "      <td>0.000000</td>\n",
       "      <td>447.000000</td>\n",
       "    </tr>\n",
       "    <tr>\n",
       "      <th>max</th>\n",
       "      <td>2725.000000</td>\n",
       "      <td>10.000000</td>\n",
       "      <td>2.086921e+07</td>\n",
       "      <td>46531.000000</td>\n",
       "      <td>735.000000</td>\n",
       "      <td>2557.000000</td>\n",
       "      <td>2494.000000</td>\n",
       "    </tr>\n",
       "  </tbody>\n",
       "</table>\n",
       "</div>"
      ],
      "text/plain": [
       "           user_id      Channel  TotalTransactionAmount      Tx_Count  \\\n",
       "count  2635.000000  2633.000000            2.635000e+03   2635.000000   \n",
       "mean   1251.568880     1.730725            5.815019e+04     91.971157   \n",
       "std     664.557929     1.834539            5.766734e+05   1223.775908   \n",
       "min       3.000000     1.000000            1.000000e+00      1.000000   \n",
       "25%     816.000000     1.000000            2.000000e+02      1.000000   \n",
       "50%    1140.000000     1.000000            1.000000e+03      3.000000   \n",
       "75%    1613.500000     2.000000            4.952000e+03      9.000000   \n",
       "max    2725.000000    10.000000            2.086921e+07  46531.000000   \n",
       "\n",
       "       DaysSinceLastTrans  reseller_id  superdealer_id  \n",
       "count         2635.000000  2633.000000     2633.000000  \n",
       "mean           119.154459   108.876946      389.900494  \n",
       "std             84.336623   379.661037      271.553301  \n",
       "min             30.000000     0.000000        0.000000  \n",
       "25%             54.000000     0.000000      447.000000  \n",
       "50%            107.000000     0.000000      447.000000  \n",
       "75%            147.000000     0.000000      447.000000  \n",
       "max            735.000000  2557.000000     2494.000000  "
      ]
     },
     "execution_count": 4,
     "metadata": {},
     "output_type": "execute_result"
    }
   ],
   "source": [
    "df.describe()"
   ]
  },
  {
   "cell_type": "code",
   "execution_count": 5,
   "id": "582a85d2",
   "metadata": {},
   "outputs": [
    {
     "name": "stdout",
     "output_type": "stream",
     "text": [
      "<class 'pandas.core.frame.DataFrame'>\n",
      "RangeIndex: 2635 entries, 0 to 2634\n",
      "Data columns (total 10 columns):\n",
      " #   Column                   Non-Null Count  Dtype  \n",
      "---  ------                   --------------  -----  \n",
      " 0   user_id                  2635 non-null   int64  \n",
      " 1   Channel                  2633 non-null   float64\n",
      " 2   TotalTransactionAmount   2635 non-null   int64  \n",
      " 3   Tx_Count                 2635 non-null   int64  \n",
      " 4   DaysSinceLastTrans       2635 non-null   int64  \n",
      " 5   reseller_id              2633 non-null   float64\n",
      " 6   superdealer_id           2633 non-null   float64\n",
      " 7   Product_ServiceProvider  2456 non-null   object \n",
      " 8   Product_Type             2456 non-null   object \n",
      " 9   Product_Category         2456 non-null   object \n",
      "dtypes: float64(3), int64(4), object(3)\n",
      "memory usage: 206.0+ KB\n"
     ]
    }
   ],
   "source": [
    "df.info()"
   ]
  },
  {
   "cell_type": "code",
   "execution_count": 6,
   "id": "c8961f14",
   "metadata": {},
   "outputs": [
    {
     "data": {
      "text/plain": [
       "user_id                      0\n",
       "Channel                      2\n",
       "TotalTransactionAmount       0\n",
       "Tx_Count                     0\n",
       "DaysSinceLastTrans           0\n",
       "reseller_id                  2\n",
       "superdealer_id               2\n",
       "Product_ServiceProvider    179\n",
       "Product_Type               179\n",
       "Product_Category           179\n",
       "dtype: int64"
      ]
     },
     "execution_count": 6,
     "metadata": {},
     "output_type": "execute_result"
    }
   ],
   "source": [
    "df.isna().sum()"
   ]
  },
  {
   "cell_type": "code",
   "execution_count": 7,
   "id": "052c320a",
   "metadata": {},
   "outputs": [
    {
     "data": {
      "text/plain": [
       "True"
      ]
     },
     "execution_count": 7,
     "metadata": {},
     "output_type": "execute_result"
    }
   ],
   "source": [
    "pd.api.types.is_string_dtype(df[\"Product_ServiceProvider\"])"
   ]
  },
  {
   "cell_type": "code",
   "execution_count": 8,
   "id": "33e9fb32",
   "metadata": {},
   "outputs": [
    {
     "data": {
      "text/plain": [
       "MTN                      813\n",
       "Airtel                   700\n",
       "Glo                      422\n",
       "9mobile                  355\n",
       "Jamb                      42\n",
       "Eko Electric              33\n",
       "Jos Electric              32\n",
       "Ikeja Electric            18\n",
       "DSTV                      13\n",
       "Ibadan Electric           13\n",
       "GOTV                      10\n",
       "Portharcourt Electric      3\n",
       "Startimes                  2\n",
       "Name: Product_ServiceProvider, dtype: int64"
      ]
     },
     "execution_count": 8,
     "metadata": {},
     "output_type": "execute_result"
    }
   ],
   "source": [
    "df.Product_ServiceProvider.value_counts()"
   ]
  },
  {
   "cell_type": "code",
   "execution_count": 9,
   "id": "7672147d",
   "metadata": {},
   "outputs": [
    {
     "data": {
      "text/plain": [
       "Telco            2276\n",
       "Electricity        99\n",
       "Education          42\n",
       "Cable TV           25\n",
       "Universal Pin      14\n",
       "Name: Product_Category, dtype: int64"
      ]
     },
     "execution_count": 9,
     "metadata": {},
     "output_type": "execute_result"
    }
   ],
   "source": [
    "df.Product_Category.value_counts()"
   ]
  },
  {
   "cell_type": "code",
   "execution_count": 10,
   "id": "e437ec90",
   "metadata": {},
   "outputs": [
    {
     "data": {
      "text/plain": [
       "Airtime        1878\n",
       "Data            398\n",
       "Prepaid          71\n",
       "E-facility       42\n",
       "Postpaid         28\n",
       "Pay TV           25\n",
       "Voucher Pin      14\n",
       "Name: Product_Type, dtype: int64"
      ]
     },
     "execution_count": 10,
     "metadata": {},
     "output_type": "execute_result"
    }
   ],
   "source": [
    "df.Product_Type.value_counts()"
   ]
  },
  {
   "cell_type": "code",
   "execution_count": null,
   "id": "76044ca0",
   "metadata": {},
   "outputs": [],
   "source": []
  }
 ],
 "metadata": {
  "kernelspec": {
   "display_name": "Python 3",
   "language": "python",
   "name": "python3"
  },
  "language_info": {
   "codemirror_mode": {
    "name": "ipython",
    "version": 3
   },
   "file_extension": ".py",
   "mimetype": "text/x-python",
   "name": "python",
   "nbconvert_exporter": "python",
   "pygments_lexer": "ipython3",
   "version": "3.8.8"
  }
 },
 "nbformat": 4,
 "nbformat_minor": 5
}
