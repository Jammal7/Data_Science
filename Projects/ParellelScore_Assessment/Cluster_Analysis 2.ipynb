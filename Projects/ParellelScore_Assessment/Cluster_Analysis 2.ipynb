{
 "cells": [
  {
   "cell_type": "code",
   "execution_count": 1,
   "id": "b98d5dbc",
   "metadata": {},
   "outputs": [],
   "source": [
    "import pandas as pd\n",
    "import numpy as np\n",
    "import seaborn as sns\n",
    "%matplotlib inline\n",
    "import matplotlib.pyplot as plt\n",
    "\n",
    "from sklearn.cluster import AgglomerativeClustering, KMeans\n",
    "from scipy.cluster.hierarchy import dendrogram, linkage\n",
    "from sklearn.preprocessing import StandardScaler"
   ]
  },
  {
   "cell_type": "code",
   "execution_count": 2,
   "id": "2b1f040d",
   "metadata": {},
   "outputs": [
    {
     "data": {
      "text/html": [
       "<div>\n",
       "<style scoped>\n",
       "    .dataframe tbody tr th:only-of-type {\n",
       "        vertical-align: middle;\n",
       "    }\n",
       "\n",
       "    .dataframe tbody tr th {\n",
       "        vertical-align: top;\n",
       "    }\n",
       "\n",
       "    .dataframe thead th {\n",
       "        text-align: right;\n",
       "    }\n",
       "</style>\n",
       "<table border=\"1\" class=\"dataframe\">\n",
       "  <thead>\n",
       "    <tr style=\"text-align: right;\">\n",
       "      <th></th>\n",
       "      <th>user_id</th>\n",
       "      <th>Channel</th>\n",
       "      <th>TotalTransactionAmount</th>\n",
       "      <th>Tx_Count</th>\n",
       "      <th>DaysSinceLastTrans</th>\n",
       "      <th>reseller_id</th>\n",
       "      <th>superdealer_id</th>\n",
       "      <th>Product_ServiceProvider</th>\n",
       "      <th>Product_Type</th>\n",
       "      <th>Product_Category</th>\n",
       "    </tr>\n",
       "  </thead>\n",
       "  <tbody>\n",
       "    <tr>\n",
       "      <th>0</th>\n",
       "      <td>1191</td>\n",
       "      <td>8.0</td>\n",
       "      <td>532700</td>\n",
       "      <td>137</td>\n",
       "      <td>30</td>\n",
       "      <td>1130.0</td>\n",
       "      <td>18.0</td>\n",
       "      <td>Jos Electric</td>\n",
       "      <td>Postpaid</td>\n",
       "      <td>Electricity</td>\n",
       "    </tr>\n",
       "    <tr>\n",
       "      <th>1</th>\n",
       "      <td>1287</td>\n",
       "      <td>1.0</td>\n",
       "      <td>1635552</td>\n",
       "      <td>131</td>\n",
       "      <td>30</td>\n",
       "      <td>0.0</td>\n",
       "      <td>18.0</td>\n",
       "      <td>MTN</td>\n",
       "      <td>Airtime</td>\n",
       "      <td>Telco</td>\n",
       "    </tr>\n",
       "    <tr>\n",
       "      <th>2</th>\n",
       "      <td>1168</td>\n",
       "      <td>8.0</td>\n",
       "      <td>548300</td>\n",
       "      <td>114</td>\n",
       "      <td>30</td>\n",
       "      <td>1130.0</td>\n",
       "      <td>18.0</td>\n",
       "      <td>Jos Electric</td>\n",
       "      <td>Postpaid</td>\n",
       "      <td>Electricity</td>\n",
       "    </tr>\n",
       "    <tr>\n",
       "      <th>3</th>\n",
       "      <td>1119</td>\n",
       "      <td>2.0</td>\n",
       "      <td>12200</td>\n",
       "      <td>13</td>\n",
       "      <td>30</td>\n",
       "      <td>0.0</td>\n",
       "      <td>447.0</td>\n",
       "      <td>Airtel</td>\n",
       "      <td>Data</td>\n",
       "      <td>Telco</td>\n",
       "    </tr>\n",
       "    <tr>\n",
       "      <th>4</th>\n",
       "      <td>1168</td>\n",
       "      <td>8.0</td>\n",
       "      <td>211700</td>\n",
       "      <td>75</td>\n",
       "      <td>30</td>\n",
       "      <td>1130.0</td>\n",
       "      <td>18.0</td>\n",
       "      <td>Jos Electric</td>\n",
       "      <td>Prepaid</td>\n",
       "      <td>Electricity</td>\n",
       "    </tr>\n",
       "  </tbody>\n",
       "</table>\n",
       "</div>"
      ],
      "text/plain": [
       "   user_id  Channel  TotalTransactionAmount  Tx_Count  DaysSinceLastTrans  \\\n",
       "0     1191      8.0                  532700       137                  30   \n",
       "1     1287      1.0                 1635552       131                  30   \n",
       "2     1168      8.0                  548300       114                  30   \n",
       "3     1119      2.0                   12200        13                  30   \n",
       "4     1168      8.0                  211700        75                  30   \n",
       "\n",
       "   reseller_id  superdealer_id Product_ServiceProvider Product_Type  \\\n",
       "0       1130.0            18.0            Jos Electric     Postpaid   \n",
       "1          0.0            18.0                     MTN      Airtime   \n",
       "2       1130.0            18.0            Jos Electric     Postpaid   \n",
       "3          0.0           447.0                  Airtel         Data   \n",
       "4       1130.0            18.0            Jos Electric      Prepaid   \n",
       "\n",
       "  Product_Category  \n",
       "0      Electricity  \n",
       "1            Telco  \n",
       "2      Electricity  \n",
       "3            Telco  \n",
       "4      Electricity  "
      ]
     },
     "execution_count": 2,
     "metadata": {},
     "output_type": "execute_result"
    }
   ],
   "source": [
    "df = pd.read_csv(\"assessment.csv\")\n",
    "df.head()"
   ]
  },
  {
   "cell_type": "code",
   "execution_count": 3,
   "id": "ba03e0ed",
   "metadata": {},
   "outputs": [
    {
     "data": {
      "text/plain": [
       "(2635, 10)"
      ]
     },
     "execution_count": 3,
     "metadata": {},
     "output_type": "execute_result"
    }
   ],
   "source": [
    "df.shape"
   ]
  },
  {
   "cell_type": "code",
   "execution_count": 4,
   "id": "5ee8d2af",
   "metadata": {},
   "outputs": [
    {
     "data": {
      "text/plain": [
       "Product_ServiceProvider    179\n",
       "Product_Type               179\n",
       "Product_Category           179\n",
       "Channel                      2\n",
       "reseller_id                  2\n",
       "dtype: int64"
      ]
     },
     "execution_count": 4,
     "metadata": {},
     "output_type": "execute_result"
    }
   ],
   "source": [
    "# Do we have missing values?\n",
    "df.isnull().sum().sort_values(ascending=False).head()  "
   ]
  },
  {
   "cell_type": "code",
   "execution_count": 5,
   "id": "a08cca26",
   "metadata": {},
   "outputs": [],
   "source": [
    "# Imputing missing values with mean\n",
    "df.loc[(df['Channel'].isnull() == True), 'Channel'] = df['Channel'].mean()\n",
    "df.loc[(df['reseller_id'].isnull() == True), 'reseller_id'] = df['reseller_id'].mean()\n",
    "df.loc[(df['superdealer_id'].isnull() == True), 'superdealer_id'] = df['superdealer_id'].mean()"
   ]
  },
  {
   "cell_type": "code",
   "execution_count": 6,
   "id": "2dce11b2",
   "metadata": {},
   "outputs": [
    {
     "data": {
      "text/plain": [
       "Product_ServiceProvider    179\n",
       "Product_Type               179\n",
       "Product_Category           179\n",
       "user_id                      0\n",
       "Channel                      0\n",
       "dtype: int64"
      ]
     },
     "execution_count": 6,
     "metadata": {},
     "output_type": "execute_result"
    }
   ],
   "source": [
    "df.isnull().sum().sort_values(ascending=False).head()"
   ]
  },
  {
   "cell_type": "code",
   "execution_count": 7,
   "id": "4f1b6f53",
   "metadata": {},
   "outputs": [],
   "source": [
    "df[\"Product_ServiceProvider\"].fillna(\"missing\", inplace = True)\n",
    "df[\"Product_Type\"].fillna(\"missing\", inplace = True)\n",
    "df[\"Product_Category\"].fillna(\"missing\", inplace = True)"
   ]
  },
  {
   "cell_type": "code",
   "execution_count": 8,
   "id": "bee2f303",
   "metadata": {},
   "outputs": [
    {
     "data": {
      "text/plain": [
       "user_id                   0\n",
       "Channel                   0\n",
       "TotalTransactionAmount    0\n",
       "Tx_Count                  0\n",
       "DaysSinceLastTrans        0\n",
       "dtype: int64"
      ]
     },
     "execution_count": 8,
     "metadata": {},
     "output_type": "execute_result"
    }
   ],
   "source": [
    "df.isnull().sum().sort_values(ascending=False).head()"
   ]
  },
  {
   "cell_type": "code",
   "execution_count": 9,
   "id": "c20ebe68",
   "metadata": {},
   "outputs": [
    {
     "data": {
      "text/plain": [
       "MTN                      813\n",
       "Airtel                   700\n",
       "Glo                      422\n",
       "9mobile                  355\n",
       "missing                  179\n",
       "Jamb                      42\n",
       "Eko Electric              33\n",
       "Jos Electric              32\n",
       "Ikeja Electric            18\n",
       "DSTV                      13\n",
       "Ibadan Electric           13\n",
       "GOTV                      10\n",
       "Portharcourt Electric      3\n",
       "Startimes                  2\n",
       "Name: Product_ServiceProvider, dtype: int64"
      ]
     },
     "execution_count": 9,
     "metadata": {},
     "output_type": "execute_result"
    }
   ],
   "source": [
    "df['Product_ServiceProvider'].value_counts() "
   ]
  },
  {
   "cell_type": "code",
   "execution_count": 10,
   "id": "4ff57054",
   "metadata": {},
   "outputs": [
    {
     "data": {
      "text/plain": [
       "Airtime        1878\n",
       "Data            398\n",
       "missing         179\n",
       "Prepaid          71\n",
       "E-facility       42\n",
       "Postpaid         28\n",
       "Pay TV           25\n",
       "Voucher Pin      14\n",
       "Name: Product_Type, dtype: int64"
      ]
     },
     "execution_count": 10,
     "metadata": {},
     "output_type": "execute_result"
    }
   ],
   "source": [
    "df['Product_Type'].value_counts() "
   ]
  },
  {
   "cell_type": "code",
   "execution_count": 11,
   "id": "4c57185c",
   "metadata": {
    "scrolled": true
   },
   "outputs": [
    {
     "data": {
      "text/plain": [
       "Telco            2276\n",
       "missing           179\n",
       "Electricity        99\n",
       "Education          42\n",
       "Cable TV           25\n",
       "Universal Pin      14\n",
       "Name: Product_Category, dtype: int64"
      ]
     },
     "execution_count": 11,
     "metadata": {},
     "output_type": "execute_result"
    }
   ],
   "source": [
    "df['Product_Category'].value_counts() "
   ]
  },
  {
   "cell_type": "code",
   "execution_count": 12,
   "id": "ba3c36d7",
   "metadata": {},
   "outputs": [
    {
     "data": {
      "text/html": [
       "<div>\n",
       "<style scoped>\n",
       "    .dataframe tbody tr th:only-of-type {\n",
       "        vertical-align: middle;\n",
       "    }\n",
       "\n",
       "    .dataframe tbody tr th {\n",
       "        vertical-align: top;\n",
       "    }\n",
       "\n",
       "    .dataframe thead th {\n",
       "        text-align: right;\n",
       "    }\n",
       "</style>\n",
       "<table border=\"1\" class=\"dataframe\">\n",
       "  <thead>\n",
       "    <tr style=\"text-align: right;\">\n",
       "      <th></th>\n",
       "      <th>user_id</th>\n",
       "      <th>Channel</th>\n",
       "      <th>TotalTransactionAmount</th>\n",
       "      <th>Tx_Count</th>\n",
       "      <th>DaysSinceLastTrans</th>\n",
       "      <th>reseller_id</th>\n",
       "      <th>superdealer_id</th>\n",
       "    </tr>\n",
       "  </thead>\n",
       "  <tbody>\n",
       "    <tr>\n",
       "      <th>count</th>\n",
       "      <td>2635.000000</td>\n",
       "      <td>2635.000000</td>\n",
       "      <td>2.635000e+03</td>\n",
       "      <td>2635.000000</td>\n",
       "      <td>2635.000000</td>\n",
       "      <td>2635.000000</td>\n",
       "      <td>2635.000000</td>\n",
       "    </tr>\n",
       "    <tr>\n",
       "      <th>mean</th>\n",
       "      <td>1251.568880</td>\n",
       "      <td>1.730725</td>\n",
       "      <td>5.815019e+04</td>\n",
       "      <td>91.971157</td>\n",
       "      <td>119.154459</td>\n",
       "      <td>108.876946</td>\n",
       "      <td>389.900494</td>\n",
       "    </tr>\n",
       "    <tr>\n",
       "      <th>std</th>\n",
       "      <td>664.557929</td>\n",
       "      <td>1.833842</td>\n",
       "      <td>5.766734e+05</td>\n",
       "      <td>1223.775908</td>\n",
       "      <td>84.336623</td>\n",
       "      <td>379.516871</td>\n",
       "      <td>271.450186</td>\n",
       "    </tr>\n",
       "    <tr>\n",
       "      <th>min</th>\n",
       "      <td>3.000000</td>\n",
       "      <td>1.000000</td>\n",
       "      <td>1.000000e+00</td>\n",
       "      <td>1.000000</td>\n",
       "      <td>30.000000</td>\n",
       "      <td>0.000000</td>\n",
       "      <td>0.000000</td>\n",
       "    </tr>\n",
       "    <tr>\n",
       "      <th>25%</th>\n",
       "      <td>816.000000</td>\n",
       "      <td>1.000000</td>\n",
       "      <td>2.000000e+02</td>\n",
       "      <td>1.000000</td>\n",
       "      <td>54.000000</td>\n",
       "      <td>0.000000</td>\n",
       "      <td>447.000000</td>\n",
       "    </tr>\n",
       "    <tr>\n",
       "      <th>50%</th>\n",
       "      <td>1140.000000</td>\n",
       "      <td>1.000000</td>\n",
       "      <td>1.000000e+03</td>\n",
       "      <td>3.000000</td>\n",
       "      <td>107.000000</td>\n",
       "      <td>0.000000</td>\n",
       "      <td>447.000000</td>\n",
       "    </tr>\n",
       "    <tr>\n",
       "      <th>75%</th>\n",
       "      <td>1613.500000</td>\n",
       "      <td>2.000000</td>\n",
       "      <td>4.952000e+03</td>\n",
       "      <td>9.000000</td>\n",
       "      <td>147.000000</td>\n",
       "      <td>0.000000</td>\n",
       "      <td>447.000000</td>\n",
       "    </tr>\n",
       "    <tr>\n",
       "      <th>max</th>\n",
       "      <td>2725.000000</td>\n",
       "      <td>10.000000</td>\n",
       "      <td>2.086921e+07</td>\n",
       "      <td>46531.000000</td>\n",
       "      <td>735.000000</td>\n",
       "      <td>2557.000000</td>\n",
       "      <td>2494.000000</td>\n",
       "    </tr>\n",
       "  </tbody>\n",
       "</table>\n",
       "</div>"
      ],
      "text/plain": [
       "           user_id      Channel  TotalTransactionAmount      Tx_Count  \\\n",
       "count  2635.000000  2635.000000            2.635000e+03   2635.000000   \n",
       "mean   1251.568880     1.730725            5.815019e+04     91.971157   \n",
       "std     664.557929     1.833842            5.766734e+05   1223.775908   \n",
       "min       3.000000     1.000000            1.000000e+00      1.000000   \n",
       "25%     816.000000     1.000000            2.000000e+02      1.000000   \n",
       "50%    1140.000000     1.000000            1.000000e+03      3.000000   \n",
       "75%    1613.500000     2.000000            4.952000e+03      9.000000   \n",
       "max    2725.000000    10.000000            2.086921e+07  46531.000000   \n",
       "\n",
       "       DaysSinceLastTrans  reseller_id  superdealer_id  \n",
       "count         2635.000000  2635.000000     2635.000000  \n",
       "mean           119.154459   108.876946      389.900494  \n",
       "std             84.336623   379.516871      271.450186  \n",
       "min             30.000000     0.000000        0.000000  \n",
       "25%             54.000000     0.000000      447.000000  \n",
       "50%            107.000000     0.000000      447.000000  \n",
       "75%            147.000000     0.000000      447.000000  \n",
       "max            735.000000  2557.000000     2494.000000  "
      ]
     },
     "execution_count": 12,
     "metadata": {},
     "output_type": "execute_result"
    }
   ],
   "source": [
    "df.describe()"
   ]
  },
  {
   "cell_type": "code",
   "execution_count": 13,
   "id": "958b2f53",
   "metadata": {},
   "outputs": [
    {
     "name": "stdout",
     "output_type": "stream",
     "text": [
      "<class 'pandas.core.frame.DataFrame'>\n",
      "RangeIndex: 2635 entries, 0 to 2634\n",
      "Data columns (total 10 columns):\n",
      " #   Column                   Non-Null Count  Dtype  \n",
      "---  ------                   --------------  -----  \n",
      " 0   user_id                  2635 non-null   int64  \n",
      " 1   Channel                  2635 non-null   float64\n",
      " 2   TotalTransactionAmount   2635 non-null   int64  \n",
      " 3   Tx_Count                 2635 non-null   int64  \n",
      " 4   DaysSinceLastTrans       2635 non-null   int64  \n",
      " 5   reseller_id              2635 non-null   float64\n",
      " 6   superdealer_id           2635 non-null   float64\n",
      " 7   Product_ServiceProvider  2635 non-null   object \n",
      " 8   Product_Type             2635 non-null   object \n",
      " 9   Product_Category         2635 non-null   object \n",
      "dtypes: float64(3), int64(4), object(3)\n",
      "memory usage: 206.0+ KB\n"
     ]
    }
   ],
   "source": [
    "df.info()"
   ]
  },
  {
   "cell_type": "code",
   "execution_count": 14,
   "id": "55bd7625",
   "metadata": {},
   "outputs": [],
   "source": [
    "df = df.drop(columns=['user_id', 'Tx_Count','DaysSinceLastTrans'])"
   ]
  },
  {
   "cell_type": "code",
   "execution_count": 15,
   "id": "186319c7",
   "metadata": {},
   "outputs": [],
   "source": [
    "df_filled = df.copy()"
   ]
  },
  {
   "cell_type": "code",
   "execution_count": 16,
   "id": "c98417f9",
   "metadata": {},
   "outputs": [],
   "source": [
    "# Turn categorical variables into numbers\n",
    "for label, content in df_filled.items():\n",
    "    if not pd.api.types.is_numeric_dtype(content):\n",
    "        # We add the +1 because pandas encodes missing categories as -1\n",
    "        df_filled[label] = pd.Categorical(content).codes+1"
   ]
  },
  {
   "cell_type": "code",
   "execution_count": 17,
   "id": "06a367c9",
   "metadata": {},
   "outputs": [
    {
     "name": "stdout",
     "output_type": "stream",
     "text": [
      "<class 'pandas.core.frame.DataFrame'>\n",
      "RangeIndex: 2635 entries, 0 to 2634\n",
      "Data columns (total 7 columns):\n",
      " #   Column                   Non-Null Count  Dtype  \n",
      "---  ------                   --------------  -----  \n",
      " 0   Channel                  2635 non-null   float64\n",
      " 1   TotalTransactionAmount   2635 non-null   int64  \n",
      " 2   reseller_id              2635 non-null   float64\n",
      " 3   superdealer_id           2635 non-null   float64\n",
      " 4   Product_ServiceProvider  2635 non-null   int8   \n",
      " 5   Product_Type             2635 non-null   int8   \n",
      " 6   Product_Category         2635 non-null   int8   \n",
      "dtypes: float64(3), int64(1), int8(3)\n",
      "memory usage: 90.2 KB\n"
     ]
    }
   ],
   "source": [
    "df_filled.info()"
   ]
  },
  {
   "cell_type": "code",
   "execution_count": 18,
   "id": "876354e5",
   "metadata": {},
   "outputs": [],
   "source": [
    "# Standardization\n",
    "for i in df_filled.select_dtypes(exclude='object').columns:\n",
    "    df_filled.loc[:, i] = StandardScaler().fit_transform(np.array(df_filled[[i]]))"
   ]
  },
  {
   "cell_type": "code",
   "execution_count": 23,
   "id": "7d272ad0",
   "metadata": {},
   "outputs": [],
   "source": [
    "from kmodes.kprototypes import KPrototypes\n",
    "\n",
    "# Choosing optimal K\n",
    "cost = []\n",
    "for k in range(1,10):\n",
    "    kproto = KPrototypes(n_clusters=k, init='Cao', random_state=42)\n",
    "    kproto.fit_predict(df_filled, categorical=[1,2])\n",
    "    cost.append(kproto.cost_);"
   ]
  },
  {
   "cell_type": "code",
   "execution_count": 24,
   "id": "a100733e",
   "metadata": {},
   "outputs": [
    {
     "name": "stderr",
     "output_type": "stream",
     "text": [
      "findfont: Font family ['Ubuntu'] not found. Falling back to DejaVu Sans.\n"
     ]
    },
    {
     "data": {
      "image/png": "[encoded data removed]",
      "text/plain": [
       "<Figure size 864x576 with 1 Axes>"
      ]
     },
     "metadata": {},
     "output_type": "display_data"
    }
   ],
   "source": [
    "fig, ax = plt.subplots(figsize =(12, 8))\n",
    "\n",
    "plt.plot(range(1,10), cost, 'bo-', color = '#FFC300')\n",
    "plt.xlabel('k', color = 'white', size = 14)\n",
    "plt.ylabel('Distortion', color = 'white', size = 14)\n",
    "plt.tick_params(axis='x', colors='white')\n",
    "plt.tick_params(axis='y', colors='white')\n",
    "\n",
    "# Hide the right and top spines\n",
    "ax.spines['right'].set_visible(False)\n",
    "ax.spines['top'].set_visible(False)\n",
    "\n",
    "plt.show()"
   ]
  },
  {
   "cell_type": "markdown",
   "id": "3df94244",
   "metadata": {},
   "source": [
    "We use the *Elbow Method* to determine the optimal number of clusters to use. In our case, we'll choose **4 clusters**."
   ]
  },
  {
   "cell_type": "code",
   "execution_count": 25,
   "id": "6fde2aa2",
   "metadata": {},
   "outputs": [],
   "source": [
    "# Clustering\n",
    "kproto = KPrototypes(n_clusters= 4, init='Cao', n_jobs = 4)\n",
    "clusters = kproto.fit_predict(df_filled, categorical=[1,2])"
   ]
  },
  {
   "cell_type": "code",
   "execution_count": 26,
   "id": "1f0c639e",
   "metadata": {},
   "outputs": [],
   "source": [
    "# Merging original data with clusters\n",
    "df_clusters = pd.concat([df, pd.DataFrame({'cluster': clusters})], axis=1) "
   ]
  },
  {
   "cell_type": "code",
   "execution_count": 28,
   "id": "f7c7481f",
   "metadata": {},
   "outputs": [
    {
     "name": "stderr",
     "output_type": "stream",
     "text": [
      "findfont: Font family ['Ubuntu'] not found. Falling back to DejaVu Sans.\n",
      "findfont: Font family ['Ubuntu'] not found. Falling back to DejaVu Sans.\n",
      "findfont: Font family ['Ubuntu'] not found. Falling back to DejaVu Sans.\n",
      "findfont: Font family ['Ubuntu'] not found. Falling back to DejaVu Sans.\n",
      "findfont: Font family ['Ubuntu'] not found. Falling back to DejaVu Sans.\n",
      "findfont: Font family ['Ubuntu'] not found. Falling back to DejaVu Sans.\n",
      "findfont: Font family ['Ubuntu'] not found. Falling back to DejaVu Sans.\n",
      "findfont: Font family ['Ubuntu'] not found. Falling back to DejaVu Sans.\n"
     ]
    },
    {
     "data": {
      "image/png": "[encoded data removed]",
      "text/plain": [
       "<Figure size 864x360 with 4 Axes>"
      ]
     },
     "metadata": {},
     "output_type": "display_data"
    },
    {
     "data": {
      "image/png": "[encoded data removed]",
      "text/plain": [
       "<Figure size 864x360 with 4 Axes>"
      ]
     },
     "metadata": {},
     "output_type": "display_data"
    },
    {
     "data": {
      "image/png": "[encoded data removed]",
      "text/plain": [
       "<Figure size 864x360 with 4 Axes>"
      ]
     },
     "metadata": {},
     "output_type": "display_data"
    },
    {
     "data": {
      "image/png": "[encoded data removed]",
      "text/plain": [
       "<Figure size 864x360 with 4 Axes>"
      ]
     },
     "metadata": {},
     "output_type": "display_data"
    },
    {
     "data": {
      "image/png": "[encoded data removed]",
      "text/plain": [
       "<Figure size 864x360 with 4 Axes>"
      ]
     },
     "metadata": {},
     "output_type": "display_data"
    },
    {
     "data": {
      "image/png": "[encoded data removed]",
      "text/plain": [
       "<Figure size 864x360 with 4 Axes>"
      ]
     },
     "metadata": {},
     "output_type": "display_data"
    },
    {
     "data": {
      "image/png": "[encoded data removed]",
      "text/plain": [
       "<Figure size 864x360 with 4 Axes>"
      ]
     },
     "metadata": {},
     "output_type": "display_data"
    },
    {
     "data": {
      "image/png": "[encoded data removed]",
      "text/plain": [
       "<Figure size 864x360 with 4 Axes>"
      ]
     },
     "metadata": {},
     "output_type": "display_data"
    }
   ],
   "source": [
    "# Clusters interpretation\n",
    "for i in df_clusters:\n",
    "    g = sns.FacetGrid(df_clusters, col = \"cluster\", hue = \"cluster\", palette = \"Set2\")\n",
    "    g.map(plt.hist, i, bins=10, ec=\"k\") \n",
    "    g.set_xticklabels(rotation=30, color = 'white')\n",
    "    g.set_yticklabels(color = 'white')\n",
    "    g.set_xlabels(size=15, color = 'white')\n",
    "    g.set_titles(size=15, color = '#FFC300', fontweight=\"bold\")\n",
    "    g.fig.set_figheight(5)"
   ]
  },
  {
   "cell_type": "code",
   "execution_count": null,
   "id": "de6f041d",
   "metadata": {},
   "outputs": [],
   "source": []
  }
 ],
 "metadata": {
  "kernelspec": {
   "display_name": "Python 3",
   "language": "python",
   "name": "python3"
  },
  "language_info": {
   "codemirror_mode": {
    "name": "ipython",
    "version": 3
   },
   "file_extension": ".py",
   "mimetype": "text/x-python",
   "name": "python",
   "nbconvert_exporter": "python",
   "pygments_lexer": "ipython3",
   "version": "3.8.8"
  }
 },
 "nbformat": 4,
 "nbformat_minor": 5
}
