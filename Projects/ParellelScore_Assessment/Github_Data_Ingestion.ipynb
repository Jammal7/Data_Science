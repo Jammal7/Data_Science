{
 "cells": [
  {
   "cell_type": "code",
   "execution_count": 1,
   "id": "62c291fd",
   "metadata": {},
   "outputs": [],
   "source": [
    "import pandas as pd\n",
    "import requests"
   ]
  },
  {
   "cell_type": "code",
   "execution_count": 2,
   "id": "250bdcfc",
   "metadata": {},
   "outputs": [],
   "source": [
    "total_github_users = []\n",
    "total_users_info = []"
   ]
  },
  {
   "cell_type": "code",
   "execution_count": 3,
   "id": "49dd4dd8",
   "metadata": {},
   "outputs": [],
   "source": [
    "def fetch_users_from_github(page):\n",
    "    users = requests.get(\"https://api.github.com/search/users?accept=application/vnd.github.v3+json&q=Machine Learning location:Lagos location:Rwanda location:Nigeria&per_page=100&page=\"+str(page))\n",
    "    return users.json()\n",
    "\n",
    "def fetch_user_from_github(url):\n",
    "    user = requests.get(url)\n",
    "    return user.json()"
   ]
  },
  {
   "cell_type": "code",
   "execution_count": 8,
   "id": "7fdbb3e6",
   "metadata": {},
   "outputs": [],
   "source": [
    "def get_all_users(page):\n",
    "    global total_github_users\n",
    "    users = fetch_users_from_github(page)\n",
    "    total_github_users += users['items']\n",
    "    no_per_page = 100\n",
    "    no_of_users = users['total_count']\n",
    "    amount = (no_of_users // no_per_page) + 1\n",
    "    if(page == amount):\n",
    "        return 0\n",
    "    else:\n",
    "        get_all_users(page + 1)"
   ]
  },
  {
   "cell_type": "code",
   "execution_count": null,
   "id": "db298dd0",
   "metadata": {},
   "outputs": [],
   "source": [
    "get_all_users(1)\n",
    "for github_user in total_github_users:\n",
    "    user = fetch_user_from_github(github_user['url'])\n",
    "    total_users_info.append(user)"
   ]
  },
  {
   "cell_type": "code",
   "execution_count": 6,
   "id": "61cfced4",
   "metadata": {},
   "outputs": [
    {
     "data": {
      "text/html": [
       "<div>\n",
       "<style scoped>\n",
       "    .dataframe tbody tr th:only-of-type {\n",
       "        vertical-align: middle;\n",
       "    }\n",
       "\n",
       "    .dataframe tbody tr th {\n",
       "        vertical-align: top;\n",
       "    }\n",
       "\n",
       "    .dataframe thead th {\n",
       "        text-align: right;\n",
       "    }\n",
       "</style>\n",
       "<table border=\"1\" class=\"dataframe\">\n",
       "  <thead>\n",
       "    <tr style=\"text-align: right;\">\n",
       "      <th></th>\n",
       "      <th>0</th>\n",
       "      <th>1</th>\n",
       "      <th>2</th>\n",
       "      <th>3</th>\n",
       "      <th>4</th>\n",
       "    </tr>\n",
       "  </thead>\n",
       "  <tbody>\n",
       "    <tr>\n",
       "      <th>message</th>\n",
       "      <td>API rate limit exceeded for 154.118.62.155. (B...</td>\n",
       "      <td>API rate limit exceeded for 154.118.62.155. (B...</td>\n",
       "      <td>API rate limit exceeded for 154.118.62.155. (B...</td>\n",
       "      <td>API rate limit exceeded for 154.118.62.155. (B...</td>\n",
       "      <td>API rate limit exceeded for 154.118.62.155. (B...</td>\n",
       "    </tr>\n",
       "    <tr>\n",
       "      <th>documentation_url</th>\n",
       "      <td>https://docs.github.com/rest/overview/resource...</td>\n",
       "      <td>https://docs.github.com/rest/overview/resource...</td>\n",
       "      <td>https://docs.github.com/rest/overview/resource...</td>\n",
       "      <td>https://docs.github.com/rest/overview/resource...</td>\n",
       "      <td>https://docs.github.com/rest/overview/resource...</td>\n",
       "    </tr>\n",
       "  </tbody>\n",
       "</table>\n",
       "</div>"
      ],
      "text/plain": [
       "                                                                   0  \\\n",
       "message            API rate limit exceeded for 154.118.62.155. (B...   \n",
       "documentation_url  https://docs.github.com/rest/overview/resource...   \n",
       "\n",
       "                                                                   1  \\\n",
       "message            API rate limit exceeded for 154.118.62.155. (B...   \n",
       "documentation_url  https://docs.github.com/rest/overview/resource...   \n",
       "\n",
       "                                                                   2  \\\n",
       "message            API rate limit exceeded for 154.118.62.155. (B...   \n",
       "documentation_url  https://docs.github.com/rest/overview/resource...   \n",
       "\n",
       "                                                                   3  \\\n",
       "message            API rate limit exceeded for 154.118.62.155. (B...   \n",
       "documentation_url  https://docs.github.com/rest/overview/resource...   \n",
       "\n",
       "                                                                   4  \n",
       "message            API rate limit exceeded for 154.118.62.155. (B...  \n",
       "documentation_url  https://docs.github.com/rest/overview/resource...  "
      ]
     },
     "execution_count": 6,
     "metadata": {},
     "output_type": "execute_result"
    }
   ],
   "source": [
    "user_df = pd.DataFrame(total_users_info)\n",
    "user_df.head().T"
   ]
  },
  {
   "cell_type": "markdown",
   "id": "6ddd08b7",
   "metadata": {},
   "source": [
    "The expected data points to be ingested or seen in the data frame include \n",
    "name, \n",
    "login/username, Bio, \n",
    "Blog, Company, email, \n",
    "followers(count of followers), \n",
    "following(count of following), \n",
    "id, url, and location.)"
   ]
  },
  {
   "cell_type": "code",
   "execution_count": 7,
   "id": "3d2c7704",
   "metadata": {},
   "outputs": [
    {
     "ename": "KeyError",
     "evalue": "\"None of [Index(['name', 'login', 'bio', 'blog', 'company', 'email', 'followers',\\n       'following', 'id', 'url', 'location'],\\n      dtype='object')] are in the [columns]\"",
     "output_type": "error",
     "traceback": [
      "\u001b[1;31m---------------------------------------------------------------------------\u001b[0m",
      "\u001b[1;31mKeyError\u001b[0m                                  Traceback (most recent call last)",
      "\u001b[1;32m<ipython-input-7-460294917132>\u001b[0m in \u001b[0;36m<module>\u001b[1;34m\u001b[0m\n\u001b[1;32m----> 1\u001b[1;33m \u001b[0mdf\u001b[0m \u001b[1;33m=\u001b[0m \u001b[0muser_df\u001b[0m\u001b[1;33m[\u001b[0m\u001b[1;33m[\u001b[0m\u001b[1;34m'name'\u001b[0m\u001b[1;33m,\u001b[0m \u001b[1;34m'login'\u001b[0m\u001b[1;33m,\u001b[0m \u001b[1;34m'bio'\u001b[0m\u001b[1;33m,\u001b[0m \u001b[1;34m'blog'\u001b[0m\u001b[1;33m,\u001b[0m \u001b[1;34m'company'\u001b[0m\u001b[1;33m,\u001b[0m \u001b[1;34m'email'\u001b[0m\u001b[1;33m,\u001b[0m \u001b[1;34m'followers'\u001b[0m\u001b[1;33m,\u001b[0m \u001b[1;34m'following'\u001b[0m\u001b[1;33m,\u001b[0m \u001b[1;34m'id'\u001b[0m\u001b[1;33m,\u001b[0m \u001b[1;34m'url'\u001b[0m\u001b[1;33m,\u001b[0m \u001b[1;34m'location'\u001b[0m\u001b[1;33m]\u001b[0m\u001b[1;33m]\u001b[0m\u001b[1;33m\u001b[0m\u001b[1;33m\u001b[0m\u001b[0m\n\u001b[0m",
      "\u001b[1;32m~\\anaconda3\\lib\\site-packages\\pandas\\core\\frame.py\u001b[0m in \u001b[0;36m__getitem__\u001b[1;34m(self, key)\u001b[0m\n\u001b[0;32m   3028\u001b[0m             \u001b[1;32mif\u001b[0m \u001b[0mis_iterator\u001b[0m\u001b[1;33m(\u001b[0m\u001b[0mkey\u001b[0m\u001b[1;33m)\u001b[0m\u001b[1;33m:\u001b[0m\u001b[1;33m\u001b[0m\u001b[1;33m\u001b[0m\u001b[0m\n\u001b[0;32m   3029\u001b[0m                 \u001b[0mkey\u001b[0m \u001b[1;33m=\u001b[0m \u001b[0mlist\u001b[0m\u001b[1;33m(\u001b[0m\u001b[0mkey\u001b[0m\u001b[1;33m)\u001b[0m\u001b[1;33m\u001b[0m\u001b[1;33m\u001b[0m\u001b[0m\n\u001b[1;32m-> 3030\u001b[1;33m             \u001b[0mindexer\u001b[0m \u001b[1;33m=\u001b[0m \u001b[0mself\u001b[0m\u001b[1;33m.\u001b[0m\u001b[0mloc\u001b[0m\u001b[1;33m.\u001b[0m\u001b[0m_get_listlike_indexer\u001b[0m\u001b[1;33m(\u001b[0m\u001b[0mkey\u001b[0m\u001b[1;33m,\u001b[0m \u001b[0maxis\u001b[0m\u001b[1;33m=\u001b[0m\u001b[1;36m1\u001b[0m\u001b[1;33m,\u001b[0m \u001b[0mraise_missing\u001b[0m\u001b[1;33m=\u001b[0m\u001b[1;32mTrue\u001b[0m\u001b[1;33m)\u001b[0m\u001b[1;33m[\u001b[0m\u001b[1;36m1\u001b[0m\u001b[1;33m]\u001b[0m\u001b[1;33m\u001b[0m\u001b[1;33m\u001b[0m\u001b[0m\n\u001b[0m\u001b[0;32m   3031\u001b[0m \u001b[1;33m\u001b[0m\u001b[0m\n\u001b[0;32m   3032\u001b[0m         \u001b[1;31m# take() does not accept boolean indexers\u001b[0m\u001b[1;33m\u001b[0m\u001b[1;33m\u001b[0m\u001b[1;33m\u001b[0m\u001b[0m\n",
      "\u001b[1;32m~\\anaconda3\\lib\\site-packages\\pandas\\core\\indexing.py\u001b[0m in \u001b[0;36m_get_listlike_indexer\u001b[1;34m(self, key, axis, raise_missing)\u001b[0m\n\u001b[0;32m   1264\u001b[0m             \u001b[0mkeyarr\u001b[0m\u001b[1;33m,\u001b[0m \u001b[0mindexer\u001b[0m\u001b[1;33m,\u001b[0m \u001b[0mnew_indexer\u001b[0m \u001b[1;33m=\u001b[0m \u001b[0max\u001b[0m\u001b[1;33m.\u001b[0m\u001b[0m_reindex_non_unique\u001b[0m\u001b[1;33m(\u001b[0m\u001b[0mkeyarr\u001b[0m\u001b[1;33m)\u001b[0m\u001b[1;33m\u001b[0m\u001b[1;33m\u001b[0m\u001b[0m\n\u001b[0;32m   1265\u001b[0m \u001b[1;33m\u001b[0m\u001b[0m\n\u001b[1;32m-> 1266\u001b[1;33m         \u001b[0mself\u001b[0m\u001b[1;33m.\u001b[0m\u001b[0m_validate_read_indexer\u001b[0m\u001b[1;33m(\u001b[0m\u001b[0mkeyarr\u001b[0m\u001b[1;33m,\u001b[0m \u001b[0mindexer\u001b[0m\u001b[1;33m,\u001b[0m \u001b[0maxis\u001b[0m\u001b[1;33m,\u001b[0m \u001b[0mraise_missing\u001b[0m\u001b[1;33m=\u001b[0m\u001b[0mraise_missing\u001b[0m\u001b[1;33m)\u001b[0m\u001b[1;33m\u001b[0m\u001b[1;33m\u001b[0m\u001b[0m\n\u001b[0m\u001b[0;32m   1267\u001b[0m         \u001b[1;32mreturn\u001b[0m \u001b[0mkeyarr\u001b[0m\u001b[1;33m,\u001b[0m \u001b[0mindexer\u001b[0m\u001b[1;33m\u001b[0m\u001b[1;33m\u001b[0m\u001b[0m\n\u001b[0;32m   1268\u001b[0m \u001b[1;33m\u001b[0m\u001b[0m\n",
      "\u001b[1;32m~\\anaconda3\\lib\\site-packages\\pandas\\core\\indexing.py\u001b[0m in \u001b[0;36m_validate_read_indexer\u001b[1;34m(self, key, indexer, axis, raise_missing)\u001b[0m\n\u001b[0;32m   1306\u001b[0m             \u001b[1;32mif\u001b[0m \u001b[0mmissing\u001b[0m \u001b[1;33m==\u001b[0m \u001b[0mlen\u001b[0m\u001b[1;33m(\u001b[0m\u001b[0mindexer\u001b[0m\u001b[1;33m)\u001b[0m\u001b[1;33m:\u001b[0m\u001b[1;33m\u001b[0m\u001b[1;33m\u001b[0m\u001b[0m\n\u001b[0;32m   1307\u001b[0m                 \u001b[0maxis_name\u001b[0m \u001b[1;33m=\u001b[0m \u001b[0mself\u001b[0m\u001b[1;33m.\u001b[0m\u001b[0mobj\u001b[0m\u001b[1;33m.\u001b[0m\u001b[0m_get_axis_name\u001b[0m\u001b[1;33m(\u001b[0m\u001b[0maxis\u001b[0m\u001b[1;33m)\u001b[0m\u001b[1;33m\u001b[0m\u001b[1;33m\u001b[0m\u001b[0m\n\u001b[1;32m-> 1308\u001b[1;33m                 \u001b[1;32mraise\u001b[0m \u001b[0mKeyError\u001b[0m\u001b[1;33m(\u001b[0m\u001b[1;34mf\"None of [{key}] are in the [{axis_name}]\"\u001b[0m\u001b[1;33m)\u001b[0m\u001b[1;33m\u001b[0m\u001b[1;33m\u001b[0m\u001b[0m\n\u001b[0m\u001b[0;32m   1309\u001b[0m \u001b[1;33m\u001b[0m\u001b[0m\n\u001b[0;32m   1310\u001b[0m             \u001b[0max\u001b[0m \u001b[1;33m=\u001b[0m \u001b[0mself\u001b[0m\u001b[1;33m.\u001b[0m\u001b[0mobj\u001b[0m\u001b[1;33m.\u001b[0m\u001b[0m_get_axis\u001b[0m\u001b[1;33m(\u001b[0m\u001b[0maxis\u001b[0m\u001b[1;33m)\u001b[0m\u001b[1;33m\u001b[0m\u001b[1;33m\u001b[0m\u001b[0m\n",
      "\u001b[1;31mKeyError\u001b[0m: \"None of [Index(['name', 'login', 'bio', 'blog', 'company', 'email', 'followers',\\n       'following', 'id', 'url', 'location'],\\n      dtype='object')] are in the [columns]\""
     ]
    }
   ],
   "source": [
    "df = user_df[['name', 'login', 'bio', 'blog', 'company', 'email', 'followers', 'following', 'id', 'url', 'location']]"
   ]
  },
  {
   "cell_type": "code",
   "execution_count": null,
   "id": "e24203b5",
   "metadata": {},
   "outputs": [],
   "source": [
    "df.head()"
   ]
  },
  {
   "cell_type": "code",
   "execution_count": null,
   "id": "412751b3",
   "metadata": {},
   "outputs": [],
   "source": [
    "df.to_csv('Github_ML_Users.csv', sep=',', encoding='utf-8', index=True)"
   ]
  },
  {
   "cell_type": "code",
   "execution_count": null,
   "id": "9d31999e",
   "metadata": {},
   "outputs": [],
   "source": []
  }
 ],
 "metadata": {
  "kernelspec": {
   "display_name": "Python 3",
   "language": "python",
   "name": "python3"
  },
  "language_info": {
   "codemirror_mode": {
    "name": "ipython",
    "version": 3
   },
   "file_extension": ".py",
   "mimetype": "text/x-python",
   "name": "python",
   "nbconvert_exporter": "python",
   "pygments_lexer": "ipython3",
   "version": "3.8.8"
  }
 },
 "nbformat": 4,
 "nbformat_minor": 5
}
